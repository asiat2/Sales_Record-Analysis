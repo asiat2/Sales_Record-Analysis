{
 "cells": [
  {
   "cell_type": "code",
   "execution_count": 58,
   "id": "fabulous-korean",
   "metadata": {},
   "outputs": [],
   "source": [
    "# Loading the required liabrary\n",
    "import pandas as pd\n",
    "import numpy as np\n",
    "import matplotlib.pyplot as plt\n",
    "import plotly.express as px\n",
    "import datetime as dt\n",
    "from datetime import date\n",
    "import seaborn as sns\n",
    "import pycountry"
   ]
  },
  {
   "cell_type": "code",
   "execution_count": 59,
   "id": "exposed-pepper",
   "metadata": {
    "scrolled": true
   },
   "outputs": [
    {
     "name": "stdout",
     "output_type": "stream",
     "text": [
      "No. of Observations in the dataset: 1000000\n",
      "No. of features in the dataset: 14\n"
     ]
    },
    {
     "data": {
      "text/html": [
       "<div>\n",
       "<style scoped>\n",
       "    .dataframe tbody tr th:only-of-type {\n",
       "        vertical-align: middle;\n",
       "    }\n",
       "\n",
       "    .dataframe tbody tr th {\n",
       "        vertical-align: top;\n",
       "    }\n",
       "\n",
       "    .dataframe thead th {\n",
       "        text-align: right;\n",
       "    }\n",
       "</style>\n",
       "<table border=\"1\" class=\"dataframe\">\n",
       "  <thead>\n",
       "    <tr style=\"text-align: right;\">\n",
       "      <th></th>\n",
       "      <th>Region</th>\n",
       "      <th>Country</th>\n",
       "      <th>Item Type</th>\n",
       "      <th>Sales Channel</th>\n",
       "      <th>Order Priority</th>\n",
       "      <th>Order Date</th>\n",
       "      <th>Order ID</th>\n",
       "      <th>Ship Date</th>\n",
       "      <th>Units Sold</th>\n",
       "      <th>Unit Price</th>\n",
       "      <th>Unit Cost</th>\n",
       "      <th>Total Revenue</th>\n",
       "      <th>Total Cost</th>\n",
       "      <th>Total Profit</th>\n",
       "    </tr>\n",
       "  </thead>\n",
       "  <tbody>\n",
       "    <tr>\n",
       "      <th>0</th>\n",
       "      <td>Sub-Saharan Africa</td>\n",
       "      <td>South Africa</td>\n",
       "      <td>Fruits</td>\n",
       "      <td>Offline</td>\n",
       "      <td>M</td>\n",
       "      <td>7/27/2012</td>\n",
       "      <td>443368995</td>\n",
       "      <td>7/28/2012</td>\n",
       "      <td>1593</td>\n",
       "      <td>9.33</td>\n",
       "      <td>6.92</td>\n",
       "      <td>14862.69</td>\n",
       "      <td>11023.56</td>\n",
       "      <td>3839.13</td>\n",
       "    </tr>\n",
       "    <tr>\n",
       "      <th>1</th>\n",
       "      <td>Middle East and North Africa</td>\n",
       "      <td>Morocco</td>\n",
       "      <td>Clothes</td>\n",
       "      <td>Online</td>\n",
       "      <td>M</td>\n",
       "      <td>9/14/2013</td>\n",
       "      <td>667593514</td>\n",
       "      <td>10/19/2013</td>\n",
       "      <td>4611</td>\n",
       "      <td>109.28</td>\n",
       "      <td>35.84</td>\n",
       "      <td>503890.08</td>\n",
       "      <td>165258.24</td>\n",
       "      <td>338631.84</td>\n",
       "    </tr>\n",
       "    <tr>\n",
       "      <th>2</th>\n",
       "      <td>Australia and Oceania</td>\n",
       "      <td>Papua New Guinea</td>\n",
       "      <td>Meat</td>\n",
       "      <td>Offline</td>\n",
       "      <td>M</td>\n",
       "      <td>5/15/2015</td>\n",
       "      <td>940995585</td>\n",
       "      <td>6/4/2015</td>\n",
       "      <td>360</td>\n",
       "      <td>421.89</td>\n",
       "      <td>364.69</td>\n",
       "      <td>151880.40</td>\n",
       "      <td>131288.40</td>\n",
       "      <td>20592.00</td>\n",
       "    </tr>\n",
       "    <tr>\n",
       "      <th>3</th>\n",
       "      <td>Sub-Saharan Africa</td>\n",
       "      <td>Djibouti</td>\n",
       "      <td>Clothes</td>\n",
       "      <td>Offline</td>\n",
       "      <td>H</td>\n",
       "      <td>5/17/2017</td>\n",
       "      <td>880811536</td>\n",
       "      <td>7/2/2017</td>\n",
       "      <td>562</td>\n",
       "      <td>109.28</td>\n",
       "      <td>35.84</td>\n",
       "      <td>61415.36</td>\n",
       "      <td>20142.08</td>\n",
       "      <td>41273.28</td>\n",
       "    </tr>\n",
       "    <tr>\n",
       "      <th>4</th>\n",
       "      <td>Europe</td>\n",
       "      <td>Slovakia</td>\n",
       "      <td>Beverages</td>\n",
       "      <td>Offline</td>\n",
       "      <td>L</td>\n",
       "      <td>10/26/2016</td>\n",
       "      <td>174590194</td>\n",
       "      <td>12/4/2016</td>\n",
       "      <td>3973</td>\n",
       "      <td>47.45</td>\n",
       "      <td>31.79</td>\n",
       "      <td>188518.85</td>\n",
       "      <td>126301.67</td>\n",
       "      <td>62217.18</td>\n",
       "    </tr>\n",
       "  </tbody>\n",
       "</table>\n",
       "</div>"
      ],
      "text/plain": [
       "                         Region           Country  Item Type Sales Channel  \\\n",
       "0            Sub-Saharan Africa      South Africa     Fruits       Offline   \n",
       "1  Middle East and North Africa           Morocco    Clothes        Online   \n",
       "2         Australia and Oceania  Papua New Guinea       Meat       Offline   \n",
       "3            Sub-Saharan Africa          Djibouti    Clothes       Offline   \n",
       "4                        Europe          Slovakia  Beverages       Offline   \n",
       "\n",
       "  Order Priority  Order Date   Order ID   Ship Date  Units Sold  Unit Price  \\\n",
       "0              M   7/27/2012  443368995   7/28/2012        1593        9.33   \n",
       "1              M   9/14/2013  667593514  10/19/2013        4611      109.28   \n",
       "2              M   5/15/2015  940995585    6/4/2015         360      421.89   \n",
       "3              H   5/17/2017  880811536    7/2/2017         562      109.28   \n",
       "4              L  10/26/2016  174590194   12/4/2016        3973       47.45   \n",
       "\n",
       "   Unit Cost  Total Revenue  Total Cost  Total Profit  \n",
       "0       6.92       14862.69    11023.56       3839.13  \n",
       "1      35.84      503890.08   165258.24     338631.84  \n",
       "2     364.69      151880.40   131288.40      20592.00  \n",
       "3      35.84       61415.36    20142.08      41273.28  \n",
       "4      31.79      188518.85   126301.67      62217.18  "
      ]
     },
     "execution_count": 59,
     "metadata": {},
     "output_type": "execute_result"
    }
   ],
   "source": [
    "sales = pd.read_csv(\"1000000 Sales Records.csv\")\n",
    "sales.sort_index()\n",
    "print(f'No. of Observations in the dataset: {sales.shape[0]}\\nNo. of features in the dataset: {sales.shape[1]}')\n",
    "sales.head(5)"
   ]
  },
  {
   "cell_type": "markdown",
   "id": "rocky-while",
   "metadata": {},
   "source": [
    "# checking for the information about the dataset"
   ]
  },
  {
   "cell_type": "code",
   "execution_count": 60,
   "id": "anonymous-trader",
   "metadata": {},
   "outputs": [
    {
     "name": "stdout",
     "output_type": "stream",
     "text": [
      "<class 'pandas.core.frame.DataFrame'>\n",
      "RangeIndex: 1000000 entries, 0 to 999999\n",
      "Data columns (total 14 columns):\n",
      " #   Column          Non-Null Count    Dtype  \n",
      "---  ------          --------------    -----  \n",
      " 0   Region          1000000 non-null  object \n",
      " 1   Country         1000000 non-null  object \n",
      " 2   Item Type       1000000 non-null  object \n",
      " 3   Sales Channel   1000000 non-null  object \n",
      " 4   Order Priority  1000000 non-null  object \n",
      " 5   Order Date      1000000 non-null  object \n",
      " 6   Order ID        1000000 non-null  int64  \n",
      " 7   Ship Date       1000000 non-null  object \n",
      " 8   Units Sold      1000000 non-null  int64  \n",
      " 9   Unit Price      1000000 non-null  float64\n",
      " 10  Unit Cost       1000000 non-null  float64\n",
      " 11  Total Revenue   1000000 non-null  float64\n",
      " 12  Total Cost      1000000 non-null  float64\n",
      " 13  Total Profit    1000000 non-null  float64\n",
      "dtypes: float64(5), int64(2), object(7)\n",
      "memory usage: 106.8+ MB\n",
      "Index(['Region', 'Country', 'Item Type', 'Sales Channel', 'Order Priority',\n",
      "       'Order Date', 'Order ID', 'Ship Date', 'Units Sold', 'Unit Price',\n",
      "       'Unit Cost', 'Total Revenue', 'Total Cost', 'Total Profit'],\n",
      "      dtype='object')\n",
      "No. of datatypes:object     7\n",
      "float64    5\n",
      "int64      2\n",
      "dtype: int64\n"
     ]
    }
   ],
   "source": [
    "sales.info()\n",
    "print(sales.columns)\n",
    "print(f'No. of datatypes:{sales.dtypes.value_counts()}')"
   ]
  },
  {
   "cell_type": "markdown",
   "id": "atlantic-workshop",
   "metadata": {},
   "source": [
    "# Observation \n",
    "The datatype for Order Date and Ship Date are object, for this reason  I would change it  to date datatype"
   ]
  },
  {
   "cell_type": "code",
   "execution_count": 61,
   "id": "invalid-venture",
   "metadata": {},
   "outputs": [],
   "source": [
    "#converting the date to datetime\n",
    "sales[\"Order Date\"] = pd.to_datetime(sales[\"Order Date\"])#Changing Order date from object to datetime\n",
    "sales[\"Ship Date\"] = pd.to_datetime(sales[\"Ship Date\"])#Changing Ship date from object to datetime"
   ]
  },
  {
   "cell_type": "code",
   "execution_count": 62,
   "id": "5e65541e",
   "metadata": {},
   "outputs": [],
   "source": [
    "#Renaming the the Order Priority\n",
    "sales[\"Order Priority\"] = sales[\"Order Priority\"].replace({\"H\": \"High\",\"L\" :\"Low\",\"M\":\"Medium\",\"C\":\"Not_Specified\"})"
   ]
  },
  {
   "cell_type": "code",
   "execution_count": 63,
   "id": "9d80d9bb",
   "metadata": {},
   "outputs": [
    {
     "data": {
      "text/plain": [
       "Index(['Region', 'Country', 'Products', 'Sales_Channel', 'Order_Priority',\n",
       "       'Order_Date', 'Order_ID', 'Ship_Date', 'Units_Sold', 'Unit_Price',\n",
       "       'Unit_Cost', 'Total_Revenue', 'Total_Cost', 'Total_Profit'],\n",
       "      dtype='object')"
      ]
     },
     "execution_count": 63,
     "metadata": {},
     "output_type": "execute_result"
    }
   ],
   "source": [
    "# Replace space with another character\n",
    "sales.columns = sales.columns.str.replace(' ', '_')\n",
    "sales = sales.rename(columns={\"Item_Type\":\"Products\"})\n",
    "sales.columns"
   ]
  },
  {
   "cell_type": "markdown",
   "id": "61c725bf",
   "metadata": {},
   "source": [
    "# Data Exploration Analysis\n"
   ]
  },
  {
   "cell_type": "code",
   "execution_count": 64,
   "id": "1cdf35d1",
   "metadata": {},
   "outputs": [
    {
     "name": "stdout",
     "output_type": "stream",
     "text": [
      "Region            0.0\n",
      "Country           0.0\n",
      "Products          0.0\n",
      "Sales_Channel     0.0\n",
      "Order_Priority    0.0\n",
      "Order_Date        0.0\n",
      "Order_ID          0.0\n",
      "Ship_Date         0.0\n",
      "Units_Sold        0.0\n",
      "Unit_Price        0.0\n",
      "Unit_Cost         0.0\n",
      "Total_Revenue     0.0\n",
      "Total_Cost        0.0\n",
      "Total_Profit      0.0\n",
      "dtype: float64\n"
     ]
    }
   ],
   "source": [
    "#Checking the missing_value in percentage\n",
    "missing_percentage = sales.isnull().sum()/sales.shape[0]\n",
    "print(missing_percentage)"
   ]
  },
  {
   "cell_type": "markdown",
   "id": "4f675b74",
   "metadata": {},
   "source": [
    "# Observation\n",
    "There's no null values in the dataset"
   ]
  },
  {
   "cell_type": "code",
   "execution_count": 65,
   "id": "9889a945",
   "metadata": {},
   "outputs": [
    {
     "data": {
      "text/plain": [
       "False"
      ]
     },
     "execution_count": 65,
     "metadata": {},
     "output_type": "execute_result"
    }
   ],
   "source": [
    "#Checking for duplicate values\n",
    "sales['Order_ID'].is_unique"
   ]
  },
  {
   "cell_type": "code",
   "execution_count": 66,
   "id": "d19c49f2",
   "metadata": {},
   "outputs": [
    {
     "data": {
      "text/plain": [
       "(800000, 14)"
      ]
     },
     "execution_count": 66,
     "metadata": {},
     "output_type": "execute_result"
    }
   ],
   "source": [
    "# dropping ALL duplicte values\n",
    "sales.drop_duplicates(subset =\"Order_ID\",\n",
    "                     keep = False, \n",
    "                     inplace = True)\n",
    "sales.shape"
   ]
  },
  {
   "cell_type": "markdown",
   "id": "9e847ec7",
   "metadata": {},
   "source": [
    "# Observation\n",
    "After drop the duplicate from Order_ID, there 1229056 observations"
   ]
  },
  {
   "cell_type": "markdown",
   "id": "f8d9d38e",
   "metadata": {},
   "source": [
    "## Creating new columns"
   ]
  },
  {
   "cell_type": "code",
   "execution_count": 67,
   "id": "0f32a3ec",
   "metadata": {},
   "outputs": [],
   "source": [
    "#### sales['Year'] = sales['Order_Date'].apply(lambda x: x.strftime('%Y'))\n",
    "sales['Year'] = [x.year for x in (sales['Order_Date'])]#list comprehension\n",
    "sales['Month_Year'] = sales['Order_Date'].apply(lambda row: row.strftime('%Y-%m'))\n",
    "sales['Month'] = sales['Order_Date'].apply(lambda x: x.strftime('%m'))\n",
    "sales['Qtr'] = pd.to_numeric(sales['Month'])//4+1\n",
    "sales['Year'] = sales['Order_Date'].apply(lambda x: x.strftime('%Y'))\n",
    "sales['Qtr_Yr'] = sales['Year'].astype(str) + '-Q' + sales['Qtr'].astype(str)"
   ]
  },
  {
   "cell_type": "code",
   "execution_count": 68,
   "id": "c8061186",
   "metadata": {},
   "outputs": [],
   "source": [
    "sales['Week'] = sales[\"Order_Date\"].dt.day\n",
    "#sales['Hour'] = sales[\"Order Date\"].dt.hour\n",
    "sales[\"Week\"] = sales[\"Week\"].astype(\"str\")"
   ]
  },
  {
   "cell_type": "code",
   "execution_count": 69,
   "id": "21fb3f97",
   "metadata": {},
   "outputs": [],
   "source": [
    "# generate country code  based on country name \n",
    "def alpha3code(column):#define the function\n",
    "    Country_abb=[]#create empty list for country_abb\n",
    "    for country in column: #iterate through country column\n",
    "        try:\n",
    "            code=pycountry.countries.get(name=country).alpha_3 #get the 3 abbre from the country\n",
    "            Country_abb.append(code)\n",
    "        except:\n",
    "            Country_abb.append('None')\n",
    "    return Country_abb\n",
    "# create a column for code \n",
    "sales['Country_abb']=alpha3code(sales.Country)\n"
   ]
  },
  {
   "cell_type": "markdown",
   "id": "004b5328",
   "metadata": {},
   "source": [
    "## Ckeck unique values for categorical features"
   ]
  },
  {
   "cell_type": "code",
   "execution_count": 70,
   "id": "f2c9df02",
   "metadata": {},
   "outputs": [
    {
     "data": {
      "image/png": "[encoded data removed]",
      "text/plain": [
       "<Figure size 1440x1440 with 6 Axes>"
      ]
     },
     "metadata": {},
     "output_type": "display_data"
    }
   ],
   "source": [
    "categorical_variables = {}\n",
    "for col in sales.columns:\n",
    "    if  (sales[col].nunique() < 20) & (sales[col].dtype == 'object'):\n",
    "        categorical_variables[col] = sales[col].value_counts()\n",
    "ind = 1\n",
    "plt.figure(figsize =(20,20))\n",
    "for c in categorical_variables:\n",
    "    ax = plt.subplot(4,4, ind)\n",
    "    ax.set_title(c)\n",
    "    ax.pie(categorical_variables[c], labels= categorical_variables[c].keys(),autopct =\"%f\")\n",
    "    ind +=1\n",
    "plt.show()"
   ]
  },
  {
   "cell_type": "markdown",
   "id": "f81dfda6",
   "metadata": {},
   "source": [
    "# Statiscal Analysis and Visualisation for Europe"
   ]
  },
  {
   "cell_type": "markdown",
   "id": "b5bc15fc",
   "metadata": {},
   "source": [
    "### The revenue and profit analysis by the world"
   ]
  },
  {
   "cell_type": "code",
   "execution_count": 71,
   "id": "1da4f13b",
   "metadata": {},
   "outputs": [
    {
     "data": {
      "application/vnd.plotly.v1+json": {
       "config": {
        "plotlyServerURL": "https://plot.ly"
       },
       "data": [
        {
         "branchvalues": "total",
         "customdata": [
          [
           "AFG",
           757000.311922999
          ],
          [
           "ALB",
           773103.8652368383
          ],
          [
           "DZA",
           761165.4903319381
          ],
          [
           "AND",
           758496.2293757062
          ],
          [
           "AGO",
           743733.0619750057
          ],
          [
           "None",
           756969.7791631826
          ],
          [
           "ARM",
           755924.2134626785
          ],
          [
           "AUS",
           770028.4488157476
          ],
          [
           "AUT",
           753613.59530544
          ],
          [
           "AZE",
           752146.7420258827
          ],
          [
           "BHR",
           760024.8911405756
          ],
          [
           "BGD",
           760992.4572320445
          ],
          [
           "BRB",
           754095.8977927751
          ],
          [
           "BLR",
           739753.686271014
          ],
          [
           "BEL",
           767882.9693192344
          ],
          [
           "BLZ",
           750539.9554072516
          ],
          [
           "BEN",
           761185.8267808299
          ],
          [
           "BTN",
           769049.750911835
          ],
          [
           "BIH",
           754457.0803779365
          ],
          [
           "BWA",
           761370.3295595698
          ],
          [
           "None",
           762646.122631263
          ],
          [
           "BGR",
           752084.0135910246
          ],
          [
           "BFA",
           759980.557506108
          ],
          [
           "BDI",
           773872.7850114831
          ],
          [
           "KHM",
           753565.7395129339
          ],
          [
           "CMR",
           751063.443320566
          ],
          [
           "CAN",
           752077.7668147263
          ],
          [
           "None",
           757169.9490968336
          ],
          [
           "CAF",
           758980.9440917945
          ],
          [
           "TCD",
           763329.8332632642
          ],
          [
           "CHN",
           760613.4585252876
          ],
          [
           "COM",
           762980.6707723456
          ],
          [
           "CRI",
           753531.1712011236
          ],
          [
           "None",
           757786.9984091612
          ],
          [
           "HRV",
           767393.3792047409
          ],
          [
           "CUB",
           763447.6091705287
          ],
          [
           "CYP",
           765935.269519753
          ],
          [
           "None",
           755372.0971626738
          ],
          [
           "None",
           744203.0569291664
          ],
          [
           "DNK",
           760915.9609016891
          ],
          [
           "DJI",
           765259.2501544647
          ],
          [
           "DMA",
           758208.1983617141
          ],
          [
           "DOM",
           763696.9066384282
          ],
          [
           "None",
           764215.7794453156
          ],
          [
           "EGY",
           756377.728588544
          ],
          [
           "SLV",
           761101.6480232553
          ],
          [
           "GNQ",
           768425.6720071208
          ],
          [
           "ERI",
           752206.8372069763
          ],
          [
           "EST",
           764228.8623133668
          ],
          [
           "ETH",
           757194.4170575778
          ],
          [
           "None",
           770824.9596849945
          ],
          [
           "FJI",
           767413.2312408967
          ],
          [
           "FIN",
           762129.0407904005
          ],
          [
           "FRA",
           772971.0462053851
          ],
          [
           "GAB",
           768730.3245369892
          ],
          [
           "GEO",
           759842.6150895379
          ],
          [
           "DEU",
           754330.178182499
          ],
          [
           "GHA",
           765038.205323564
          ],
          [
           "GRC",
           760278.0608292518
          ],
          [
           "GRL",
           761775.0989634256
          ],
          [
           "GRD",
           757526.8569434376
          ],
          [
           "GTM",
           753269.9027663537
          ],
          [
           "GIN",
           766694.7596259997
          ],
          [
           "GNB",
           758686.8008605553
          ],
          [
           "HTI",
           765837.2889434118
          ],
          [
           "HND",
           780049.9317675203
          ],
          [
           "HUN",
           757716.3922719788
          ],
          [
           "ISL",
           761533.927193489
          ],
          [
           "IND",
           766948.4694348789
          ],
          [
           "IDN",
           764204.8654316979
          ],
          [
           "None",
           752153.9794244556
          ],
          [
           "IRQ",
           769271.5224578799
          ],
          [
           "IRL",
           762233.3187647866
          ],
          [
           "ISR",
           740861.659665681
          ],
          [
           "ITA",
           769174.6843041248
          ],
          [
           "JAM",
           768406.2130936045
          ],
          [
           "JPN",
           746802.1080080653
          ],
          [
           "JOR",
           776343.3292795498
          ],
          [
           "KAZ",
           751399.6120199728
          ],
          [
           "KEN",
           765309.6406128623
          ],
          [
           "KIR",
           763325.1573335369
          ],
          [
           "None",
           756784.1086316089
          ],
          [
           "KWT",
           766695.8447328189
          ],
          [
           "KGZ",
           763927.2652641711
          ],
          [
           "None",
           758741.8902167595
          ],
          [
           "LVA",
           756535.7776362894
          ],
          [
           "LBN",
           754133.3014017196
          ],
          [
           "LSO",
           767717.3560449623
          ],
          [
           "LBR",
           757139.7727733528
          ],
          [
           "LBY",
           756086.903021763
          ],
          [
           "LIE",
           760927.8171131052
          ],
          [
           "LTU",
           756586.8289352572
          ],
          [
           "LUX",
           753988.5394472603
          ],
          [
           "None",
           772202.080430747
          ],
          [
           "MDG",
           750354.0306426001
          ],
          [
           "MWI",
           771668.250018903
          ],
          [
           "MYS",
           757801.5881405193
          ],
          [
           "MDV",
           758647.2341453114
          ],
          [
           "MLI",
           754872.3221700584
          ],
          [
           "MLT",
           770781.1784454266
          ],
          [
           "MHL",
           765174.2064698224
          ],
          [
           "MRT",
           766115.198535184
          ],
          [
           "None",
           777726.8866124443
          ],
          [
           "MEX",
           779879.2514294628
          ],
          [
           "None",
           769706.7746527665
          ],
          [
           "MCO",
           758857.7705185415
          ],
          [
           "MNG",
           755467.7255883864
          ],
          [
           "MNE",
           752764.855472953
          ],
          [
           "MAR",
           758515.2174697116
          ],
          [
           "MOZ",
           753629.0118313907
          ],
          [
           "MMR",
           747902.5701515262
          ],
          [
           "NAM",
           754496.1191567644
          ],
          [
           "NRU",
           756363.3253172175
          ],
          [
           "NPL",
           749979.0244430781
          ],
          [
           "NLD",
           760650.8743548981
          ],
          [
           "NZL",
           764973.9322354448
          ],
          [
           "NIC",
           758544.5471360227
          ],
          [
           "NER",
           762416.3765687151
          ],
          [
           "NGA",
           759655.4183831598
          ],
          [
           "None",
           759956.3917656036
          ],
          [
           "NOR",
           758065.9593919859
          ],
          [
           "OMN",
           758614.3046109716
          ],
          [
           "PAK",
           766151.2780175358
          ],
          [
           "PLW",
           762339.4736536323
          ],
          [
           "PAN",
           752761.2412424721
          ],
          [
           "PNG",
           744846.9619645976
          ],
          [
           "PHL",
           749487.578015683
          ],
          [
           "POL",
           762012.0957312756
          ],
          [
           "PRT",
           753532.683727502
          ],
          [
           "QAT",
           767052.2645385335
          ],
          [
           "None",
           761259.4149406849
          ],
          [
           "ROU",
           753600.1783108144
          ],
          [
           "None",
           752139.0903727959
          ],
          [
           "RWA",
           768389.9782061669
          ],
          [
           "None",
           770166.4023551435
          ],
          [
           "LCA",
           772953.8664650685
          ],
          [
           "VCT",
           769293.4457115086
          ],
          [
           "None",
           759989.8979541858
          ],
          [
           "SMR",
           765961.407089665
          ],
          [
           "STP",
           757923.2420175647
          ],
          [
           "SAU",
           748605.375831172
          ],
          [
           "SEN",
           762122.0765696237
          ],
          [
           "SRB",
           764201.7077666343
          ],
          [
           "None",
           745148.2180848733
          ],
          [
           "SLE",
           756947.6962459681
          ],
          [
           "SGP",
           767319.2502215097
          ],
          [
           "SVK",
           754855.4298203882
          ],
          [
           "SVN",
           764655.789234292
          ],
          [
           "SLB",
           774813.2578115321
          ],
          [
           "SOM",
           765892.0054751689
          ],
          [
           "ZAF",
           763049.4476531388
          ],
          [
           "None",
           783185.526296161
          ],
          [
           "SSD",
           751089.5304546009
          ],
          [
           "ESP",
           761589.3610397219
          ],
          [
           "LKA",
           757712.9900562189
          ],
          [
           "SDN",
           752954.3368457905
          ],
          [
           "None",
           744344.7044751482
          ],
          [
           "SWE",
           779322.5622312637
          ],
          [
           "CHE",
           747559.2383688987
          ],
          [
           "None",
           757231.3126404994
          ],
          [
           "None",
           763965.0467909912
          ],
          [
           "TJK",
           747346.7122230325
          ],
          [
           "None",
           763658.4210648881
          ],
          [
           "THA",
           757487.5774077927
          ],
          [
           "None",
           763934.5049864511
          ],
          [
           "None",
           767614.5952110848
          ],
          [
           "TGO",
           772594.0921191291
          ],
          [
           "TON",
           756231.3496721033
          ],
          [
           "TTO",
           768774.9152828588
          ],
          [
           "None",
           760727.4431899576
          ],
          [
           "TUR",
           765333.4491709643
          ],
          [
           "TKM",
           758258.8491397958
          ],
          [
           "TUV",
           768953.8383595243
          ],
          [
           "UGA",
           771559.3437812054
          ],
          [
           "UKR",
           766734.3793646492
          ],
          [
           "ARE",
           783051.5665620608
          ],
          [
           "GBR",
           759402.824235986
          ],
          [
           "None",
           755856.312949432
          ],
          [
           "UZB",
           757213.6330005119
          ],
          [
           "VUT",
           752285.0281466121
          ],
          [
           "None",
           767058.0779813915
          ],
          [
           "None",
           755017.8646800378
          ],
          [
           "YEM",
           764664.3542015135
          ],
          [
           "ZMB",
           770289.3475390982
          ],
          [
           "ZWE",
           769950.1359604594
          ],
          [
           "(?)",
           758826.3232855381
          ],
          [
           "(?)",
           762854.8531191752
          ],
          [
           "(?)",
           762224.0650821795
          ],
          [
           "(?)",
           760716.2879201496
          ],
          [
           "(?)",
           760863.3949672581
          ],
          [
           "(?)",
           762494.752644547
          ],
          [
           "(?)",
           760864.5345885583
          ],
          [
           "(?)",
           760872.0640859496
          ]
         ],
         "domain": {
          "x": [
           0,
           1
          ],
          "y": [
           0,
           1
          ]
         },
         "hovertemplate": "labels=%{label}<br>Total_Revenue=%{value}<br>parent=%{parent}<br>id=%{id}<br>Country_abb=%{customdata[0]}<br>Total_Profit=%{color}<extra></extra>",
         "ids": [
          "World/Middle East and North Africa/Afghanistan",
          "World/Europe/Albania",
          "World/Middle East and North Africa/Algeria",
          "World/Europe/Andorra",
          "World/Sub-Saharan Africa/Angola",
          "World/Central America and the Caribbean/Antigua and Barbuda ",
          "World/Europe/Armenia",
          "World/Australia and Oceania/Australia",
          "World/Europe/Austria",
          "World/Middle East and North Africa/Azerbaijan",
          "World/Middle East and North Africa/Bahrain",
          "World/Asia/Bangladesh",
          "World/Central America and the Caribbean/Barbados",
          "World/Europe/Belarus",
          "World/Europe/Belgium",
          "World/Central America and the Caribbean/Belize",
          "World/Sub-Saharan Africa/Benin",
          "World/Asia/Bhutan",
          "World/Europe/Bosnia and Herzegovina",
          "World/Sub-Saharan Africa/Botswana",
          "World/Asia/Brunei",
          "World/Europe/Bulgaria",
          "World/Sub-Saharan Africa/Burkina Faso",
          "World/Sub-Saharan Africa/Burundi",
          "World/Asia/Cambodia",
          "World/Sub-Saharan Africa/Cameroon",
          "World/North America/Canada",
          "World/Sub-Saharan Africa/Cape Verde",
          "World/Sub-Saharan Africa/Central African Republic",
          "World/Sub-Saharan Africa/Chad",
          "World/Asia/China",
          "World/Sub-Saharan Africa/Comoros",
          "World/Central America and the Caribbean/Costa Rica",
          "World/Sub-Saharan Africa/Cote d'Ivoire",
          "World/Europe/Croatia",
          "World/Central America and the Caribbean/Cuba",
          "World/Europe/Cyprus",
          "World/Europe/Czech Republic",
          "World/Sub-Saharan Africa/Democratic Republic of the Congo",
          "World/Europe/Denmark",
          "World/Sub-Saharan Africa/Djibouti",
          "World/Central America and the Caribbean/Dominica",
          "World/Central America and the Caribbean/Dominican Republic",
          "World/Australia and Oceania/East Timor",
          "World/Middle East and North Africa/Egypt",
          "World/Central America and the Caribbean/El Salvador",
          "World/Sub-Saharan Africa/Equatorial Guinea",
          "World/Sub-Saharan Africa/Eritrea",
          "World/Europe/Estonia",
          "World/Sub-Saharan Africa/Ethiopia",
          "World/Australia and Oceania/Federated States of Micronesia",
          "World/Australia and Oceania/Fiji",
          "World/Europe/Finland",
          "World/Europe/France",
          "World/Sub-Saharan Africa/Gabon",
          "World/Europe/Georgia",
          "World/Europe/Germany",
          "World/Sub-Saharan Africa/Ghana",
          "World/Europe/Greece",
          "World/North America/Greenland",
          "World/Central America and the Caribbean/Grenada",
          "World/Central America and the Caribbean/Guatemala",
          "World/Sub-Saharan Africa/Guinea",
          "World/Sub-Saharan Africa/Guinea-Bissau",
          "World/Central America and the Caribbean/Haiti",
          "World/Central America and the Caribbean/Honduras",
          "World/Europe/Hungary",
          "World/Europe/Iceland",
          "World/Asia/India",
          "World/Asia/Indonesia",
          "World/Middle East and North Africa/Iran",
          "World/Middle East and North Africa/Iraq",
          "World/Europe/Ireland",
          "World/Middle East and North Africa/Israel",
          "World/Europe/Italy",
          "World/Central America and the Caribbean/Jamaica",
          "World/Asia/Japan",
          "World/Middle East and North Africa/Jordan",
          "World/Asia/Kazakhstan",
          "World/Sub-Saharan Africa/Kenya",
          "World/Australia and Oceania/Kiribati",
          "World/Europe/Kosovo",
          "World/Middle East and North Africa/Kuwait",
          "World/Asia/Kyrgyzstan",
          "World/Asia/Laos",
          "World/Europe/Latvia",
          "World/Middle East and North Africa/Lebanon",
          "World/Sub-Saharan Africa/Lesotho",
          "World/Sub-Saharan Africa/Liberia",
          "World/Middle East and North Africa/Libya",
          "World/Europe/Liechtenstein",
          "World/Europe/Lithuania",
          "World/Europe/Luxembourg",
          "World/Europe/Macedonia",
          "World/Sub-Saharan Africa/Madagascar",
          "World/Sub-Saharan Africa/Malawi",
          "World/Asia/Malaysia",
          "World/Asia/Maldives",
          "World/Sub-Saharan Africa/Mali",
          "World/Europe/Malta",
          "World/Australia and Oceania/Marshall Islands",
          "World/Sub-Saharan Africa/Mauritania",
          "World/Sub-Saharan Africa/Mauritius ",
          "World/North America/Mexico",
          "World/Europe/Moldova ",
          "World/Europe/Monaco",
          "World/Asia/Mongolia",
          "World/Europe/Montenegro",
          "World/Middle East and North Africa/Morocco",
          "World/Sub-Saharan Africa/Mozambique",
          "World/Asia/Myanmar",
          "World/Sub-Saharan Africa/Namibia",
          "World/Australia and Oceania/Nauru",
          "World/Asia/Nepal",
          "World/Europe/Netherlands",
          "World/Australia and Oceania/New Zealand",
          "World/Central America and the Caribbean/Nicaragua",
          "World/Sub-Saharan Africa/Niger",
          "World/Sub-Saharan Africa/Nigeria",
          "World/Asia/North Korea",
          "World/Europe/Norway",
          "World/Middle East and North Africa/Oman",
          "World/Middle East and North Africa/Pakistan",
          "World/Australia and Oceania/Palau",
          "World/Central America and the Caribbean/Panama",
          "World/Australia and Oceania/Papua New Guinea",
          "World/Asia/Philippines",
          "World/Europe/Poland",
          "World/Europe/Portugal",
          "World/Middle East and North Africa/Qatar",
          "World/Sub-Saharan Africa/Republic of the Congo",
          "World/Europe/Romania",
          "World/Europe/Russia",
          "World/Sub-Saharan Africa/Rwanda",
          "World/Central America and the Caribbean/Saint Kitts and Nevis ",
          "World/Central America and the Caribbean/Saint Lucia",
          "World/Central America and the Caribbean/Saint Vincent and the Grenadines",
          "World/Australia and Oceania/Samoa ",
          "World/Europe/San Marino",
          "World/Sub-Saharan Africa/Sao Tome and Principe",
          "World/Middle East and North Africa/Saudi Arabia",
          "World/Sub-Saharan Africa/Senegal",
          "World/Europe/Serbia",
          "World/Sub-Saharan Africa/Seychelles ",
          "World/Sub-Saharan Africa/Sierra Leone",
          "World/Asia/Singapore",
          "World/Europe/Slovakia",
          "World/Europe/Slovenia",
          "World/Australia and Oceania/Solomon Islands",
          "World/Middle East and North Africa/Somalia",
          "World/Sub-Saharan Africa/South Africa",
          "World/Asia/South Korea",
          "World/Sub-Saharan Africa/South Sudan",
          "World/Europe/Spain",
          "World/Asia/Sri Lanka",
          "World/Sub-Saharan Africa/Sudan",
          "World/Sub-Saharan Africa/Swaziland",
          "World/Europe/Sweden",
          "World/Europe/Switzerland",
          "World/Middle East and North Africa/Syria",
          "World/Asia/Taiwan",
          "World/Asia/Tajikistan",
          "World/Sub-Saharan Africa/Tanzania",
          "World/Asia/Thailand",
          "World/Central America and the Caribbean/The Bahamas",
          "World/Sub-Saharan Africa/The Gambia",
          "World/Sub-Saharan Africa/Togo",
          "World/Australia and Oceania/Tonga",
          "World/Central America and the Caribbean/Trinidad and Tobago",
          "World/Middle East and North Africa/Tunisia ",
          "World/Middle East and North Africa/Turkey",
          "World/Asia/Turkmenistan",
          "World/Australia and Oceania/Tuvalu",
          "World/Sub-Saharan Africa/Uganda",
          "World/Europe/Ukraine",
          "World/Middle East and North Africa/United Arab Emirates",
          "World/Europe/United Kingdom",
          "World/North America/United States of America",
          "World/Asia/Uzbekistan",
          "World/Australia and Oceania/Vanuatu",
          "World/Europe/Vatican City",
          "World/Asia/Vietnam",
          "World/Middle East and North Africa/Yemen",
          "World/Sub-Saharan Africa/Zambia",
          "World/Sub-Saharan Africa/Zimbabwe",
          "World/Asia",
          "World/Australia and Oceania",
          "World/Central America and the Caribbean",
          "World/Europe",
          "World/Middle East and North Africa",
          "World/North America",
          "World/Sub-Saharan Africa",
          "World"
         ],
         "labels": [
          "Afghanistan",
          "Albania",
          "Algeria",
          "Andorra",
          "Angola",
          "Antigua and Barbuda ",
          "Armenia",
          "Australia",
          "Austria",
          "Azerbaijan",
          "Bahrain",
          "Bangladesh",
          "Barbados",
          "Belarus",
          "Belgium",
          "Belize",
          "Benin",
          "Bhutan",
          "Bosnia and Herzegovina",
          "Botswana",
          "Brunei",
          "Bulgaria",
          "Burkina Faso",
          "Burundi",
          "Cambodia",
          "Cameroon",
          "Canada",
          "Cape Verde",
          "Central African Republic",
          "Chad",
          "China",
          "Comoros",
          "Costa Rica",
          "Cote d'Ivoire",
          "Croatia",
          "Cuba",
          "Cyprus",
          "Czech Republic",
          "Democratic Republic of the Congo",
          "Denmark",
          "Djibouti",
          "Dominica",
          "Dominican Republic",
          "East Timor",
          "Egypt",
          "El Salvador",
          "Equatorial Guinea",
          "Eritrea",
          "Estonia",
          "Ethiopia",
          "Federated States of Micronesia",
          "Fiji",
          "Finland",
          "France",
          "Gabon",
          "Georgia",
          "Germany",
          "Ghana",
          "Greece",
          "Greenland",
          "Grenada",
          "Guatemala",
          "Guinea",
          "Guinea-Bissau",
          "Haiti",
          "Honduras",
          "Hungary",
          "Iceland",
          "India",
          "Indonesia",
          "Iran",
          "Iraq",
          "Ireland",
          "Israel",
          "Italy",
          "Jamaica",
          "Japan",
          "Jordan",
          "Kazakhstan",
          "Kenya",
          "Kiribati",
          "Kosovo",
          "Kuwait",
          "Kyrgyzstan",
          "Laos",
          "Latvia",
          "Lebanon",
          "Lesotho",
          "Liberia",
          "Libya",
          "Liechtenstein",
          "Lithuania",
          "Luxembourg",
          "Macedonia",
          "Madagascar",
          "Malawi",
          "Malaysia",
          "Maldives",
          "Mali",
          "Malta",
          "Marshall Islands",
          "Mauritania",
          "Mauritius ",
          "Mexico",
          "Moldova ",
          "Monaco",
          "Mongolia",
          "Montenegro",
          "Morocco",
          "Mozambique",
          "Myanmar",
          "Namibia",
          "Nauru",
          "Nepal",
          "Netherlands",
          "New Zealand",
          "Nicaragua",
          "Niger",
          "Nigeria",
          "North Korea",
          "Norway",
          "Oman",
          "Pakistan",
          "Palau",
          "Panama",
          "Papua New Guinea",
          "Philippines",
          "Poland",
          "Portugal",
          "Qatar",
          "Republic of the Congo",
          "Romania",
          "Russia",
          "Rwanda",
          "Saint Kitts and Nevis ",
          "Saint Lucia",
          "Saint Vincent and the Grenadines",
          "Samoa ",
          "San Marino",
          "Sao Tome and Principe",
          "Saudi Arabia",
          "Senegal",
          "Serbia",
          "Seychelles ",
          "Sierra Leone",
          "Singapore",
          "Slovakia",
          "Slovenia",
          "Solomon Islands",
          "Somalia",
          "South Africa",
          "South Korea",
          "South Sudan",
          "Spain",
          "Sri Lanka",
          "Sudan",
          "Swaziland",
          "Sweden",
          "Switzerland",
          "Syria",
          "Taiwan",
          "Tajikistan",
          "Tanzania",
          "Thailand",
          "The Bahamas",
          "The Gambia",
          "Togo",
          "Tonga",
          "Trinidad and Tobago",
          "Tunisia ",
          "Turkey",
          "Turkmenistan",
          "Tuvalu",
          "Uganda",
          "Ukraine",
          "United Arab Emirates",
          "United Kingdom",
          "United States of America",
          "Uzbekistan",
          "Vanuatu",
          "Vatican City",
          "Vietnam",
          "Yemen",
          "Zambia",
          "Zimbabwe",
          "Asia",
          "Australia and Oceania",
          "Central America and the Caribbean",
          "Europe",
          "Middle East and North Africa",
          "North America",
          "Sub-Saharan Africa",
          "World"
         ],
         "marker": {
          "coloraxis": "coloraxis",
          "colors": [
           757000.311922999,
           773103.8652368383,
           761165.4903319381,
           758496.2293757062,
           743733.0619750057,
           756969.7791631826,
           755924.2134626785,
           770028.4488157476,
           753613.59530544,
           752146.7420258827,
           760024.8911405756,
           760992.4572320445,
           754095.8977927751,
           739753.686271014,
           767882.9693192344,
           750539.9554072516,
           761185.8267808299,
           769049.750911835,
           754457.0803779365,
           761370.3295595698,
           762646.122631263,
           752084.0135910246,
           759980.557506108,
           773872.7850114831,
           753565.7395129339,
           751063.443320566,
           752077.7668147263,
           757169.9490968336,
           758980.9440917945,
           763329.8332632642,
           760613.4585252876,
           762980.6707723456,
           753531.1712011236,
           757786.9984091612,
           767393.3792047409,
           763447.6091705287,
           765935.269519753,
           755372.0971626738,
           744203.0569291664,
           760915.9609016891,
           765259.2501544647,
           758208.1983617141,
           763696.9066384282,
           764215.7794453156,
           756377.728588544,
           761101.6480232553,
           768425.6720071208,
           752206.8372069763,
           764228.8623133668,
           757194.4170575778,
           770824.9596849945,
           767413.2312408967,
           762129.0407904005,
           772971.0462053851,
           768730.3245369892,
           759842.6150895379,
           754330.178182499,
           765038.205323564,
           760278.0608292518,
           761775.0989634256,
           757526.8569434376,
           753269.9027663537,
           766694.7596259997,
           758686.8008605553,
           765837.2889434118,
           780049.9317675203,
           757716.3922719788,
           761533.927193489,
           766948.4694348789,
           764204.8654316979,
           752153.9794244556,
           769271.5224578799,
           762233.3187647866,
           740861.659665681,
           769174.6843041248,
           768406.2130936045,
           746802.1080080653,
           776343.3292795498,
           751399.6120199728,
           765309.6406128623,
           763325.1573335369,
           756784.1086316089,
           766695.8447328189,
           763927.2652641711,
           758741.8902167595,
           756535.7776362894,
           754133.3014017196,
           767717.3560449623,
           757139.7727733528,
           756086.903021763,
           760927.8171131052,
           756586.8289352572,
           753988.5394472603,
           772202.080430747,
           750354.0306426001,
           771668.250018903,
           757801.5881405193,
           758647.2341453114,
           754872.3221700584,
           770781.1784454266,
           765174.2064698224,
           766115.198535184,
           777726.8866124443,
           779879.2514294628,
           769706.7746527665,
           758857.7705185415,
           755467.7255883864,
           752764.855472953,
           758515.2174697116,
           753629.0118313907,
           747902.5701515262,
           754496.1191567644,
           756363.3253172175,
           749979.0244430781,
           760650.8743548981,
           764973.9322354448,
           758544.5471360227,
           762416.3765687151,
           759655.4183831598,
           759956.3917656036,
           758065.9593919859,
           758614.3046109716,
           766151.2780175358,
           762339.4736536323,
           752761.2412424721,
           744846.9619645976,
           749487.578015683,
           762012.0957312756,
           753532.683727502,
           767052.2645385335,
           761259.4149406849,
           753600.1783108144,
           752139.0903727959,
           768389.9782061669,
           770166.4023551435,
           772953.8664650685,
           769293.4457115086,
           759989.8979541858,
           765961.407089665,
           757923.2420175647,
           748605.375831172,
           762122.0765696237,
           764201.7077666343,
           745148.2180848733,
           756947.6962459681,
           767319.2502215097,
           754855.4298203882,
           764655.789234292,
           774813.2578115321,
           765892.0054751689,
           763049.4476531388,
           783185.526296161,
           751089.5304546009,
           761589.3610397219,
           757712.9900562189,
           752954.3368457905,
           744344.7044751482,
           779322.5622312637,
           747559.2383688987,
           757231.3126404994,
           763965.0467909912,
           747346.7122230325,
           763658.4210648881,
           757487.5774077927,
           763934.5049864511,
           767614.5952110848,
           772594.0921191291,
           756231.3496721033,
           768774.9152828588,
           760727.4431899576,
           765333.4491709643,
           758258.8491397958,
           768953.8383595243,
           771559.3437812054,
           766734.3793646492,
           783051.5665620608,
           759402.824235986,
           755856.312949432,
           757213.6330005119,
           752285.0281466121,
           767058.0779813915,
           755017.8646800378,
           764664.3542015135,
           770289.3475390982,
           769950.1359604594,
           758826.3232855381,
           762854.8531191752,
           762224.0650821795,
           760716.2879201496,
           760863.3949672581,
           762494.752644547,
           760864.5345885583,
           760872.0640859496
          ]
         },
         "name": "",
         "parents": [
          "World/Middle East and North Africa",
          "World/Europe",
          "World/Middle East and North Africa",
          "World/Europe",
          "World/Sub-Saharan Africa",
          "World/Central America and the Caribbean",
          "World/Europe",
          "World/Australia and Oceania",
          "World/Europe",
          "World/Middle East and North Africa",
          "World/Middle East and North Africa",
          "World/Asia",
          "World/Central America and the Caribbean",
          "World/Europe",
          "World/Europe",
          "World/Central America and the Caribbean",
          "World/Sub-Saharan Africa",
          "World/Asia",
          "World/Europe",
          "World/Sub-Saharan Africa",
          "World/Asia",
          "World/Europe",
          "World/Sub-Saharan Africa",
          "World/Sub-Saharan Africa",
          "World/Asia",
          "World/Sub-Saharan Africa",
          "World/North America",
          "World/Sub-Saharan Africa",
          "World/Sub-Saharan Africa",
          "World/Sub-Saharan Africa",
          "World/Asia",
          "World/Sub-Saharan Africa",
          "World/Central America and the Caribbean",
          "World/Sub-Saharan Africa",
          "World/Europe",
          "World/Central America and the Caribbean",
          "World/Europe",
          "World/Europe",
          "World/Sub-Saharan Africa",
          "World/Europe",
          "World/Sub-Saharan Africa",
          "World/Central America and the Caribbean",
          "World/Central America and the Caribbean",
          "World/Australia and Oceania",
          "World/Middle East and North Africa",
          "World/Central America and the Caribbean",
          "World/Sub-Saharan Africa",
          "World/Sub-Saharan Africa",
          "World/Europe",
          "World/Sub-Saharan Africa",
          "World/Australia and Oceania",
          "World/Australia and Oceania",
          "World/Europe",
          "World/Europe",
          "World/Sub-Saharan Africa",
          "World/Europe",
          "World/Europe",
          "World/Sub-Saharan Africa",
          "World/Europe",
          "World/North America",
          "World/Central America and the Caribbean",
          "World/Central America and the Caribbean",
          "World/Sub-Saharan Africa",
          "World/Sub-Saharan Africa",
          "World/Central America and the Caribbean",
          "World/Central America and the Caribbean",
          "World/Europe",
          "World/Europe",
          "World/Asia",
          "World/Asia",
          "World/Middle East and North Africa",
          "World/Middle East and North Africa",
          "World/Europe",
          "World/Middle East and North Africa",
          "World/Europe",
          "World/Central America and the Caribbean",
          "World/Asia",
          "World/Middle East and North Africa",
          "World/Asia",
          "World/Sub-Saharan Africa",
          "World/Australia and Oceania",
          "World/Europe",
          "World/Middle East and North Africa",
          "World/Asia",
          "World/Asia",
          "World/Europe",
          "World/Middle East and North Africa",
          "World/Sub-Saharan Africa",
          "World/Sub-Saharan Africa",
          "World/Middle East and North Africa",
          "World/Europe",
          "World/Europe",
          "World/Europe",
          "World/Europe",
          "World/Sub-Saharan Africa",
          "World/Sub-Saharan Africa",
          "World/Asia",
          "World/Asia",
          "World/Sub-Saharan Africa",
          "World/Europe",
          "World/Australia and Oceania",
          "World/Sub-Saharan Africa",
          "World/Sub-Saharan Africa",
          "World/North America",
          "World/Europe",
          "World/Europe",
          "World/Asia",
          "World/Europe",
          "World/Middle East and North Africa",
          "World/Sub-Saharan Africa",
          "World/Asia",
          "World/Sub-Saharan Africa",
          "World/Australia and Oceania",
          "World/Asia",
          "World/Europe",
          "World/Australia and Oceania",
          "World/Central America and the Caribbean",
          "World/Sub-Saharan Africa",
          "World/Sub-Saharan Africa",
          "World/Asia",
          "World/Europe",
          "World/Middle East and North Africa",
          "World/Middle East and North Africa",
          "World/Australia and Oceania",
          "World/Central America and the Caribbean",
          "World/Australia and Oceania",
          "World/Asia",
          "World/Europe",
          "World/Europe",
          "World/Middle East and North Africa",
          "World/Sub-Saharan Africa",
          "World/Europe",
          "World/Europe",
          "World/Sub-Saharan Africa",
          "World/Central America and the Caribbean",
          "World/Central America and the Caribbean",
          "World/Central America and the Caribbean",
          "World/Australia and Oceania",
          "World/Europe",
          "World/Sub-Saharan Africa",
          "World/Middle East and North Africa",
          "World/Sub-Saharan Africa",
          "World/Europe",
          "World/Sub-Saharan Africa",
          "World/Sub-Saharan Africa",
          "World/Asia",
          "World/Europe",
          "World/Europe",
          "World/Australia and Oceania",
          "World/Middle East and North Africa",
          "World/Sub-Saharan Africa",
          "World/Asia",
          "World/Sub-Saharan Africa",
          "World/Europe",
          "World/Asia",
          "World/Sub-Saharan Africa",
          "World/Sub-Saharan Africa",
          "World/Europe",
          "World/Europe",
          "World/Middle East and North Africa",
          "World/Asia",
          "World/Asia",
          "World/Sub-Saharan Africa",
          "World/Asia",
          "World/Central America and the Caribbean",
          "World/Sub-Saharan Africa",
          "World/Sub-Saharan Africa",
          "World/Australia and Oceania",
          "World/Central America and the Caribbean",
          "World/Middle East and North Africa",
          "World/Middle East and North Africa",
          "World/Asia",
          "World/Australia and Oceania",
          "World/Sub-Saharan Africa",
          "World/Europe",
          "World/Middle East and North Africa",
          "World/Europe",
          "World/North America",
          "World/Asia",
          "World/Australia and Oceania",
          "World/Europe",
          "World/Asia",
          "World/Middle East and North Africa",
          "World/Sub-Saharan Africa",
          "World/Sub-Saharan Africa",
          "World",
          "World",
          "World",
          "World",
          "World",
          "World",
          "World",
          ""
         ],
         "type": "treemap",
         "values": [
          5786718853.860013,
          5854976031.730008,
          5775746903.400015,
          5541267054.299991,
          5554712624.990009,
          5719490584.330015,
          5711724775.249995,
          5811094170.07001,
          5710924895.209996,
          5615975702.429992,
          5986348092.689992,
          5758478509.039991,
          5598585618.8099985,
          5475367331.979992,
          5766139172.619982,
          5660391181.699993,
          5710565751.839987,
          5989769240.349993,
          5710888982.959992,
          5820252785.40001,
          5789774080.939987,
          5788715230.939998,
          5708526278.609978,
          5868218019.370003,
          5644239499.339989,
          5696997381.28999,
          5691228038.129985,
          5774534187.689999,
          5724603064.449986,
          6020795279.689992,
          5890246376.060006,
          5661689153.290011,
          5633991144.770001,
          5702947189.230001,
          5813544658.889987,
          5715421764.969999,
          5880043846.879983,
          5765784679.089999,
          5703108872.400002,
          5721930820.430013,
          5693069688.230004,
          5664097174.88,
          5896878850.900003,
          5812725811.300001,
          5780433913.53,
          5726442019.209989,
          5695592367.450016,
          5767546023.82002,
          5746355197.229981,
          5774839702.97,
          6036496342.139984,
          5569084437.1900015,
          5923293934.029982,
          5897708294.240002,
          5798493464.800014,
          5541087898.939993,
          5597425379.610008,
          5772210133.570001,
          5759507923.279991,
          5789122596.089987,
          5752575737.840014,
          5647488404.310006,
          5719816406.719995,
          5706201674.169999,
          5909160740.350009,
          5793242233.959993,
          5678024454.750009,
          5494283704.320004,
          5799055816.799997,
          5819701224.509997,
          5624557668.050008,
          5793360520.330005,
          5792097070.689994,
          5654147321.27001,
          5894294173.410001,
          5562618844.800015,
          5614621352.260001,
          5880776740.52,
          5542903201.480013,
          5694780083.200002,
          5786739719.960009,
          5730159829.400007,
          5701688136.479999,
          5776165381.5500145,
          5654768888.550008,
          5755472287.960003,
          5619791667.159989,
          5653386586.35,
          5845466103.069996,
          5826770038.07001,
          5695202476.170002,
          5774749580.020021,
          5594522021.100029,
          5846123639.359982,
          5508904286.209991,
          5852177149.049997,
          5694080084.199999,
          5977316322.699987,
          5809341652.400008,
          5779175891.720001,
          5862831198.529998,
          5837756646.559998,
          5852012298.439996,
          5856879625.139993,
          5862274881.060006,
          5554232286.170002,
          5680713846.469998,
          5645577374.200005,
          5695896064.899992,
          5714458931.959967,
          5775856746.370008,
          5674321451.079984,
          5680645310.0300045,
          5694624958.450005,
          5773775161.189992,
          5869688218.23,
          5678568178.95,
          5774975177.610014,
          5784765883.990002,
          5640575486.080014,
          5788261615.070001,
          5648854477.349991,
          5844266278.420002,
          5751690442.880001,
          5786817817.7900095,
          5633502623.479995,
          5649921873.310013,
          5664051658.06001,
          5820303816.409979,
          5870902497.140011,
          5747831238.949992,
          5752035546.280003,
          5599893725.110004,
          5838554941.360017,
          5910020959.910011,
          5874069515.58,
          5755600103.34001,
          5733925311.12999,
          5938770944.060006,
          5775335331.099997,
          5763750717.990008,
          5819612655.180002,
          5811755441.010007,
          5628771672.719993,
          5701775385.479991,
          6038959980.759985,
          5702830288.949991,
          5690705444.8600025,
          5693728541.939995,
          5791685494.189993,
          5788863256.749971,
          5849845390.820004,
          5643853623.219981,
          5812540255.559989,
          5835115938.219999,
          5770860935.210002,
          5664161737.51001,
          5854773020.2699795,
          5522048115.88999,
          5769550334.509994,
          5796110853.550013,
          5664766679.670003,
          5794463642.749991,
          5818098593.339993,
          5837783571.6200075,
          5661007087.040021,
          5840470222.81,
          5706310293.529985,
          5764011676.209993,
          5716159711.110006,
          5658613546.060002,
          5778185315.150011,
          5735534090.760006,
          5993311473.48998,
          5806003925.889984,
          5839203160.120019,
          5683438662.6600065,
          5779567680.739999,
          5519268377.279988,
          5620741451.360004,
          5867457095.150018,
          5671126259.620011,
          5916976522.79002,
          5808865019.880005,
          5817186219.700018,
          155364290276.8709,
          86304737962.53003,
          114887256124.23015,
          275391520494.3556,
          132562174362.36958,
          23116797940.100086,
          276171990743.0508,
          1063798767903.5319
         ]
        }
       ],
       "layout": {
        "coloraxis": {
         "colorbar": {
          "title": {
           "text": "Total_Profit"
          }
         },
         "colorscale": [
          [
           0,
           "#0d0887"
          ],
          [
           0.1111111111111111,
           "#46039f"
          ],
          [
           0.2222222222222222,
           "#7201a8"
          ],
          [
           0.3333333333333333,
           "#9c179e"
          ],
          [
           0.4444444444444444,
           "#bd3786"
          ],
          [
           0.5555555555555556,
           "#d8576b"
          ],
          [
           0.6666666666666666,
           "#ed7953"
          ],
          [
           0.7777777777777778,
           "#fb9f3a"
          ],
          [
           0.8888888888888888,
           "#fdca26"
          ],
          [
           1,
           "#f0f921"
          ]
         ]
        },
        "legend": {
         "tracegroupgap": 0
        },
        "margin": {
         "t": 60
        },
        "template": {
         "data": {
          "bar": [
           {
            "error_x": {
             "color": "#2a3f5f"
            },
            "error_y": {
             "color": "#2a3f5f"
            },
            "marker": {
             "line": {
              "color": "#E5ECF6",
              "width": 0.5
             }
            },
            "type": "bar"
           }
          ],
          "barpolar": [
           {
            "marker": {
             "line": {
              "color": "#E5ECF6",
              "width": 0.5
             }
            },
            "type": "barpolar"
           }
          ],
          "carpet": [
           {
            "aaxis": {
             "endlinecolor": "#2a3f5f",
             "gridcolor": "white",
             "linecolor": "white",
             "minorgridcolor": "white",
             "startlinecolor": "#2a3f5f"
            },
            "baxis": {
             "endlinecolor": "#2a3f5f",
             "gridcolor": "white",
             "linecolor": "white",
             "minorgridcolor": "white",
             "startlinecolor": "#2a3f5f"
            },
            "type": "carpet"
           }
          ],
          "choropleth": [
           {
            "colorbar": {
             "outlinewidth": 0,
             "ticks": ""
            },
            "type": "choropleth"
           }
          ],
          "contour": [
           {
            "colorbar": {
             "outlinewidth": 0,
             "ticks": ""
            },
            "colorscale": [
             [
              0,
              "#0d0887"
             ],
             [
              0.1111111111111111,
              "#46039f"
             ],
             [
              0.2222222222222222,
              "#7201a8"
             ],
             [
              0.3333333333333333,
              "#9c179e"
             ],
             [
              0.4444444444444444,
              "#bd3786"
             ],
             [
              0.5555555555555556,
              "#d8576b"
             ],
             [
              0.6666666666666666,
              "#ed7953"
             ],
             [
              0.7777777777777778,
              "#fb9f3a"
             ],
             [
              0.8888888888888888,
              "#fdca26"
             ],
             [
              1,
              "#f0f921"
             ]
            ],
            "type": "contour"
           }
          ],
          "contourcarpet": [
           {
            "colorbar": {
             "outlinewidth": 0,
             "ticks": ""
            },
            "type": "contourcarpet"
           }
          ],
          "heatmap": [
           {
            "colorbar": {
             "outlinewidth": 0,
             "ticks": ""
            },
            "colorscale": [
             [
              0,
              "#0d0887"
             ],
             [
              0.1111111111111111,
              "#46039f"
             ],
             [
              0.2222222222222222,
              "#7201a8"
             ],
             [
              0.3333333333333333,
              "#9c179e"
             ],
             [
              0.4444444444444444,
              "#bd3786"
             ],
             [
              0.5555555555555556,
              "#d8576b"
             ],
             [
              0.6666666666666666,
              "#ed7953"
             ],
             [
              0.7777777777777778,
              "#fb9f3a"
             ],
             [
              0.8888888888888888,
              "#fdca26"
             ],
             [
              1,
              "#f0f921"
             ]
            ],
            "type": "heatmap"
           }
          ],
          "heatmapgl": [
           {
            "colorbar": {
             "outlinewidth": 0,
             "ticks": ""
            },
            "colorscale": [
             [
              0,
              "#0d0887"
             ],
             [
              0.1111111111111111,
              "#46039f"
             ],
             [
              0.2222222222222222,
              "#7201a8"
             ],
             [
              0.3333333333333333,
              "#9c179e"
             ],
             [
              0.4444444444444444,
              "#bd3786"
             ],
             [
              0.5555555555555556,
              "#d8576b"
             ],
             [
              0.6666666666666666,
              "#ed7953"
             ],
             [
              0.7777777777777778,
              "#fb9f3a"
             ],
             [
              0.8888888888888888,
              "#fdca26"
             ],
             [
              1,
              "#f0f921"
             ]
            ],
            "type": "heatmapgl"
           }
          ],
          "histogram": [
           {
            "marker": {
             "colorbar": {
              "outlinewidth": 0,
              "ticks": ""
             }
            },
            "type": "histogram"
           }
          ],
          "histogram2d": [
           {
            "colorbar": {
             "outlinewidth": 0,
             "ticks": ""
            },
            "colorscale": [
             [
              0,
              "#0d0887"
             ],
             [
              0.1111111111111111,
              "#46039f"
             ],
             [
              0.2222222222222222,
              "#7201a8"
             ],
             [
              0.3333333333333333,
              "#9c179e"
             ],
             [
              0.4444444444444444,
              "#bd3786"
             ],
             [
              0.5555555555555556,
              "#d8576b"
             ],
             [
              0.6666666666666666,
              "#ed7953"
             ],
             [
              0.7777777777777778,
              "#fb9f3a"
             ],
             [
              0.8888888888888888,
              "#fdca26"
             ],
             [
              1,
              "#f0f921"
             ]
            ],
            "type": "histogram2d"
           }
          ],
          "histogram2dcontour": [
           {
            "colorbar": {
             "outlinewidth": 0,
             "ticks": ""
            },
            "colorscale": [
             [
              0,
              "#0d0887"
             ],
             [
              0.1111111111111111,
              "#46039f"
             ],
             [
              0.2222222222222222,
              "#7201a8"
             ],
             [
              0.3333333333333333,
              "#9c179e"
             ],
             [
              0.4444444444444444,
              "#bd3786"
             ],
             [
              0.5555555555555556,
              "#d8576b"
             ],
             [
              0.6666666666666666,
              "#ed7953"
             ],
             [
              0.7777777777777778,
              "#fb9f3a"
             ],
             [
              0.8888888888888888,
              "#fdca26"
             ],
             [
              1,
              "#f0f921"
             ]
            ],
            "type": "histogram2dcontour"
           }
          ],
          "mesh3d": [
           {
            "colorbar": {
             "outlinewidth": 0,
             "ticks": ""
            },
            "type": "mesh3d"
           }
          ],
          "parcoords": [
           {
            "line": {
             "colorbar": {
              "outlinewidth": 0,
              "ticks": ""
             }
            },
            "type": "parcoords"
           }
          ],
          "pie": [
           {
            "automargin": true,
            "type": "pie"
           }
          ],
          "scatter": [
           {
            "marker": {
             "colorbar": {
              "outlinewidth": 0,
              "ticks": ""
             }
            },
            "type": "scatter"
           }
          ],
          "scatter3d": [
           {
            "line": {
             "colorbar": {
              "outlinewidth": 0,
              "ticks": ""
             }
            },
            "marker": {
             "colorbar": {
              "outlinewidth": 0,
              "ticks": ""
             }
            },
            "type": "scatter3d"
           }
          ],
          "scattercarpet": [
           {
            "marker": {
             "colorbar": {
              "outlinewidth": 0,
              "ticks": ""
             }
            },
            "type": "scattercarpet"
           }
          ],
          "scattergeo": [
           {
            "marker": {
             "colorbar": {
              "outlinewidth": 0,
              "ticks": ""
             }
            },
            "type": "scattergeo"
           }
          ],
          "scattergl": [
           {
            "marker": {
             "colorbar": {
              "outlinewidth": 0,
              "ticks": ""
             }
            },
            "type": "scattergl"
           }
          ],
          "scattermapbox": [
           {
            "marker": {
             "colorbar": {
              "outlinewidth": 0,
              "ticks": ""
             }
            },
            "type": "scattermapbox"
           }
          ],
          "scatterpolar": [
           {
            "marker": {
             "colorbar": {
              "outlinewidth": 0,
              "ticks": ""
             }
            },
            "type": "scatterpolar"
           }
          ],
          "scatterpolargl": [
           {
            "marker": {
             "colorbar": {
              "outlinewidth": 0,
              "ticks": ""
             }
            },
            "type": "scatterpolargl"
           }
          ],
          "scatterternary": [
           {
            "marker": {
             "colorbar": {
              "outlinewidth": 0,
              "ticks": ""
             }
            },
            "type": "scatterternary"
           }
          ],
          "surface": [
           {
            "colorbar": {
             "outlinewidth": 0,
             "ticks": ""
            },
            "colorscale": [
             [
              0,
              "#0d0887"
             ],
             [
              0.1111111111111111,
              "#46039f"
             ],
             [
              0.2222222222222222,
              "#7201a8"
             ],
             [
              0.3333333333333333,
              "#9c179e"
             ],
             [
              0.4444444444444444,
              "#bd3786"
             ],
             [
              0.5555555555555556,
              "#d8576b"
             ],
             [
              0.6666666666666666,
              "#ed7953"
             ],
             [
              0.7777777777777778,
              "#fb9f3a"
             ],
             [
              0.8888888888888888,
              "#fdca26"
             ],
             [
              1,
              "#f0f921"
             ]
            ],
            "type": "surface"
           }
          ],
          "table": [
           {
            "cells": {
             "fill": {
              "color": "#EBF0F8"
             },
             "line": {
              "color": "white"
             }
            },
            "header": {
             "fill": {
              "color": "#C8D4E3"
             },
             "line": {
              "color": "white"
             }
            },
            "type": "table"
           }
          ]
         },
         "layout": {
          "annotationdefaults": {
           "arrowcolor": "#2a3f5f",
           "arrowhead": 0,
           "arrowwidth": 1
          },
          "autotypenumbers": "strict",
          "coloraxis": {
           "colorbar": {
            "outlinewidth": 0,
            "ticks": ""
           }
          },
          "colorscale": {
           "diverging": [
            [
             0,
             "#8e0152"
            ],
            [
             0.1,
             "#c51b7d"
            ],
            [
             0.2,
             "#de77ae"
            ],
            [
             0.3,
             "#f1b6da"
            ],
            [
             0.4,
             "#fde0ef"
            ],
            [
             0.5,
             "#f7f7f7"
            ],
            [
             0.6,
             "#e6f5d0"
            ],
            [
             0.7,
             "#b8e186"
            ],
            [
             0.8,
             "#7fbc41"
            ],
            [
             0.9,
             "#4d9221"
            ],
            [
             1,
             "#276419"
            ]
           ],
           "sequential": [
            [
             0,
             "#0d0887"
            ],
            [
             0.1111111111111111,
             "#46039f"
            ],
            [
             0.2222222222222222,
             "#7201a8"
            ],
            [
             0.3333333333333333,
             "#9c179e"
            ],
            [
             0.4444444444444444,
             "#bd3786"
            ],
            [
             0.5555555555555556,
             "#d8576b"
            ],
            [
             0.6666666666666666,
             "#ed7953"
            ],
            [
             0.7777777777777778,
             "#fb9f3a"
            ],
            [
             0.8888888888888888,
             "#fdca26"
            ],
            [
             1,
             "#f0f921"
            ]
           ],
           "sequentialminus": [
            [
             0,
             "#0d0887"
            ],
            [
             0.1111111111111111,
             "#46039f"
            ],
            [
             0.2222222222222222,
             "#7201a8"
            ],
            [
             0.3333333333333333,
             "#9c179e"
            ],
            [
             0.4444444444444444,
             "#bd3786"
            ],
            [
             0.5555555555555556,
             "#d8576b"
            ],
            [
             0.6666666666666666,
             "#ed7953"
            ],
            [
             0.7777777777777778,
             "#fb9f3a"
            ],
            [
             0.8888888888888888,
             "#fdca26"
            ],
            [
             1,
             "#f0f921"
            ]
           ]
          },
          "colorway": [
           "#636efa",
           "#EF553B",
           "#00cc96",
           "#ab63fa",
           "#FFA15A",
           "#19d3f3",
           "#FF6692",
           "#B6E880",
           "#FF97FF",
           "#FECB52"
          ],
          "font": {
           "color": "#2a3f5f"
          },
          "geo": {
           "bgcolor": "white",
           "lakecolor": "white",
           "landcolor": "#E5ECF6",
           "showlakes": true,
           "showland": true,
           "subunitcolor": "white"
          },
          "hoverlabel": {
           "align": "left"
          },
          "hovermode": "closest",
          "mapbox": {
           "style": "light"
          },
          "paper_bgcolor": "white",
          "plot_bgcolor": "#E5ECF6",
          "polar": {
           "angularaxis": {
            "gridcolor": "white",
            "linecolor": "white",
            "ticks": ""
           },
           "bgcolor": "#E5ECF6",
           "radialaxis": {
            "gridcolor": "white",
            "linecolor": "white",
            "ticks": ""
           }
          },
          "scene": {
           "xaxis": {
            "backgroundcolor": "#E5ECF6",
            "gridcolor": "white",
            "gridwidth": 2,
            "linecolor": "white",
            "showbackground": true,
            "ticks": "",
            "zerolinecolor": "white"
           },
           "yaxis": {
            "backgroundcolor": "#E5ECF6",
            "gridcolor": "white",
            "gridwidth": 2,
            "linecolor": "white",
            "showbackground": true,
            "ticks": "",
            "zerolinecolor": "white"
           },
           "zaxis": {
            "backgroundcolor": "#E5ECF6",
            "gridcolor": "white",
            "gridwidth": 2,
            "linecolor": "white",
            "showbackground": true,
            "ticks": "",
            "zerolinecolor": "white"
           }
          },
          "shapedefaults": {
           "line": {
            "color": "#2a3f5f"
           }
          },
          "ternary": {
           "aaxis": {
            "gridcolor": "white",
            "linecolor": "white",
            "ticks": ""
           },
           "baxis": {
            "gridcolor": "white",
            "linecolor": "white",
            "ticks": ""
           },
           "bgcolor": "#E5ECF6",
           "caxis": {
            "gridcolor": "white",
            "linecolor": "white",
            "ticks": ""
           }
          },
          "title": {
           "x": 0.05
          },
          "xaxis": {
           "automargin": true,
           "gridcolor": "white",
           "linecolor": "white",
           "ticks": "",
           "title": {
            "standoff": 15
           },
           "zerolinecolor": "white",
           "zerolinewidth": 2
          },
          "yaxis": {
           "automargin": true,
           "gridcolor": "white",
           "linecolor": "white",
           "ticks": "",
           "title": {
            "standoff": 15
           },
           "zerolinecolor": "white",
           "zerolinewidth": 2
          }
         }
        }
       }
      },
      "text/html": [
       "<div>                            <div id=\"25405a6f-ef4d-4e8b-8719-d2b8d6ee46d9\" class=\"plotly-graph-div\" style=\"height:525px; width:100%;\"></div>            <script type=\"text/javascript\">                require([\"plotly\"], function(Plotly) {                    window.PLOTLYENV=window.PLOTLYENV || {};                                    if (document.getElementById(\"25405a6f-ef4d-4e8b-8719-d2b8d6ee46d9\")) {                    Plotly.newPlot(                        \"25405a6f-ef4d-4e8b-8719-d2b8d6ee46d9\",                        [{\"branchvalues\": \"total\", \"customdata\": [[\"AFG\", 757000.311922999], [\"ALB\", 773103.8652368383], [\"DZA\", 761165.4903319381], [\"AND\", 758496.2293757062], [\"AGO\", 743733.0619750057], [\"None\", 756969.7791631826], [\"ARM\", 755924.2134626785], [\"AUS\", 770028.4488157476], [\"AUT\", 753613.59530544], [\"AZE\", 752146.7420258827], [\"BHR\", 760024.8911405756], [\"BGD\", 760992.4572320445], [\"BRB\", 754095.8977927751], [\"BLR\", 739753.686271014], [\"BEL\", 767882.9693192344], [\"BLZ\", 750539.9554072516], [\"BEN\", 761185.8267808299], [\"BTN\", 769049.750911835], [\"BIH\", 754457.0803779365], [\"BWA\", 761370.3295595698], [\"None\", 762646.122631263], [\"BGR\", 752084.0135910246], [\"BFA\", 759980.557506108], [\"BDI\", 773872.7850114831], [\"KHM\", 753565.7395129339], [\"CMR\", 751063.443320566], [\"CAN\", 752077.7668147263], [\"None\", 757169.9490968336], [\"CAF\", 758980.9440917945], [\"TCD\", 763329.8332632642], [\"CHN\", 760613.4585252876], [\"COM\", 762980.6707723456], [\"CRI\", 753531.1712011236], [\"None\", 757786.9984091612], [\"HRV\", 767393.3792047409], [\"CUB\", 763447.6091705287], [\"CYP\", 765935.269519753], [\"None\", 755372.0971626738], [\"None\", 744203.0569291664], [\"DNK\", 760915.9609016891], [\"DJI\", 765259.2501544647], [\"DMA\", 758208.1983617141], [\"DOM\", 763696.9066384282], [\"None\", 764215.7794453156], [\"EGY\", 756377.728588544], [\"SLV\", 761101.6480232553], [\"GNQ\", 768425.6720071208], [\"ERI\", 752206.8372069763], [\"EST\", 764228.8623133668], [\"ETH\", 757194.4170575778], [\"None\", 770824.9596849945], [\"FJI\", 767413.2312408967], [\"FIN\", 762129.0407904005], [\"FRA\", 772971.0462053851], [\"GAB\", 768730.3245369892], [\"GEO\", 759842.6150895379], [\"DEU\", 754330.178182499], [\"GHA\", 765038.205323564], [\"GRC\", 760278.0608292518], [\"GRL\", 761775.0989634256], [\"GRD\", 757526.8569434376], [\"GTM\", 753269.9027663537], [\"GIN\", 766694.7596259997], [\"GNB\", 758686.8008605553], [\"HTI\", 765837.2889434118], [\"HND\", 780049.9317675203], [\"HUN\", 757716.3922719788], [\"ISL\", 761533.927193489], [\"IND\", 766948.4694348789], [\"IDN\", 764204.8654316979], [\"None\", 752153.9794244556], [\"IRQ\", 769271.5224578799], [\"IRL\", 762233.3187647866], [\"ISR\", 740861.659665681], [\"ITA\", 769174.6843041248], [\"JAM\", 768406.2130936045], [\"JPN\", 746802.1080080653], [\"JOR\", 776343.3292795498], [\"KAZ\", 751399.6120199728], [\"KEN\", 765309.6406128623], [\"KIR\", 763325.1573335369], [\"None\", 756784.1086316089], [\"KWT\", 766695.8447328189], [\"KGZ\", 763927.2652641711], [\"None\", 758741.8902167595], [\"LVA\", 756535.7776362894], [\"LBN\", 754133.3014017196], [\"LSO\", 767717.3560449623], [\"LBR\", 757139.7727733528], [\"LBY\", 756086.903021763], [\"LIE\", 760927.8171131052], [\"LTU\", 756586.8289352572], [\"LUX\", 753988.5394472603], [\"None\", 772202.080430747], [\"MDG\", 750354.0306426001], [\"MWI\", 771668.250018903], [\"MYS\", 757801.5881405193], [\"MDV\", 758647.2341453114], [\"MLI\", 754872.3221700584], [\"MLT\", 770781.1784454266], [\"MHL\", 765174.2064698224], [\"MRT\", 766115.198535184], [\"None\", 777726.8866124443], [\"MEX\", 779879.2514294628], [\"None\", 769706.7746527665], [\"MCO\", 758857.7705185415], [\"MNG\", 755467.7255883864], [\"MNE\", 752764.855472953], [\"MAR\", 758515.2174697116], [\"MOZ\", 753629.0118313907], [\"MMR\", 747902.5701515262], [\"NAM\", 754496.1191567644], [\"NRU\", 756363.3253172175], [\"NPL\", 749979.0244430781], [\"NLD\", 760650.8743548981], [\"NZL\", 764973.9322354448], [\"NIC\", 758544.5471360227], [\"NER\", 762416.3765687151], [\"NGA\", 759655.4183831598], [\"None\", 759956.3917656036], [\"NOR\", 758065.9593919859], [\"OMN\", 758614.3046109716], [\"PAK\", 766151.2780175358], [\"PLW\", 762339.4736536323], [\"PAN\", 752761.2412424721], [\"PNG\", 744846.9619645976], [\"PHL\", 749487.578015683], [\"POL\", 762012.0957312756], [\"PRT\", 753532.683727502], [\"QAT\", 767052.2645385335], [\"None\", 761259.4149406849], [\"ROU\", 753600.1783108144], [\"None\", 752139.0903727959], [\"RWA\", 768389.9782061669], [\"None\", 770166.4023551435], [\"LCA\", 772953.8664650685], [\"VCT\", 769293.4457115086], [\"None\", 759989.8979541858], [\"SMR\", 765961.407089665], [\"STP\", 757923.2420175647], [\"SAU\", 748605.375831172], [\"SEN\", 762122.0765696237], [\"SRB\", 764201.7077666343], [\"None\", 745148.2180848733], [\"SLE\", 756947.6962459681], [\"SGP\", 767319.2502215097], [\"SVK\", 754855.4298203882], [\"SVN\", 764655.789234292], [\"SLB\", 774813.2578115321], [\"SOM\", 765892.0054751689], [\"ZAF\", 763049.4476531388], [\"None\", 783185.526296161], [\"SSD\", 751089.5304546009], [\"ESP\", 761589.3610397219], [\"LKA\", 757712.9900562189], [\"SDN\", 752954.3368457905], [\"None\", 744344.7044751482], [\"SWE\", 779322.5622312637], [\"CHE\", 747559.2383688987], [\"None\", 757231.3126404994], [\"None\", 763965.0467909912], [\"TJK\", 747346.7122230325], [\"None\", 763658.4210648881], [\"THA\", 757487.5774077927], [\"None\", 763934.5049864511], [\"None\", 767614.5952110848], [\"TGO\", 772594.0921191291], [\"TON\", 756231.3496721033], [\"TTO\", 768774.9152828588], [\"None\", 760727.4431899576], [\"TUR\", 765333.4491709643], [\"TKM\", 758258.8491397958], [\"TUV\", 768953.8383595243], [\"UGA\", 771559.3437812054], [\"UKR\", 766734.3793646492], [\"ARE\", 783051.5665620608], [\"GBR\", 759402.824235986], [\"None\", 755856.312949432], [\"UZB\", 757213.6330005119], [\"VUT\", 752285.0281466121], [\"None\", 767058.0779813915], [\"None\", 755017.8646800378], [\"YEM\", 764664.3542015135], [\"ZMB\", 770289.3475390982], [\"ZWE\", 769950.1359604594], [\"(?)\", 758826.3232855381], [\"(?)\", 762854.8531191752], [\"(?)\", 762224.0650821795], [\"(?)\", 760716.2879201496], [\"(?)\", 760863.3949672581], [\"(?)\", 762494.752644547], [\"(?)\", 760864.5345885583], [\"(?)\", 760872.0640859496]], \"domain\": {\"x\": [0.0, 1.0], \"y\": [0.0, 1.0]}, \"hovertemplate\": \"labels=%{label}<br>Total_Revenue=%{value}<br>parent=%{parent}<br>id=%{id}<br>Country_abb=%{customdata[0]}<br>Total_Profit=%{color}<extra></extra>\", \"ids\": [\"World/Middle East and North Africa/Afghanistan\", \"World/Europe/Albania\", \"World/Middle East and North Africa/Algeria\", \"World/Europe/Andorra\", \"World/Sub-Saharan Africa/Angola\", \"World/Central America and the Caribbean/Antigua and Barbuda \", \"World/Europe/Armenia\", \"World/Australia and Oceania/Australia\", \"World/Europe/Austria\", \"World/Middle East and North Africa/Azerbaijan\", \"World/Middle East and North Africa/Bahrain\", \"World/Asia/Bangladesh\", \"World/Central America and the Caribbean/Barbados\", \"World/Europe/Belarus\", \"World/Europe/Belgium\", \"World/Central America and the Caribbean/Belize\", \"World/Sub-Saharan Africa/Benin\", \"World/Asia/Bhutan\", \"World/Europe/Bosnia and Herzegovina\", \"World/Sub-Saharan Africa/Botswana\", \"World/Asia/Brunei\", \"World/Europe/Bulgaria\", \"World/Sub-Saharan Africa/Burkina Faso\", \"World/Sub-Saharan Africa/Burundi\", \"World/Asia/Cambodia\", \"World/Sub-Saharan Africa/Cameroon\", \"World/North America/Canada\", \"World/Sub-Saharan Africa/Cape Verde\", \"World/Sub-Saharan Africa/Central African Republic\", \"World/Sub-Saharan Africa/Chad\", \"World/Asia/China\", \"World/Sub-Saharan Africa/Comoros\", \"World/Central America and the Caribbean/Costa Rica\", \"World/Sub-Saharan Africa/Cote d'Ivoire\", \"World/Europe/Croatia\", \"World/Central America and the Caribbean/Cuba\", \"World/Europe/Cyprus\", \"World/Europe/Czech Republic\", \"World/Sub-Saharan Africa/Democratic Republic of the Congo\", \"World/Europe/Denmark\", \"World/Sub-Saharan Africa/Djibouti\", \"World/Central America and the Caribbean/Dominica\", \"World/Central America and the Caribbean/Dominican Republic\", \"World/Australia and Oceania/East Timor\", \"World/Middle East and North Africa/Egypt\", \"World/Central America and the Caribbean/El Salvador\", \"World/Sub-Saharan Africa/Equatorial Guinea\", \"World/Sub-Saharan Africa/Eritrea\", \"World/Europe/Estonia\", \"World/Sub-Saharan Africa/Ethiopia\", \"World/Australia and Oceania/Federated States of Micronesia\", \"World/Australia and Oceania/Fiji\", \"World/Europe/Finland\", \"World/Europe/France\", \"World/Sub-Saharan Africa/Gabon\", \"World/Europe/Georgia\", \"World/Europe/Germany\", \"World/Sub-Saharan Africa/Ghana\", \"World/Europe/Greece\", \"World/North America/Greenland\", \"World/Central America and the Caribbean/Grenada\", \"World/Central America and the Caribbean/Guatemala\", \"World/Sub-Saharan Africa/Guinea\", \"World/Sub-Saharan Africa/Guinea-Bissau\", \"World/Central America and the Caribbean/Haiti\", \"World/Central America and the Caribbean/Honduras\", \"World/Europe/Hungary\", \"World/Europe/Iceland\", \"World/Asia/India\", \"World/Asia/Indonesia\", \"World/Middle East and North Africa/Iran\", \"World/Middle East and North Africa/Iraq\", \"World/Europe/Ireland\", \"World/Middle East and North Africa/Israel\", \"World/Europe/Italy\", \"World/Central America and the Caribbean/Jamaica\", \"World/Asia/Japan\", \"World/Middle East and North Africa/Jordan\", \"World/Asia/Kazakhstan\", \"World/Sub-Saharan Africa/Kenya\", \"World/Australia and Oceania/Kiribati\", \"World/Europe/Kosovo\", \"World/Middle East and North Africa/Kuwait\", \"World/Asia/Kyrgyzstan\", \"World/Asia/Laos\", \"World/Europe/Latvia\", \"World/Middle East and North Africa/Lebanon\", \"World/Sub-Saharan Africa/Lesotho\", \"World/Sub-Saharan Africa/Liberia\", \"World/Middle East and North Africa/Libya\", \"World/Europe/Liechtenstein\", \"World/Europe/Lithuania\", \"World/Europe/Luxembourg\", \"World/Europe/Macedonia\", \"World/Sub-Saharan Africa/Madagascar\", \"World/Sub-Saharan Africa/Malawi\", \"World/Asia/Malaysia\", \"World/Asia/Maldives\", \"World/Sub-Saharan Africa/Mali\", \"World/Europe/Malta\", \"World/Australia and Oceania/Marshall Islands\", \"World/Sub-Saharan Africa/Mauritania\", \"World/Sub-Saharan Africa/Mauritius \", \"World/North America/Mexico\", \"World/Europe/Moldova \", \"World/Europe/Monaco\", \"World/Asia/Mongolia\", \"World/Europe/Montenegro\", \"World/Middle East and North Africa/Morocco\", \"World/Sub-Saharan Africa/Mozambique\", \"World/Asia/Myanmar\", \"World/Sub-Saharan Africa/Namibia\", \"World/Australia and Oceania/Nauru\", \"World/Asia/Nepal\", \"World/Europe/Netherlands\", \"World/Australia and Oceania/New Zealand\", \"World/Central America and the Caribbean/Nicaragua\", \"World/Sub-Saharan Africa/Niger\", \"World/Sub-Saharan Africa/Nigeria\", \"World/Asia/North Korea\", \"World/Europe/Norway\", \"World/Middle East and North Africa/Oman\", \"World/Middle East and North Africa/Pakistan\", \"World/Australia and Oceania/Palau\", \"World/Central America and the Caribbean/Panama\", \"World/Australia and Oceania/Papua New Guinea\", \"World/Asia/Philippines\", \"World/Europe/Poland\", \"World/Europe/Portugal\", \"World/Middle East and North Africa/Qatar\", \"World/Sub-Saharan Africa/Republic of the Congo\", \"World/Europe/Romania\", \"World/Europe/Russia\", \"World/Sub-Saharan Africa/Rwanda\", \"World/Central America and the Caribbean/Saint Kitts and Nevis \", \"World/Central America and the Caribbean/Saint Lucia\", \"World/Central America and the Caribbean/Saint Vincent and the Grenadines\", \"World/Australia and Oceania/Samoa \", \"World/Europe/San Marino\", \"World/Sub-Saharan Africa/Sao Tome and Principe\", \"World/Middle East and North Africa/Saudi Arabia\", \"World/Sub-Saharan Africa/Senegal\", \"World/Europe/Serbia\", \"World/Sub-Saharan Africa/Seychelles \", \"World/Sub-Saharan Africa/Sierra Leone\", \"World/Asia/Singapore\", \"World/Europe/Slovakia\", \"World/Europe/Slovenia\", \"World/Australia and Oceania/Solomon Islands\", \"World/Middle East and North Africa/Somalia\", \"World/Sub-Saharan Africa/South Africa\", \"World/Asia/South Korea\", \"World/Sub-Saharan Africa/South Sudan\", \"World/Europe/Spain\", \"World/Asia/Sri Lanka\", \"World/Sub-Saharan Africa/Sudan\", \"World/Sub-Saharan Africa/Swaziland\", \"World/Europe/Sweden\", \"World/Europe/Switzerland\", \"World/Middle East and North Africa/Syria\", \"World/Asia/Taiwan\", \"World/Asia/Tajikistan\", \"World/Sub-Saharan Africa/Tanzania\", \"World/Asia/Thailand\", \"World/Central America and the Caribbean/The Bahamas\", \"World/Sub-Saharan Africa/The Gambia\", \"World/Sub-Saharan Africa/Togo\", \"World/Australia and Oceania/Tonga\", \"World/Central America and the Caribbean/Trinidad and Tobago\", \"World/Middle East and North Africa/Tunisia \", \"World/Middle East and North Africa/Turkey\", \"World/Asia/Turkmenistan\", \"World/Australia and Oceania/Tuvalu\", \"World/Sub-Saharan Africa/Uganda\", \"World/Europe/Ukraine\", \"World/Middle East and North Africa/United Arab Emirates\", \"World/Europe/United Kingdom\", \"World/North America/United States of America\", \"World/Asia/Uzbekistan\", \"World/Australia and Oceania/Vanuatu\", \"World/Europe/Vatican City\", \"World/Asia/Vietnam\", \"World/Middle East and North Africa/Yemen\", \"World/Sub-Saharan Africa/Zambia\", \"World/Sub-Saharan Africa/Zimbabwe\", \"World/Asia\", \"World/Australia and Oceania\", \"World/Central America and the Caribbean\", \"World/Europe\", \"World/Middle East and North Africa\", \"World/North America\", \"World/Sub-Saharan Africa\", \"World\"], \"labels\": [\"Afghanistan\", \"Albania\", \"Algeria\", \"Andorra\", \"Angola\", \"Antigua and Barbuda \", \"Armenia\", \"Australia\", \"Austria\", \"Azerbaijan\", \"Bahrain\", \"Bangladesh\", \"Barbados\", \"Belarus\", \"Belgium\", \"Belize\", \"Benin\", \"Bhutan\", \"Bosnia and Herzegovina\", \"Botswana\", \"Brunei\", \"Bulgaria\", \"Burkina Faso\", \"Burundi\", \"Cambodia\", \"Cameroon\", \"Canada\", \"Cape Verde\", \"Central African Republic\", \"Chad\", \"China\", \"Comoros\", \"Costa Rica\", \"Cote d'Ivoire\", \"Croatia\", \"Cuba\", \"Cyprus\", \"Czech Republic\", \"Democratic Republic of the Congo\", \"Denmark\", \"Djibouti\", \"Dominica\", \"Dominican Republic\", \"East Timor\", \"Egypt\", \"El Salvador\", \"Equatorial Guinea\", \"Eritrea\", \"Estonia\", \"Ethiopia\", \"Federated States of Micronesia\", \"Fiji\", \"Finland\", \"France\", \"Gabon\", \"Georgia\", \"Germany\", \"Ghana\", \"Greece\", \"Greenland\", \"Grenada\", \"Guatemala\", \"Guinea\", \"Guinea-Bissau\", \"Haiti\", \"Honduras\", \"Hungary\", \"Iceland\", \"India\", \"Indonesia\", \"Iran\", \"Iraq\", \"Ireland\", \"Israel\", \"Italy\", \"Jamaica\", \"Japan\", \"Jordan\", \"Kazakhstan\", \"Kenya\", \"Kiribati\", \"Kosovo\", \"Kuwait\", \"Kyrgyzstan\", \"Laos\", \"Latvia\", \"Lebanon\", \"Lesotho\", \"Liberia\", \"Libya\", \"Liechtenstein\", \"Lithuania\", \"Luxembourg\", \"Macedonia\", \"Madagascar\", \"Malawi\", \"Malaysia\", \"Maldives\", \"Mali\", \"Malta\", \"Marshall Islands\", \"Mauritania\", \"Mauritius \", \"Mexico\", \"Moldova \", \"Monaco\", \"Mongolia\", \"Montenegro\", \"Morocco\", \"Mozambique\", \"Myanmar\", \"Namibia\", \"Nauru\", \"Nepal\", \"Netherlands\", \"New Zealand\", \"Nicaragua\", \"Niger\", \"Nigeria\", \"North Korea\", \"Norway\", \"Oman\", \"Pakistan\", \"Palau\", \"Panama\", \"Papua New Guinea\", \"Philippines\", \"Poland\", \"Portugal\", \"Qatar\", \"Republic of the Congo\", \"Romania\", \"Russia\", \"Rwanda\", \"Saint Kitts and Nevis \", \"Saint Lucia\", \"Saint Vincent and the Grenadines\", \"Samoa \", \"San Marino\", \"Sao Tome and Principe\", \"Saudi Arabia\", \"Senegal\", \"Serbia\", \"Seychelles \", \"Sierra Leone\", \"Singapore\", \"Slovakia\", \"Slovenia\", \"Solomon Islands\", \"Somalia\", \"South Africa\", \"South Korea\", \"South Sudan\", \"Spain\", \"Sri Lanka\", \"Sudan\", \"Swaziland\", \"Sweden\", \"Switzerland\", \"Syria\", \"Taiwan\", \"Tajikistan\", \"Tanzania\", \"Thailand\", \"The Bahamas\", \"The Gambia\", \"Togo\", \"Tonga\", \"Trinidad and Tobago\", \"Tunisia \", \"Turkey\", \"Turkmenistan\", \"Tuvalu\", \"Uganda\", \"Ukraine\", \"United Arab Emirates\", \"United Kingdom\", \"United States of America\", \"Uzbekistan\", \"Vanuatu\", \"Vatican City\", \"Vietnam\", \"Yemen\", \"Zambia\", \"Zimbabwe\", \"Asia\", \"Australia and Oceania\", \"Central America and the Caribbean\", \"Europe\", \"Middle East and North Africa\", \"North America\", \"Sub-Saharan Africa\", \"World\"], \"marker\": {\"coloraxis\": \"coloraxis\", \"colors\": [757000.311922999, 773103.8652368383, 761165.4903319381, 758496.2293757062, 743733.0619750057, 756969.7791631826, 755924.2134626785, 770028.4488157476, 753613.59530544, 752146.7420258827, 760024.8911405756, 760992.4572320445, 754095.8977927751, 739753.686271014, 767882.9693192344, 750539.9554072516, 761185.8267808299, 769049.750911835, 754457.0803779365, 761370.3295595698, 762646.122631263, 752084.0135910246, 759980.557506108, 773872.7850114831, 753565.7395129339, 751063.443320566, 752077.7668147263, 757169.9490968336, 758980.9440917945, 763329.8332632642, 760613.4585252876, 762980.6707723456, 753531.1712011236, 757786.9984091612, 767393.3792047409, 763447.6091705287, 765935.269519753, 755372.0971626738, 744203.0569291664, 760915.9609016891, 765259.2501544647, 758208.1983617141, 763696.9066384282, 764215.7794453156, 756377.728588544, 761101.6480232553, 768425.6720071208, 752206.8372069763, 764228.8623133668, 757194.4170575778, 770824.9596849945, 767413.2312408967, 762129.0407904005, 772971.0462053851, 768730.3245369892, 759842.6150895379, 754330.178182499, 765038.205323564, 760278.0608292518, 761775.0989634256, 757526.8569434376, 753269.9027663537, 766694.7596259997, 758686.8008605553, 765837.2889434118, 780049.9317675203, 757716.3922719788, 761533.927193489, 766948.4694348789, 764204.8654316979, 752153.9794244556, 769271.5224578799, 762233.3187647866, 740861.659665681, 769174.6843041248, 768406.2130936045, 746802.1080080653, 776343.3292795498, 751399.6120199728, 765309.6406128623, 763325.1573335369, 756784.1086316089, 766695.8447328189, 763927.2652641711, 758741.8902167595, 756535.7776362894, 754133.3014017196, 767717.3560449623, 757139.7727733528, 756086.903021763, 760927.8171131052, 756586.8289352572, 753988.5394472603, 772202.080430747, 750354.0306426001, 771668.250018903, 757801.5881405193, 758647.2341453114, 754872.3221700584, 770781.1784454266, 765174.2064698224, 766115.198535184, 777726.8866124443, 779879.2514294628, 769706.7746527665, 758857.7705185415, 755467.7255883864, 752764.855472953, 758515.2174697116, 753629.0118313907, 747902.5701515262, 754496.1191567644, 756363.3253172175, 749979.0244430781, 760650.8743548981, 764973.9322354448, 758544.5471360227, 762416.3765687151, 759655.4183831598, 759956.3917656036, 758065.9593919859, 758614.3046109716, 766151.2780175358, 762339.4736536323, 752761.2412424721, 744846.9619645976, 749487.578015683, 762012.0957312756, 753532.683727502, 767052.2645385335, 761259.4149406849, 753600.1783108144, 752139.0903727959, 768389.9782061669, 770166.4023551435, 772953.8664650685, 769293.4457115086, 759989.8979541858, 765961.407089665, 757923.2420175647, 748605.375831172, 762122.0765696237, 764201.7077666343, 745148.2180848733, 756947.6962459681, 767319.2502215097, 754855.4298203882, 764655.789234292, 774813.2578115321, 765892.0054751689, 763049.4476531388, 783185.526296161, 751089.5304546009, 761589.3610397219, 757712.9900562189, 752954.3368457905, 744344.7044751482, 779322.5622312637, 747559.2383688987, 757231.3126404994, 763965.0467909912, 747346.7122230325, 763658.4210648881, 757487.5774077927, 763934.5049864511, 767614.5952110848, 772594.0921191291, 756231.3496721033, 768774.9152828588, 760727.4431899576, 765333.4491709643, 758258.8491397958, 768953.8383595243, 771559.3437812054, 766734.3793646492, 783051.5665620608, 759402.824235986, 755856.312949432, 757213.6330005119, 752285.0281466121, 767058.0779813915, 755017.8646800378, 764664.3542015135, 770289.3475390982, 769950.1359604594, 758826.3232855381, 762854.8531191752, 762224.0650821795, 760716.2879201496, 760863.3949672581, 762494.752644547, 760864.5345885583, 760872.0640859496]}, \"name\": \"\", \"parents\": [\"World/Middle East and North Africa\", \"World/Europe\", \"World/Middle East and North Africa\", \"World/Europe\", \"World/Sub-Saharan Africa\", \"World/Central America and the Caribbean\", \"World/Europe\", \"World/Australia and Oceania\", \"World/Europe\", \"World/Middle East and North Africa\", \"World/Middle East and North Africa\", \"World/Asia\", \"World/Central America and the Caribbean\", \"World/Europe\", \"World/Europe\", \"World/Central America and the Caribbean\", \"World/Sub-Saharan Africa\", \"World/Asia\", \"World/Europe\", \"World/Sub-Saharan Africa\", \"World/Asia\", \"World/Europe\", \"World/Sub-Saharan Africa\", \"World/Sub-Saharan Africa\", \"World/Asia\", \"World/Sub-Saharan Africa\", \"World/North America\", \"World/Sub-Saharan Africa\", \"World/Sub-Saharan Africa\", \"World/Sub-Saharan Africa\", \"World/Asia\", \"World/Sub-Saharan Africa\", \"World/Central America and the Caribbean\", \"World/Sub-Saharan Africa\", \"World/Europe\", \"World/Central America and the Caribbean\", \"World/Europe\", \"World/Europe\", \"World/Sub-Saharan Africa\", \"World/Europe\", \"World/Sub-Saharan Africa\", \"World/Central America and the Caribbean\", \"World/Central America and the Caribbean\", \"World/Australia and Oceania\", \"World/Middle East and North Africa\", \"World/Central America and the Caribbean\", \"World/Sub-Saharan Africa\", \"World/Sub-Saharan Africa\", \"World/Europe\", \"World/Sub-Saharan Africa\", \"World/Australia and Oceania\", \"World/Australia and Oceania\", \"World/Europe\", \"World/Europe\", \"World/Sub-Saharan Africa\", \"World/Europe\", \"World/Europe\", \"World/Sub-Saharan Africa\", \"World/Europe\", \"World/North America\", \"World/Central America and the Caribbean\", \"World/Central America and the Caribbean\", \"World/Sub-Saharan Africa\", \"World/Sub-Saharan Africa\", \"World/Central America and the Caribbean\", \"World/Central America and the Caribbean\", \"World/Europe\", \"World/Europe\", \"World/Asia\", \"World/Asia\", \"World/Middle East and North Africa\", \"World/Middle East and North Africa\", \"World/Europe\", \"World/Middle East and North Africa\", \"World/Europe\", \"World/Central America and the Caribbean\", \"World/Asia\", \"World/Middle East and North Africa\", \"World/Asia\", \"World/Sub-Saharan Africa\", \"World/Australia and Oceania\", \"World/Europe\", \"World/Middle East and North Africa\", \"World/Asia\", \"World/Asia\", \"World/Europe\", \"World/Middle East and North Africa\", \"World/Sub-Saharan Africa\", \"World/Sub-Saharan Africa\", \"World/Middle East and North Africa\", \"World/Europe\", \"World/Europe\", \"World/Europe\", \"World/Europe\", \"World/Sub-Saharan Africa\", \"World/Sub-Saharan Africa\", \"World/Asia\", \"World/Asia\", \"World/Sub-Saharan Africa\", \"World/Europe\", \"World/Australia and Oceania\", \"World/Sub-Saharan Africa\", \"World/Sub-Saharan Africa\", \"World/North America\", \"World/Europe\", \"World/Europe\", \"World/Asia\", \"World/Europe\", \"World/Middle East and North Africa\", \"World/Sub-Saharan Africa\", \"World/Asia\", \"World/Sub-Saharan Africa\", \"World/Australia and Oceania\", \"World/Asia\", \"World/Europe\", \"World/Australia and Oceania\", \"World/Central America and the Caribbean\", \"World/Sub-Saharan Africa\", \"World/Sub-Saharan Africa\", \"World/Asia\", \"World/Europe\", \"World/Middle East and North Africa\", \"World/Middle East and North Africa\", \"World/Australia and Oceania\", \"World/Central America and the Caribbean\", \"World/Australia and Oceania\", \"World/Asia\", \"World/Europe\", \"World/Europe\", \"World/Middle East and North Africa\", \"World/Sub-Saharan Africa\", \"World/Europe\", \"World/Europe\", \"World/Sub-Saharan Africa\", \"World/Central America and the Caribbean\", \"World/Central America and the Caribbean\", \"World/Central America and the Caribbean\", \"World/Australia and Oceania\", \"World/Europe\", \"World/Sub-Saharan Africa\", \"World/Middle East and North Africa\", \"World/Sub-Saharan Africa\", \"World/Europe\", \"World/Sub-Saharan Africa\", \"World/Sub-Saharan Africa\", \"World/Asia\", \"World/Europe\", \"World/Europe\", \"World/Australia and Oceania\", \"World/Middle East and North Africa\", \"World/Sub-Saharan Africa\", \"World/Asia\", \"World/Sub-Saharan Africa\", \"World/Europe\", \"World/Asia\", \"World/Sub-Saharan Africa\", \"World/Sub-Saharan Africa\", \"World/Europe\", \"World/Europe\", \"World/Middle East and North Africa\", \"World/Asia\", \"World/Asia\", \"World/Sub-Saharan Africa\", \"World/Asia\", \"World/Central America and the Caribbean\", \"World/Sub-Saharan Africa\", \"World/Sub-Saharan Africa\", \"World/Australia and Oceania\", \"World/Central America and the Caribbean\", \"World/Middle East and North Africa\", \"World/Middle East and North Africa\", \"World/Asia\", \"World/Australia and Oceania\", \"World/Sub-Saharan Africa\", \"World/Europe\", \"World/Middle East and North Africa\", \"World/Europe\", \"World/North America\", \"World/Asia\", \"World/Australia and Oceania\", \"World/Europe\", \"World/Asia\", \"World/Middle East and North Africa\", \"World/Sub-Saharan Africa\", \"World/Sub-Saharan Africa\", \"World\", \"World\", \"World\", \"World\", \"World\", \"World\", \"World\", \"\"], \"type\": \"treemap\", \"values\": [5786718853.860013, 5854976031.730008, 5775746903.400015, 5541267054.299991, 5554712624.990009, 5719490584.330015, 5711724775.249995, 5811094170.07001, 5710924895.209996, 5615975702.429992, 5986348092.689992, 5758478509.039991, 5598585618.8099985, 5475367331.979992, 5766139172.619982, 5660391181.699993, 5710565751.839987, 5989769240.349993, 5710888982.959992, 5820252785.40001, 5789774080.939987, 5788715230.939998, 5708526278.609978, 5868218019.370003, 5644239499.339989, 5696997381.28999, 5691228038.129985, 5774534187.689999, 5724603064.449986, 6020795279.689992, 5890246376.060006, 5661689153.290011, 5633991144.770001, 5702947189.230001, 5813544658.889987, 5715421764.969999, 5880043846.879983, 5765784679.089999, 5703108872.400002, 5721930820.430013, 5693069688.230004, 5664097174.88, 5896878850.900003, 5812725811.300001, 5780433913.53, 5726442019.209989, 5695592367.450016, 5767546023.82002, 5746355197.229981, 5774839702.97, 6036496342.139984, 5569084437.1900015, 5923293934.029982, 5897708294.240002, 5798493464.800014, 5541087898.939993, 5597425379.610008, 5772210133.570001, 5759507923.279991, 5789122596.089987, 5752575737.840014, 5647488404.310006, 5719816406.719995, 5706201674.169999, 5909160740.350009, 5793242233.959993, 5678024454.750009, 5494283704.320004, 5799055816.799997, 5819701224.509997, 5624557668.050008, 5793360520.330005, 5792097070.689994, 5654147321.27001, 5894294173.410001, 5562618844.800015, 5614621352.260001, 5880776740.52, 5542903201.480013, 5694780083.200002, 5786739719.960009, 5730159829.400007, 5701688136.479999, 5776165381.5500145, 5654768888.550008, 5755472287.960003, 5619791667.159989, 5653386586.35, 5845466103.069996, 5826770038.07001, 5695202476.170002, 5774749580.020021, 5594522021.100029, 5846123639.359982, 5508904286.209991, 5852177149.049997, 5694080084.199999, 5977316322.699987, 5809341652.400008, 5779175891.720001, 5862831198.529998, 5837756646.559998, 5852012298.439996, 5856879625.139993, 5862274881.060006, 5554232286.170002, 5680713846.469998, 5645577374.200005, 5695896064.899992, 5714458931.959967, 5775856746.370008, 5674321451.079984, 5680645310.0300045, 5694624958.450005, 5773775161.189992, 5869688218.23, 5678568178.95, 5774975177.610014, 5784765883.990002, 5640575486.080014, 5788261615.070001, 5648854477.349991, 5844266278.420002, 5751690442.880001, 5786817817.7900095, 5633502623.479995, 5649921873.310013, 5664051658.06001, 5820303816.409979, 5870902497.140011, 5747831238.949992, 5752035546.280003, 5599893725.110004, 5838554941.360017, 5910020959.910011, 5874069515.58, 5755600103.34001, 5733925311.12999, 5938770944.060006, 5775335331.099997, 5763750717.990008, 5819612655.180002, 5811755441.010007, 5628771672.719993, 5701775385.479991, 6038959980.759985, 5702830288.949991, 5690705444.8600025, 5693728541.939995, 5791685494.189993, 5788863256.749971, 5849845390.820004, 5643853623.219981, 5812540255.559989, 5835115938.219999, 5770860935.210002, 5664161737.51001, 5854773020.2699795, 5522048115.88999, 5769550334.509994, 5796110853.550013, 5664766679.670003, 5794463642.749991, 5818098593.339993, 5837783571.6200075, 5661007087.040021, 5840470222.81, 5706310293.529985, 5764011676.209993, 5716159711.110006, 5658613546.060002, 5778185315.150011, 5735534090.760006, 5993311473.48998, 5806003925.889984, 5839203160.120019, 5683438662.6600065, 5779567680.739999, 5519268377.279988, 5620741451.360004, 5867457095.150018, 5671126259.620011, 5916976522.79002, 5808865019.880005, 5817186219.700018, 155364290276.8709, 86304737962.53003, 114887256124.23015, 275391520494.3556, 132562174362.36958, 23116797940.100086, 276171990743.0508, 1063798767903.5319]}],                        {\"coloraxis\": {\"colorbar\": {\"title\": {\"text\": \"Total_Profit\"}}, \"colorscale\": [[0.0, \"#0d0887\"], [0.1111111111111111, \"#46039f\"], [0.2222222222222222, \"#7201a8\"], [0.3333333333333333, \"#9c179e\"], [0.4444444444444444, \"#bd3786\"], [0.5555555555555556, \"#d8576b\"], [0.6666666666666666, \"#ed7953\"], [0.7777777777777778, \"#fb9f3a\"], [0.8888888888888888, \"#fdca26\"], [1.0, \"#f0f921\"]]}, \"legend\": {\"tracegroupgap\": 0}, \"margin\": {\"t\": 60}, \"template\": {\"data\": {\"bar\": [{\"error_x\": {\"color\": \"#2a3f5f\"}, \"error_y\": {\"color\": \"#2a3f5f\"}, \"marker\": {\"line\": {\"color\": \"#E5ECF6\", \"width\": 0.5}}, \"type\": \"bar\"}], \"barpolar\": [{\"marker\": {\"line\": {\"color\": \"#E5ECF6\", \"width\": 0.5}}, \"type\": \"barpolar\"}], \"carpet\": [{\"aaxis\": {\"endlinecolor\": \"#2a3f5f\", \"gridcolor\": \"white\", \"linecolor\": \"white\", \"minorgridcolor\": \"white\", \"startlinecolor\": \"#2a3f5f\"}, \"baxis\": {\"endlinecolor\": \"#2a3f5f\", \"gridcolor\": \"white\", \"linecolor\": \"white\", \"minorgridcolor\": \"white\", \"startlinecolor\": \"#2a3f5f\"}, \"type\": \"carpet\"}], \"choropleth\": [{\"colorbar\": {\"outlinewidth\": 0, \"ticks\": \"\"}, \"type\": \"choropleth\"}], \"contour\": [{\"colorbar\": {\"outlinewidth\": 0, \"ticks\": \"\"}, \"colorscale\": [[0.0, \"#0d0887\"], [0.1111111111111111, \"#46039f\"], [0.2222222222222222, \"#7201a8\"], [0.3333333333333333, \"#9c179e\"], [0.4444444444444444, \"#bd3786\"], [0.5555555555555556, \"#d8576b\"], [0.6666666666666666, \"#ed7953\"], [0.7777777777777778, \"#fb9f3a\"], [0.8888888888888888, \"#fdca26\"], [1.0, \"#f0f921\"]], \"type\": \"contour\"}], \"contourcarpet\": [{\"colorbar\": {\"outlinewidth\": 0, \"ticks\": \"\"}, \"type\": \"contourcarpet\"}], \"heatmap\": [{\"colorbar\": {\"outlinewidth\": 0, \"ticks\": \"\"}, \"colorscale\": [[0.0, \"#0d0887\"], [0.1111111111111111, \"#46039f\"], [0.2222222222222222, \"#7201a8\"], [0.3333333333333333, \"#9c179e\"], [0.4444444444444444, \"#bd3786\"], [0.5555555555555556, \"#d8576b\"], [0.6666666666666666, \"#ed7953\"], [0.7777777777777778, \"#fb9f3a\"], [0.8888888888888888, \"#fdca26\"], [1.0, \"#f0f921\"]], \"type\": \"heatmap\"}], \"heatmapgl\": [{\"colorbar\": {\"outlinewidth\": 0, \"ticks\": \"\"}, \"colorscale\": [[0.0, \"#0d0887\"], [0.1111111111111111, \"#46039f\"], [0.2222222222222222, \"#7201a8\"], [0.3333333333333333, \"#9c179e\"], [0.4444444444444444, \"#bd3786\"], [0.5555555555555556, \"#d8576b\"], [0.6666666666666666, \"#ed7953\"], [0.7777777777777778, \"#fb9f3a\"], [0.8888888888888888, \"#fdca26\"], [1.0, \"#f0f921\"]], \"type\": \"heatmapgl\"}], \"histogram\": [{\"marker\": {\"colorbar\": {\"outlinewidth\": 0, \"ticks\": \"\"}}, \"type\": \"histogram\"}], \"histogram2d\": [{\"colorbar\": {\"outlinewidth\": 0, \"ticks\": \"\"}, \"colorscale\": [[0.0, \"#0d0887\"], [0.1111111111111111, \"#46039f\"], [0.2222222222222222, \"#7201a8\"], [0.3333333333333333, \"#9c179e\"], [0.4444444444444444, \"#bd3786\"], [0.5555555555555556, \"#d8576b\"], [0.6666666666666666, \"#ed7953\"], [0.7777777777777778, \"#fb9f3a\"], [0.8888888888888888, \"#fdca26\"], [1.0, \"#f0f921\"]], \"type\": \"histogram2d\"}], \"histogram2dcontour\": [{\"colorbar\": {\"outlinewidth\": 0, \"ticks\": \"\"}, \"colorscale\": [[0.0, \"#0d0887\"], [0.1111111111111111, \"#46039f\"], [0.2222222222222222, \"#7201a8\"], [0.3333333333333333, \"#9c179e\"], [0.4444444444444444, \"#bd3786\"], [0.5555555555555556, \"#d8576b\"], [0.6666666666666666, \"#ed7953\"], [0.7777777777777778, \"#fb9f3a\"], [0.8888888888888888, \"#fdca26\"], [1.0, \"#f0f921\"]], \"type\": \"histogram2dcontour\"}], \"mesh3d\": [{\"colorbar\": {\"outlinewidth\": 0, \"ticks\": \"\"}, \"type\": \"mesh3d\"}], \"parcoords\": [{\"line\": {\"colorbar\": {\"outlinewidth\": 0, \"ticks\": \"\"}}, \"type\": \"parcoords\"}], \"pie\": [{\"automargin\": true, \"type\": \"pie\"}], \"scatter\": [{\"marker\": {\"colorbar\": {\"outlinewidth\": 0, \"ticks\": \"\"}}, \"type\": \"scatter\"}], \"scatter3d\": [{\"line\": {\"colorbar\": {\"outlinewidth\": 0, \"ticks\": \"\"}}, \"marker\": {\"colorbar\": {\"outlinewidth\": 0, \"ticks\": \"\"}}, \"type\": \"scatter3d\"}], \"scattercarpet\": [{\"marker\": {\"colorbar\": {\"outlinewidth\": 0, \"ticks\": \"\"}}, \"type\": \"scattercarpet\"}], \"scattergeo\": [{\"marker\": {\"colorbar\": {\"outlinewidth\": 0, \"ticks\": \"\"}}, \"type\": \"scattergeo\"}], \"scattergl\": [{\"marker\": {\"colorbar\": {\"outlinewidth\": 0, \"ticks\": \"\"}}, \"type\": \"scattergl\"}], \"scattermapbox\": [{\"marker\": {\"colorbar\": {\"outlinewidth\": 0, \"ticks\": \"\"}}, \"type\": \"scattermapbox\"}], \"scatterpolar\": [{\"marker\": {\"colorbar\": {\"outlinewidth\": 0, \"ticks\": \"\"}}, \"type\": \"scatterpolar\"}], \"scatterpolargl\": [{\"marker\": {\"colorbar\": {\"outlinewidth\": 0, \"ticks\": \"\"}}, \"type\": \"scatterpolargl\"}], \"scatterternary\": [{\"marker\": {\"colorbar\": {\"outlinewidth\": 0, \"ticks\": \"\"}}, \"type\": \"scatterternary\"}], \"surface\": [{\"colorbar\": {\"outlinewidth\": 0, \"ticks\": \"\"}, \"colorscale\": [[0.0, \"#0d0887\"], [0.1111111111111111, \"#46039f\"], [0.2222222222222222, \"#7201a8\"], [0.3333333333333333, \"#9c179e\"], [0.4444444444444444, \"#bd3786\"], [0.5555555555555556, \"#d8576b\"], [0.6666666666666666, \"#ed7953\"], [0.7777777777777778, \"#fb9f3a\"], [0.8888888888888888, \"#fdca26\"], [1.0, \"#f0f921\"]], \"type\": \"surface\"}], \"table\": [{\"cells\": {\"fill\": {\"color\": \"#EBF0F8\"}, \"line\": {\"color\": \"white\"}}, \"header\": {\"fill\": {\"color\": \"#C8D4E3\"}, \"line\": {\"color\": \"white\"}}, \"type\": \"table\"}]}, \"layout\": {\"annotationdefaults\": {\"arrowcolor\": \"#2a3f5f\", \"arrowhead\": 0, \"arrowwidth\": 1}, \"autotypenumbers\": \"strict\", \"coloraxis\": {\"colorbar\": {\"outlinewidth\": 0, \"ticks\": \"\"}}, \"colorscale\": {\"diverging\": [[0, \"#8e0152\"], [0.1, \"#c51b7d\"], [0.2, \"#de77ae\"], [0.3, \"#f1b6da\"], [0.4, \"#fde0ef\"], [0.5, \"#f7f7f7\"], [0.6, \"#e6f5d0\"], [0.7, \"#b8e186\"], [0.8, \"#7fbc41\"], [0.9, \"#4d9221\"], [1, \"#276419\"]], \"sequential\": [[0.0, \"#0d0887\"], [0.1111111111111111, \"#46039f\"], [0.2222222222222222, \"#7201a8\"], [0.3333333333333333, \"#9c179e\"], [0.4444444444444444, \"#bd3786\"], [0.5555555555555556, \"#d8576b\"], [0.6666666666666666, \"#ed7953\"], [0.7777777777777778, \"#fb9f3a\"], [0.8888888888888888, \"#fdca26\"], [1.0, \"#f0f921\"]], \"sequentialminus\": [[0.0, \"#0d0887\"], [0.1111111111111111, \"#46039f\"], [0.2222222222222222, \"#7201a8\"], [0.3333333333333333, \"#9c179e\"], [0.4444444444444444, \"#bd3786\"], [0.5555555555555556, \"#d8576b\"], [0.6666666666666666, \"#ed7953\"], [0.7777777777777778, \"#fb9f3a\"], [0.8888888888888888, \"#fdca26\"], [1.0, \"#f0f921\"]]}, \"colorway\": [\"#636efa\", \"#EF553B\", \"#00cc96\", \"#ab63fa\", \"#FFA15A\", \"#19d3f3\", \"#FF6692\", \"#B6E880\", \"#FF97FF\", \"#FECB52\"], \"font\": {\"color\": \"#2a3f5f\"}, \"geo\": {\"bgcolor\": \"white\", \"lakecolor\": \"white\", \"landcolor\": \"#E5ECF6\", \"showlakes\": true, \"showland\": true, \"subunitcolor\": \"white\"}, \"hoverlabel\": {\"align\": \"left\"}, \"hovermode\": \"closest\", \"mapbox\": {\"style\": \"light\"}, \"paper_bgcolor\": \"white\", \"plot_bgcolor\": \"#E5ECF6\", \"polar\": {\"angularaxis\": {\"gridcolor\": \"white\", \"linecolor\": \"white\", \"ticks\": \"\"}, \"bgcolor\": \"#E5ECF6\", \"radialaxis\": {\"gridcolor\": \"white\", \"linecolor\": \"white\", \"ticks\": \"\"}}, \"scene\": {\"xaxis\": {\"backgroundcolor\": \"#E5ECF6\", \"gridcolor\": \"white\", \"gridwidth\": 2, \"linecolor\": \"white\", \"showbackground\": true, \"ticks\": \"\", \"zerolinecolor\": \"white\"}, \"yaxis\": {\"backgroundcolor\": \"#E5ECF6\", \"gridcolor\": \"white\", \"gridwidth\": 2, \"linecolor\": \"white\", \"showbackground\": true, \"ticks\": \"\", \"zerolinecolor\": \"white\"}, \"zaxis\": {\"backgroundcolor\": \"#E5ECF6\", \"gridcolor\": \"white\", \"gridwidth\": 2, \"linecolor\": \"white\", \"showbackground\": true, \"ticks\": \"\", \"zerolinecolor\": \"white\"}}, \"shapedefaults\": {\"line\": {\"color\": \"#2a3f5f\"}}, \"ternary\": {\"aaxis\": {\"gridcolor\": \"white\", \"linecolor\": \"white\", \"ticks\": \"\"}, \"baxis\": {\"gridcolor\": \"white\", \"linecolor\": \"white\", \"ticks\": \"\"}, \"bgcolor\": \"#E5ECF6\", \"caxis\": {\"gridcolor\": \"white\", \"linecolor\": \"white\", \"ticks\": \"\"}}, \"title\": {\"x\": 0.05}, \"xaxis\": {\"automargin\": true, \"gridcolor\": \"white\", \"linecolor\": \"white\", \"ticks\": \"\", \"title\": {\"standoff\": 15}, \"zerolinecolor\": \"white\", \"zerolinewidth\": 2}, \"yaxis\": {\"automargin\": true, \"gridcolor\": \"white\", \"linecolor\": \"white\", \"ticks\": \"\", \"title\": {\"standoff\": 15}, \"zerolinecolor\": \"white\", \"zerolinewidth\": 2}}}},                        {\"responsive\": true}                    ).then(function(){\n",
       "                            \n",
       "var gd = document.getElementById('25405a6f-ef4d-4e8b-8719-d2b8d6ee46d9');\n",
       "var x = new MutationObserver(function (mutations, observer) {{\n",
       "        var display = window.getComputedStyle(gd).display;\n",
       "        if (!display || display === 'none') {{\n",
       "            console.log([gd, 'removed!']);\n",
       "            Plotly.purge(gd);\n",
       "            observer.disconnect();\n",
       "        }}\n",
       "}});\n",
       "\n",
       "// Listen for the removal of the full notebook cells\n",
       "var notebookContainer = gd.closest('#notebook-container');\n",
       "if (notebookContainer) {{\n",
       "    x.observe(notebookContainer, {childList: true});\n",
       "}}\n",
       "\n",
       "// Listen for the clearing of the current output cell\n",
       "var outputEl = gd.closest('.output');\n",
       "if (outputEl) {{\n",
       "    x.observe(outputEl, {childList: true});\n",
       "}}\n",
       "\n",
       "                        })                };                });            </script>        </div>"
      ]
     },
     "metadata": {},
     "output_type": "display_data"
    }
   ],
   "source": [
    "fig = px.treemap(sales,\n",
    "                 path=[px.Constant('World'), \n",
    "                 'Region', 'Country'], \n",
    "                 values='Total_Revenue',\n",
    "                  color='Total_Profit',\n",
    "                 hover_data=['Country_abb'])\n",
    "fig.show()"
   ]
  },
  {
   "cell_type": "markdown",
   "id": "a88321ad",
   "metadata": {},
   "source": [
    "### Analysis based on Europe"
   ]
  },
  {
   "cell_type": "code",
   "execution_count": 72,
   "id": "c70fb830",
   "metadata": {},
   "outputs": [
    {
     "name": "stdout",
     "output_type": "stream",
     "text": [
      "Region                 1\n",
      "Country               48\n",
      "Products              12\n",
      "Sales_Channel          2\n",
      "Order_Priority         4\n",
      "Order_Date          2767\n",
      "Order_ID          207520\n",
      "Ship_Date           2816\n",
      "Units_Sold         10000\n",
      "Unit_Price            12\n",
      "Unit_Cost             12\n",
      "Total_Revenue     103245\n",
      "Total_Cost        103130\n",
      "Total_Profit      103153\n",
      "Year                   8\n",
      "Month_Year            91\n",
      "Month                 12\n",
      "Qtr                    4\n",
      "Qtr_Yr                30\n",
      "Week                  31\n",
      "Country_abb           43\n",
      "dtype: int64\n",
      "No. of Observations in the dataset: 207520\n",
      "No. of features in the dataset: 21\n"
     ]
    }
   ],
   "source": [
    "sales_filter =sales[sales[\"Region\"]==\"Europe\"]\n",
    "print(sales_filter.nunique())\n",
    "print(f'No. of Observations in the dataset: {sales_filter.shape[0]}\\nNo. of features in the dataset: {sales_filter.shape[1]}')"
   ]
  },
  {
   "cell_type": "code",
   "execution_count": 73,
   "id": "fabulous-accreditation",
   "metadata": {},
   "outputs": [
    {
     "data": {
      "text/html": [
       "<div>\n",
       "<style scoped>\n",
       "    .dataframe tbody tr th:only-of-type {\n",
       "        vertical-align: middle;\n",
       "    }\n",
       "\n",
       "    .dataframe tbody tr th {\n",
       "        vertical-align: top;\n",
       "    }\n",
       "\n",
       "    .dataframe thead th {\n",
       "        text-align: right;\n",
       "    }\n",
       "</style>\n",
       "<table border=\"1\" class=\"dataframe\">\n",
       "  <thead>\n",
       "    <tr style=\"text-align: right;\">\n",
       "      <th></th>\n",
       "      <th>Units_Sold</th>\n",
       "      <th>Unit_Price</th>\n",
       "      <th>Unit_Cost</th>\n",
       "      <th>Total_Revenue</th>\n",
       "      <th>Total_Cost</th>\n",
       "      <th>Total_Profit</th>\n",
       "    </tr>\n",
       "  </thead>\n",
       "  <tbody>\n",
       "    <tr>\n",
       "      <th>count</th>\n",
       "      <td>207520.000000</td>\n",
       "      <td>207520.000000</td>\n",
       "      <td>207520.000000</td>\n",
       "      <td>2.075200e+05</td>\n",
       "      <td>2.075200e+05</td>\n",
       "      <td>2.075200e+05</td>\n",
       "    </tr>\n",
       "    <tr>\n",
       "      <th>mean</th>\n",
       "      <td>4998.827689</td>\n",
       "      <td>265.614364</td>\n",
       "      <td>187.216348</td>\n",
       "      <td>1.327060e+06</td>\n",
       "      <td>9.353926e+05</td>\n",
       "      <td>3.916676e+05</td>\n",
       "    </tr>\n",
       "    <tr>\n",
       "      <th>std</th>\n",
       "      <td>2885.678177</td>\n",
       "      <td>216.987396</td>\n",
       "      <td>175.645708</td>\n",
       "      <td>1.468038e+06</td>\n",
       "      <td>1.148453e+06</td>\n",
       "      <td>3.785656e+05</td>\n",
       "    </tr>\n",
       "    <tr>\n",
       "      <th>min</th>\n",
       "      <td>1.000000</td>\n",
       "      <td>9.330000</td>\n",
       "      <td>6.920000</td>\n",
       "      <td>9.330000e+00</td>\n",
       "      <td>6.920000e+00</td>\n",
       "      <td>2.410000e+00</td>\n",
       "    </tr>\n",
       "    <tr>\n",
       "      <th>25%</th>\n",
       "      <td>2504.000000</td>\n",
       "      <td>81.730000</td>\n",
       "      <td>35.840000</td>\n",
       "      <td>2.781064e+05</td>\n",
       "      <td>1.619184e+05</td>\n",
       "      <td>9.534882e+04</td>\n",
       "    </tr>\n",
       "    <tr>\n",
       "      <th>50%</th>\n",
       "      <td>4997.000000</td>\n",
       "      <td>154.060000</td>\n",
       "      <td>97.440000</td>\n",
       "      <td>7.815773e+05</td>\n",
       "      <td>4.642141e+05</td>\n",
       "      <td>2.803942e+05</td>\n",
       "    </tr>\n",
       "    <tr>\n",
       "      <th>75%</th>\n",
       "      <td>7498.000000</td>\n",
       "      <td>421.890000</td>\n",
       "      <td>263.330000</td>\n",
       "      <td>1.817518e+06</td>\n",
       "      <td>1.189559e+06</td>\n",
       "      <td>5.646347e+05</td>\n",
       "    </tr>\n",
       "    <tr>\n",
       "      <th>max</th>\n",
       "      <td>10000.000000</td>\n",
       "      <td>668.270000</td>\n",
       "      <td>524.960000</td>\n",
       "      <td>6.682700e+06</td>\n",
       "      <td>5.249600e+06</td>\n",
       "      <td>1.738700e+06</td>\n",
       "    </tr>\n",
       "  </tbody>\n",
       "</table>\n",
       "</div>"
      ],
      "text/plain": [
       "          Units_Sold     Unit_Price      Unit_Cost  Total_Revenue  \\\n",
       "count  207520.000000  207520.000000  207520.000000   2.075200e+05   \n",
       "mean     4998.827689     265.614364     187.216348   1.327060e+06   \n",
       "std      2885.678177     216.987396     175.645708   1.468038e+06   \n",
       "min         1.000000       9.330000       6.920000   9.330000e+00   \n",
       "25%      2504.000000      81.730000      35.840000   2.781064e+05   \n",
       "50%      4997.000000     154.060000      97.440000   7.815773e+05   \n",
       "75%      7498.000000     421.890000     263.330000   1.817518e+06   \n",
       "max     10000.000000     668.270000     524.960000   6.682700e+06   \n",
       "\n",
       "         Total_Cost  Total_Profit  \n",
       "count  2.075200e+05  2.075200e+05  \n",
       "mean   9.353926e+05  3.916676e+05  \n",
       "std    1.148453e+06  3.785656e+05  \n",
       "min    6.920000e+00  2.410000e+00  \n",
       "25%    1.619184e+05  9.534882e+04  \n",
       "50%    4.642141e+05  2.803942e+05  \n",
       "75%    1.189559e+06  5.646347e+05  \n",
       "max    5.249600e+06  1.738700e+06  "
      ]
     },
     "execution_count": 73,
     "metadata": {},
     "output_type": "execute_result"
    }
   ],
   "source": [
    "#checking statistical analysis\n",
    "sales_filter_des = sales_filter.loc[:,['Units_Sold', 'Unit_Price',\n",
    "       'Unit_Cost', 'Total_Revenue', 'Total_Cost', 'Total_Profit']]\n",
    "sales_filter_des.describe()"
   ]
  },
  {
   "cell_type": "markdown",
   "id": "8ff58277",
   "metadata": {},
   "source": [
    "# Statistical Yearly"
   ]
  },
  {
   "cell_type": "markdown",
   "id": "ffa28761",
   "metadata": {},
   "source": [
    "### Question1:Yearly Total_Profit, Total_Revenue, Units_Sold, Unit_Price, Unit_Cost"
   ]
  },
  {
   "cell_type": "code",
   "execution_count": 74,
   "id": "337a693c",
   "metadata": {
    "scrolled": true
   },
   "outputs": [],
   "source": [
    "#sales['Year'] = sales['Year'].astype(int)\n",
    "def calculate_yearly(column):\n",
    "    yearly = {}\n",
    "    for _,rows in sales.iterrows():\n",
    "        try:\n",
    "            yearly[rows[\"Year\"]] += rows[column]\n",
    "        except KeyError:\n",
    "            yearly[rows[\"Year\"]] = rows[column]\n",
    "    return yearly\n",
    "\n"
   ]
  },
  {
   "cell_type": "code",
   "execution_count": 75,
   "id": "1eb62415",
   "metadata": {},
   "outputs": [
    {
     "data": {
      "image/png": "[encoded data removed]",
      "text/plain": [
       "<Figure size 1800x1800 with 5 Axes>"
      ]
     },
     "metadata": {
      "needs_background": "light"
     },
     "output_type": "display_data"
    }
   ],
   "source": [
    "yearly_profit = calculate_yearly(\"Total_Revenue\")\n",
    "yearly_revenue = calculate_yearly(\"Total_Profit\")\n",
    "yearly_sold = calculate_yearly(\"Units_Sold\")\n",
    "yearly_price = calculate_yearly(\"Unit_Price\")\n",
    "yearly_cost = calculate_yearly(\"Unit_Cost\")\n",
    "\n",
    "#Lineplot for yearly \n",
    "ind =1\n",
    "plt.figure(figsize=(25,25))\n",
    "for index,name in zip([yearly_profit,yearly_revenue,yearly_sold,yearly_price,yearly_cost],[\"Total_Profit\",\"Total_Revenue\",\n",
    "                        \"Units_Sold\",\"Unit_Price\",\"Unit_Cost\"]):\n",
    "    ax = plt.subplot(3,3, ind)\n",
    "    ax.set_title(name)\n",
    "    sns.lineplot(ax =ax, x=0, y=1, data=pd.DataFrame(sorted(index.items())))\n",
    "    ax.set(xlabel=\"Year\", ylabel = name)\n",
    "    ind += 1\n",
    "    #plt.yticks(labels,(labels/1000000).astype(int))"
   ]
  },
  {
   "cell_type": "markdown",
   "id": "18a189f3",
   "metadata": {},
   "source": [
    "### Question2:Monthly Total_Profit, Total_Revenue, Units_Sold"
   ]
  },
  {
   "cell_type": "code",
   "execution_count": 76,
   "id": "d62c74d3",
   "metadata": {
    "scrolled": false
   },
   "outputs": [
    {
     "data": {
      "image/png": "[encoded data removed]",
      "text/plain": [
       "<Figure size 432x288 with 1 Axes>"
      ]
     },
     "metadata": {
      "needs_background": "light"
     },
     "output_type": "display_data"
    },
    {
     "data": {
      "image/png": "[encoded data removed]",
      "text/plain": [
       "<Figure size 432x288 with 1 Axes>"
      ]
     },
     "metadata": {
      "needs_background": "light"
     },
     "output_type": "display_data"
    },
    {
     "data": {
      "image/png": "[encoded data removed]",
      "text/plain": [
       "<Figure size 432x288 with 1 Axes>"
      ]
     },
     "metadata": {
      "needs_background": "light"
     },
     "output_type": "display_data"
    }
   ],
   "source": [
    "def calculate_monthly(column):\n",
    "    monthly_profit = {}\n",
    "    month = {1:\"Jan\", 2: \"Feb\", 3:\"March\", 4:\"April\", 5:\"May\", 6:\"June\", 7:\"July\", 8:\"Aug\", 9:\"Sep\", 10:\"Oct\", 11:\"Nov\", 12:\"Dec\"}\n",
    "    for _,rows in sales_filter.iterrows():\n",
    "        try:\n",
    "            monthly_profit[pd.to_datetime(rows['Order_Date']).month] += rows[column]\n",
    "        except KeyError:\n",
    "            monthly_profit[pd.to_datetime(rows['Order_Date']).month] = rows[column]\n",
    "    d = {i[0]: i[1] for i in [(month[item[0]],item[1]) for item in sorted(monthly_profit.items())]}\n",
    "    ax = sns.barplot(data=pd.DataFrame(d,index=[0]))\n",
    "    ax.set(xlabel= \"Month\", ylabel=column)\n",
    "    plt.show()\n",
    "calculate_monthly('Total_Profit')\n",
    "calculate_monthly('Total_Revenue')\n",
    "calculate_monthly('Units_Sold')"
   ]
  },
  {
   "cell_type": "markdown",
   "id": "03856051",
   "metadata": {},
   "source": [
    "### Question3:The top10 country by total_revenue in Europe?"
   ]
  },
  {
   "cell_type": "code",
   "execution_count": 77,
   "id": "19204977",
   "metadata": {
    "scrolled": false
   },
   "outputs": [
    {
     "data": {
      "application/vnd.plotly.v1+json": {
       "config": {
        "plotlyServerURL": "https://plot.ly"
       },
       "data": [
        {
         "alignmentgroup": "True",
         "hovertemplate": "Country=%{x}<br>Total_Revenue ($)=%{y}<extra></extra>",
         "legendgroup": "Macedonia",
         "marker": {
          "color": "#636efa"
         },
         "name": "Macedonia",
         "offsetgroup": "Macedonia",
         "orientation": "v",
         "showlegend": true,
         "textposition": "auto",
         "type": "bar",
         "x": [
          "Macedonia"
         ],
         "xaxis": "x",
         "y": [
          1356094.557958706
         ],
         "yaxis": "y"
        },
        {
         "alignmentgroup": "True",
         "hovertemplate": "Country=%{x}<br>Total_Revenue ($)=%{y}<extra></extra>",
         "legendgroup": "Croatia",
         "marker": {
          "color": "#EF553B"
         },
         "name": "Croatia",
         "offsetgroup": "Croatia",
         "orientation": "v",
         "showlegend": true,
         "textposition": "auto",
         "type": "bar",
         "x": [
          "Croatia"
         ],
         "xaxis": "x",
         "y": [
          1356086.927662698
         ],
         "yaxis": "y"
        },
        {
         "alignmentgroup": "True",
         "hovertemplate": "Country=%{x}<br>Total_Revenue ($)=%{y}<extra></extra>",
         "legendgroup": "San Marino",
         "marker": {
          "color": "#00cc96"
         },
         "name": "San Marino",
         "offsetgroup": "San Marino",
         "orientation": "v",
         "showlegend": true,
         "textposition": "auto",
         "type": "bar",
         "x": [
          "San Marino"
         ],
         "xaxis": "x",
         "y": [
          1351871.373562487
         ],
         "yaxis": "y"
        },
        {
         "alignmentgroup": "True",
         "hovertemplate": "Country=%{x}<br>Total_Revenue ($)=%{y}<extra></extra>",
         "legendgroup": "Ukraine",
         "marker": {
          "color": "#ab63fa"
         },
         "name": "Ukraine",
         "offsetgroup": "Ukraine",
         "orientation": "v",
         "showlegend": true,
         "textposition": "auto",
         "type": "bar",
         "x": [
          "Ukraine"
         ],
         "xaxis": "x",
         "y": [
          1351490.6717621007
         ],
         "yaxis": "y"
        },
        {
         "alignmentgroup": "True",
         "hovertemplate": "Country=%{x}<br>Total_Revenue ($)=%{y}<extra></extra>",
         "legendgroup": "Albania",
         "marker": {
          "color": "#FFA15A"
         },
         "name": "Albania",
         "offsetgroup": "Albania",
         "orientation": "v",
         "showlegend": true,
         "textposition": "auto",
         "type": "bar",
         "x": [
          "Albania"
         ],
         "xaxis": "x",
         "y": [
          1350317.350491238
         ],
         "yaxis": "y"
        },
        {
         "alignmentgroup": "True",
         "hovertemplate": "Country=%{x}<br>Total_Revenue ($)=%{y}<extra></extra>",
         "legendgroup": "Finland",
         "marker": {
          "color": "#19d3f3"
         },
         "name": "Finland",
         "offsetgroup": "Finland",
         "orientation": "v",
         "showlegend": true,
         "textposition": "auto",
         "type": "bar",
         "x": [
          "Finland"
         ],
         "xaxis": "x",
         "y": [
          1348348.266339627
         ],
         "yaxis": "y"
        },
        {
         "alignmentgroup": "True",
         "hovertemplate": "Country=%{x}<br>Total_Revenue ($)=%{y}<extra></extra>",
         "legendgroup": "Sweden",
         "marker": {
          "color": "#FF6692"
         },
         "name": "Sweden",
         "offsetgroup": "Sweden",
         "orientation": "v",
         "showlegend": true,
         "textposition": "auto",
         "type": "bar",
         "x": [
          "Sweden"
         ],
         "xaxis": "x",
         "y": [
          1348094.1792010083
         ],
         "yaxis": "y"
        },
        {
         "alignmentgroup": "True",
         "hovertemplate": "Country=%{x}<br>Total_Revenue ($)=%{y}<extra></extra>",
         "legendgroup": "Moldova ",
         "marker": {
          "color": "#B6E880"
         },
         "name": "Moldova ",
         "offsetgroup": "Moldova ",
         "orientation": "v",
         "showlegend": true,
         "textposition": "auto",
         "type": "bar",
         "x": [
          "Moldova "
         ],
         "xaxis": "x",
         "y": [
          1347339.6646885788
         ],
         "yaxis": "y"
        },
        {
         "alignmentgroup": "True",
         "hovertemplate": "Country=%{x}<br>Total_Revenue ($)=%{y}<extra></extra>",
         "legendgroup": "France",
         "marker": {
          "color": "#FF97FF"
         },
         "name": "France",
         "offsetgroup": "France",
         "orientation": "v",
         "showlegend": true,
         "textposition": "auto",
         "type": "bar",
         "x": [
          "France"
         ],
         "xaxis": "x",
         "y": [
          1343135.571450695
         ],
         "yaxis": "y"
        },
        {
         "alignmentgroup": "True",
         "hovertemplate": "Country=%{x}<br>Total_Revenue ($)=%{y}<extra></extra>",
         "legendgroup": "Belgium",
         "marker": {
          "color": "#FECB52"
         },
         "name": "Belgium",
         "offsetgroup": "Belgium",
         "orientation": "v",
         "showlegend": true,
         "textposition": "auto",
         "type": "bar",
         "x": [
          "Belgium"
         ],
         "xaxis": "x",
         "y": [
          1340650.8190234788
         ],
         "yaxis": "y"
        }
       ],
       "layout": {
        "barmode": "relative",
        "height": 500,
        "legend": {
         "title": {
          "text": "Country"
         },
         "tracegroupgap": 0
        },
        "template": {
         "data": {
          "bar": [
           {
            "error_x": {
             "color": "#2a3f5f"
            },
            "error_y": {
             "color": "#2a3f5f"
            },
            "marker": {
             "line": {
              "color": "#E5ECF6",
              "width": 0.5
             }
            },
            "type": "bar"
           }
          ],
          "barpolar": [
           {
            "marker": {
             "line": {
              "color": "#E5ECF6",
              "width": 0.5
             }
            },
            "type": "barpolar"
           }
          ],
          "carpet": [
           {
            "aaxis": {
             "endlinecolor": "#2a3f5f",
             "gridcolor": "white",
             "linecolor": "white",
             "minorgridcolor": "white",
             "startlinecolor": "#2a3f5f"
            },
            "baxis": {
             "endlinecolor": "#2a3f5f",
             "gridcolor": "white",
             "linecolor": "white",
             "minorgridcolor": "white",
             "startlinecolor": "#2a3f5f"
            },
            "type": "carpet"
           }
          ],
          "choropleth": [
           {
            "colorbar": {
             "outlinewidth": 0,
             "ticks": ""
            },
            "type": "choropleth"
           }
          ],
          "contour": [
           {
            "colorbar": {
             "outlinewidth": 0,
             "ticks": ""
            },
            "colorscale": [
             [
              0,
              "#0d0887"
             ],
             [
              0.1111111111111111,
              "#46039f"
             ],
             [
              0.2222222222222222,
              "#7201a8"
             ],
             [
              0.3333333333333333,
              "#9c179e"
             ],
             [
              0.4444444444444444,
              "#bd3786"
             ],
             [
              0.5555555555555556,
              "#d8576b"
             ],
             [
              0.6666666666666666,
              "#ed7953"
             ],
             [
              0.7777777777777778,
              "#fb9f3a"
             ],
             [
              0.8888888888888888,
              "#fdca26"
             ],
             [
              1,
              "#f0f921"
             ]
            ],
            "type": "contour"
           }
          ],
          "contourcarpet": [
           {
            "colorbar": {
             "outlinewidth": 0,
             "ticks": ""
            },
            "type": "contourcarpet"
           }
          ],
          "heatmap": [
           {
            "colorbar": {
             "outlinewidth": 0,
             "ticks": ""
            },
            "colorscale": [
             [
              0,
              "#0d0887"
             ],
             [
              0.1111111111111111,
              "#46039f"
             ],
             [
              0.2222222222222222,
              "#7201a8"
             ],
             [
              0.3333333333333333,
              "#9c179e"
             ],
             [
              0.4444444444444444,
              "#bd3786"
             ],
             [
              0.5555555555555556,
              "#d8576b"
             ],
             [
              0.6666666666666666,
              "#ed7953"
             ],
             [
              0.7777777777777778,
              "#fb9f3a"
             ],
             [
              0.8888888888888888,
              "#fdca26"
             ],
             [
              1,
              "#f0f921"
             ]
            ],
            "type": "heatmap"
           }
          ],
          "heatmapgl": [
           {
            "colorbar": {
             "outlinewidth": 0,
             "ticks": ""
            },
            "colorscale": [
             [
              0,
              "#0d0887"
             ],
             [
              0.1111111111111111,
              "#46039f"
             ],
             [
              0.2222222222222222,
              "#7201a8"
             ],
             [
              0.3333333333333333,
              "#9c179e"
             ],
             [
              0.4444444444444444,
              "#bd3786"
             ],
             [
              0.5555555555555556,
              "#d8576b"
             ],
             [
              0.6666666666666666,
              "#ed7953"
             ],
             [
              0.7777777777777778,
              "#fb9f3a"
             ],
             [
              0.8888888888888888,
              "#fdca26"
             ],
             [
              1,
              "#f0f921"
             ]
            ],
            "type": "heatmapgl"
           }
          ],
          "histogram": [
           {
            "marker": {
             "colorbar": {
              "outlinewidth": 0,
              "ticks": ""
             }
            },
            "type": "histogram"
           }
          ],
          "histogram2d": [
           {
            "colorbar": {
             "outlinewidth": 0,
             "ticks": ""
            },
            "colorscale": [
             [
              0,
              "#0d0887"
             ],
             [
              0.1111111111111111,
              "#46039f"
             ],
             [
              0.2222222222222222,
              "#7201a8"
             ],
             [
              0.3333333333333333,
              "#9c179e"
             ],
             [
              0.4444444444444444,
              "#bd3786"
             ],
             [
              0.5555555555555556,
              "#d8576b"
             ],
             [
              0.6666666666666666,
              "#ed7953"
             ],
             [
              0.7777777777777778,
              "#fb9f3a"
             ],
             [
              0.8888888888888888,
              "#fdca26"
             ],
             [
              1,
              "#f0f921"
             ]
            ],
            "type": "histogram2d"
           }
          ],
          "histogram2dcontour": [
           {
            "colorbar": {
             "outlinewidth": 0,
             "ticks": ""
            },
            "colorscale": [
             [
              0,
              "#0d0887"
             ],
             [
              0.1111111111111111,
              "#46039f"
             ],
             [
              0.2222222222222222,
              "#7201a8"
             ],
             [
              0.3333333333333333,
              "#9c179e"
             ],
             [
              0.4444444444444444,
              "#bd3786"
             ],
             [
              0.5555555555555556,
              "#d8576b"
             ],
             [
              0.6666666666666666,
              "#ed7953"
             ],
             [
              0.7777777777777778,
              "#fb9f3a"
             ],
             [
              0.8888888888888888,
              "#fdca26"
             ],
             [
              1,
              "#f0f921"
             ]
            ],
            "type": "histogram2dcontour"
           }
          ],
          "mesh3d": [
           {
            "colorbar": {
             "outlinewidth": 0,
             "ticks": ""
            },
            "type": "mesh3d"
           }
          ],
          "parcoords": [
           {
            "line": {
             "colorbar": {
              "outlinewidth": 0,
              "ticks": ""
             }
            },
            "type": "parcoords"
           }
          ],
          "pie": [
           {
            "automargin": true,
            "type": "pie"
           }
          ],
          "scatter": [
           {
            "marker": {
             "colorbar": {
              "outlinewidth": 0,
              "ticks": ""
             }
            },
            "type": "scatter"
           }
          ],
          "scatter3d": [
           {
            "line": {
             "colorbar": {
              "outlinewidth": 0,
              "ticks": ""
             }
            },
            "marker": {
             "colorbar": {
              "outlinewidth": 0,
              "ticks": ""
             }
            },
            "type": "scatter3d"
           }
          ],
          "scattercarpet": [
           {
            "marker": {
             "colorbar": {
              "outlinewidth": 0,
              "ticks": ""
             }
            },
            "type": "scattercarpet"
           }
          ],
          "scattergeo": [
           {
            "marker": {
             "colorbar": {
              "outlinewidth": 0,
              "ticks": ""
             }
            },
            "type": "scattergeo"
           }
          ],
          "scattergl": [
           {
            "marker": {
             "colorbar": {
              "outlinewidth": 0,
              "ticks": ""
             }
            },
            "type": "scattergl"
           }
          ],
          "scattermapbox": [
           {
            "marker": {
             "colorbar": {
              "outlinewidth": 0,
              "ticks": ""
             }
            },
            "type": "scattermapbox"
           }
          ],
          "scatterpolar": [
           {
            "marker": {
             "colorbar": {
              "outlinewidth": 0,
              "ticks": ""
             }
            },
            "type": "scatterpolar"
           }
          ],
          "scatterpolargl": [
           {
            "marker": {
             "colorbar": {
              "outlinewidth": 0,
              "ticks": ""
             }
            },
            "type": "scatterpolargl"
           }
          ],
          "scatterternary": [
           {
            "marker": {
             "colorbar": {
              "outlinewidth": 0,
              "ticks": ""
             }
            },
            "type": "scatterternary"
           }
          ],
          "surface": [
           {
            "colorbar": {
             "outlinewidth": 0,
             "ticks": ""
            },
            "colorscale": [
             [
              0,
              "#0d0887"
             ],
             [
              0.1111111111111111,
              "#46039f"
             ],
             [
              0.2222222222222222,
              "#7201a8"
             ],
             [
              0.3333333333333333,
              "#9c179e"
             ],
             [
              0.4444444444444444,
              "#bd3786"
             ],
             [
              0.5555555555555556,
              "#d8576b"
             ],
             [
              0.6666666666666666,
              "#ed7953"
             ],
             [
              0.7777777777777778,
              "#fb9f3a"
             ],
             [
              0.8888888888888888,
              "#fdca26"
             ],
             [
              1,
              "#f0f921"
             ]
            ],
            "type": "surface"
           }
          ],
          "table": [
           {
            "cells": {
             "fill": {
              "color": "#EBF0F8"
             },
             "line": {
              "color": "white"
             }
            },
            "header": {
             "fill": {
              "color": "#C8D4E3"
             },
             "line": {
              "color": "white"
             }
            },
            "type": "table"
           }
          ]
         },
         "layout": {
          "annotationdefaults": {
           "arrowcolor": "#2a3f5f",
           "arrowhead": 0,
           "arrowwidth": 1
          },
          "autotypenumbers": "strict",
          "coloraxis": {
           "colorbar": {
            "outlinewidth": 0,
            "ticks": ""
           }
          },
          "colorscale": {
           "diverging": [
            [
             0,
             "#8e0152"
            ],
            [
             0.1,
             "#c51b7d"
            ],
            [
             0.2,
             "#de77ae"
            ],
            [
             0.3,
             "#f1b6da"
            ],
            [
             0.4,
             "#fde0ef"
            ],
            [
             0.5,
             "#f7f7f7"
            ],
            [
             0.6,
             "#e6f5d0"
            ],
            [
             0.7,
             "#b8e186"
            ],
            [
             0.8,
             "#7fbc41"
            ],
            [
             0.9,
             "#4d9221"
            ],
            [
             1,
             "#276419"
            ]
           ],
           "sequential": [
            [
             0,
             "#0d0887"
            ],
            [
             0.1111111111111111,
             "#46039f"
            ],
            [
             0.2222222222222222,
             "#7201a8"
            ],
            [
             0.3333333333333333,
             "#9c179e"
            ],
            [
             0.4444444444444444,
             "#bd3786"
            ],
            [
             0.5555555555555556,
             "#d8576b"
            ],
            [
             0.6666666666666666,
             "#ed7953"
            ],
            [
             0.7777777777777778,
             "#fb9f3a"
            ],
            [
             0.8888888888888888,
             "#fdca26"
            ],
            [
             1,
             "#f0f921"
            ]
           ],
           "sequentialminus": [
            [
             0,
             "#0d0887"
            ],
            [
             0.1111111111111111,
             "#46039f"
            ],
            [
             0.2222222222222222,
             "#7201a8"
            ],
            [
             0.3333333333333333,
             "#9c179e"
            ],
            [
             0.4444444444444444,
             "#bd3786"
            ],
            [
             0.5555555555555556,
             "#d8576b"
            ],
            [
             0.6666666666666666,
             "#ed7953"
            ],
            [
             0.7777777777777778,
             "#fb9f3a"
            ],
            [
             0.8888888888888888,
             "#fdca26"
            ],
            [
             1,
             "#f0f921"
            ]
           ]
          },
          "colorway": [
           "#636efa",
           "#EF553B",
           "#00cc96",
           "#ab63fa",
           "#FFA15A",
           "#19d3f3",
           "#FF6692",
           "#B6E880",
           "#FF97FF",
           "#FECB52"
          ],
          "font": {
           "color": "#2a3f5f"
          },
          "geo": {
           "bgcolor": "white",
           "lakecolor": "white",
           "landcolor": "#E5ECF6",
           "showlakes": true,
           "showland": true,
           "subunitcolor": "white"
          },
          "hoverlabel": {
           "align": "left"
          },
          "hovermode": "closest",
          "mapbox": {
           "style": "light"
          },
          "paper_bgcolor": "white",
          "plot_bgcolor": "#E5ECF6",
          "polar": {
           "angularaxis": {
            "gridcolor": "white",
            "linecolor": "white",
            "ticks": ""
           },
           "bgcolor": "#E5ECF6",
           "radialaxis": {
            "gridcolor": "white",
            "linecolor": "white",
            "ticks": ""
           }
          },
          "scene": {
           "xaxis": {
            "backgroundcolor": "#E5ECF6",
            "gridcolor": "white",
            "gridwidth": 2,
            "linecolor": "white",
            "showbackground": true,
            "ticks": "",
            "zerolinecolor": "white"
           },
           "yaxis": {
            "backgroundcolor": "#E5ECF6",
            "gridcolor": "white",
            "gridwidth": 2,
            "linecolor": "white",
            "showbackground": true,
            "ticks": "",
            "zerolinecolor": "white"
           },
           "zaxis": {
            "backgroundcolor": "#E5ECF6",
            "gridcolor": "white",
            "gridwidth": 2,
            "linecolor": "white",
            "showbackground": true,
            "ticks": "",
            "zerolinecolor": "white"
           }
          },
          "shapedefaults": {
           "line": {
            "color": "#2a3f5f"
           }
          },
          "ternary": {
           "aaxis": {
            "gridcolor": "white",
            "linecolor": "white",
            "ticks": ""
           },
           "baxis": {
            "gridcolor": "white",
            "linecolor": "white",
            "ticks": ""
           },
           "bgcolor": "#E5ECF6",
           "caxis": {
            "gridcolor": "white",
            "linecolor": "white",
            "ticks": ""
           }
          },
          "title": {
           "x": 0.05
          },
          "xaxis": {
           "automargin": true,
           "gridcolor": "white",
           "linecolor": "white",
           "ticks": "",
           "title": {
            "standoff": 15
           },
           "zerolinecolor": "white",
           "zerolinewidth": 2
          },
          "yaxis": {
           "automargin": true,
           "gridcolor": "white",
           "linecolor": "white",
           "ticks": "",
           "title": {
            "standoff": 15
           },
           "zerolinecolor": "white",
           "zerolinewidth": 2
          }
         }
        },
        "title": {
         "text": "Total_Revenue by Country"
        },
        "xaxis": {
         "anchor": "y",
         "categoryarray": [
          "Macedonia",
          "Croatia",
          "San Marino",
          "Ukraine",
          "Albania",
          "Finland",
          "Sweden",
          "Moldova ",
          "France",
          "Belgium"
         ],
         "categoryorder": "array",
         "domain": [
          0,
          1
         ],
         "title": {
          "text": "Country"
         }
        },
        "yaxis": {
         "anchor": "x",
         "domain": [
          0,
          1
         ],
         "title": {
          "text": "Total_Revenue ($)"
         }
        }
       }
      },
      "text/html": [
       "<div>                            <div id=\"8be86c12-84db-418b-a1f5-4406d60c6a11\" class=\"plotly-graph-div\" style=\"height:500px; width:100%;\"></div>            <script type=\"text/javascript\">                require([\"plotly\"], function(Plotly) {                    window.PLOTLYENV=window.PLOTLYENV || {};                                    if (document.getElementById(\"8be86c12-84db-418b-a1f5-4406d60c6a11\")) {                    Plotly.newPlot(                        \"8be86c12-84db-418b-a1f5-4406d60c6a11\",                        [{\"alignmentgroup\": \"True\", \"hovertemplate\": \"Country=%{x}<br>Total_Revenue ($)=%{y}<extra></extra>\", \"legendgroup\": \"Macedonia\", \"marker\": {\"color\": \"#636efa\"}, \"name\": \"Macedonia\", \"offsetgroup\": \"Macedonia\", \"orientation\": \"v\", \"showlegend\": true, \"textposition\": \"auto\", \"type\": \"bar\", \"x\": [\"Macedonia\"], \"xaxis\": \"x\", \"y\": [1356094.557958706], \"yaxis\": \"y\"}, {\"alignmentgroup\": \"True\", \"hovertemplate\": \"Country=%{x}<br>Total_Revenue ($)=%{y}<extra></extra>\", \"legendgroup\": \"Croatia\", \"marker\": {\"color\": \"#EF553B\"}, \"name\": \"Croatia\", \"offsetgroup\": \"Croatia\", \"orientation\": \"v\", \"showlegend\": true, \"textposition\": \"auto\", \"type\": \"bar\", \"x\": [\"Croatia\"], \"xaxis\": \"x\", \"y\": [1356086.927662698], \"yaxis\": \"y\"}, {\"alignmentgroup\": \"True\", \"hovertemplate\": \"Country=%{x}<br>Total_Revenue ($)=%{y}<extra></extra>\", \"legendgroup\": \"San Marino\", \"marker\": {\"color\": \"#00cc96\"}, \"name\": \"San Marino\", \"offsetgroup\": \"San Marino\", \"orientation\": \"v\", \"showlegend\": true, \"textposition\": \"auto\", \"type\": \"bar\", \"x\": [\"San Marino\"], \"xaxis\": \"x\", \"y\": [1351871.373562487], \"yaxis\": \"y\"}, {\"alignmentgroup\": \"True\", \"hovertemplate\": \"Country=%{x}<br>Total_Revenue ($)=%{y}<extra></extra>\", \"legendgroup\": \"Ukraine\", \"marker\": {\"color\": \"#ab63fa\"}, \"name\": \"Ukraine\", \"offsetgroup\": \"Ukraine\", \"orientation\": \"v\", \"showlegend\": true, \"textposition\": \"auto\", \"type\": \"bar\", \"x\": [\"Ukraine\"], \"xaxis\": \"x\", \"y\": [1351490.6717621007], \"yaxis\": \"y\"}, {\"alignmentgroup\": \"True\", \"hovertemplate\": \"Country=%{x}<br>Total_Revenue ($)=%{y}<extra></extra>\", \"legendgroup\": \"Albania\", \"marker\": {\"color\": \"#FFA15A\"}, \"name\": \"Albania\", \"offsetgroup\": \"Albania\", \"orientation\": \"v\", \"showlegend\": true, \"textposition\": \"auto\", \"type\": \"bar\", \"x\": [\"Albania\"], \"xaxis\": \"x\", \"y\": [1350317.350491238], \"yaxis\": \"y\"}, {\"alignmentgroup\": \"True\", \"hovertemplate\": \"Country=%{x}<br>Total_Revenue ($)=%{y}<extra></extra>\", \"legendgroup\": \"Finland\", \"marker\": {\"color\": \"#19d3f3\"}, \"name\": \"Finland\", \"offsetgroup\": \"Finland\", \"orientation\": \"v\", \"showlegend\": true, \"textposition\": \"auto\", \"type\": \"bar\", \"x\": [\"Finland\"], \"xaxis\": \"x\", \"y\": [1348348.266339627], \"yaxis\": \"y\"}, {\"alignmentgroup\": \"True\", \"hovertemplate\": \"Country=%{x}<br>Total_Revenue ($)=%{y}<extra></extra>\", \"legendgroup\": \"Sweden\", \"marker\": {\"color\": \"#FF6692\"}, \"name\": \"Sweden\", \"offsetgroup\": \"Sweden\", \"orientation\": \"v\", \"showlegend\": true, \"textposition\": \"auto\", \"type\": \"bar\", \"x\": [\"Sweden\"], \"xaxis\": \"x\", \"y\": [1348094.1792010083], \"yaxis\": \"y\"}, {\"alignmentgroup\": \"True\", \"hovertemplate\": \"Country=%{x}<br>Total_Revenue ($)=%{y}<extra></extra>\", \"legendgroup\": \"Moldova \", \"marker\": {\"color\": \"#B6E880\"}, \"name\": \"Moldova \", \"offsetgroup\": \"Moldova \", \"orientation\": \"v\", \"showlegend\": true, \"textposition\": \"auto\", \"type\": \"bar\", \"x\": [\"Moldova \"], \"xaxis\": \"x\", \"y\": [1347339.6646885788], \"yaxis\": \"y\"}, {\"alignmentgroup\": \"True\", \"hovertemplate\": \"Country=%{x}<br>Total_Revenue ($)=%{y}<extra></extra>\", \"legendgroup\": \"France\", \"marker\": {\"color\": \"#FF97FF\"}, \"name\": \"France\", \"offsetgroup\": \"France\", \"orientation\": \"v\", \"showlegend\": true, \"textposition\": \"auto\", \"type\": \"bar\", \"x\": [\"France\"], \"xaxis\": \"x\", \"y\": [1343135.571450695], \"yaxis\": \"y\"}, {\"alignmentgroup\": \"True\", \"hovertemplate\": \"Country=%{x}<br>Total_Revenue ($)=%{y}<extra></extra>\", \"legendgroup\": \"Belgium\", \"marker\": {\"color\": \"#FECB52\"}, \"name\": \"Belgium\", \"offsetgroup\": \"Belgium\", \"orientation\": \"v\", \"showlegend\": true, \"textposition\": \"auto\", \"type\": \"bar\", \"x\": [\"Belgium\"], \"xaxis\": \"x\", \"y\": [1340650.8190234788], \"yaxis\": \"y\"}],                        {\"barmode\": \"relative\", \"height\": 500, \"legend\": {\"title\": {\"text\": \"Country\"}, \"tracegroupgap\": 0}, \"template\": {\"data\": {\"bar\": [{\"error_x\": {\"color\": \"#2a3f5f\"}, \"error_y\": {\"color\": \"#2a3f5f\"}, \"marker\": {\"line\": {\"color\": \"#E5ECF6\", \"width\": 0.5}}, \"type\": \"bar\"}], \"barpolar\": [{\"marker\": {\"line\": {\"color\": \"#E5ECF6\", \"width\": 0.5}}, \"type\": \"barpolar\"}], \"carpet\": [{\"aaxis\": {\"endlinecolor\": \"#2a3f5f\", \"gridcolor\": \"white\", \"linecolor\": \"white\", \"minorgridcolor\": \"white\", \"startlinecolor\": \"#2a3f5f\"}, \"baxis\": {\"endlinecolor\": \"#2a3f5f\", \"gridcolor\": \"white\", \"linecolor\": \"white\", \"minorgridcolor\": \"white\", \"startlinecolor\": \"#2a3f5f\"}, \"type\": \"carpet\"}], \"choropleth\": [{\"colorbar\": {\"outlinewidth\": 0, \"ticks\": \"\"}, \"type\": \"choropleth\"}], \"contour\": [{\"colorbar\": {\"outlinewidth\": 0, \"ticks\": \"\"}, \"colorscale\": [[0.0, \"#0d0887\"], [0.1111111111111111, \"#46039f\"], [0.2222222222222222, \"#7201a8\"], [0.3333333333333333, \"#9c179e\"], [0.4444444444444444, \"#bd3786\"], [0.5555555555555556, \"#d8576b\"], [0.6666666666666666, \"#ed7953\"], [0.7777777777777778, \"#fb9f3a\"], [0.8888888888888888, \"#fdca26\"], [1.0, \"#f0f921\"]], \"type\": \"contour\"}], \"contourcarpet\": [{\"colorbar\": {\"outlinewidth\": 0, \"ticks\": \"\"}, \"type\": \"contourcarpet\"}], \"heatmap\": [{\"colorbar\": {\"outlinewidth\": 0, \"ticks\": \"\"}, \"colorscale\": [[0.0, \"#0d0887\"], [0.1111111111111111, \"#46039f\"], [0.2222222222222222, \"#7201a8\"], [0.3333333333333333, \"#9c179e\"], [0.4444444444444444, \"#bd3786\"], [0.5555555555555556, \"#d8576b\"], [0.6666666666666666, \"#ed7953\"], [0.7777777777777778, \"#fb9f3a\"], [0.8888888888888888, \"#fdca26\"], [1.0, \"#f0f921\"]], \"type\": \"heatmap\"}], \"heatmapgl\": [{\"colorbar\": {\"outlinewidth\": 0, \"ticks\": \"\"}, \"colorscale\": [[0.0, \"#0d0887\"], [0.1111111111111111, \"#46039f\"], [0.2222222222222222, \"#7201a8\"], [0.3333333333333333, \"#9c179e\"], [0.4444444444444444, \"#bd3786\"], [0.5555555555555556, \"#d8576b\"], [0.6666666666666666, \"#ed7953\"], [0.7777777777777778, \"#fb9f3a\"], [0.8888888888888888, \"#fdca26\"], [1.0, \"#f0f921\"]], \"type\": \"heatmapgl\"}], \"histogram\": [{\"marker\": {\"colorbar\": {\"outlinewidth\": 0, \"ticks\": \"\"}}, \"type\": \"histogram\"}], \"histogram2d\": [{\"colorbar\": {\"outlinewidth\": 0, \"ticks\": \"\"}, \"colorscale\": [[0.0, \"#0d0887\"], [0.1111111111111111, \"#46039f\"], [0.2222222222222222, \"#7201a8\"], [0.3333333333333333, \"#9c179e\"], [0.4444444444444444, \"#bd3786\"], [0.5555555555555556, \"#d8576b\"], [0.6666666666666666, \"#ed7953\"], [0.7777777777777778, \"#fb9f3a\"], [0.8888888888888888, \"#fdca26\"], [1.0, \"#f0f921\"]], \"type\": \"histogram2d\"}], \"histogram2dcontour\": [{\"colorbar\": {\"outlinewidth\": 0, \"ticks\": \"\"}, \"colorscale\": [[0.0, \"#0d0887\"], [0.1111111111111111, \"#46039f\"], [0.2222222222222222, \"#7201a8\"], [0.3333333333333333, \"#9c179e\"], [0.4444444444444444, \"#bd3786\"], [0.5555555555555556, \"#d8576b\"], [0.6666666666666666, \"#ed7953\"], [0.7777777777777778, \"#fb9f3a\"], [0.8888888888888888, \"#fdca26\"], [1.0, \"#f0f921\"]], \"type\": \"histogram2dcontour\"}], \"mesh3d\": [{\"colorbar\": {\"outlinewidth\": 0, \"ticks\": \"\"}, \"type\": \"mesh3d\"}], \"parcoords\": [{\"line\": {\"colorbar\": {\"outlinewidth\": 0, \"ticks\": \"\"}}, \"type\": \"parcoords\"}], \"pie\": [{\"automargin\": true, \"type\": \"pie\"}], \"scatter\": [{\"marker\": {\"colorbar\": {\"outlinewidth\": 0, \"ticks\": \"\"}}, \"type\": \"scatter\"}], \"scatter3d\": [{\"line\": {\"colorbar\": {\"outlinewidth\": 0, \"ticks\": \"\"}}, \"marker\": {\"colorbar\": {\"outlinewidth\": 0, \"ticks\": \"\"}}, \"type\": \"scatter3d\"}], \"scattercarpet\": [{\"marker\": {\"colorbar\": {\"outlinewidth\": 0, \"ticks\": \"\"}}, \"type\": \"scattercarpet\"}], \"scattergeo\": [{\"marker\": {\"colorbar\": {\"outlinewidth\": 0, \"ticks\": \"\"}}, \"type\": \"scattergeo\"}], \"scattergl\": [{\"marker\": {\"colorbar\": {\"outlinewidth\": 0, \"ticks\": \"\"}}, \"type\": \"scattergl\"}], \"scattermapbox\": [{\"marker\": {\"colorbar\": {\"outlinewidth\": 0, \"ticks\": \"\"}}, \"type\": \"scattermapbox\"}], \"scatterpolar\": [{\"marker\": {\"colorbar\": {\"outlinewidth\": 0, \"ticks\": \"\"}}, \"type\": \"scatterpolar\"}], \"scatterpolargl\": [{\"marker\": {\"colorbar\": {\"outlinewidth\": 0, \"ticks\": \"\"}}, \"type\": \"scatterpolargl\"}], \"scatterternary\": [{\"marker\": {\"colorbar\": {\"outlinewidth\": 0, \"ticks\": \"\"}}, \"type\": \"scatterternary\"}], \"surface\": [{\"colorbar\": {\"outlinewidth\": 0, \"ticks\": \"\"}, \"colorscale\": [[0.0, \"#0d0887\"], [0.1111111111111111, \"#46039f\"], [0.2222222222222222, \"#7201a8\"], [0.3333333333333333, \"#9c179e\"], [0.4444444444444444, \"#bd3786\"], [0.5555555555555556, \"#d8576b\"], [0.6666666666666666, \"#ed7953\"], [0.7777777777777778, \"#fb9f3a\"], [0.8888888888888888, \"#fdca26\"], [1.0, \"#f0f921\"]], \"type\": \"surface\"}], \"table\": [{\"cells\": {\"fill\": {\"color\": \"#EBF0F8\"}, \"line\": {\"color\": \"white\"}}, \"header\": {\"fill\": {\"color\": \"#C8D4E3\"}, \"line\": {\"color\": \"white\"}}, \"type\": \"table\"}]}, \"layout\": {\"annotationdefaults\": {\"arrowcolor\": \"#2a3f5f\", \"arrowhead\": 0, \"arrowwidth\": 1}, \"autotypenumbers\": \"strict\", \"coloraxis\": {\"colorbar\": {\"outlinewidth\": 0, \"ticks\": \"\"}}, \"colorscale\": {\"diverging\": [[0, \"#8e0152\"], [0.1, \"#c51b7d\"], [0.2, \"#de77ae\"], [0.3, \"#f1b6da\"], [0.4, \"#fde0ef\"], [0.5, \"#f7f7f7\"], [0.6, \"#e6f5d0\"], [0.7, \"#b8e186\"], [0.8, \"#7fbc41\"], [0.9, \"#4d9221\"], [1, \"#276419\"]], \"sequential\": [[0.0, \"#0d0887\"], [0.1111111111111111, \"#46039f\"], [0.2222222222222222, \"#7201a8\"], [0.3333333333333333, \"#9c179e\"], [0.4444444444444444, \"#bd3786\"], [0.5555555555555556, \"#d8576b\"], [0.6666666666666666, \"#ed7953\"], [0.7777777777777778, \"#fb9f3a\"], [0.8888888888888888, \"#fdca26\"], [1.0, \"#f0f921\"]], \"sequentialminus\": [[0.0, \"#0d0887\"], [0.1111111111111111, \"#46039f\"], [0.2222222222222222, \"#7201a8\"], [0.3333333333333333, \"#9c179e\"], [0.4444444444444444, \"#bd3786\"], [0.5555555555555556, \"#d8576b\"], [0.6666666666666666, \"#ed7953\"], [0.7777777777777778, \"#fb9f3a\"], [0.8888888888888888, \"#fdca26\"], [1.0, \"#f0f921\"]]}, \"colorway\": [\"#636efa\", \"#EF553B\", \"#00cc96\", \"#ab63fa\", \"#FFA15A\", \"#19d3f3\", \"#FF6692\", \"#B6E880\", \"#FF97FF\", \"#FECB52\"], \"font\": {\"color\": \"#2a3f5f\"}, \"geo\": {\"bgcolor\": \"white\", \"lakecolor\": \"white\", \"landcolor\": \"#E5ECF6\", \"showlakes\": true, \"showland\": true, \"subunitcolor\": \"white\"}, \"hoverlabel\": {\"align\": \"left\"}, \"hovermode\": \"closest\", \"mapbox\": {\"style\": \"light\"}, \"paper_bgcolor\": \"white\", \"plot_bgcolor\": \"#E5ECF6\", \"polar\": {\"angularaxis\": {\"gridcolor\": \"white\", \"linecolor\": \"white\", \"ticks\": \"\"}, \"bgcolor\": \"#E5ECF6\", \"radialaxis\": {\"gridcolor\": \"white\", \"linecolor\": \"white\", \"ticks\": \"\"}}, \"scene\": {\"xaxis\": {\"backgroundcolor\": \"#E5ECF6\", \"gridcolor\": \"white\", \"gridwidth\": 2, \"linecolor\": \"white\", \"showbackground\": true, \"ticks\": \"\", \"zerolinecolor\": \"white\"}, \"yaxis\": {\"backgroundcolor\": \"#E5ECF6\", \"gridcolor\": \"white\", \"gridwidth\": 2, \"linecolor\": \"white\", \"showbackground\": true, \"ticks\": \"\", \"zerolinecolor\": \"white\"}, \"zaxis\": {\"backgroundcolor\": \"#E5ECF6\", \"gridcolor\": \"white\", \"gridwidth\": 2, \"linecolor\": \"white\", \"showbackground\": true, \"ticks\": \"\", \"zerolinecolor\": \"white\"}}, \"shapedefaults\": {\"line\": {\"color\": \"#2a3f5f\"}}, \"ternary\": {\"aaxis\": {\"gridcolor\": \"white\", \"linecolor\": \"white\", \"ticks\": \"\"}, \"baxis\": {\"gridcolor\": \"white\", \"linecolor\": \"white\", \"ticks\": \"\"}, \"bgcolor\": \"#E5ECF6\", \"caxis\": {\"gridcolor\": \"white\", \"linecolor\": \"white\", \"ticks\": \"\"}}, \"title\": {\"x\": 0.05}, \"xaxis\": {\"automargin\": true, \"gridcolor\": \"white\", \"linecolor\": \"white\", \"ticks\": \"\", \"title\": {\"standoff\": 15}, \"zerolinecolor\": \"white\", \"zerolinewidth\": 2}, \"yaxis\": {\"automargin\": true, \"gridcolor\": \"white\", \"linecolor\": \"white\", \"ticks\": \"\", \"title\": {\"standoff\": 15}, \"zerolinecolor\": \"white\", \"zerolinewidth\": 2}}}, \"title\": {\"text\": \"Total_Revenue by Country\"}, \"xaxis\": {\"anchor\": \"y\", \"categoryarray\": [\"Macedonia\", \"Croatia\", \"San Marino\", \"Ukraine\", \"Albania\", \"Finland\", \"Sweden\", \"Moldova \", \"France\", \"Belgium\"], \"categoryorder\": \"array\", \"domain\": [0.0, 1.0], \"title\": {\"text\": \"Country\"}}, \"yaxis\": {\"anchor\": \"x\", \"domain\": [0.0, 1.0], \"title\": {\"text\": \"Total_Revenue ($)\"}}},                        {\"responsive\": true}                    ).then(function(){\n",
       "                            \n",
       "var gd = document.getElementById('8be86c12-84db-418b-a1f5-4406d60c6a11');\n",
       "var x = new MutationObserver(function (mutations, observer) {{\n",
       "        var display = window.getComputedStyle(gd).display;\n",
       "        if (!display || display === 'none') {{\n",
       "            console.log([gd, 'removed!']);\n",
       "            Plotly.purge(gd);\n",
       "            observer.disconnect();\n",
       "        }}\n",
       "}});\n",
       "\n",
       "// Listen for the removal of the full notebook cells\n",
       "var notebookContainer = gd.closest('#notebook-container');\n",
       "if (notebookContainer) {{\n",
       "    x.observe(notebookContainer, {childList: true});\n",
       "}}\n",
       "\n",
       "// Listen for the clearing of the current output cell\n",
       "var outputEl = gd.closest('.output');\n",
       "if (outputEl) {{\n",
       "    x.observe(outputEl, {childList: true});\n",
       "}}\n",
       "\n",
       "                        })                };                });            </script>        </div>"
      ]
     },
     "metadata": {},
     "output_type": "display_data"
    }
   ],
   "source": [
    "\n",
    "import plotly.express as px\n",
    "sales_country = sales_filter.groupby(by=\"Country\",as_index=False).mean()\n",
    "sales_country = sales_country.sort_values(by=\"Total_Revenue\",ascending=False)[:10]\n",
    "fig = px.bar(sales_country,\n",
    "       x=\"Country\",\n",
    "       y=\"Total_Revenue\",\n",
    "       color=\"Country\",\n",
    "       hover_data=[\"Country\", \"Total_Revenue\"],\n",
    "       labels={\"Total_Revenue\":\"Total_Revenue ($)\"},\n",
    "       height=500,\n",
    "       title=\"Total_Revenue by Country\")\n",
    "\n",
    "fig.show()\n"
   ]
  },
  {
   "cell_type": "markdown",
   "id": "a145b3b9",
   "metadata": {},
   "source": [
    "### Question4:What are the relationship between revenue and profit by country"
   ]
  },
  {
   "cell_type": "code",
   "execution_count": 78,
   "id": "af0f6efa",
   "metadata": {},
   "outputs": [
    {
     "data": {
      "application/vnd.plotly.v1+json": {
       "config": {
        "plotlyServerURL": "https://plot.ly"
       },
       "data": [
        {
         "hovertemplate": "Country=Ukraine<br>Total_Profit ($)=%{x}<br>Totat_Revenue ($)=%{y}<extra></extra>",
         "legendgroup": "Ukraine",
         "marker": {
          "color": "#636efa",
          "symbol": "circle"
         },
         "mode": "markers",
         "name": "Ukraine",
         "orientation": "v",
         "showlegend": true,
         "type": "scatter",
         "x": [
          401247.9530446925
         ],
         "xaxis": "x",
         "y": [
          1351490.6717621007
         ],
         "yaxis": "y"
        },
        {
         "hovertemplate": "Country=Macedonia<br>Total_Profit ($)=%{x}<br>Totat_Revenue ($)=%{y}<extra></extra>",
         "legendgroup": "Macedonia",
         "marker": {
          "color": "#EF553B",
          "symbol": "circle"
         },
         "mode": "markers",
         "name": "Macedonia",
         "orientation": "v",
         "showlegend": true,
         "type": "scatter",
         "x": [
          400799.7947947103
         ],
         "xaxis": "x",
         "y": [
          1356094.557958706
         ],
         "yaxis": "y"
        },
        {
         "hovertemplate": "Country=Sweden<br>Total_Profit ($)=%{x}<br>Totat_Revenue ($)=%{y}<extra></extra>",
         "legendgroup": "Sweden",
         "marker": {
          "color": "#00cc96",
          "symbol": "circle"
         },
         "mode": "markers",
         "name": "Sweden",
         "orientation": "v",
         "showlegend": true,
         "type": "scatter",
         "x": [
          399612.1442873584
         ],
         "xaxis": "x",
         "y": [
          1348094.1792010083
         ],
         "yaxis": "y"
        },
        {
         "hovertemplate": "Country=France<br>Total_Profit ($)=%{x}<br>Totat_Revenue ($)=%{y}<extra></extra>",
         "legendgroup": "France",
         "marker": {
          "color": "#ab63fa",
          "symbol": "circle"
         },
         "mode": "markers",
         "name": "France",
         "orientation": "v",
         "showlegend": true,
         "type": "scatter",
         "x": [
          399056.6688590296
         ],
         "xaxis": "x",
         "y": [
          1343135.571450695
         ],
         "yaxis": "y"
        },
        {
         "hovertemplate": "Country=Albania<br>Total_Profit ($)=%{x}<br>Totat_Revenue ($)=%{y}<extra></extra>",
         "legendgroup": "Albania",
         "marker": {
          "color": "#FFA15A",
          "symbol": "circle"
         },
         "mode": "markers",
         "name": "Albania",
         "orientation": "v",
         "showlegend": true,
         "type": "scatter",
         "x": [
          398833.84855858004
         ],
         "xaxis": "x",
         "y": [
          1350317.350491238
         ],
         "yaxis": "y"
        },
        {
         "hovertemplate": "Country=Malta<br>Total_Profit ($)=%{x}<br>Totat_Revenue ($)=%{y}<extra></extra>",
         "legendgroup": "Malta",
         "marker": {
          "color": "#19d3f3",
          "symbol": "circle"
         },
         "mode": "markers",
         "name": "Malta",
         "orientation": "v",
         "showlegend": true,
         "type": "scatter",
         "x": [
          397387.3406379536
         ],
         "xaxis": "x",
         "y": [
          1330993.9870382315
         ],
         "yaxis": "y"
        },
        {
         "hovertemplate": "Country=Moldova <br>Total_Profit ($)=%{x}<br>Totat_Revenue ($)=%{y}<extra></extra>",
         "legendgroup": "Moldova ",
         "marker": {
          "color": "#FF6692",
          "symbol": "circle"
         },
         "mode": "markers",
         "name": "Moldova ",
         "orientation": "v",
         "showlegend": true,
         "type": "scatter",
         "x": [
          396509.9090025276
         ],
         "xaxis": "x",
         "y": [
          1347339.6646885788
         ],
         "yaxis": "y"
        },
        {
         "hovertemplate": "Country=Croatia<br>Total_Profit ($)=%{x}<br>Totat_Revenue ($)=%{y}<extra></extra>",
         "legendgroup": "Croatia",
         "marker": {
          "color": "#B6E880",
          "symbol": "circle"
         },
         "mode": "markers",
         "name": "Croatia",
         "orientation": "v",
         "showlegend": true,
         "type": "scatter",
         "x": [
          396390.49269652436
         ],
         "xaxis": "x",
         "y": [
          1356086.927662698
         ],
         "yaxis": "y"
        },
        {
         "hovertemplate": "Country=Ireland<br>Total_Profit ($)=%{x}<br>Totat_Revenue ($)=%{y}<extra></extra>",
         "legendgroup": "Ireland",
         "marker": {
          "color": "#FF97FF",
          "symbol": "circle"
         },
         "mode": "markers",
         "name": "Ireland",
         "orientation": "v",
         "showlegend": true,
         "type": "scatter",
         "x": [
          396225.4513942195
         ],
         "xaxis": "x",
         "y": [
          1339213.1955352586
         ],
         "yaxis": "y"
        },
        {
         "hovertemplate": "Country=Italy<br>Total_Profit ($)=%{x}<br>Totat_Revenue ($)=%{y}<extra></extra>",
         "legendgroup": "Italy",
         "marker": {
          "color": "#FECB52",
          "symbol": "circle"
         },
         "mode": "markers",
         "name": "Italy",
         "orientation": "v",
         "showlegend": true,
         "type": "scatter",
         "x": [
          395991.9646375171
         ],
         "xaxis": "x",
         "y": [
          1335363.4285024921
         ],
         "yaxis": "y"
        },
        {
         "hovertemplate": "Country=Serbia<br>Total_Profit ($)=%{x}<br>Totat_Revenue ($)=%{y}<extra></extra>",
         "legendgroup": "Serbia",
         "marker": {
          "color": "#636efa",
          "symbol": "circle"
         },
         "mode": "markers",
         "name": "Serbia",
         "orientation": "v",
         "showlegend": true,
         "type": "scatter",
         "x": [
          395794.0079368719
         ],
         "xaxis": "x",
         "y": [
          1329312.7724176594
         ],
         "yaxis": "y"
        },
        {
         "hovertemplate": "Country=Vatican City<br>Total_Profit ($)=%{x}<br>Totat_Revenue ($)=%{y}<extra></extra>",
         "legendgroup": "Vatican City",
         "marker": {
          "color": "#EF553B",
          "symbol": "circle"
         },
         "mode": "markers",
         "name": "Vatican City",
         "orientation": "v",
         "showlegend": true,
         "type": "scatter",
         "x": [
          395558.15405583335
         ],
         "xaxis": "x",
         "y": [
          1331697.0256808938
         ],
         "yaxis": "y"
        },
        {
         "hovertemplate": "Country=United Kingdom<br>Total_Profit ($)=%{x}<br>Totat_Revenue ($)=%{y}<extra></extra>",
         "legendgroup": "United Kingdom",
         "marker": {
          "color": "#00cc96",
          "symbol": "circle"
         },
         "mode": "markers",
         "name": "United Kingdom",
         "orientation": "v",
         "showlegend": true,
         "type": "scatter",
         "x": [
          394922.8519639089
         ],
         "xaxis": "x",
         "y": [
          1331951.8778204843
         ],
         "yaxis": "y"
        },
        {
         "hovertemplate": "Country=Belgium<br>Total_Profit ($)=%{x}<br>Totat_Revenue ($)=%{y}<extra></extra>",
         "legendgroup": "Belgium",
         "marker": {
          "color": "#ab63fa",
          "symbol": "circle"
         },
         "mode": "markers",
         "name": "Belgium",
         "orientation": "v",
         "showlegend": true,
         "type": "scatter",
         "x": [
          394798.59563124843
         ],
         "xaxis": "x",
         "y": [
          1340650.8190234788
         ],
         "yaxis": "y"
        },
        {
         "hovertemplate": "Country=San Marino<br>Total_Profit ($)=%{x}<br>Totat_Revenue ($)=%{y}<extra></extra>",
         "legendgroup": "San Marino",
         "marker": {
          "color": "#FFA15A",
          "symbol": "circle"
         },
         "mode": "markers",
         "name": "San Marino",
         "orientation": "v",
         "showlegend": true,
         "type": "scatter",
         "x": [
          394652.95465285674
         ],
         "xaxis": "x",
         "y": [
          1351871.373562487
         ],
         "yaxis": "y"
        },
        {
         "hovertemplate": "Country=Finland<br>Total_Profit ($)=%{x}<br>Totat_Revenue ($)=%{y}<extra></extra>",
         "legendgroup": "Finland",
         "marker": {
          "color": "#19d3f3",
          "symbol": "circle"
         },
         "mode": "markers",
         "name": "Finland",
         "orientation": "v",
         "showlegend": true,
         "type": "scatter",
         "x": [
          394650.04854313633
         ],
         "xaxis": "x",
         "y": [
          1348348.266339627
         ],
         "yaxis": "y"
        },
        {
         "hovertemplate": "Country=Greece<br>Total_Profit ($)=%{x}<br>Totat_Revenue ($)=%{y}<extra></extra>",
         "legendgroup": "Greece",
         "marker": {
          "color": "#FF6692",
          "symbol": "circle"
         },
         "mode": "markers",
         "name": "Greece",
         "orientation": "v",
         "showlegend": true,
         "type": "scatter",
         "x": [
          394520.3778526617
         ],
         "xaxis": "x",
         "y": [
          1338486.6194004163
         ],
         "yaxis": "y"
        },
        {
         "hovertemplate": "Country=Cyprus<br>Total_Profit ($)=%{x}<br>Totat_Revenue ($)=%{y}<extra></extra>",
         "legendgroup": "Cyprus",
         "marker": {
          "color": "#B6E880",
          "symbol": "circle"
         },
         "mode": "markers",
         "name": "Cyprus",
         "orientation": "v",
         "showlegend": true,
         "type": "scatter",
         "x": [
          393808.08713277074
         ],
         "xaxis": "x",
         "y": [
          1339112.6957139564
         ],
         "yaxis": "y"
        },
        {
         "hovertemplate": "Country=Slovenia<br>Total_Profit ($)=%{x}<br>Totat_Revenue ($)=%{y}<extra></extra>",
         "legendgroup": "Slovenia",
         "marker": {
          "color": "#FF97FF",
          "symbol": "circle"
         },
         "mode": "markers",
         "name": "Slovenia",
         "orientation": "v",
         "showlegend": true,
         "type": "scatter",
         "x": [
          393309.2194112143
         ],
         "xaxis": "x",
         "y": [
          1329604.0759018697
         ],
         "yaxis": "y"
        },
        {
         "hovertemplate": "Country=Latvia<br>Total_Profit ($)=%{x}<br>Totat_Revenue ($)=%{y}<extra></extra>",
         "legendgroup": "Latvia",
         "marker": {
          "color": "#FECB52",
          "symbol": "circle"
         },
         "mode": "markers",
         "name": "Latvia",
         "orientation": "v",
         "showlegend": true,
         "type": "scatter",
         "x": [
          393242.5128806486
         ],
         "xaxis": "x",
         "y": [
          1333829.0354484364
         ],
         "yaxis": "y"
        }
       ],
       "layout": {
        "height": 500,
        "legend": {
         "title": {
          "text": "Country"
         },
         "tracegroupgap": 0
        },
        "template": {
         "data": {
          "bar": [
           {
            "error_x": {
             "color": "#2a3f5f"
            },
            "error_y": {
             "color": "#2a3f5f"
            },
            "marker": {
             "line": {
              "color": "#E5ECF6",
              "width": 0.5
             }
            },
            "type": "bar"
           }
          ],
          "barpolar": [
           {
            "marker": {
             "line": {
              "color": "#E5ECF6",
              "width": 0.5
             }
            },
            "type": "barpolar"
           }
          ],
          "carpet": [
           {
            "aaxis": {
             "endlinecolor": "#2a3f5f",
             "gridcolor": "white",
             "linecolor": "white",
             "minorgridcolor": "white",
             "startlinecolor": "#2a3f5f"
            },
            "baxis": {
             "endlinecolor": "#2a3f5f",
             "gridcolor": "white",
             "linecolor": "white",
             "minorgridcolor": "white",
             "startlinecolor": "#2a3f5f"
            },
            "type": "carpet"
           }
          ],
          "choropleth": [
           {
            "colorbar": {
             "outlinewidth": 0,
             "ticks": ""
            },
            "type": "choropleth"
           }
          ],
          "contour": [
           {
            "colorbar": {
             "outlinewidth": 0,
             "ticks": ""
            },
            "colorscale": [
             [
              0,
              "#0d0887"
             ],
             [
              0.1111111111111111,
              "#46039f"
             ],
             [
              0.2222222222222222,
              "#7201a8"
             ],
             [
              0.3333333333333333,
              "#9c179e"
             ],
             [
              0.4444444444444444,
              "#bd3786"
             ],
             [
              0.5555555555555556,
              "#d8576b"
             ],
             [
              0.6666666666666666,
              "#ed7953"
             ],
             [
              0.7777777777777778,
              "#fb9f3a"
             ],
             [
              0.8888888888888888,
              "#fdca26"
             ],
             [
              1,
              "#f0f921"
             ]
            ],
            "type": "contour"
           }
          ],
          "contourcarpet": [
           {
            "colorbar": {
             "outlinewidth": 0,
             "ticks": ""
            },
            "type": "contourcarpet"
           }
          ],
          "heatmap": [
           {
            "colorbar": {
             "outlinewidth": 0,
             "ticks": ""
            },
            "colorscale": [
             [
              0,
              "#0d0887"
             ],
             [
              0.1111111111111111,
              "#46039f"
             ],
             [
              0.2222222222222222,
              "#7201a8"
             ],
             [
              0.3333333333333333,
              "#9c179e"
             ],
             [
              0.4444444444444444,
              "#bd3786"
             ],
             [
              0.5555555555555556,
              "#d8576b"
             ],
             [
              0.6666666666666666,
              "#ed7953"
             ],
             [
              0.7777777777777778,
              "#fb9f3a"
             ],
             [
              0.8888888888888888,
              "#fdca26"
             ],
             [
              1,
              "#f0f921"
             ]
            ],
            "type": "heatmap"
           }
          ],
          "heatmapgl": [
           {
            "colorbar": {
             "outlinewidth": 0,
             "ticks": ""
            },
            "colorscale": [
             [
              0,
              "#0d0887"
             ],
             [
              0.1111111111111111,
              "#46039f"
             ],
             [
              0.2222222222222222,
              "#7201a8"
             ],
             [
              0.3333333333333333,
              "#9c179e"
             ],
             [
              0.4444444444444444,
              "#bd3786"
             ],
             [
              0.5555555555555556,
              "#d8576b"
             ],
             [
              0.6666666666666666,
              "#ed7953"
             ],
             [
              0.7777777777777778,
              "#fb9f3a"
             ],
             [
              0.8888888888888888,
              "#fdca26"
             ],
             [
              1,
              "#f0f921"
             ]
            ],
            "type": "heatmapgl"
           }
          ],
          "histogram": [
           {
            "marker": {
             "colorbar": {
              "outlinewidth": 0,
              "ticks": ""
             }
            },
            "type": "histogram"
           }
          ],
          "histogram2d": [
           {
            "colorbar": {
             "outlinewidth": 0,
             "ticks": ""
            },
            "colorscale": [
             [
              0,
              "#0d0887"
             ],
             [
              0.1111111111111111,
              "#46039f"
             ],
             [
              0.2222222222222222,
              "#7201a8"
             ],
             [
              0.3333333333333333,
              "#9c179e"
             ],
             [
              0.4444444444444444,
              "#bd3786"
             ],
             [
              0.5555555555555556,
              "#d8576b"
             ],
             [
              0.6666666666666666,
              "#ed7953"
             ],
             [
              0.7777777777777778,
              "#fb9f3a"
             ],
             [
              0.8888888888888888,
              "#fdca26"
             ],
             [
              1,
              "#f0f921"
             ]
            ],
            "type": "histogram2d"
           }
          ],
          "histogram2dcontour": [
           {
            "colorbar": {
             "outlinewidth": 0,
             "ticks": ""
            },
            "colorscale": [
             [
              0,
              "#0d0887"
             ],
             [
              0.1111111111111111,
              "#46039f"
             ],
             [
              0.2222222222222222,
              "#7201a8"
             ],
             [
              0.3333333333333333,
              "#9c179e"
             ],
             [
              0.4444444444444444,
              "#bd3786"
             ],
             [
              0.5555555555555556,
              "#d8576b"
             ],
             [
              0.6666666666666666,
              "#ed7953"
             ],
             [
              0.7777777777777778,
              "#fb9f3a"
             ],
             [
              0.8888888888888888,
              "#fdca26"
             ],
             [
              1,
              "#f0f921"
             ]
            ],
            "type": "histogram2dcontour"
           }
          ],
          "mesh3d": [
           {
            "colorbar": {
             "outlinewidth": 0,
             "ticks": ""
            },
            "type": "mesh3d"
           }
          ],
          "parcoords": [
           {
            "line": {
             "colorbar": {
              "outlinewidth": 0,
              "ticks": ""
             }
            },
            "type": "parcoords"
           }
          ],
          "pie": [
           {
            "automargin": true,
            "type": "pie"
           }
          ],
          "scatter": [
           {
            "marker": {
             "colorbar": {
              "outlinewidth": 0,
              "ticks": ""
             }
            },
            "type": "scatter"
           }
          ],
          "scatter3d": [
           {
            "line": {
             "colorbar": {
              "outlinewidth": 0,
              "ticks": ""
             }
            },
            "marker": {
             "colorbar": {
              "outlinewidth": 0,
              "ticks": ""
             }
            },
            "type": "scatter3d"
           }
          ],
          "scattercarpet": [
           {
            "marker": {
             "colorbar": {
              "outlinewidth": 0,
              "ticks": ""
             }
            },
            "type": "scattercarpet"
           }
          ],
          "scattergeo": [
           {
            "marker": {
             "colorbar": {
              "outlinewidth": 0,
              "ticks": ""
             }
            },
            "type": "scattergeo"
           }
          ],
          "scattergl": [
           {
            "marker": {
             "colorbar": {
              "outlinewidth": 0,
              "ticks": ""
             }
            },
            "type": "scattergl"
           }
          ],
          "scattermapbox": [
           {
            "marker": {
             "colorbar": {
              "outlinewidth": 0,
              "ticks": ""
             }
            },
            "type": "scattermapbox"
           }
          ],
          "scatterpolar": [
           {
            "marker": {
             "colorbar": {
              "outlinewidth": 0,
              "ticks": ""
             }
            },
            "type": "scatterpolar"
           }
          ],
          "scatterpolargl": [
           {
            "marker": {
             "colorbar": {
              "outlinewidth": 0,
              "ticks": ""
             }
            },
            "type": "scatterpolargl"
           }
          ],
          "scatterternary": [
           {
            "marker": {
             "colorbar": {
              "outlinewidth": 0,
              "ticks": ""
             }
            },
            "type": "scatterternary"
           }
          ],
          "surface": [
           {
            "colorbar": {
             "outlinewidth": 0,
             "ticks": ""
            },
            "colorscale": [
             [
              0,
              "#0d0887"
             ],
             [
              0.1111111111111111,
              "#46039f"
             ],
             [
              0.2222222222222222,
              "#7201a8"
             ],
             [
              0.3333333333333333,
              "#9c179e"
             ],
             [
              0.4444444444444444,
              "#bd3786"
             ],
             [
              0.5555555555555556,
              "#d8576b"
             ],
             [
              0.6666666666666666,
              "#ed7953"
             ],
             [
              0.7777777777777778,
              "#fb9f3a"
             ],
             [
              0.8888888888888888,
              "#fdca26"
             ],
             [
              1,
              "#f0f921"
             ]
            ],
            "type": "surface"
           }
          ],
          "table": [
           {
            "cells": {
             "fill": {
              "color": "#EBF0F8"
             },
             "line": {
              "color": "white"
             }
            },
            "header": {
             "fill": {
              "color": "#C8D4E3"
             },
             "line": {
              "color": "white"
             }
            },
            "type": "table"
           }
          ]
         },
         "layout": {
          "annotationdefaults": {
           "arrowcolor": "#2a3f5f",
           "arrowhead": 0,
           "arrowwidth": 1
          },
          "autotypenumbers": "strict",
          "coloraxis": {
           "colorbar": {
            "outlinewidth": 0,
            "ticks": ""
           }
          },
          "colorscale": {
           "diverging": [
            [
             0,
             "#8e0152"
            ],
            [
             0.1,
             "#c51b7d"
            ],
            [
             0.2,
             "#de77ae"
            ],
            [
             0.3,
             "#f1b6da"
            ],
            [
             0.4,
             "#fde0ef"
            ],
            [
             0.5,
             "#f7f7f7"
            ],
            [
             0.6,
             "#e6f5d0"
            ],
            [
             0.7,
             "#b8e186"
            ],
            [
             0.8,
             "#7fbc41"
            ],
            [
             0.9,
             "#4d9221"
            ],
            [
             1,
             "#276419"
            ]
           ],
           "sequential": [
            [
             0,
             "#0d0887"
            ],
            [
             0.1111111111111111,
             "#46039f"
            ],
            [
             0.2222222222222222,
             "#7201a8"
            ],
            [
             0.3333333333333333,
             "#9c179e"
            ],
            [
             0.4444444444444444,
             "#bd3786"
            ],
            [
             0.5555555555555556,
             "#d8576b"
            ],
            [
             0.6666666666666666,
             "#ed7953"
            ],
            [
             0.7777777777777778,
             "#fb9f3a"
            ],
            [
             0.8888888888888888,
             "#fdca26"
            ],
            [
             1,
             "#f0f921"
            ]
           ],
           "sequentialminus": [
            [
             0,
             "#0d0887"
            ],
            [
             0.1111111111111111,
             "#46039f"
            ],
            [
             0.2222222222222222,
             "#7201a8"
            ],
            [
             0.3333333333333333,
             "#9c179e"
            ],
            [
             0.4444444444444444,
             "#bd3786"
            ],
            [
             0.5555555555555556,
             "#d8576b"
            ],
            [
             0.6666666666666666,
             "#ed7953"
            ],
            [
             0.7777777777777778,
             "#fb9f3a"
            ],
            [
             0.8888888888888888,
             "#fdca26"
            ],
            [
             1,
             "#f0f921"
            ]
           ]
          },
          "colorway": [
           "#636efa",
           "#EF553B",
           "#00cc96",
           "#ab63fa",
           "#FFA15A",
           "#19d3f3",
           "#FF6692",
           "#B6E880",
           "#FF97FF",
           "#FECB52"
          ],
          "font": {
           "color": "#2a3f5f"
          },
          "geo": {
           "bgcolor": "white",
           "lakecolor": "white",
           "landcolor": "#E5ECF6",
           "showlakes": true,
           "showland": true,
           "subunitcolor": "white"
          },
          "hoverlabel": {
           "align": "left"
          },
          "hovermode": "closest",
          "mapbox": {
           "style": "light"
          },
          "paper_bgcolor": "white",
          "plot_bgcolor": "#E5ECF6",
          "polar": {
           "angularaxis": {
            "gridcolor": "white",
            "linecolor": "white",
            "ticks": ""
           },
           "bgcolor": "#E5ECF6",
           "radialaxis": {
            "gridcolor": "white",
            "linecolor": "white",
            "ticks": ""
           }
          },
          "scene": {
           "xaxis": {
            "backgroundcolor": "#E5ECF6",
            "gridcolor": "white",
            "gridwidth": 2,
            "linecolor": "white",
            "showbackground": true,
            "ticks": "",
            "zerolinecolor": "white"
           },
           "yaxis": {
            "backgroundcolor": "#E5ECF6",
            "gridcolor": "white",
            "gridwidth": 2,
            "linecolor": "white",
            "showbackground": true,
            "ticks": "",
            "zerolinecolor": "white"
           },
           "zaxis": {
            "backgroundcolor": "#E5ECF6",
            "gridcolor": "white",
            "gridwidth": 2,
            "linecolor": "white",
            "showbackground": true,
            "ticks": "",
            "zerolinecolor": "white"
           }
          },
          "shapedefaults": {
           "line": {
            "color": "#2a3f5f"
           }
          },
          "ternary": {
           "aaxis": {
            "gridcolor": "white",
            "linecolor": "white",
            "ticks": ""
           },
           "baxis": {
            "gridcolor": "white",
            "linecolor": "white",
            "ticks": ""
           },
           "bgcolor": "#E5ECF6",
           "caxis": {
            "gridcolor": "white",
            "linecolor": "white",
            "ticks": ""
           }
          },
          "title": {
           "x": 0.05
          },
          "xaxis": {
           "automargin": true,
           "gridcolor": "white",
           "linecolor": "white",
           "ticks": "",
           "title": {
            "standoff": 15
           },
           "zerolinecolor": "white",
           "zerolinewidth": 2
          },
          "yaxis": {
           "automargin": true,
           "gridcolor": "white",
           "linecolor": "white",
           "ticks": "",
           "title": {
            "standoff": 15
           },
           "zerolinecolor": "white",
           "zerolinewidth": 2
          }
         }
        },
        "title": {
         "text": "Total_Revenue, Total_Profit By Country"
        },
        "xaxis": {
         "anchor": "y",
         "domain": [
          0,
          1
         ],
         "title": {
          "text": "Total_Profit ($)"
         }
        },
        "yaxis": {
         "anchor": "x",
         "domain": [
          0,
          1
         ],
         "title": {
          "text": "Totat_Revenue ($)"
         }
        }
       }
      },
      "text/html": [
       "<div>                            <div id=\"f233706d-31eb-4e81-8709-4c6fdd488ef2\" class=\"plotly-graph-div\" style=\"height:500px; width:100%;\"></div>            <script type=\"text/javascript\">                require([\"plotly\"], function(Plotly) {                    window.PLOTLYENV=window.PLOTLYENV || {};                                    if (document.getElementById(\"f233706d-31eb-4e81-8709-4c6fdd488ef2\")) {                    Plotly.newPlot(                        \"f233706d-31eb-4e81-8709-4c6fdd488ef2\",                        [{\"hovertemplate\": \"Country=Ukraine<br>Total_Profit ($)=%{x}<br>Totat_Revenue ($)=%{y}<extra></extra>\", \"legendgroup\": \"Ukraine\", \"marker\": {\"color\": \"#636efa\", \"symbol\": \"circle\"}, \"mode\": \"markers\", \"name\": \"Ukraine\", \"orientation\": \"v\", \"showlegend\": true, \"type\": \"scatter\", \"x\": [401247.9530446925], \"xaxis\": \"x\", \"y\": [1351490.6717621007], \"yaxis\": \"y\"}, {\"hovertemplate\": \"Country=Macedonia<br>Total_Profit ($)=%{x}<br>Totat_Revenue ($)=%{y}<extra></extra>\", \"legendgroup\": \"Macedonia\", \"marker\": {\"color\": \"#EF553B\", \"symbol\": \"circle\"}, \"mode\": \"markers\", \"name\": \"Macedonia\", \"orientation\": \"v\", \"showlegend\": true, \"type\": \"scatter\", \"x\": [400799.7947947103], \"xaxis\": \"x\", \"y\": [1356094.557958706], \"yaxis\": \"y\"}, {\"hovertemplate\": \"Country=Sweden<br>Total_Profit ($)=%{x}<br>Totat_Revenue ($)=%{y}<extra></extra>\", \"legendgroup\": \"Sweden\", \"marker\": {\"color\": \"#00cc96\", \"symbol\": \"circle\"}, \"mode\": \"markers\", \"name\": \"Sweden\", \"orientation\": \"v\", \"showlegend\": true, \"type\": \"scatter\", \"x\": [399612.1442873584], \"xaxis\": \"x\", \"y\": [1348094.1792010083], \"yaxis\": \"y\"}, {\"hovertemplate\": \"Country=France<br>Total_Profit ($)=%{x}<br>Totat_Revenue ($)=%{y}<extra></extra>\", \"legendgroup\": \"France\", \"marker\": {\"color\": \"#ab63fa\", \"symbol\": \"circle\"}, \"mode\": \"markers\", \"name\": \"France\", \"orientation\": \"v\", \"showlegend\": true, \"type\": \"scatter\", \"x\": [399056.6688590296], \"xaxis\": \"x\", \"y\": [1343135.571450695], \"yaxis\": \"y\"}, {\"hovertemplate\": \"Country=Albania<br>Total_Profit ($)=%{x}<br>Totat_Revenue ($)=%{y}<extra></extra>\", \"legendgroup\": \"Albania\", \"marker\": {\"color\": \"#FFA15A\", \"symbol\": \"circle\"}, \"mode\": \"markers\", \"name\": \"Albania\", \"orientation\": \"v\", \"showlegend\": true, \"type\": \"scatter\", \"x\": [398833.84855858004], \"xaxis\": \"x\", \"y\": [1350317.350491238], \"yaxis\": \"y\"}, {\"hovertemplate\": \"Country=Malta<br>Total_Profit ($)=%{x}<br>Totat_Revenue ($)=%{y}<extra></extra>\", \"legendgroup\": \"Malta\", \"marker\": {\"color\": \"#19d3f3\", \"symbol\": \"circle\"}, \"mode\": \"markers\", \"name\": \"Malta\", \"orientation\": \"v\", \"showlegend\": true, \"type\": \"scatter\", \"x\": [397387.3406379536], \"xaxis\": \"x\", \"y\": [1330993.9870382315], \"yaxis\": \"y\"}, {\"hovertemplate\": \"Country=Moldova <br>Total_Profit ($)=%{x}<br>Totat_Revenue ($)=%{y}<extra></extra>\", \"legendgroup\": \"Moldova \", \"marker\": {\"color\": \"#FF6692\", \"symbol\": \"circle\"}, \"mode\": \"markers\", \"name\": \"Moldova \", \"orientation\": \"v\", \"showlegend\": true, \"type\": \"scatter\", \"x\": [396509.9090025276], \"xaxis\": \"x\", \"y\": [1347339.6646885788], \"yaxis\": \"y\"}, {\"hovertemplate\": \"Country=Croatia<br>Total_Profit ($)=%{x}<br>Totat_Revenue ($)=%{y}<extra></extra>\", \"legendgroup\": \"Croatia\", \"marker\": {\"color\": \"#B6E880\", \"symbol\": \"circle\"}, \"mode\": \"markers\", \"name\": \"Croatia\", \"orientation\": \"v\", \"showlegend\": true, \"type\": \"scatter\", \"x\": [396390.49269652436], \"xaxis\": \"x\", \"y\": [1356086.927662698], \"yaxis\": \"y\"}, {\"hovertemplate\": \"Country=Ireland<br>Total_Profit ($)=%{x}<br>Totat_Revenue ($)=%{y}<extra></extra>\", \"legendgroup\": \"Ireland\", \"marker\": {\"color\": \"#FF97FF\", \"symbol\": \"circle\"}, \"mode\": \"markers\", \"name\": \"Ireland\", \"orientation\": \"v\", \"showlegend\": true, \"type\": \"scatter\", \"x\": [396225.4513942195], \"xaxis\": \"x\", \"y\": [1339213.1955352586], \"yaxis\": \"y\"}, {\"hovertemplate\": \"Country=Italy<br>Total_Profit ($)=%{x}<br>Totat_Revenue ($)=%{y}<extra></extra>\", \"legendgroup\": \"Italy\", \"marker\": {\"color\": \"#FECB52\", \"symbol\": \"circle\"}, \"mode\": \"markers\", \"name\": \"Italy\", \"orientation\": \"v\", \"showlegend\": true, \"type\": \"scatter\", \"x\": [395991.9646375171], \"xaxis\": \"x\", \"y\": [1335363.4285024921], \"yaxis\": \"y\"}, {\"hovertemplate\": \"Country=Serbia<br>Total_Profit ($)=%{x}<br>Totat_Revenue ($)=%{y}<extra></extra>\", \"legendgroup\": \"Serbia\", \"marker\": {\"color\": \"#636efa\", \"symbol\": \"circle\"}, \"mode\": \"markers\", \"name\": \"Serbia\", \"orientation\": \"v\", \"showlegend\": true, \"type\": \"scatter\", \"x\": [395794.0079368719], \"xaxis\": \"x\", \"y\": [1329312.7724176594], \"yaxis\": \"y\"}, {\"hovertemplate\": \"Country=Vatican City<br>Total_Profit ($)=%{x}<br>Totat_Revenue ($)=%{y}<extra></extra>\", \"legendgroup\": \"Vatican City\", \"marker\": {\"color\": \"#EF553B\", \"symbol\": \"circle\"}, \"mode\": \"markers\", \"name\": \"Vatican City\", \"orientation\": \"v\", \"showlegend\": true, \"type\": \"scatter\", \"x\": [395558.15405583335], \"xaxis\": \"x\", \"y\": [1331697.0256808938], \"yaxis\": \"y\"}, {\"hovertemplate\": \"Country=United Kingdom<br>Total_Profit ($)=%{x}<br>Totat_Revenue ($)=%{y}<extra></extra>\", \"legendgroup\": \"United Kingdom\", \"marker\": {\"color\": \"#00cc96\", \"symbol\": \"circle\"}, \"mode\": \"markers\", \"name\": \"United Kingdom\", \"orientation\": \"v\", \"showlegend\": true, \"type\": \"scatter\", \"x\": [394922.8519639089], \"xaxis\": \"x\", \"y\": [1331951.8778204843], \"yaxis\": \"y\"}, {\"hovertemplate\": \"Country=Belgium<br>Total_Profit ($)=%{x}<br>Totat_Revenue ($)=%{y}<extra></extra>\", \"legendgroup\": \"Belgium\", \"marker\": {\"color\": \"#ab63fa\", \"symbol\": \"circle\"}, \"mode\": \"markers\", \"name\": \"Belgium\", \"orientation\": \"v\", \"showlegend\": true, \"type\": \"scatter\", \"x\": [394798.59563124843], \"xaxis\": \"x\", \"y\": [1340650.8190234788], \"yaxis\": \"y\"}, {\"hovertemplate\": \"Country=San Marino<br>Total_Profit ($)=%{x}<br>Totat_Revenue ($)=%{y}<extra></extra>\", \"legendgroup\": \"San Marino\", \"marker\": {\"color\": \"#FFA15A\", \"symbol\": \"circle\"}, \"mode\": \"markers\", \"name\": \"San Marino\", \"orientation\": \"v\", \"showlegend\": true, \"type\": \"scatter\", \"x\": [394652.95465285674], \"xaxis\": \"x\", \"y\": [1351871.373562487], \"yaxis\": \"y\"}, {\"hovertemplate\": \"Country=Finland<br>Total_Profit ($)=%{x}<br>Totat_Revenue ($)=%{y}<extra></extra>\", \"legendgroup\": \"Finland\", \"marker\": {\"color\": \"#19d3f3\", \"symbol\": \"circle\"}, \"mode\": \"markers\", \"name\": \"Finland\", \"orientation\": \"v\", \"showlegend\": true, \"type\": \"scatter\", \"x\": [394650.04854313633], \"xaxis\": \"x\", \"y\": [1348348.266339627], \"yaxis\": \"y\"}, {\"hovertemplate\": \"Country=Greece<br>Total_Profit ($)=%{x}<br>Totat_Revenue ($)=%{y}<extra></extra>\", \"legendgroup\": \"Greece\", \"marker\": {\"color\": \"#FF6692\", \"symbol\": \"circle\"}, \"mode\": \"markers\", \"name\": \"Greece\", \"orientation\": \"v\", \"showlegend\": true, \"type\": \"scatter\", \"x\": [394520.3778526617], \"xaxis\": \"x\", \"y\": [1338486.6194004163], \"yaxis\": \"y\"}, {\"hovertemplate\": \"Country=Cyprus<br>Total_Profit ($)=%{x}<br>Totat_Revenue ($)=%{y}<extra></extra>\", \"legendgroup\": \"Cyprus\", \"marker\": {\"color\": \"#B6E880\", \"symbol\": \"circle\"}, \"mode\": \"markers\", \"name\": \"Cyprus\", \"orientation\": \"v\", \"showlegend\": true, \"type\": \"scatter\", \"x\": [393808.08713277074], \"xaxis\": \"x\", \"y\": [1339112.6957139564], \"yaxis\": \"y\"}, {\"hovertemplate\": \"Country=Slovenia<br>Total_Profit ($)=%{x}<br>Totat_Revenue ($)=%{y}<extra></extra>\", \"legendgroup\": \"Slovenia\", \"marker\": {\"color\": \"#FF97FF\", \"symbol\": \"circle\"}, \"mode\": \"markers\", \"name\": \"Slovenia\", \"orientation\": \"v\", \"showlegend\": true, \"type\": \"scatter\", \"x\": [393309.2194112143], \"xaxis\": \"x\", \"y\": [1329604.0759018697], \"yaxis\": \"y\"}, {\"hovertemplate\": \"Country=Latvia<br>Total_Profit ($)=%{x}<br>Totat_Revenue ($)=%{y}<extra></extra>\", \"legendgroup\": \"Latvia\", \"marker\": {\"color\": \"#FECB52\", \"symbol\": \"circle\"}, \"mode\": \"markers\", \"name\": \"Latvia\", \"orientation\": \"v\", \"showlegend\": true, \"type\": \"scatter\", \"x\": [393242.5128806486], \"xaxis\": \"x\", \"y\": [1333829.0354484364], \"yaxis\": \"y\"}],                        {\"height\": 500, \"legend\": {\"title\": {\"text\": \"Country\"}, \"tracegroupgap\": 0}, \"template\": {\"data\": {\"bar\": [{\"error_x\": {\"color\": \"#2a3f5f\"}, \"error_y\": {\"color\": \"#2a3f5f\"}, \"marker\": {\"line\": {\"color\": \"#E5ECF6\", \"width\": 0.5}}, \"type\": \"bar\"}], \"barpolar\": [{\"marker\": {\"line\": {\"color\": \"#E5ECF6\", \"width\": 0.5}}, \"type\": \"barpolar\"}], \"carpet\": [{\"aaxis\": {\"endlinecolor\": \"#2a3f5f\", \"gridcolor\": \"white\", \"linecolor\": \"white\", \"minorgridcolor\": \"white\", \"startlinecolor\": \"#2a3f5f\"}, \"baxis\": {\"endlinecolor\": \"#2a3f5f\", \"gridcolor\": \"white\", \"linecolor\": \"white\", \"minorgridcolor\": \"white\", \"startlinecolor\": \"#2a3f5f\"}, \"type\": \"carpet\"}], \"choropleth\": [{\"colorbar\": {\"outlinewidth\": 0, \"ticks\": \"\"}, \"type\": \"choropleth\"}], \"contour\": [{\"colorbar\": {\"outlinewidth\": 0, \"ticks\": \"\"}, \"colorscale\": [[0.0, \"#0d0887\"], [0.1111111111111111, \"#46039f\"], [0.2222222222222222, \"#7201a8\"], [0.3333333333333333, \"#9c179e\"], [0.4444444444444444, \"#bd3786\"], [0.5555555555555556, \"#d8576b\"], [0.6666666666666666, \"#ed7953\"], [0.7777777777777778, \"#fb9f3a\"], [0.8888888888888888, \"#fdca26\"], [1.0, \"#f0f921\"]], \"type\": \"contour\"}], \"contourcarpet\": [{\"colorbar\": {\"outlinewidth\": 0, \"ticks\": \"\"}, \"type\": \"contourcarpet\"}], \"heatmap\": [{\"colorbar\": {\"outlinewidth\": 0, \"ticks\": \"\"}, \"colorscale\": [[0.0, \"#0d0887\"], [0.1111111111111111, \"#46039f\"], [0.2222222222222222, \"#7201a8\"], [0.3333333333333333, \"#9c179e\"], [0.4444444444444444, \"#bd3786\"], [0.5555555555555556, \"#d8576b\"], [0.6666666666666666, \"#ed7953\"], [0.7777777777777778, \"#fb9f3a\"], [0.8888888888888888, \"#fdca26\"], [1.0, \"#f0f921\"]], \"type\": \"heatmap\"}], \"heatmapgl\": [{\"colorbar\": {\"outlinewidth\": 0, \"ticks\": \"\"}, \"colorscale\": [[0.0, \"#0d0887\"], [0.1111111111111111, \"#46039f\"], [0.2222222222222222, \"#7201a8\"], [0.3333333333333333, \"#9c179e\"], [0.4444444444444444, \"#bd3786\"], [0.5555555555555556, \"#d8576b\"], [0.6666666666666666, \"#ed7953\"], [0.7777777777777778, \"#fb9f3a\"], [0.8888888888888888, \"#fdca26\"], [1.0, \"#f0f921\"]], \"type\": \"heatmapgl\"}], \"histogram\": [{\"marker\": {\"colorbar\": {\"outlinewidth\": 0, \"ticks\": \"\"}}, \"type\": \"histogram\"}], \"histogram2d\": [{\"colorbar\": {\"outlinewidth\": 0, \"ticks\": \"\"}, \"colorscale\": [[0.0, \"#0d0887\"], [0.1111111111111111, \"#46039f\"], [0.2222222222222222, \"#7201a8\"], [0.3333333333333333, \"#9c179e\"], [0.4444444444444444, \"#bd3786\"], [0.5555555555555556, \"#d8576b\"], [0.6666666666666666, \"#ed7953\"], [0.7777777777777778, \"#fb9f3a\"], [0.8888888888888888, \"#fdca26\"], [1.0, \"#f0f921\"]], \"type\": \"histogram2d\"}], \"histogram2dcontour\": [{\"colorbar\": {\"outlinewidth\": 0, \"ticks\": \"\"}, \"colorscale\": [[0.0, \"#0d0887\"], [0.1111111111111111, \"#46039f\"], [0.2222222222222222, \"#7201a8\"], [0.3333333333333333, \"#9c179e\"], [0.4444444444444444, \"#bd3786\"], [0.5555555555555556, \"#d8576b\"], [0.6666666666666666, \"#ed7953\"], [0.7777777777777778, \"#fb9f3a\"], [0.8888888888888888, \"#fdca26\"], [1.0, \"#f0f921\"]], \"type\": \"histogram2dcontour\"}], \"mesh3d\": [{\"colorbar\": {\"outlinewidth\": 0, \"ticks\": \"\"}, \"type\": \"mesh3d\"}], \"parcoords\": [{\"line\": {\"colorbar\": {\"outlinewidth\": 0, \"ticks\": \"\"}}, \"type\": \"parcoords\"}], \"pie\": [{\"automargin\": true, \"type\": \"pie\"}], \"scatter\": [{\"marker\": {\"colorbar\": {\"outlinewidth\": 0, \"ticks\": \"\"}}, \"type\": \"scatter\"}], \"scatter3d\": [{\"line\": {\"colorbar\": {\"outlinewidth\": 0, \"ticks\": \"\"}}, \"marker\": {\"colorbar\": {\"outlinewidth\": 0, \"ticks\": \"\"}}, \"type\": \"scatter3d\"}], \"scattercarpet\": [{\"marker\": {\"colorbar\": {\"outlinewidth\": 0, \"ticks\": \"\"}}, \"type\": \"scattercarpet\"}], \"scattergeo\": [{\"marker\": {\"colorbar\": {\"outlinewidth\": 0, \"ticks\": \"\"}}, \"type\": \"scattergeo\"}], \"scattergl\": [{\"marker\": {\"colorbar\": {\"outlinewidth\": 0, \"ticks\": \"\"}}, \"type\": \"scattergl\"}], \"scattermapbox\": [{\"marker\": {\"colorbar\": {\"outlinewidth\": 0, \"ticks\": \"\"}}, \"type\": \"scattermapbox\"}], \"scatterpolar\": [{\"marker\": {\"colorbar\": {\"outlinewidth\": 0, \"ticks\": \"\"}}, \"type\": \"scatterpolar\"}], \"scatterpolargl\": [{\"marker\": {\"colorbar\": {\"outlinewidth\": 0, \"ticks\": \"\"}}, \"type\": \"scatterpolargl\"}], \"scatterternary\": [{\"marker\": {\"colorbar\": {\"outlinewidth\": 0, \"ticks\": \"\"}}, \"type\": \"scatterternary\"}], \"surface\": [{\"colorbar\": {\"outlinewidth\": 0, \"ticks\": \"\"}, \"colorscale\": [[0.0, \"#0d0887\"], [0.1111111111111111, \"#46039f\"], [0.2222222222222222, \"#7201a8\"], [0.3333333333333333, \"#9c179e\"], [0.4444444444444444, \"#bd3786\"], [0.5555555555555556, \"#d8576b\"], [0.6666666666666666, \"#ed7953\"], [0.7777777777777778, \"#fb9f3a\"], [0.8888888888888888, \"#fdca26\"], [1.0, \"#f0f921\"]], \"type\": \"surface\"}], \"table\": [{\"cells\": {\"fill\": {\"color\": \"#EBF0F8\"}, \"line\": {\"color\": \"white\"}}, \"header\": {\"fill\": {\"color\": \"#C8D4E3\"}, \"line\": {\"color\": \"white\"}}, \"type\": \"table\"}]}, \"layout\": {\"annotationdefaults\": {\"arrowcolor\": \"#2a3f5f\", \"arrowhead\": 0, \"arrowwidth\": 1}, \"autotypenumbers\": \"strict\", \"coloraxis\": {\"colorbar\": {\"outlinewidth\": 0, \"ticks\": \"\"}}, \"colorscale\": {\"diverging\": [[0, \"#8e0152\"], [0.1, \"#c51b7d\"], [0.2, \"#de77ae\"], [0.3, \"#f1b6da\"], [0.4, \"#fde0ef\"], [0.5, \"#f7f7f7\"], [0.6, \"#e6f5d0\"], [0.7, \"#b8e186\"], [0.8, \"#7fbc41\"], [0.9, \"#4d9221\"], [1, \"#276419\"]], \"sequential\": [[0.0, \"#0d0887\"], [0.1111111111111111, \"#46039f\"], [0.2222222222222222, \"#7201a8\"], [0.3333333333333333, \"#9c179e\"], [0.4444444444444444, \"#bd3786\"], [0.5555555555555556, \"#d8576b\"], [0.6666666666666666, \"#ed7953\"], [0.7777777777777778, \"#fb9f3a\"], [0.8888888888888888, \"#fdca26\"], [1.0, \"#f0f921\"]], \"sequentialminus\": [[0.0, \"#0d0887\"], [0.1111111111111111, \"#46039f\"], [0.2222222222222222, \"#7201a8\"], [0.3333333333333333, \"#9c179e\"], [0.4444444444444444, \"#bd3786\"], [0.5555555555555556, \"#d8576b\"], [0.6666666666666666, \"#ed7953\"], [0.7777777777777778, \"#fb9f3a\"], [0.8888888888888888, \"#fdca26\"], [1.0, \"#f0f921\"]]}, \"colorway\": [\"#636efa\", \"#EF553B\", \"#00cc96\", \"#ab63fa\", \"#FFA15A\", \"#19d3f3\", \"#FF6692\", \"#B6E880\", \"#FF97FF\", \"#FECB52\"], \"font\": {\"color\": \"#2a3f5f\"}, \"geo\": {\"bgcolor\": \"white\", \"lakecolor\": \"white\", \"landcolor\": \"#E5ECF6\", \"showlakes\": true, \"showland\": true, \"subunitcolor\": \"white\"}, \"hoverlabel\": {\"align\": \"left\"}, \"hovermode\": \"closest\", \"mapbox\": {\"style\": \"light\"}, \"paper_bgcolor\": \"white\", \"plot_bgcolor\": \"#E5ECF6\", \"polar\": {\"angularaxis\": {\"gridcolor\": \"white\", \"linecolor\": \"white\", \"ticks\": \"\"}, \"bgcolor\": \"#E5ECF6\", \"radialaxis\": {\"gridcolor\": \"white\", \"linecolor\": \"white\", \"ticks\": \"\"}}, \"scene\": {\"xaxis\": {\"backgroundcolor\": \"#E5ECF6\", \"gridcolor\": \"white\", \"gridwidth\": 2, \"linecolor\": \"white\", \"showbackground\": true, \"ticks\": \"\", \"zerolinecolor\": \"white\"}, \"yaxis\": {\"backgroundcolor\": \"#E5ECF6\", \"gridcolor\": \"white\", \"gridwidth\": 2, \"linecolor\": \"white\", \"showbackground\": true, \"ticks\": \"\", \"zerolinecolor\": \"white\"}, \"zaxis\": {\"backgroundcolor\": \"#E5ECF6\", \"gridcolor\": \"white\", \"gridwidth\": 2, \"linecolor\": \"white\", \"showbackground\": true, \"ticks\": \"\", \"zerolinecolor\": \"white\"}}, \"shapedefaults\": {\"line\": {\"color\": \"#2a3f5f\"}}, \"ternary\": {\"aaxis\": {\"gridcolor\": \"white\", \"linecolor\": \"white\", \"ticks\": \"\"}, \"baxis\": {\"gridcolor\": \"white\", \"linecolor\": \"white\", \"ticks\": \"\"}, \"bgcolor\": \"#E5ECF6\", \"caxis\": {\"gridcolor\": \"white\", \"linecolor\": \"white\", \"ticks\": \"\"}}, \"title\": {\"x\": 0.05}, \"xaxis\": {\"automargin\": true, \"gridcolor\": \"white\", \"linecolor\": \"white\", \"ticks\": \"\", \"title\": {\"standoff\": 15}, \"zerolinecolor\": \"white\", \"zerolinewidth\": 2}, \"yaxis\": {\"automargin\": true, \"gridcolor\": \"white\", \"linecolor\": \"white\", \"ticks\": \"\", \"title\": {\"standoff\": 15}, \"zerolinecolor\": \"white\", \"zerolinewidth\": 2}}}, \"title\": {\"text\": \"Total_Revenue, Total_Profit By Country\"}, \"xaxis\": {\"anchor\": \"y\", \"domain\": [0.0, 1.0], \"title\": {\"text\": \"Total_Profit ($)\"}}, \"yaxis\": {\"anchor\": \"x\", \"domain\": [0.0, 1.0], \"title\": {\"text\": \"Totat_Revenue ($)\"}}},                        {\"responsive\": true}                    ).then(function(){\n",
       "                            \n",
       "var gd = document.getElementById('f233706d-31eb-4e81-8709-4c6fdd488ef2');\n",
       "var x = new MutationObserver(function (mutations, observer) {{\n",
       "        var display = window.getComputedStyle(gd).display;\n",
       "        if (!display || display === 'none') {{\n",
       "            console.log([gd, 'removed!']);\n",
       "            Plotly.purge(gd);\n",
       "            observer.disconnect();\n",
       "        }}\n",
       "}});\n",
       "\n",
       "// Listen for the removal of the full notebook cells\n",
       "var notebookContainer = gd.closest('#notebook-container');\n",
       "if (notebookContainer) {{\n",
       "    x.observe(notebookContainer, {childList: true});\n",
       "}}\n",
       "\n",
       "// Listen for the clearing of the current output cell\n",
       "var outputEl = gd.closest('.output');\n",
       "if (outputEl) {{\n",
       "    x.observe(outputEl, {childList: true});\n",
       "}}\n",
       "\n",
       "                        })                };                });            </script>        </div>"
      ]
     },
     "metadata": {},
     "output_type": "display_data"
    }
   ],
   "source": [
    "country_pro_rev = sales_filter.loc[:,[\"Country\",\"Total_Profit\",\"Total_Revenue\"]]\n",
    "country_pro_rev = country_pro_rev.groupby(['Country'],\n",
    "                                          as_index=False).mean()\n",
    "\n",
    "country_pro_rev = country_pro_rev.sort_values(by='Total_Profit', \n",
    "                                            ascending=False)[:20]\n",
    "px.scatter(country_pro_rev,\n",
    "           x=\"Total_Profit\",y=\"Total_Revenue\",\n",
    "           color=\"Country\",\n",
    "           height=500,\n",
    "           labels={\"Total_Profit\":\"Total_Profit ($)\",\"Total_Revenue\":\"Totat_Revenue ($)\"},\n",
    "           title=\"Total_Revenue, Total_Profit By Country\")"
   ]
  },
  {
   "cell_type": "markdown",
   "id": "7b80c8e9",
   "metadata": {},
   "source": [
    "### Question5:Profit  by products for eac year"
   ]
  },
  {
   "cell_type": "code",
   "execution_count": 79,
   "id": "6a3b39f6",
   "metadata": {},
   "outputs": [
    {
     "data": {
      "application/vnd.plotly.v1+json": {
       "config": {
        "plotlyServerURL": "https://plot.ly"
       },
       "data": [
        {
         "hovertemplate": "Products=Baby Food<br>Month_Year=%{x}<br>Total_Profit ($)=%{y}<extra></extra>",
         "legendgroup": "Baby Food",
         "line": {
          "color": "#636efa",
          "dash": "solid"
         },
         "mode": "lines",
         "name": "Baby Food",
         "showlegend": true,
         "type": "scattergl",
         "x": [
          "2010-01",
          "2010-02",
          "2010-03",
          "2010-04",
          "2010-05",
          "2010-06",
          "2010-07",
          "2010-08",
          "2010-09",
          "2010-10",
          "2010-11",
          "2010-12",
          "2011-01",
          "2011-02",
          "2011-03",
          "2011-04",
          "2011-05",
          "2011-06",
          "2011-07",
          "2011-08",
          "2011-09",
          "2011-10",
          "2011-11",
          "2011-12",
          "2012-01",
          "2012-02",
          "2012-03",
          "2012-04",
          "2012-05",
          "2012-06",
          "2012-07",
          "2012-08",
          "2012-09",
          "2012-10",
          "2012-11",
          "2012-12",
          "2013-01",
          "2013-02",
          "2013-03",
          "2013-04",
          "2013-05",
          "2013-06",
          "2013-07",
          "2013-08",
          "2013-09",
          "2013-10",
          "2013-11",
          "2013-12",
          "2014-01",
          "2014-02",
          "2014-03",
          "2014-04",
          "2014-05",
          "2014-06",
          "2014-07",
          "2014-08",
          "2014-09",
          "2014-10",
          "2014-11",
          "2014-12",
          "2015-01",
          "2015-02",
          "2015-03",
          "2015-04",
          "2015-05",
          "2015-06",
          "2015-07",
          "2015-08",
          "2015-09",
          "2015-10",
          "2015-11",
          "2015-12",
          "2016-01",
          "2016-02",
          "2016-03",
          "2016-04",
          "2016-05",
          "2016-06",
          "2016-07",
          "2016-08",
          "2016-09",
          "2016-10",
          "2016-11",
          "2016-12",
          "2017-01",
          "2017-02",
          "2017-03",
          "2017-04",
          "2017-05",
          "2017-06",
          "2017-07"
         ],
         "xaxis": "x",
         "y": [
          496502.98378378403,
          495396.97289156646,
          476885.35174757283,
          476493.0649425283,
          473055.20029999985,
          492388.15225130913,
          505039.11832512345,
          512698.6945177666,
          494703.82212560374,
          455590.7896938775,
          496549.98291457305,
          480791.37978947366,
          471801.6177777778,
          465268.91541176446,
          457458.73893719795,
          455082.5162841531,
          460055.16519607825,
          466696.8198882682,
          458281.65304347815,
          489139.77673684224,
          454983.34245989315,
          487681.52180790977,
          442010.9645263157,
          479161.26793969877,
          495557.1459259257,
          501717.87769696955,
          489839.22010204097,
          487950.85510638275,
          499404.59542553214,
          489087.3060000002,
          503624.4749999999,
          483870.29494949506,
          470517.7492307692,
          495679.2444919786,
          479298.45387096814,
          479262.20377142803,
          456634.77913978504,
          500401.18250000005,
          470378.8507920791,
          488345.23952153104,
          492386.48766666657,
          500781.20849161997,
          506122.6370526316,
          474253.75791044795,
          464524.7786666667,
          480656.74867724866,
          456168.17124378117,
          493039.0554945053,
          445802.36536082474,
          475762.7025165562,
          474162.0065240644,
          468781.130842105,
          498466.45021052635,
          460165.30767567584,
          473854.59359223297,
          493250.2443636367,
          482297.8512568306,
          494904.12404624274,
          471861.4616494842,
          493445.7406666667,
          477092.62918918923,
          468371.34942675167,
          463858.7253260869,
          481834.9101020411,
          500011.4907608693,
          465539.77883597894,
          471142.40891089104,
          499951.2711578947,
          463319.67602409655,
          475553.22959595954,
          479268.91027027037,
          504121.6798850574,
          479436.5880829015,
          469864.484134078,
          464588.039468085,
          490551.7827544912,
          494331.66382978705,
          458313.39610810805,
          492574.7303921572,
          481811.6334391532,
          491063.9590673577,
          482225.9421538463,
          478457.4657843139,
          462735.6839593911,
          463608.35103773576,
          497439.94206521724,
          473879.06858585845,
          486906.5153299491,
          462645.50360655726,
          491370.904222222,
          468921.8434825872
         ],
         "yaxis": "y"
        },
        {
         "hovertemplate": "Products=Beverages<br>Month_Year=%{x}<br>Total_Profit ($)=%{y}<extra></extra>",
         "legendgroup": "Beverages",
         "line": {
          "color": "#EF553B",
          "dash": "solid"
         },
         "mode": "lines",
         "name": "Beverages",
         "showlegend": true,
         "type": "scattergl",
         "x": [
          "2010-01",
          "2010-02",
          "2010-03",
          "2010-04",
          "2010-05",
          "2010-06",
          "2010-07",
          "2010-08",
          "2010-09",
          "2010-10",
          "2010-11",
          "2010-12",
          "2011-01",
          "2011-02",
          "2011-03",
          "2011-04",
          "2011-05",
          "2011-06",
          "2011-07",
          "2011-08",
          "2011-09",
          "2011-10",
          "2011-11",
          "2011-12",
          "2012-01",
          "2012-02",
          "2012-03",
          "2012-04",
          "2012-05",
          "2012-06",
          "2012-07",
          "2012-08",
          "2012-09",
          "2012-10",
          "2012-11",
          "2012-12",
          "2013-01",
          "2013-02",
          "2013-03",
          "2013-04",
          "2013-05",
          "2013-06",
          "2013-07",
          "2013-08",
          "2013-09",
          "2013-10",
          "2013-11",
          "2013-12",
          "2014-01",
          "2014-02",
          "2014-03",
          "2014-04",
          "2014-05",
          "2014-06",
          "2014-07",
          "2014-08",
          "2014-09",
          "2014-10",
          "2014-11",
          "2014-12",
          "2015-01",
          "2015-02",
          "2015-03",
          "2015-04",
          "2015-05",
          "2015-06",
          "2015-07",
          "2015-08",
          "2015-09",
          "2015-10",
          "2015-11",
          "2015-12",
          "2016-01",
          "2016-02",
          "2016-03",
          "2016-04",
          "2016-05",
          "2016-06",
          "2016-07",
          "2016-08",
          "2016-09",
          "2016-10",
          "2016-11",
          "2016-12",
          "2017-01",
          "2017-02",
          "2017-03",
          "2017-04",
          "2017-05",
          "2017-06",
          "2017-07"
         ],
         "xaxis": "x",
         "y": [
          77482.04181818184,
          78160.38447761195,
          79210.79422018347,
          81147.84808290155,
          79502.93296089386,
          76504.1276842105,
          73604.7156069364,
          76893.97764705883,
          78788.01831683166,
          76722.95557894735,
          78916.78857142858,
          81566.17605633807,
          75478.71046153849,
          76857.47005025127,
          79209.78272727273,
          79896.27016759779,
          78477.64312499999,
          81451.92299999998,
          85947.72395939085,
          76806.5897237569,
          77815.38648648647,
          79882.96500000001,
          75099.5817112299,
          80739.24272727275,
          75418.07062500004,
          82739.17978021978,
          77048.04029268293,
          78623.7648803828,
          75489.86762790699,
          83442.04590361445,
          76982.46033519552,
          76559.13,
          80379.63097826089,
          78805.05593582884,
          82709.58802139036,
          77714.58983606556,
          82348.87292307692,
          79589.42847457629,
          79255.02857142854,
          80819.16641711228,
          78702.36786885247,
          77078.1640909091,
          83360.61419689118,
          82391.21454545455,
          75635.31428571421,
          78409.93320000001,
          77803.49557894736,
          77986.97999999998,
          82285.64399999997,
          77981.90624999997,
          76529.02799999996,
          75367.0944723618,
          80429.83601941747,
          84872.96756756755,
          78437.0437320574,
          80178.7421052632,
          82917.81000000003,
          71185.5478125,
          79514.0309189189,
          73961.42225806456,
          76640.11752475247,
          74689.880625,
          75713.80128440366,
          86164.60666666666,
          78078.74195876296,
          77998.65559322035,
          77778.02791443847,
          77065.49663265306,
          77993.51142857144,
          82354.3971428572,
          76603.58557377053,
          80068.01399999997,
          79904.90783505158,
          82192.82254335254,
          75277.28857142858,
          81544.90354838708,
          79167.02926829268,
          78412.88598930479,
          78213.90934673368,
          82898.55168224304,
          78497.12226804125,
          80800.52704225352,
          79244.71181347154,
          78311.70841121498,
          77703.48870967746,
          80865.88258064521,
          79146.59390862947,
          75039.620625,
          82904.20484210528,
          86320.25999999997,
          78423.53027932964
         ],
         "yaxis": "y"
        },
        {
         "hovertemplate": "Products=Cereal<br>Month_Year=%{x}<br>Total_Profit ($)=%{y}<extra></extra>",
         "legendgroup": "Cereal",
         "line": {
          "color": "#00cc96",
          "dash": "solid"
         },
         "mode": "lines",
         "name": "Cereal",
         "showlegend": true,
         "type": "scattergl",
         "x": [
          "2010-01",
          "2010-02",
          "2010-03",
          "2010-04",
          "2010-05",
          "2010-06",
          "2010-07",
          "2010-08",
          "2010-09",
          "2010-10",
          "2010-11",
          "2010-12",
          "2011-01",
          "2011-02",
          "2011-03",
          "2011-04",
          "2011-05",
          "2011-06",
          "2011-07",
          "2011-08",
          "2011-09",
          "2011-10",
          "2011-11",
          "2011-12",
          "2012-01",
          "2012-02",
          "2012-03",
          "2012-04",
          "2012-05",
          "2012-06",
          "2012-07",
          "2012-08",
          "2012-09",
          "2012-10",
          "2012-11",
          "2012-12",
          "2013-01",
          "2013-02",
          "2013-03",
          "2013-04",
          "2013-05",
          "2013-06",
          "2013-07",
          "2013-08",
          "2013-09",
          "2013-10",
          "2013-11",
          "2013-12",
          "2014-01",
          "2014-02",
          "2014-03",
          "2014-04",
          "2014-05",
          "2014-06",
          "2014-07",
          "2014-08",
          "2014-09",
          "2014-10",
          "2014-11",
          "2014-12",
          "2015-01",
          "2015-02",
          "2015-03",
          "2015-04",
          "2015-05",
          "2015-06",
          "2015-07",
          "2015-08",
          "2015-09",
          "2015-10",
          "2015-11",
          "2015-12",
          "2016-01",
          "2016-02",
          "2016-03",
          "2016-04",
          "2016-05",
          "2016-06",
          "2016-07",
          "2016-08",
          "2016-09",
          "2016-10",
          "2016-11",
          "2016-12",
          "2017-01",
          "2017-02",
          "2017-03",
          "2017-04",
          "2017-05",
          "2017-06",
          "2017-07"
         ],
         "xaxis": "x",
         "y": [
          450173.4923076923,
          412673.38316666667,
          458340.1753266333,
          446634.2190476191,
          465087.81046875,
          471306.26021052606,
          418934.69113300514,
          444206.8097802195,
          447889.2478074865,
          463831.3835885166,
          425968.60111675103,
          426110.9711731843,
          434507.4203743313,
          449972.42451612925,
          441764.18078212265,
          445768.772727273,
          460079.0497206703,
          457876.279230769,
          436214.0593500002,
          440557.6248241205,
          457237.0633695653,
          438027.99966101686,
          439069.2658333333,
          445541.8496791448,
          434357.2196954314,
          410602.6086407769,
          427386.94050761405,
          428068.3165945946,
          443556.04646153847,
          437659.50097297324,
          439802.74796875013,
          448111.4639108909,
          437700.2222222223,
          444204.6259459458,
          433360.86263736256,
          439494.5492537314,
          448288.8097927462,
          443191.1616666664,
          460850.7458638743,
          465003.6424864866,
          455715.41834170837,
          441814.8015075376,
          421791.67849740933,
          433302.8544827587,
          442216.93070175435,
          439155.32080402004,
          463805.20412621397,
          453219.0982872929,
          434157.1052284261,
          451018.4305434784,
          438697.67999999964,
          454501.45077348076,
          440449.3653623186,
          451353.2108695654,
          444360.62538461527,
          429636.766751269,
          433941.31344827596,
          448142.00678571395,
          422064.90750000015,
          434022.50257731957,
          467813.6693999998,
          454114.4244705883,
          463119.29921465955,
          448555.9032487313,
          426220.2604663213,
          412149.9055670101,
          445194.27999999974,
          458041.56705882377,
          419672.43731707335,
          432545.9232227488,
          453247.9889189187,
          426419.2985869564,
          452576.62292553217,
          452013.8048387097,
          432975.9411734695,
          440900.06860465097,
          448894.1178061222,
          440584.4198461537,
          437004.3454285715,
          413225.25742105284,
          453738.29333333333,
          447866.9793650791,
          462242.8233519555,
          438443.08351351396,
          425735.93909547746,
          450240.4648333335,
          413714.40515151527,
          477365.9347976879,
          427749.5667272726,
          445887.5738805973,
          441027.7305527638
         ],
         "yaxis": "y"
        },
        {
         "hovertemplate": "Products=Clothes<br>Month_Year=%{x}<br>Total_Profit ($)=%{y}<extra></extra>",
         "legendgroup": "Clothes",
         "line": {
          "color": "#ab63fa",
          "dash": "solid"
         },
         "mode": "lines",
         "name": "Clothes",
         "showlegend": true,
         "type": "scattergl",
         "x": [
          "2010-01",
          "2010-02",
          "2010-03",
          "2010-04",
          "2010-05",
          "2010-06",
          "2010-07",
          "2010-08",
          "2010-09",
          "2010-10",
          "2010-11",
          "2010-12",
          "2011-01",
          "2011-02",
          "2011-03",
          "2011-04",
          "2011-05",
          "2011-06",
          "2011-07",
          "2011-08",
          "2011-09",
          "2011-10",
          "2011-11",
          "2011-12",
          "2012-01",
          "2012-02",
          "2012-03",
          "2012-04",
          "2012-05",
          "2012-06",
          "2012-07",
          "2012-08",
          "2012-09",
          "2012-10",
          "2012-11",
          "2012-12",
          "2013-01",
          "2013-02",
          "2013-03",
          "2013-04",
          "2013-05",
          "2013-06",
          "2013-07",
          "2013-08",
          "2013-09",
          "2013-10",
          "2013-11",
          "2013-12",
          "2014-01",
          "2014-02",
          "2014-03",
          "2014-04",
          "2014-05",
          "2014-06",
          "2014-07",
          "2014-08",
          "2014-09",
          "2014-10",
          "2014-11",
          "2014-12",
          "2015-01",
          "2015-02",
          "2015-03",
          "2015-04",
          "2015-05",
          "2015-06",
          "2015-07",
          "2015-08",
          "2015-09",
          "2015-10",
          "2015-11",
          "2015-12",
          "2016-01",
          "2016-02",
          "2016-03",
          "2016-04",
          "2016-05",
          "2016-06",
          "2016-07",
          "2016-08",
          "2016-09",
          "2016-10",
          "2016-11",
          "2016-12",
          "2017-01",
          "2017-02",
          "2017-03",
          "2017-04",
          "2017-05",
          "2017-06",
          "2017-07"
         ],
         "xaxis": "x",
         "y": [
          379213.6541538461,
          366170.18033898284,
          353852.27999999997,
          366835.76727272716,
          363643.45979381446,
          359145.3267692307,
          354705.0971428572,
          363251.161658986,
          373145.35776536306,
          365337.99000000017,
          375265.344,
          383042.91461538454,
          385394.6500598801,
          347953.25106382946,
          376322.38408839796,
          383122.3569230768,
          384465.7440000003,
          371992.1454545454,
          365298.4433898302,
          373125.54804123705,
          359855.14604651177,
          369092.0748768472,
          351148.7001015231,
          379592.15261538466,
          355148.22963730566,
          373157.22389610397,
          349379.78399999964,
          359028.0606315789,
          378562.31999999995,
          354844.28783505125,
          383702.3018181821,
          388359.06545454543,
          377369.7320930232,
          376615.6345023696,
          379141.882303665,
          363884.648275862,
          377064.3438805968,
          369141.1436065574,
          362440.0152808988,
          359508.79200000025,
          348366.63920792064,
          389702.18011173146,
          347241.0109090908,
          346761.1356279069,
          367687.55999999994,
          388580.4764245809,
          358549.4983425415,
          361637.71826086944,
          373250.18204081646,
          384040.4266666668,
          361846.62994974904,
          359113.8480000001,
          368549.12000000005,
          379888.2587755104,
          370541.335477387,
          371872.8926732672,
          354246.54242774576,
          375366.90461538464,
          378767.1672000002,
          367927.8975,
          373668.5814084508,
          367241.8385454546,
          339434.8089795919,
          367874.83200000017,
          374804.79545454535,
          355188.79843902413,
          374508.2635714286,
          367711.5763636364,
          358007.49098901084,
          350115.96368098166,
          359015.81595854915,
          386834.8777880185,
          368699.66608695645,
          351777.60000000015,
          365645.0714136125,
          369220.7719148936,
          345707.9772631579,
          367806.96986301395,
          358046.04768472904,
          382417.561945946,
          378460.18799999997,
          388621.8830769229,
          375951.53658031084,
          366855.2054237288,
          373665.7519266052,
          387758.2766480445,
          370299.7497029705,
          351195.1448275862,
          352698.28682926827,
          360300.95999999996,
          374261.1951381215
         ],
         "yaxis": "y"
        },
        {
         "hovertemplate": "Products=Cosmetics<br>Month_Year=%{x}<br>Total_Profit ($)=%{y}<extra></extra>",
         "legendgroup": "Cosmetics",
         "line": {
          "color": "#FFA15A",
          "dash": "solid"
         },
         "mode": "lines",
         "name": "Cosmetics",
         "showlegend": true,
         "type": "scattergl",
         "x": [
          "2010-01",
          "2010-02",
          "2010-03",
          "2010-04",
          "2010-05",
          "2010-06",
          "2010-07",
          "2010-08",
          "2010-09",
          "2010-10",
          "2010-11",
          "2010-12",
          "2011-01",
          "2011-02",
          "2011-03",
          "2011-04",
          "2011-05",
          "2011-06",
          "2011-07",
          "2011-08",
          "2011-09",
          "2011-10",
          "2011-11",
          "2011-12",
          "2012-01",
          "2012-02",
          "2012-03",
          "2012-04",
          "2012-05",
          "2012-06",
          "2012-07",
          "2012-08",
          "2012-09",
          "2012-10",
          "2012-11",
          "2012-12",
          "2013-01",
          "2013-02",
          "2013-03",
          "2013-04",
          "2013-05",
          "2013-06",
          "2013-07",
          "2013-08",
          "2013-09",
          "2013-10",
          "2013-11",
          "2013-12",
          "2014-01",
          "2014-02",
          "2014-03",
          "2014-04",
          "2014-05",
          "2014-06",
          "2014-07",
          "2014-08",
          "2014-09",
          "2014-10",
          "2014-11",
          "2014-12",
          "2015-01",
          "2015-02",
          "2015-03",
          "2015-04",
          "2015-05",
          "2015-06",
          "2015-07",
          "2015-08",
          "2015-09",
          "2015-10",
          "2015-11",
          "2015-12",
          "2016-01",
          "2016-02",
          "2016-03",
          "2016-04",
          "2016-05",
          "2016-06",
          "2016-07",
          "2016-08",
          "2016-09",
          "2016-10",
          "2016-11",
          "2016-12",
          "2017-01",
          "2017-02",
          "2017-03",
          "2017-04",
          "2017-05",
          "2017-06",
          "2017-07"
         ],
         "xaxis": "x",
         "y": [
          879335.2407065217,
          875290.9074698795,
          825033.6535377365,
          863066.4385096153,
          829993.8010416673,
          875086.7996858633,
          864149.2947395836,
          890777.4076190474,
          827108.430847457,
          901216.7523857862,
          884802.1908139541,
          876450.8866494845,
          843233.6220634923,
          878497.493888889,
          837592.3035784317,
          847923.0794117646,
          809141.8230366496,
          876807.6132432433,
          839904.0553170729,
          894732.0730508468,
          856190.3337912088,
          852211.9086315784,
          920721.6853968257,
          863688.4082027652,
          915755.1613744072,
          837330.2588636364,
          834585.6109045227,
          843277.8235638302,
          858217.5169613265,
          833042.4275280902,
          846320.8324257428,
          845906.0825128204,
          851821.6725133694,
          905986.0916129032,
          897557.7946994536,
          873141.1654022982,
          885963.9328494621,
          888589.6814444442,
          840051.3798245615,
          893812.4638797807,
          895479.7631666661,
          800372.8564161853,
          826214.7848888891,
          878511.8008018859,
          836725.0705913979,
          899704.2866964288,
          816702.9543181821,
          837886.889576719,
          933809.8605056184,
          837966.9617714287,
          868083.8270813393,
          863319.3046408843,
          887255.8206417107,
          871115.177664975,
          869929.8851098898,
          876680.8045812808,
          874598.1990769237,
          859635.0137499998,
          847821.9961666665,
          891285.1731693989,
          856956.9327777781,
          825830.5510365852,
          849509.1027835045,
          887906.494301676,
          842095.2594786732,
          895762.3372560974,
          862370.8581999998,
          872261.2079487175,
          875048.7391379308,
          852013.35579235,
          895898.6811979166,
          889356.5139560441,
          841006.355163043,
          891333.6287431701,
          867434.4996067415,
          796406.1575773195,
          869178.9495135138,
          874557.7764361703,
          899430.4016410258,
          874290.058969072,
          847601.7608333331,
          856161.5465238097,
          875588.3027472523,
          900614.1835593219,
          855026.4238095237,
          861014.6031125827,
          869001.3302139039,
          864101.8713157892,
          874442.5159313729,
          810921.40047619,
          910636.40887574
         ],
         "yaxis": "y"
        },
        {
         "hovertemplate": "Products=Fruits<br>Month_Year=%{x}<br>Total_Profit ($)=%{y}<extra></extra>",
         "legendgroup": "Fruits",
         "line": {
          "color": "#19d3f3",
          "dash": "solid"
         },
         "mode": "lines",
         "name": "Fruits",
         "showlegend": true,
         "type": "scattergl",
         "x": [
          "2010-01",
          "2010-02",
          "2010-03",
          "2010-04",
          "2010-05",
          "2010-06",
          "2010-07",
          "2010-08",
          "2010-09",
          "2010-10",
          "2010-11",
          "2010-12",
          "2011-01",
          "2011-02",
          "2011-03",
          "2011-04",
          "2011-05",
          "2011-06",
          "2011-07",
          "2011-08",
          "2011-09",
          "2011-10",
          "2011-11",
          "2011-12",
          "2012-01",
          "2012-02",
          "2012-03",
          "2012-04",
          "2012-05",
          "2012-06",
          "2012-07",
          "2012-08",
          "2012-09",
          "2012-10",
          "2012-11",
          "2012-12",
          "2013-01",
          "2013-02",
          "2013-03",
          "2013-04",
          "2013-05",
          "2013-06",
          "2013-07",
          "2013-08",
          "2013-09",
          "2013-10",
          "2013-11",
          "2013-12",
          "2014-01",
          "2014-02",
          "2014-03",
          "2014-04",
          "2014-05",
          "2014-06",
          "2014-07",
          "2014-08",
          "2014-09",
          "2014-10",
          "2014-11",
          "2014-12",
          "2015-01",
          "2015-02",
          "2015-03",
          "2015-04",
          "2015-05",
          "2015-06",
          "2015-07",
          "2015-08",
          "2015-09",
          "2015-10",
          "2015-11",
          "2015-12",
          "2016-01",
          "2016-02",
          "2016-03",
          "2016-04",
          "2016-05",
          "2016-06",
          "2016-07",
          "2016-08",
          "2016-09",
          "2016-10",
          "2016-11",
          "2016-12",
          "2017-01",
          "2017-02",
          "2017-03",
          "2017-04",
          "2017-05",
          "2017-06",
          "2017-07"
         ],
         "xaxis": "x",
         "y": [
          11973.242795698921,
          12164.205647058832,
          12539.659005235599,
          12403.524047619043,
          11727.50143564356,
          12391.620687830691,
          11964.934945054945,
          12256.368802083334,
          12448.550287356324,
          11785.781707317066,
          11690.303976608187,
          12185.261250000001,
          12321.093782383423,
          11605.875679012343,
          11792.482979797982,
          11392.642673267328,
          12257.355920398017,
          11878.732826086945,
          12285.959731182797,
          12026.745817307687,
          11733.212905027933,
          11666.207499999993,
          12332.284347826091,
          11868.5293627451,
          12023.230098039217,
          12314.24126436781,
          12329.536138613867,
          12544.54690721649,
          12434.949300000002,
          11727.78951351351,
          11745.728134715022,
          11171.796,
          11959.960412371132,
          11359.781047120423,
          11599.522800000008,
          11829.063250000008,
          12509.848510638298,
          11625.696702702704,
          12848.594070351757,
          11757.333399014778,
          11791.404660194174,
          11508.94803468208,
          12135.65541666665,
          11537.600594059402,
          11720.989095238096,
          11117.230764705884,
          11047.166945812813,
          11697.639044943815,
          11795.708850000005,
          12034.509132947978,
          12090.63284974093,
          11525.489180327864,
          11764.720746268664,
          11881.414082840241,
          12038.369719101123,
          12479.870652173913,
          11817.199704142009,
          11368.912524752475,
          12829.628034682079,
          11479.846718750001,
          12111.78035,
          12137.316153846157,
          11851.928930481286,
          12158.263591160226,
          12456.62055555556,
          12814.1845026178,
          11817.194000000003,
          11603.035093457946,
          11961.216132596686,
          11357.727499999997,
          11959.112102564099,
          12788.823232323228,
          12058.076369047623,
          12751.22966666666,
          11975.60133971292,
          12099.592184466028,
          13097.473636363624,
          12036.552898550728,
          11531.23545,
          12394.316197916663,
          11824.072486187843,
          12054.54240837697,
          11522.866125654453,
          12226.239304812836,
          12537.018990825687,
          11566.570813953493,
          12256.651157894737,
          12062.357659574463,
          11693.296019900496,
          11751.74780487805,
          12203.027953216379
         ],
         "yaxis": "y"
        },
        {
         "hovertemplate": "Products=Household<br>Month_Year=%{x}<br>Total_Profit ($)=%{y}<extra></extra>",
         "legendgroup": "Household",
         "line": {
          "color": "#FF6692",
          "dash": "solid"
         },
         "mode": "lines",
         "name": "Household",
         "showlegend": true,
         "type": "scattergl",
         "x": [
          "2010-01",
          "2010-02",
          "2010-03",
          "2010-04",
          "2010-05",
          "2010-06",
          "2010-07",
          "2010-08",
          "2010-09",
          "2010-10",
          "2010-11",
          "2010-12",
          "2011-01",
          "2011-02",
          "2011-03",
          "2011-04",
          "2011-05",
          "2011-06",
          "2011-07",
          "2011-08",
          "2011-09",
          "2011-10",
          "2011-11",
          "2011-12",
          "2012-01",
          "2012-02",
          "2012-03",
          "2012-04",
          "2012-05",
          "2012-06",
          "2012-07",
          "2012-08",
          "2012-09",
          "2012-10",
          "2012-11",
          "2012-12",
          "2013-01",
          "2013-02",
          "2013-03",
          "2013-04",
          "2013-05",
          "2013-06",
          "2013-07",
          "2013-08",
          "2013-09",
          "2013-10",
          "2013-11",
          "2013-12",
          "2014-01",
          "2014-02",
          "2014-03",
          "2014-04",
          "2014-05",
          "2014-06",
          "2014-07",
          "2014-08",
          "2014-09",
          "2014-10",
          "2014-11",
          "2014-12",
          "2015-01",
          "2015-02",
          "2015-03",
          "2015-04",
          "2015-05",
          "2015-06",
          "2015-07",
          "2015-08",
          "2015-09",
          "2015-10",
          "2015-11",
          "2015-12",
          "2016-01",
          "2016-02",
          "2016-03",
          "2016-04",
          "2016-05",
          "2016-06",
          "2016-07",
          "2016-08",
          "2016-09",
          "2016-10",
          "2016-11",
          "2016-12",
          "2017-01",
          "2017-02",
          "2017-03",
          "2017-04",
          "2017-05",
          "2017-06",
          "2017-07"
         ],
         "xaxis": "x",
         "y": [
          795105.4193500003,
          856432.1038922155,
          813754.5754787235,
          830811.7659512194,
          846002.7931791907,
          845799.5659473679,
          843040.4880193239,
          864465.1252631581,
          849182.7632142862,
          803500.4725,
          866185.7629648236,
          833146.807333333,
          893629.0950243904,
          834399.1165517245,
          832068.8620657282,
          844876.3107567569,
          789902.152460733,
          827318.5420338976,
          806092.3055555559,
          819635.8663809526,
          859073.2928571429,
          820359.3359296479,
          832633.0443333334,
          808754.8285786803,
          823847.4925414367,
          867006.9529696971,
          829802.25963158,
          801082.7134895833,
          862181.656066351,
          861569.3692168673,
          800342.8007772021,
          866594.4814948457,
          821691.1917318439,
          838583.3413106798,
          820348.5243975914,
          811688.908643216,
          867846.8895263156,
          822470.0911560699,
          827210.6798522167,
          858130.1244565215,
          868228.2930693069,
          826741.6820467834,
          855257.2796216212,
          841131.2480225987,
          776218.2615789471,
          821119.0338235295,
          828142.8480874317,
          780170.3721739133,
          848347.4466315792,
          787672.3759574464,
          838280.4525683057,
          827141.0760732982,
          843279.4390909092,
          801738.9878640779,
          873004.4097044334,
          808803.6085405414,
          812979.0200520828,
          850294.6449074075,
          835996.7460893852,
          818790.4537988828,
          782806.1839890708,
          811820.8718181825,
          815024.4443076922,
          804765.7906806286,
          893818.249132653,
          846600.7444505497,
          853822.357653061,
          853611.7001666666,
          801877.7707731953,
          816371.9630348263,
          816197.1632338308,
          805140.8321182267,
          835090.7413142851,
          890121.0161452513,
          826852.0806060602,
          813309.6168750002,
          851154.8305056179,
          844639.376650717,
          925188.9496059113,
          836512.6659016394,
          825968.2611274513,
          840590.4519047622,
          812941.6418686864,
          831084.5165517238,
          867487.517105263,
          880578.4005421691,
          807350.1309139781,
          838001.1045762708,
          849890.9228643216,
          792282.7421839084,
          869872.8415662653
         ],
         "yaxis": "y"
        },
        {
         "hovertemplate": "Products=Meat<br>Month_Year=%{x}<br>Total_Profit ($)=%{y}<extra></extra>",
         "legendgroup": "Meat",
         "line": {
          "color": "#B6E880",
          "dash": "solid"
         },
         "mode": "lines",
         "name": "Meat",
         "showlegend": true,
         "type": "scattergl",
         "x": [
          "2010-01",
          "2010-02",
          "2010-03",
          "2010-04",
          "2010-05",
          "2010-06",
          "2010-07",
          "2010-08",
          "2010-09",
          "2010-10",
          "2010-11",
          "2010-12",
          "2011-01",
          "2011-02",
          "2011-03",
          "2011-04",
          "2011-05",
          "2011-06",
          "2011-07",
          "2011-08",
          "2011-09",
          "2011-10",
          "2011-11",
          "2011-12",
          "2012-01",
          "2012-02",
          "2012-03",
          "2012-04",
          "2012-05",
          "2012-06",
          "2012-07",
          "2012-08",
          "2012-09",
          "2012-10",
          "2012-11",
          "2012-12",
          "2013-01",
          "2013-02",
          "2013-03",
          "2013-04",
          "2013-05",
          "2013-06",
          "2013-07",
          "2013-08",
          "2013-09",
          "2013-10",
          "2013-11",
          "2013-12",
          "2014-01",
          "2014-02",
          "2014-03",
          "2014-04",
          "2014-05",
          "2014-06",
          "2014-07",
          "2014-08",
          "2014-09",
          "2014-10",
          "2014-11",
          "2014-12",
          "2015-01",
          "2015-02",
          "2015-03",
          "2015-04",
          "2015-05",
          "2015-06",
          "2015-07",
          "2015-08",
          "2015-09",
          "2015-10",
          "2015-11",
          "2015-12",
          "2016-01",
          "2016-02",
          "2016-03",
          "2016-04",
          "2016-05",
          "2016-06",
          "2016-07",
          "2016-08",
          "2016-09",
          "2016-10",
          "2016-11",
          "2016-12",
          "2017-01",
          "2017-02",
          "2017-03",
          "2017-04",
          "2017-05",
          "2017-06",
          "2017-07"
         ],
         "xaxis": "x",
         "y": [
          297852.08602150524,
          279835.14257425745,
          272937.32631578954,
          304088.94078212284,
          305738.44888888864,
          264651.68888888886,
          285890.1306930693,
          291028.8596685081,
          276638.3649484536,
          306279.6749999998,
          289660.4924731181,
          271367.8806282722,
          269635.16891191714,
          282381.9428571428,
          293272.29904761916,
          262162.113432836,
          292513.21546961315,
          265022.63542857155,
          274615.430927835,
          285760.5355932203,
          285105.711827957,
          299406.563902439,
          297997.33333333355,
          295165.4272300469,
          295837.2020942408,
          280519.69523809524,
          297186.8595744681,
          289047.94285714265,
          282200.3708333333,
          276344.76502732234,
          290657.7541463414,
          287803.12000000005,
          291273.5539999999,
          285943.08177339897,
          291855.5330049263,
          294870.92043010745,
          282420.66666666657,
          280003.5333333332,
          271750.4344086022,
          281859.55416666664,
          286355.09306930704,
          278774.0408602149,
          284238.4187499999,
          275157.79607843154,
          280272.88704663224,
          285306.2089887641,
          276110.2071065989,
          277753.55955056194,
          295472.5465346534,
          271462.58924731193,
          282667.6387096777,
          293058.7300546447,
          300246.0770833334,
          287547.874766355,
          294520.79800000024,
          275952.7604166668,
          285953.5250000002,
          285112.5154639177,
          279850.27411167504,
          294367.542857143,
          283658.6528497407,
          296859.96629213484,
          290895.08627450984,
          294374.2153846154,
          269664.4795698924,
          283048.6749999999,
          293067.5055276383,
          281728.6715025906,
          287358.19574468094,
          312487.45284974086,
          283357.0235294117,
          270311.5715846995,
          292543.24946236546,
          281977.62487046636,
          286631.0352941176,
          279348.10378378397,
          272243.39999999985,
          306443.34285714274,
          274181.45168539323,
          282801.46938775515,
          285170.6000000002,
          285303.57525773183,
          294488.01621621626,
          303106.27624309383,
          272268.147150259,
          276495.21156069357,
          284199.65423728805,
          288514.60000000015,
          294080.9019607843,
          283131.25176470575,
          279728.1882352942
         ],
         "yaxis": "y"
        },
        {
         "hovertemplate": "Products=Office Supplies<br>Month_Year=%{x}<br>Total_Profit ($)=%{y}<extra></extra>",
         "legendgroup": "Office Supplies",
         "line": {
          "color": "#FF97FF",
          "dash": "solid"
         },
         "mode": "lines",
         "name": "Office Supplies",
         "showlegend": true,
         "type": "scattergl",
         "x": [
          "2010-01",
          "2010-02",
          "2010-03",
          "2010-04",
          "2010-05",
          "2010-06",
          "2010-07",
          "2010-08",
          "2010-09",
          "2010-10",
          "2010-11",
          "2010-12",
          "2011-01",
          "2011-02",
          "2011-03",
          "2011-04",
          "2011-05",
          "2011-06",
          "2011-07",
          "2011-08",
          "2011-09",
          "2011-10",
          "2011-11",
          "2011-12",
          "2012-01",
          "2012-02",
          "2012-03",
          "2012-04",
          "2012-05",
          "2012-06",
          "2012-07",
          "2012-08",
          "2012-09",
          "2012-10",
          "2012-11",
          "2012-12",
          "2013-01",
          "2013-02",
          "2013-03",
          "2013-04",
          "2013-05",
          "2013-06",
          "2013-07",
          "2013-08",
          "2013-09",
          "2013-10",
          "2013-11",
          "2013-12",
          "2014-01",
          "2014-02",
          "2014-03",
          "2014-04",
          "2014-05",
          "2014-06",
          "2014-07",
          "2014-08",
          "2014-09",
          "2014-10",
          "2014-11",
          "2014-12",
          "2015-01",
          "2015-02",
          "2015-03",
          "2015-04",
          "2015-05",
          "2015-06",
          "2015-07",
          "2015-08",
          "2015-09",
          "2015-10",
          "2015-11",
          "2015-12",
          "2016-01",
          "2016-02",
          "2016-03",
          "2016-04",
          "2016-05",
          "2016-06",
          "2016-07",
          "2016-08",
          "2016-09",
          "2016-10",
          "2016-11",
          "2016-12",
          "2017-01",
          "2017-02",
          "2017-03",
          "2017-04",
          "2017-05",
          "2017-06",
          "2017-07"
         ],
         "xaxis": "x",
         "y": [
          646197.3175675676,
          624511.7569444445,
          671887.8522099447,
          613016.360103627,
          658453.7011173185,
          627140.2486187845,
          586965.0323834197,
          619763.2646276596,
          641012.8631284917,
          622265.2083333334,
          625747.7824858757,
          631294.0071428572,
          612778.6538461539,
          572954.8323170731,
          613258.7174479166,
          630974.4350961539,
          623877.976519337,
          624061.5997409327,
          647600.0537634408,
          638037.2966507177,
          605132.03125,
          608517.7669270834,
          637507.0568783069,
          621384.0088383838,
          625730.7070707071,
          628887.1164772727,
          659532.0925414364,
          600202.6270053476,
          646663.2701421801,
          679463.2344632768,
          652945.7619047619,
          621514.8691099477,
          632737.1507352941,
          600240.6922043011,
          599173.7699468085,
          604602.0810055865,
          633513.0130057803,
          599364.7094594594,
          623072.3900462963,
          609404.170984456,
          628857.2302631579,
          586584.7972972973,
          593909.9771689498,
          641407.7526595745,
          626003.4664948453,
          630129.53125,
          644043.3333333334,
          630645.6117021276,
          641986.7691256831,
          622141.5243902439,
          652261.322368421,
          623642.4407894737,
          612722.3269230769,
          628544.343922652,
          612140.625,
          587610.5735294118,
          647620.1600609756,
          623643.4375,
          644882.3560209424,
          646343.3414634146,
          623046.1171875,
          618171.3324175824,
          594531.788277512,
          639211.8713450292,
          649511.3466494846,
          600545.1035502958,
          643666.05625,
          667241.2007389163,
          608506.2243589744,
          632439.4416243655,
          656945.3434065934,
          652738.125,
          622204.7009569379,
          625510.5347222222,
          650782.7755376344,
          638198.4507978724,
          657009.7007978724,
          646098.0042613636,
          650517.5219298246,
          597775.023923445,
          636032.0545212766,
          604278.7696335078,
          673891.7073170731,
          627868.5301507538,
          601274.1896984924,
          645671.1264534884,
          652737.6142473118,
          619749.1622340425,
          609644.4614361703,
          594877.918660287,
          649988.0399408285
         ],
         "yaxis": "y"
        },
        {
         "hovertemplate": "Products=Personal Care<br>Month_Year=%{x}<br>Total_Profit ($)=%{y}<extra></extra>",
         "legendgroup": "Personal Care",
         "line": {
          "color": "#FECB52",
          "dash": "solid"
         },
         "mode": "lines",
         "name": "Personal Care",
         "showlegend": true,
         "type": "scattergl",
         "x": [
          "2010-01",
          "2010-02",
          "2010-03",
          "2010-04",
          "2010-05",
          "2010-06",
          "2010-07",
          "2010-08",
          "2010-09",
          "2010-10",
          "2010-11",
          "2010-12",
          "2011-01",
          "2011-02",
          "2011-03",
          "2011-04",
          "2011-05",
          "2011-06",
          "2011-07",
          "2011-08",
          "2011-09",
          "2011-10",
          "2011-11",
          "2011-12",
          "2012-01",
          "2012-02",
          "2012-03",
          "2012-04",
          "2012-05",
          "2012-06",
          "2012-07",
          "2012-08",
          "2012-09",
          "2012-10",
          "2012-11",
          "2012-12",
          "2013-01",
          "2013-02",
          "2013-03",
          "2013-04",
          "2013-05",
          "2013-06",
          "2013-07",
          "2013-08",
          "2013-09",
          "2013-10",
          "2013-11",
          "2013-12",
          "2014-01",
          "2014-02",
          "2014-03",
          "2014-04",
          "2014-05",
          "2014-06",
          "2014-07",
          "2014-08",
          "2014-09",
          "2014-10",
          "2014-11",
          "2014-12",
          "2015-01",
          "2015-02",
          "2015-03",
          "2015-04",
          "2015-05",
          "2015-06",
          "2015-07",
          "2015-08",
          "2015-09",
          "2015-10",
          "2015-11",
          "2015-12",
          "2016-01",
          "2016-02",
          "2016-03",
          "2016-04",
          "2016-05",
          "2016-06",
          "2016-07",
          "2016-08",
          "2016-09",
          "2016-10",
          "2016-11",
          "2016-12",
          "2017-01",
          "2017-02",
          "2017-03",
          "2017-04",
          "2017-05",
          "2017-06",
          "2017-07"
         ],
         "xaxis": "x",
         "y": [
          123115.70934010153,
          136762.15759999992,
          129337.01712871283,
          126950.56645833339,
          114784.4384615385,
          127492.38362573102,
          132745.25827027025,
          125217.78785714296,
          123231.51160220985,
          132183.6763902439,
          126462.72361445782,
          128283.62137931032,
          132947.128611111,
          124124.20096774197,
          121006.917037037,
          118968.63999999996,
          125658.81363636363,
          133418.79412371133,
          129246.02673684208,
          122937.12618556702,
          128933.31046632123,
          125008.02489583335,
          131440.78367567575,
          120554.53621359222,
          122723.33662790699,
          128368.07945652171,
          128388.96793814434,
          123106.82284090905,
          126538.87989847707,
          137365.55466666666,
          125508.41356783916,
          130922.18489583324,
          131443.05999999994,
          127056.55712871288,
          131525.4608888889,
          131152.2470588236,
          119953.66292682927,
          127321.73243243236,
          127651.71167567566,
          124761.70000000004,
          125932.1123958333,
          122295.30600000001,
          123831.93283582098,
          133429.03744680848,
          131614.44994652417,
          124357.24000000002,
          125787.13571428566,
          113075.85730000006,
          129209.36000000003,
          132329.25312883442,
          129232.77672131138,
          120523.3674509804,
          131816.72208955223,
          118125.99371134023,
          123216.19310344827,
          125309.39749999998,
          130193.91836956528,
          126501.81925925925,
          123409.04784946234,
          129299.34818181816,
          126298.90905472632,
          134501.55062146892,
          116124.82000000007,
          128582.73214285713,
          122952.54542713564,
          130320.2117514124,
          126940.71585492228,
          127044.3463106796,
          127254.94104166671,
          119178.51371134025,
          127972.72041450783,
          130875.70430232558,
          126949.29196078429,
          130156.5306796117,
          122420.05590243901,
          123646.88949152536,
          133980.29502439027,
          120742.18148514855,
          124656.88719101125,
          127204.83091891889,
          121154.06815217395,
          131382.5632000001,
          120946.87565217401,
          122965.70296650715,
          120960.56989898988,
          118637.5760736196,
          126072.04551724128,
          127722.77748837203,
          119323.25629629628,
          121677.64294736834,
          126675.95520467832
         ],
         "yaxis": "y"
        },
        {
         "hovertemplate": "Products=Snacks<br>Month_Year=%{x}<br>Total_Profit ($)=%{y}<extra></extra>",
         "legendgroup": "Snacks",
         "line": {
          "color": "#636efa",
          "dash": "solid"
         },
         "mode": "lines",
         "name": "Snacks",
         "showlegend": true,
         "type": "scattergl",
         "x": [
          "2010-01",
          "2010-02",
          "2010-03",
          "2010-04",
          "2010-05",
          "2010-06",
          "2010-07",
          "2010-08",
          "2010-09",
          "2010-10",
          "2010-11",
          "2010-12",
          "2011-01",
          "2011-02",
          "2011-03",
          "2011-04",
          "2011-05",
          "2011-06",
          "2011-07",
          "2011-08",
          "2011-09",
          "2011-10",
          "2011-11",
          "2011-12",
          "2012-01",
          "2012-02",
          "2012-03",
          "2012-04",
          "2012-05",
          "2012-06",
          "2012-07",
          "2012-08",
          "2012-09",
          "2012-10",
          "2012-11",
          "2012-12",
          "2013-01",
          "2013-02",
          "2013-03",
          "2013-04",
          "2013-05",
          "2013-06",
          "2013-07",
          "2013-08",
          "2013-09",
          "2013-10",
          "2013-11",
          "2013-12",
          "2014-01",
          "2014-02",
          "2014-03",
          "2014-04",
          "2014-05",
          "2014-06",
          "2014-07",
          "2014-08",
          "2014-09",
          "2014-10",
          "2014-11",
          "2014-12",
          "2015-01",
          "2015-02",
          "2015-03",
          "2015-04",
          "2015-05",
          "2015-06",
          "2015-07",
          "2015-08",
          "2015-09",
          "2015-10",
          "2015-11",
          "2015-12",
          "2016-01",
          "2016-02",
          "2016-03",
          "2016-04",
          "2016-05",
          "2016-06",
          "2016-07",
          "2016-08",
          "2016-09",
          "2016-10",
          "2016-11",
          "2016-12",
          "2017-01",
          "2017-02",
          "2017-03",
          "2017-04",
          "2017-05",
          "2017-06",
          "2017-07"
         ],
         "xaxis": "x",
         "y": [
          279234.7803333334,
          271014.3974117646,
          263149.24183783773,
          266800.0404395605,
          282220.59218750003,
          281144.1559999999,
          272593.4882539681,
          282373.4632044198,
          272976.0307246378,
          275456.29160377366,
          280142.1737037037,
          265232.8771875001,
          274512.301904762,
          264270.7033333334,
          265029.27309278346,
          284230.90613065334,
          274560.04043478245,
          275075.4494472362,
          277073.2616999999,
          271640.24175824184,
          268851.01589189185,
          276608.910978261,
          293085.05421319796,
          269050.1783050847,
          270460.56892307696,
          271147.8235051546,
          278142.2985365855,
          289670.4122807017,
          267642.30473684217,
          270203.10224598943,
          262619.2008955223,
          269431.3614659686,
          261650.7498360656,
          276596.0250000002,
          271292.67470270273,
          268926.9208556149,
          270537.3291803278,
          286225.1757142857,
          261702.7406451614,
          275743.1929999999,
          283258.4215384615,
          281461.0993457945,
          281145.97682242986,
          271718.892,
          252474.50371257483,
          259866.69410526304,
          288978.34712041874,
          272855.9368421054,
          275592.8464948454,
          261528.35163636357,
          284696.10528497404,
          268934.8803797469,
          273115.03679999994,
          271534.8985263157,
          258796.22033333336,
          283748.9656684492,
          268505.64788571425,
          251998.72439306363,
          262527.0019811322,
          262248.11047058826,
          274567.9151196172,
          279985.4808,
          282334.1691000001,
          294181.0899999998,
          280589.3717460317,
          290378.945698324,
          280943.3127272729,
          289341.3296666666,
          291373.54499999987,
          271944.7362499999,
          273902.3174193547,
          271512.04975609755,
          280922.78321608034,
          278971.2338121547,
          275169.14235294104,
          256767.9045405404,
          277020.13372340426,
          282927.3501818181,
          284419.95981042675,
          290032.0238095239,
          267963.3185869566,
          300296.09569060744,
          294599.23500000016,
          276579.4691457286,
          260019.94120879128,
          275307.32670520246,
          278333.7924401914,
          286973.2417142858,
          262577.559893617,
          276242.93792079214,
          272019.405
         ],
         "yaxis": "y"
        },
        {
         "hovertemplate": "Products=Vegetables<br>Month_Year=%{x}<br>Total_Profit ($)=%{y}<extra></extra>",
         "legendgroup": "Vegetables",
         "line": {
          "color": "#EF553B",
          "dash": "solid"
         },
         "mode": "lines",
         "name": "Vegetables",
         "showlegend": true,
         "type": "scattergl",
         "x": [
          "2010-01",
          "2010-02",
          "2010-03",
          "2010-04",
          "2010-05",
          "2010-06",
          "2010-07",
          "2010-08",
          "2010-09",
          "2010-10",
          "2010-11",
          "2010-12",
          "2011-01",
          "2011-02",
          "2011-03",
          "2011-04",
          "2011-05",
          "2011-06",
          "2011-07",
          "2011-08",
          "2011-09",
          "2011-10",
          "2011-11",
          "2011-12",
          "2012-01",
          "2012-02",
          "2012-03",
          "2012-04",
          "2012-05",
          "2012-06",
          "2012-07",
          "2012-08",
          "2012-09",
          "2012-10",
          "2012-11",
          "2012-12",
          "2013-01",
          "2013-02",
          "2013-03",
          "2013-04",
          "2013-05",
          "2013-06",
          "2013-07",
          "2013-08",
          "2013-09",
          "2013-10",
          "2013-11",
          "2013-12",
          "2014-01",
          "2014-02",
          "2014-03",
          "2014-04",
          "2014-05",
          "2014-06",
          "2014-07",
          "2014-08",
          "2014-09",
          "2014-10",
          "2014-11",
          "2014-12",
          "2015-01",
          "2015-02",
          "2015-03",
          "2015-04",
          "2015-05",
          "2015-06",
          "2015-07",
          "2015-08",
          "2015-09",
          "2015-10",
          "2015-11",
          "2015-12",
          "2016-01",
          "2016-02",
          "2016-03",
          "2016-04",
          "2016-05",
          "2016-06",
          "2016-07",
          "2016-08",
          "2016-09",
          "2016-10",
          "2016-11",
          "2016-12",
          "2017-01",
          "2017-02",
          "2017-03",
          "2017-04",
          "2017-05",
          "2017-06",
          "2017-07"
         ],
         "xaxis": "x",
         "y": [
          320266.3419900496,
          317636.1669230769,
          311007.491761658,
          303020.4533707864,
          309385.58696335077,
          314533.32344262284,
          315354.03170588234,
          319518.5335576925,
          316216.42447004624,
          302396.39181286556,
          315306.77597701136,
          324341.2204102564,
          312820.9435164835,
          296274.6506735752,
          313236.30679347826,
          326535.13240837713,
          282664.57499999995,
          318529.69923076924,
          318207.4438172043,
          310675.6797435897,
          317387.3963255816,
          314937.39621212124,
          329676.75884816743,
          318204.5706417112,
          314826.22211956524,
          302261.17916666676,
          326952.1159064327,
          295527.97010416666,
          318447.00972222217,
          313066.1061621621,
          314845.6561607142,
          304037.95117924525,
          297048.7633333333,
          319316.56527363166,
          337967.79819148924,
          304028.6322335026,
          295088.2485245904,
          322928.8890000002,
          314731.10777777765,
          321701.0430412371,
          309581.62875,
          310398.7966666667,
          330029.42748691095,
          302859.6056345177,
          307907.62877005356,
          322447.9531818183,
          315783.93325966835,
          313557.5101507537,
          309974.03909090924,
          307531.2510365853,
          297658.26883838384,
          320209.87652406417,
          295702.5640104168,
          316425.64246231155,
          336137.17391509435,
          311553.2456060606,
          323280.37455882365,
          316310.8064130436,
          323095.83277777774,
          320868.96701570693,
          315800.97756613756,
          314188.84596774215,
          305863.91242574266,
          298123.48966480437,
          317329.97761658044,
          336899.98359550576,
          310026.64742424246,
          323231.2783597883,
          321530.20154639205,
          333831.10059139784,
          329692.6371999999,
          300678.42403314926,
          304176.35805970157,
          312028.7930555554,
          313711.3292346939,
          316170.6527956988,
          320828.8262254902,
          320046.91918918927,
          318107.5391387559,
          314839.3605472636,
          291519.32737804885,
          305859.91796874994,
          304880.84543478256,
          308488.44815642457,
          310767.0877551022,
          319901.57625698333,
          305989.44868421037,
          323297.3688421053,
          305490.6973298428,
          307507.80039800995,
          315422.4295808385
         ],
         "yaxis": "y"
        }
       ],
       "layout": {
        "height": 500,
        "legend": {
         "title": {
          "text": "Products"
         },
         "tracegroupgap": 0
        },
        "template": {
         "data": {
          "bar": [
           {
            "error_x": {
             "color": "#2a3f5f"
            },
            "error_y": {
             "color": "#2a3f5f"
            },
            "marker": {
             "line": {
              "color": "#E5ECF6",
              "width": 0.5
             }
            },
            "type": "bar"
           }
          ],
          "barpolar": [
           {
            "marker": {
             "line": {
              "color": "#E5ECF6",
              "width": 0.5
             }
            },
            "type": "barpolar"
           }
          ],
          "carpet": [
           {
            "aaxis": {
             "endlinecolor": "#2a3f5f",
             "gridcolor": "white",
             "linecolor": "white",
             "minorgridcolor": "white",
             "startlinecolor": "#2a3f5f"
            },
            "baxis": {
             "endlinecolor": "#2a3f5f",
             "gridcolor": "white",
             "linecolor": "white",
             "minorgridcolor": "white",
             "startlinecolor": "#2a3f5f"
            },
            "type": "carpet"
           }
          ],
          "choropleth": [
           {
            "colorbar": {
             "outlinewidth": 0,
             "ticks": ""
            },
            "type": "choropleth"
           }
          ],
          "contour": [
           {
            "colorbar": {
             "outlinewidth": 0,
             "ticks": ""
            },
            "colorscale": [
             [
              0,
              "#0d0887"
             ],
             [
              0.1111111111111111,
              "#46039f"
             ],
             [
              0.2222222222222222,
              "#7201a8"
             ],
             [
              0.3333333333333333,
              "#9c179e"
             ],
             [
              0.4444444444444444,
              "#bd3786"
             ],
             [
              0.5555555555555556,
              "#d8576b"
             ],
             [
              0.6666666666666666,
              "#ed7953"
             ],
             [
              0.7777777777777778,
              "#fb9f3a"
             ],
             [
              0.8888888888888888,
              "#fdca26"
             ],
             [
              1,
              "#f0f921"
             ]
            ],
            "type": "contour"
           }
          ],
          "contourcarpet": [
           {
            "colorbar": {
             "outlinewidth": 0,
             "ticks": ""
            },
            "type": "contourcarpet"
           }
          ],
          "heatmap": [
           {
            "colorbar": {
             "outlinewidth": 0,
             "ticks": ""
            },
            "colorscale": [
             [
              0,
              "#0d0887"
             ],
             [
              0.1111111111111111,
              "#46039f"
             ],
             [
              0.2222222222222222,
              "#7201a8"
             ],
             [
              0.3333333333333333,
              "#9c179e"
             ],
             [
              0.4444444444444444,
              "#bd3786"
             ],
             [
              0.5555555555555556,
              "#d8576b"
             ],
             [
              0.6666666666666666,
              "#ed7953"
             ],
             [
              0.7777777777777778,
              "#fb9f3a"
             ],
             [
              0.8888888888888888,
              "#fdca26"
             ],
             [
              1,
              "#f0f921"
             ]
            ],
            "type": "heatmap"
           }
          ],
          "heatmapgl": [
           {
            "colorbar": {
             "outlinewidth": 0,
             "ticks": ""
            },
            "colorscale": [
             [
              0,
              "#0d0887"
             ],
             [
              0.1111111111111111,
              "#46039f"
             ],
             [
              0.2222222222222222,
              "#7201a8"
             ],
             [
              0.3333333333333333,
              "#9c179e"
             ],
             [
              0.4444444444444444,
              "#bd3786"
             ],
             [
              0.5555555555555556,
              "#d8576b"
             ],
             [
              0.6666666666666666,
              "#ed7953"
             ],
             [
              0.7777777777777778,
              "#fb9f3a"
             ],
             [
              0.8888888888888888,
              "#fdca26"
             ],
             [
              1,
              "#f0f921"
             ]
            ],
            "type": "heatmapgl"
           }
          ],
          "histogram": [
           {
            "marker": {
             "colorbar": {
              "outlinewidth": 0,
              "ticks": ""
             }
            },
            "type": "histogram"
           }
          ],
          "histogram2d": [
           {
            "colorbar": {
             "outlinewidth": 0,
             "ticks": ""
            },
            "colorscale": [
             [
              0,
              "#0d0887"
             ],
             [
              0.1111111111111111,
              "#46039f"
             ],
             [
              0.2222222222222222,
              "#7201a8"
             ],
             [
              0.3333333333333333,
              "#9c179e"
             ],
             [
              0.4444444444444444,
              "#bd3786"
             ],
             [
              0.5555555555555556,
              "#d8576b"
             ],
             [
              0.6666666666666666,
              "#ed7953"
             ],
             [
              0.7777777777777778,
              "#fb9f3a"
             ],
             [
              0.8888888888888888,
              "#fdca26"
             ],
             [
              1,
              "#f0f921"
             ]
            ],
            "type": "histogram2d"
           }
          ],
          "histogram2dcontour": [
           {
            "colorbar": {
             "outlinewidth": 0,
             "ticks": ""
            },
            "colorscale": [
             [
              0,
              "#0d0887"
             ],
             [
              0.1111111111111111,
              "#46039f"
             ],
             [
              0.2222222222222222,
              "#7201a8"
             ],
             [
              0.3333333333333333,
              "#9c179e"
             ],
             [
              0.4444444444444444,
              "#bd3786"
             ],
             [
              0.5555555555555556,
              "#d8576b"
             ],
             [
              0.6666666666666666,
              "#ed7953"
             ],
             [
              0.7777777777777778,
              "#fb9f3a"
             ],
             [
              0.8888888888888888,
              "#fdca26"
             ],
             [
              1,
              "#f0f921"
             ]
            ],
            "type": "histogram2dcontour"
           }
          ],
          "mesh3d": [
           {
            "colorbar": {
             "outlinewidth": 0,
             "ticks": ""
            },
            "type": "mesh3d"
           }
          ],
          "parcoords": [
           {
            "line": {
             "colorbar": {
              "outlinewidth": 0,
              "ticks": ""
             }
            },
            "type": "parcoords"
           }
          ],
          "pie": [
           {
            "automargin": true,
            "type": "pie"
           }
          ],
          "scatter": [
           {
            "marker": {
             "colorbar": {
              "outlinewidth": 0,
              "ticks": ""
             }
            },
            "type": "scatter"
           }
          ],
          "scatter3d": [
           {
            "line": {
             "colorbar": {
              "outlinewidth": 0,
              "ticks": ""
             }
            },
            "marker": {
             "colorbar": {
              "outlinewidth": 0,
              "ticks": ""
             }
            },
            "type": "scatter3d"
           }
          ],
          "scattercarpet": [
           {
            "marker": {
             "colorbar": {
              "outlinewidth": 0,
              "ticks": ""
             }
            },
            "type": "scattercarpet"
           }
          ],
          "scattergeo": [
           {
            "marker": {
             "colorbar": {
              "outlinewidth": 0,
              "ticks": ""
             }
            },
            "type": "scattergeo"
           }
          ],
          "scattergl": [
           {
            "marker": {
             "colorbar": {
              "outlinewidth": 0,
              "ticks": ""
             }
            },
            "type": "scattergl"
           }
          ],
          "scattermapbox": [
           {
            "marker": {
             "colorbar": {
              "outlinewidth": 0,
              "ticks": ""
             }
            },
            "type": "scattermapbox"
           }
          ],
          "scatterpolar": [
           {
            "marker": {
             "colorbar": {
              "outlinewidth": 0,
              "ticks": ""
             }
            },
            "type": "scatterpolar"
           }
          ],
          "scatterpolargl": [
           {
            "marker": {
             "colorbar": {
              "outlinewidth": 0,
              "ticks": ""
             }
            },
            "type": "scatterpolargl"
           }
          ],
          "scatterternary": [
           {
            "marker": {
             "colorbar": {
              "outlinewidth": 0,
              "ticks": ""
             }
            },
            "type": "scatterternary"
           }
          ],
          "surface": [
           {
            "colorbar": {
             "outlinewidth": 0,
             "ticks": ""
            },
            "colorscale": [
             [
              0,
              "#0d0887"
             ],
             [
              0.1111111111111111,
              "#46039f"
             ],
             [
              0.2222222222222222,
              "#7201a8"
             ],
             [
              0.3333333333333333,
              "#9c179e"
             ],
             [
              0.4444444444444444,
              "#bd3786"
             ],
             [
              0.5555555555555556,
              "#d8576b"
             ],
             [
              0.6666666666666666,
              "#ed7953"
             ],
             [
              0.7777777777777778,
              "#fb9f3a"
             ],
             [
              0.8888888888888888,
              "#fdca26"
             ],
             [
              1,
              "#f0f921"
             ]
            ],
            "type": "surface"
           }
          ],
          "table": [
           {
            "cells": {
             "fill": {
              "color": "#EBF0F8"
             },
             "line": {
              "color": "white"
             }
            },
            "header": {
             "fill": {
              "color": "#C8D4E3"
             },
             "line": {
              "color": "white"
             }
            },
            "type": "table"
           }
          ]
         },
         "layout": {
          "annotationdefaults": {
           "arrowcolor": "#2a3f5f",
           "arrowhead": 0,
           "arrowwidth": 1
          },
          "autotypenumbers": "strict",
          "coloraxis": {
           "colorbar": {
            "outlinewidth": 0,
            "ticks": ""
           }
          },
          "colorscale": {
           "diverging": [
            [
             0,
             "#8e0152"
            ],
            [
             0.1,
             "#c51b7d"
            ],
            [
             0.2,
             "#de77ae"
            ],
            [
             0.3,
             "#f1b6da"
            ],
            [
             0.4,
             "#fde0ef"
            ],
            [
             0.5,
             "#f7f7f7"
            ],
            [
             0.6,
             "#e6f5d0"
            ],
            [
             0.7,
             "#b8e186"
            ],
            [
             0.8,
             "#7fbc41"
            ],
            [
             0.9,
             "#4d9221"
            ],
            [
             1,
             "#276419"
            ]
           ],
           "sequential": [
            [
             0,
             "#0d0887"
            ],
            [
             0.1111111111111111,
             "#46039f"
            ],
            [
             0.2222222222222222,
             "#7201a8"
            ],
            [
             0.3333333333333333,
             "#9c179e"
            ],
            [
             0.4444444444444444,
             "#bd3786"
            ],
            [
             0.5555555555555556,
             "#d8576b"
            ],
            [
             0.6666666666666666,
             "#ed7953"
            ],
            [
             0.7777777777777778,
             "#fb9f3a"
            ],
            [
             0.8888888888888888,
             "#fdca26"
            ],
            [
             1,
             "#f0f921"
            ]
           ],
           "sequentialminus": [
            [
             0,
             "#0d0887"
            ],
            [
             0.1111111111111111,
             "#46039f"
            ],
            [
             0.2222222222222222,
             "#7201a8"
            ],
            [
             0.3333333333333333,
             "#9c179e"
            ],
            [
             0.4444444444444444,
             "#bd3786"
            ],
            [
             0.5555555555555556,
             "#d8576b"
            ],
            [
             0.6666666666666666,
             "#ed7953"
            ],
            [
             0.7777777777777778,
             "#fb9f3a"
            ],
            [
             0.8888888888888888,
             "#fdca26"
            ],
            [
             1,
             "#f0f921"
            ]
           ]
          },
          "colorway": [
           "#636efa",
           "#EF553B",
           "#00cc96",
           "#ab63fa",
           "#FFA15A",
           "#19d3f3",
           "#FF6692",
           "#B6E880",
           "#FF97FF",
           "#FECB52"
          ],
          "font": {
           "color": "#2a3f5f"
          },
          "geo": {
           "bgcolor": "white",
           "lakecolor": "white",
           "landcolor": "#E5ECF6",
           "showlakes": true,
           "showland": true,
           "subunitcolor": "white"
          },
          "hoverlabel": {
           "align": "left"
          },
          "hovermode": "closest",
          "mapbox": {
           "style": "light"
          },
          "paper_bgcolor": "white",
          "plot_bgcolor": "#E5ECF6",
          "polar": {
           "angularaxis": {
            "gridcolor": "white",
            "linecolor": "white",
            "ticks": ""
           },
           "bgcolor": "#E5ECF6",
           "radialaxis": {
            "gridcolor": "white",
            "linecolor": "white",
            "ticks": ""
           }
          },
          "scene": {
           "xaxis": {
            "backgroundcolor": "#E5ECF6",
            "gridcolor": "white",
            "gridwidth": 2,
            "linecolor": "white",
            "showbackground": true,
            "ticks": "",
            "zerolinecolor": "white"
           },
           "yaxis": {
            "backgroundcolor": "#E5ECF6",
            "gridcolor": "white",
            "gridwidth": 2,
            "linecolor": "white",
            "showbackground": true,
            "ticks": "",
            "zerolinecolor": "white"
           },
           "zaxis": {
            "backgroundcolor": "#E5ECF6",
            "gridcolor": "white",
            "gridwidth": 2,
            "linecolor": "white",
            "showbackground": true,
            "ticks": "",
            "zerolinecolor": "white"
           }
          },
          "shapedefaults": {
           "line": {
            "color": "#2a3f5f"
           }
          },
          "ternary": {
           "aaxis": {
            "gridcolor": "white",
            "linecolor": "white",
            "ticks": ""
           },
           "baxis": {
            "gridcolor": "white",
            "linecolor": "white",
            "ticks": ""
           },
           "bgcolor": "#E5ECF6",
           "caxis": {
            "gridcolor": "white",
            "linecolor": "white",
            "ticks": ""
           }
          },
          "title": {
           "x": 0.05
          },
          "xaxis": {
           "automargin": true,
           "gridcolor": "white",
           "linecolor": "white",
           "ticks": "",
           "title": {
            "standoff": 15
           },
           "zerolinecolor": "white",
           "zerolinewidth": 2
          },
          "yaxis": {
           "automargin": true,
           "gridcolor": "white",
           "linecolor": "white",
           "ticks": "",
           "title": {
            "standoff": 15
           },
           "zerolinecolor": "white",
           "zerolinewidth": 2
          }
         }
        },
        "title": {
         "text": "Product, Total_Profit By Month_Year"
        },
        "xaxis": {
         "anchor": "y",
         "domain": [
          0,
          1
         ],
         "title": {
          "text": "Month_Year"
         }
        },
        "yaxis": {
         "anchor": "x",
         "domain": [
          0,
          1
         ],
         "title": {
          "text": "Total_Profit ($)"
         }
        }
       }
      },
      "text/html": [
       "<div>                            <div id=\"c7bc3fda-eba4-4b81-9257-b59641772f69\" class=\"plotly-graph-div\" style=\"height:500px; width:100%;\"></div>            <script type=\"text/javascript\">                require([\"plotly\"], function(Plotly) {                    window.PLOTLYENV=window.PLOTLYENV || {};                                    if (document.getElementById(\"c7bc3fda-eba4-4b81-9257-b59641772f69\")) {                    Plotly.newPlot(                        \"c7bc3fda-eba4-4b81-9257-b59641772f69\",                        [{\"hovertemplate\": \"Products=Baby Food<br>Month_Year=%{x}<br>Total_Profit ($)=%{y}<extra></extra>\", \"legendgroup\": \"Baby Food\", \"line\": {\"color\": \"#636efa\", \"dash\": \"solid\"}, \"mode\": \"lines\", \"name\": \"Baby Food\", \"showlegend\": true, \"type\": \"scattergl\", \"x\": [\"2010-01\", \"2010-02\", \"2010-03\", \"2010-04\", \"2010-05\", \"2010-06\", \"2010-07\", \"2010-08\", \"2010-09\", \"2010-10\", \"2010-11\", \"2010-12\", \"2011-01\", \"2011-02\", \"2011-03\", \"2011-04\", \"2011-05\", \"2011-06\", \"2011-07\", \"2011-08\", \"2011-09\", \"2011-10\", \"2011-11\", \"2011-12\", \"2012-01\", \"2012-02\", \"2012-03\", \"2012-04\", \"2012-05\", \"2012-06\", \"2012-07\", \"2012-08\", \"2012-09\", \"2012-10\", \"2012-11\", \"2012-12\", \"2013-01\", \"2013-02\", \"2013-03\", \"2013-04\", \"2013-05\", \"2013-06\", \"2013-07\", \"2013-08\", \"2013-09\", \"2013-10\", \"2013-11\", \"2013-12\", \"2014-01\", \"2014-02\", \"2014-03\", \"2014-04\", \"2014-05\", \"2014-06\", \"2014-07\", \"2014-08\", \"2014-09\", \"2014-10\", \"2014-11\", \"2014-12\", \"2015-01\", \"2015-02\", \"2015-03\", \"2015-04\", \"2015-05\", \"2015-06\", \"2015-07\", \"2015-08\", \"2015-09\", \"2015-10\", \"2015-11\", \"2015-12\", \"2016-01\", \"2016-02\", \"2016-03\", \"2016-04\", \"2016-05\", \"2016-06\", \"2016-07\", \"2016-08\", \"2016-09\", \"2016-10\", \"2016-11\", \"2016-12\", \"2017-01\", \"2017-02\", \"2017-03\", \"2017-04\", \"2017-05\", \"2017-06\", \"2017-07\"], \"xaxis\": \"x\", \"y\": [496502.98378378403, 495396.97289156646, 476885.35174757283, 476493.0649425283, 473055.20029999985, 492388.15225130913, 505039.11832512345, 512698.6945177666, 494703.82212560374, 455590.7896938775, 496549.98291457305, 480791.37978947366, 471801.6177777778, 465268.91541176446, 457458.73893719795, 455082.5162841531, 460055.16519607825, 466696.8198882682, 458281.65304347815, 489139.77673684224, 454983.34245989315, 487681.52180790977, 442010.9645263157, 479161.26793969877, 495557.1459259257, 501717.87769696955, 489839.22010204097, 487950.85510638275, 499404.59542553214, 489087.3060000002, 503624.4749999999, 483870.29494949506, 470517.7492307692, 495679.2444919786, 479298.45387096814, 479262.20377142803, 456634.77913978504, 500401.18250000005, 470378.8507920791, 488345.23952153104, 492386.48766666657, 500781.20849161997, 506122.6370526316, 474253.75791044795, 464524.7786666667, 480656.74867724866, 456168.17124378117, 493039.0554945053, 445802.36536082474, 475762.7025165562, 474162.0065240644, 468781.130842105, 498466.45021052635, 460165.30767567584, 473854.59359223297, 493250.2443636367, 482297.8512568306, 494904.12404624274, 471861.4616494842, 493445.7406666667, 477092.62918918923, 468371.34942675167, 463858.7253260869, 481834.9101020411, 500011.4907608693, 465539.77883597894, 471142.40891089104, 499951.2711578947, 463319.67602409655, 475553.22959595954, 479268.91027027037, 504121.6798850574, 479436.5880829015, 469864.484134078, 464588.039468085, 490551.7827544912, 494331.66382978705, 458313.39610810805, 492574.7303921572, 481811.6334391532, 491063.9590673577, 482225.9421538463, 478457.4657843139, 462735.6839593911, 463608.35103773576, 497439.94206521724, 473879.06858585845, 486906.5153299491, 462645.50360655726, 491370.904222222, 468921.8434825872], \"yaxis\": \"y\"}, {\"hovertemplate\": \"Products=Beverages<br>Month_Year=%{x}<br>Total_Profit ($)=%{y}<extra></extra>\", \"legendgroup\": \"Beverages\", \"line\": {\"color\": \"#EF553B\", \"dash\": \"solid\"}, \"mode\": \"lines\", \"name\": \"Beverages\", \"showlegend\": true, \"type\": \"scattergl\", \"x\": [\"2010-01\", \"2010-02\", \"2010-03\", \"2010-04\", \"2010-05\", \"2010-06\", \"2010-07\", \"2010-08\", \"2010-09\", \"2010-10\", \"2010-11\", \"2010-12\", \"2011-01\", \"2011-02\", \"2011-03\", \"2011-04\", \"2011-05\", \"2011-06\", \"2011-07\", \"2011-08\", \"2011-09\", \"2011-10\", \"2011-11\", \"2011-12\", \"2012-01\", \"2012-02\", \"2012-03\", \"2012-04\", \"2012-05\", \"2012-06\", \"2012-07\", \"2012-08\", \"2012-09\", \"2012-10\", \"2012-11\", \"2012-12\", \"2013-01\", \"2013-02\", \"2013-03\", \"2013-04\", \"2013-05\", \"2013-06\", \"2013-07\", \"2013-08\", \"2013-09\", \"2013-10\", \"2013-11\", \"2013-12\", \"2014-01\", \"2014-02\", \"2014-03\", \"2014-04\", \"2014-05\", \"2014-06\", \"2014-07\", \"2014-08\", \"2014-09\", \"2014-10\", \"2014-11\", \"2014-12\", \"2015-01\", \"2015-02\", \"2015-03\", \"2015-04\", \"2015-05\", \"2015-06\", \"2015-07\", \"2015-08\", \"2015-09\", \"2015-10\", \"2015-11\", \"2015-12\", \"2016-01\", \"2016-02\", \"2016-03\", \"2016-04\", \"2016-05\", \"2016-06\", \"2016-07\", \"2016-08\", \"2016-09\", \"2016-10\", \"2016-11\", \"2016-12\", \"2017-01\", \"2017-02\", \"2017-03\", \"2017-04\", \"2017-05\", \"2017-06\", \"2017-07\"], \"xaxis\": \"x\", \"y\": [77482.04181818184, 78160.38447761195, 79210.79422018347, 81147.84808290155, 79502.93296089386, 76504.1276842105, 73604.7156069364, 76893.97764705883, 78788.01831683166, 76722.95557894735, 78916.78857142858, 81566.17605633807, 75478.71046153849, 76857.47005025127, 79209.78272727273, 79896.27016759779, 78477.64312499999, 81451.92299999998, 85947.72395939085, 76806.5897237569, 77815.38648648647, 79882.96500000001, 75099.5817112299, 80739.24272727275, 75418.07062500004, 82739.17978021978, 77048.04029268293, 78623.7648803828, 75489.86762790699, 83442.04590361445, 76982.46033519552, 76559.13, 80379.63097826089, 78805.05593582884, 82709.58802139036, 77714.58983606556, 82348.87292307692, 79589.42847457629, 79255.02857142854, 80819.16641711228, 78702.36786885247, 77078.1640909091, 83360.61419689118, 82391.21454545455, 75635.31428571421, 78409.93320000001, 77803.49557894736, 77986.97999999998, 82285.64399999997, 77981.90624999997, 76529.02799999996, 75367.0944723618, 80429.83601941747, 84872.96756756755, 78437.0437320574, 80178.7421052632, 82917.81000000003, 71185.5478125, 79514.0309189189, 73961.42225806456, 76640.11752475247, 74689.880625, 75713.80128440366, 86164.60666666666, 78078.74195876296, 77998.65559322035, 77778.02791443847, 77065.49663265306, 77993.51142857144, 82354.3971428572, 76603.58557377053, 80068.01399999997, 79904.90783505158, 82192.82254335254, 75277.28857142858, 81544.90354838708, 79167.02926829268, 78412.88598930479, 78213.90934673368, 82898.55168224304, 78497.12226804125, 80800.52704225352, 79244.71181347154, 78311.70841121498, 77703.48870967746, 80865.88258064521, 79146.59390862947, 75039.620625, 82904.20484210528, 86320.25999999997, 78423.53027932964], \"yaxis\": \"y\"}, {\"hovertemplate\": \"Products=Cereal<br>Month_Year=%{x}<br>Total_Profit ($)=%{y}<extra></extra>\", \"legendgroup\": \"Cereal\", \"line\": {\"color\": \"#00cc96\", \"dash\": \"solid\"}, \"mode\": \"lines\", \"name\": \"Cereal\", \"showlegend\": true, \"type\": \"scattergl\", \"x\": [\"2010-01\", \"2010-02\", \"2010-03\", \"2010-04\", \"2010-05\", \"2010-06\", \"2010-07\", \"2010-08\", \"2010-09\", \"2010-10\", \"2010-11\", \"2010-12\", \"2011-01\", \"2011-02\", \"2011-03\", \"2011-04\", \"2011-05\", \"2011-06\", \"2011-07\", \"2011-08\", \"2011-09\", \"2011-10\", \"2011-11\", \"2011-12\", \"2012-01\", \"2012-02\", \"2012-03\", \"2012-04\", \"2012-05\", \"2012-06\", \"2012-07\", \"2012-08\", \"2012-09\", \"2012-10\", \"2012-11\", \"2012-12\", \"2013-01\", \"2013-02\", \"2013-03\", \"2013-04\", \"2013-05\", \"2013-06\", \"2013-07\", \"2013-08\", \"2013-09\", \"2013-10\", \"2013-11\", \"2013-12\", \"2014-01\", \"2014-02\", \"2014-03\", \"2014-04\", \"2014-05\", \"2014-06\", \"2014-07\", \"2014-08\", \"2014-09\", \"2014-10\", \"2014-11\", \"2014-12\", \"2015-01\", \"2015-02\", \"2015-03\", \"2015-04\", \"2015-05\", \"2015-06\", \"2015-07\", \"2015-08\", \"2015-09\", \"2015-10\", \"2015-11\", \"2015-12\", \"2016-01\", \"2016-02\", \"2016-03\", \"2016-04\", \"2016-05\", \"2016-06\", \"2016-07\", \"2016-08\", \"2016-09\", \"2016-10\", \"2016-11\", \"2016-12\", \"2017-01\", \"2017-02\", \"2017-03\", \"2017-04\", \"2017-05\", \"2017-06\", \"2017-07\"], \"xaxis\": \"x\", \"y\": [450173.4923076923, 412673.38316666667, 458340.1753266333, 446634.2190476191, 465087.81046875, 471306.26021052606, 418934.69113300514, 444206.8097802195, 447889.2478074865, 463831.3835885166, 425968.60111675103, 426110.9711731843, 434507.4203743313, 449972.42451612925, 441764.18078212265, 445768.772727273, 460079.0497206703, 457876.279230769, 436214.0593500002, 440557.6248241205, 457237.0633695653, 438027.99966101686, 439069.2658333333, 445541.8496791448, 434357.2196954314, 410602.6086407769, 427386.94050761405, 428068.3165945946, 443556.04646153847, 437659.50097297324, 439802.74796875013, 448111.4639108909, 437700.2222222223, 444204.6259459458, 433360.86263736256, 439494.5492537314, 448288.8097927462, 443191.1616666664, 460850.7458638743, 465003.6424864866, 455715.41834170837, 441814.8015075376, 421791.67849740933, 433302.8544827587, 442216.93070175435, 439155.32080402004, 463805.20412621397, 453219.0982872929, 434157.1052284261, 451018.4305434784, 438697.67999999964, 454501.45077348076, 440449.3653623186, 451353.2108695654, 444360.62538461527, 429636.766751269, 433941.31344827596, 448142.00678571395, 422064.90750000015, 434022.50257731957, 467813.6693999998, 454114.4244705883, 463119.29921465955, 448555.9032487313, 426220.2604663213, 412149.9055670101, 445194.27999999974, 458041.56705882377, 419672.43731707335, 432545.9232227488, 453247.9889189187, 426419.2985869564, 452576.62292553217, 452013.8048387097, 432975.9411734695, 440900.06860465097, 448894.1178061222, 440584.4198461537, 437004.3454285715, 413225.25742105284, 453738.29333333333, 447866.9793650791, 462242.8233519555, 438443.08351351396, 425735.93909547746, 450240.4648333335, 413714.40515151527, 477365.9347976879, 427749.5667272726, 445887.5738805973, 441027.7305527638], \"yaxis\": \"y\"}, {\"hovertemplate\": \"Products=Clothes<br>Month_Year=%{x}<br>Total_Profit ($)=%{y}<extra></extra>\", \"legendgroup\": \"Clothes\", \"line\": {\"color\": \"#ab63fa\", \"dash\": \"solid\"}, \"mode\": \"lines\", \"name\": \"Clothes\", \"showlegend\": true, \"type\": \"scattergl\", \"x\": [\"2010-01\", \"2010-02\", \"2010-03\", \"2010-04\", \"2010-05\", \"2010-06\", \"2010-07\", \"2010-08\", \"2010-09\", \"2010-10\", \"2010-11\", \"2010-12\", \"2011-01\", \"2011-02\", \"2011-03\", \"2011-04\", \"2011-05\", \"2011-06\", \"2011-07\", \"2011-08\", \"2011-09\", \"2011-10\", \"2011-11\", \"2011-12\", \"2012-01\", \"2012-02\", \"2012-03\", \"2012-04\", \"2012-05\", \"2012-06\", \"2012-07\", \"2012-08\", \"2012-09\", \"2012-10\", \"2012-11\", \"2012-12\", \"2013-01\", \"2013-02\", \"2013-03\", \"2013-04\", \"2013-05\", \"2013-06\", \"2013-07\", \"2013-08\", \"2013-09\", \"2013-10\", \"2013-11\", \"2013-12\", \"2014-01\", \"2014-02\", \"2014-03\", \"2014-04\", \"2014-05\", \"2014-06\", \"2014-07\", \"2014-08\", \"2014-09\", \"2014-10\", \"2014-11\", \"2014-12\", \"2015-01\", \"2015-02\", \"2015-03\", \"2015-04\", \"2015-05\", \"2015-06\", \"2015-07\", \"2015-08\", \"2015-09\", \"2015-10\", \"2015-11\", \"2015-12\", \"2016-01\", \"2016-02\", \"2016-03\", \"2016-04\", \"2016-05\", \"2016-06\", \"2016-07\", \"2016-08\", \"2016-09\", \"2016-10\", \"2016-11\", \"2016-12\", \"2017-01\", \"2017-02\", \"2017-03\", \"2017-04\", \"2017-05\", \"2017-06\", \"2017-07\"], \"xaxis\": \"x\", \"y\": [379213.6541538461, 366170.18033898284, 353852.27999999997, 366835.76727272716, 363643.45979381446, 359145.3267692307, 354705.0971428572, 363251.161658986, 373145.35776536306, 365337.99000000017, 375265.344, 383042.91461538454, 385394.6500598801, 347953.25106382946, 376322.38408839796, 383122.3569230768, 384465.7440000003, 371992.1454545454, 365298.4433898302, 373125.54804123705, 359855.14604651177, 369092.0748768472, 351148.7001015231, 379592.15261538466, 355148.22963730566, 373157.22389610397, 349379.78399999964, 359028.0606315789, 378562.31999999995, 354844.28783505125, 383702.3018181821, 388359.06545454543, 377369.7320930232, 376615.6345023696, 379141.882303665, 363884.648275862, 377064.3438805968, 369141.1436065574, 362440.0152808988, 359508.79200000025, 348366.63920792064, 389702.18011173146, 347241.0109090908, 346761.1356279069, 367687.55999999994, 388580.4764245809, 358549.4983425415, 361637.71826086944, 373250.18204081646, 384040.4266666668, 361846.62994974904, 359113.8480000001, 368549.12000000005, 379888.2587755104, 370541.335477387, 371872.8926732672, 354246.54242774576, 375366.90461538464, 378767.1672000002, 367927.8975, 373668.5814084508, 367241.8385454546, 339434.8089795919, 367874.83200000017, 374804.79545454535, 355188.79843902413, 374508.2635714286, 367711.5763636364, 358007.49098901084, 350115.96368098166, 359015.81595854915, 386834.8777880185, 368699.66608695645, 351777.60000000015, 365645.0714136125, 369220.7719148936, 345707.9772631579, 367806.96986301395, 358046.04768472904, 382417.561945946, 378460.18799999997, 388621.8830769229, 375951.53658031084, 366855.2054237288, 373665.7519266052, 387758.2766480445, 370299.7497029705, 351195.1448275862, 352698.28682926827, 360300.95999999996, 374261.1951381215], \"yaxis\": \"y\"}, {\"hovertemplate\": \"Products=Cosmetics<br>Month_Year=%{x}<br>Total_Profit ($)=%{y}<extra></extra>\", \"legendgroup\": \"Cosmetics\", \"line\": {\"color\": \"#FFA15A\", \"dash\": \"solid\"}, \"mode\": \"lines\", \"name\": \"Cosmetics\", \"showlegend\": true, \"type\": \"scattergl\", \"x\": [\"2010-01\", \"2010-02\", \"2010-03\", \"2010-04\", \"2010-05\", \"2010-06\", \"2010-07\", \"2010-08\", \"2010-09\", \"2010-10\", \"2010-11\", \"2010-12\", \"2011-01\", \"2011-02\", \"2011-03\", \"2011-04\", \"2011-05\", \"2011-06\", \"2011-07\", \"2011-08\", \"2011-09\", \"2011-10\", \"2011-11\", \"2011-12\", \"2012-01\", \"2012-02\", \"2012-03\", \"2012-04\", \"2012-05\", \"2012-06\", \"2012-07\", \"2012-08\", \"2012-09\", \"2012-10\", \"2012-11\", \"2012-12\", \"2013-01\", \"2013-02\", \"2013-03\", \"2013-04\", \"2013-05\", \"2013-06\", \"2013-07\", \"2013-08\", \"2013-09\", \"2013-10\", \"2013-11\", \"2013-12\", \"2014-01\", \"2014-02\", \"2014-03\", \"2014-04\", \"2014-05\", \"2014-06\", \"2014-07\", \"2014-08\", \"2014-09\", \"2014-10\", \"2014-11\", \"2014-12\", \"2015-01\", \"2015-02\", \"2015-03\", \"2015-04\", \"2015-05\", \"2015-06\", \"2015-07\", \"2015-08\", \"2015-09\", \"2015-10\", \"2015-11\", \"2015-12\", \"2016-01\", \"2016-02\", \"2016-03\", \"2016-04\", \"2016-05\", \"2016-06\", \"2016-07\", \"2016-08\", \"2016-09\", \"2016-10\", \"2016-11\", \"2016-12\", \"2017-01\", \"2017-02\", \"2017-03\", \"2017-04\", \"2017-05\", \"2017-06\", \"2017-07\"], \"xaxis\": \"x\", \"y\": [879335.2407065217, 875290.9074698795, 825033.6535377365, 863066.4385096153, 829993.8010416673, 875086.7996858633, 864149.2947395836, 890777.4076190474, 827108.430847457, 901216.7523857862, 884802.1908139541, 876450.8866494845, 843233.6220634923, 878497.493888889, 837592.3035784317, 847923.0794117646, 809141.8230366496, 876807.6132432433, 839904.0553170729, 894732.0730508468, 856190.3337912088, 852211.9086315784, 920721.6853968257, 863688.4082027652, 915755.1613744072, 837330.2588636364, 834585.6109045227, 843277.8235638302, 858217.5169613265, 833042.4275280902, 846320.8324257428, 845906.0825128204, 851821.6725133694, 905986.0916129032, 897557.7946994536, 873141.1654022982, 885963.9328494621, 888589.6814444442, 840051.3798245615, 893812.4638797807, 895479.7631666661, 800372.8564161853, 826214.7848888891, 878511.8008018859, 836725.0705913979, 899704.2866964288, 816702.9543181821, 837886.889576719, 933809.8605056184, 837966.9617714287, 868083.8270813393, 863319.3046408843, 887255.8206417107, 871115.177664975, 869929.8851098898, 876680.8045812808, 874598.1990769237, 859635.0137499998, 847821.9961666665, 891285.1731693989, 856956.9327777781, 825830.5510365852, 849509.1027835045, 887906.494301676, 842095.2594786732, 895762.3372560974, 862370.8581999998, 872261.2079487175, 875048.7391379308, 852013.35579235, 895898.6811979166, 889356.5139560441, 841006.355163043, 891333.6287431701, 867434.4996067415, 796406.1575773195, 869178.9495135138, 874557.7764361703, 899430.4016410258, 874290.058969072, 847601.7608333331, 856161.5465238097, 875588.3027472523, 900614.1835593219, 855026.4238095237, 861014.6031125827, 869001.3302139039, 864101.8713157892, 874442.5159313729, 810921.40047619, 910636.40887574], \"yaxis\": \"y\"}, {\"hovertemplate\": \"Products=Fruits<br>Month_Year=%{x}<br>Total_Profit ($)=%{y}<extra></extra>\", \"legendgroup\": \"Fruits\", \"line\": {\"color\": \"#19d3f3\", \"dash\": \"solid\"}, \"mode\": \"lines\", \"name\": \"Fruits\", \"showlegend\": true, \"type\": \"scattergl\", \"x\": [\"2010-01\", \"2010-02\", \"2010-03\", \"2010-04\", \"2010-05\", \"2010-06\", \"2010-07\", \"2010-08\", \"2010-09\", \"2010-10\", \"2010-11\", \"2010-12\", \"2011-01\", \"2011-02\", \"2011-03\", \"2011-04\", \"2011-05\", \"2011-06\", \"2011-07\", \"2011-08\", \"2011-09\", \"2011-10\", \"2011-11\", \"2011-12\", \"2012-01\", \"2012-02\", \"2012-03\", \"2012-04\", \"2012-05\", \"2012-06\", \"2012-07\", \"2012-08\", \"2012-09\", \"2012-10\", \"2012-11\", \"2012-12\", \"2013-01\", \"2013-02\", \"2013-03\", \"2013-04\", \"2013-05\", \"2013-06\", \"2013-07\", \"2013-08\", \"2013-09\", \"2013-10\", \"2013-11\", \"2013-12\", \"2014-01\", \"2014-02\", \"2014-03\", \"2014-04\", \"2014-05\", \"2014-06\", \"2014-07\", \"2014-08\", \"2014-09\", \"2014-10\", \"2014-11\", \"2014-12\", \"2015-01\", \"2015-02\", \"2015-03\", \"2015-04\", \"2015-05\", \"2015-06\", \"2015-07\", \"2015-08\", \"2015-09\", \"2015-10\", \"2015-11\", \"2015-12\", \"2016-01\", \"2016-02\", \"2016-03\", \"2016-04\", \"2016-05\", \"2016-06\", \"2016-07\", \"2016-08\", \"2016-09\", \"2016-10\", \"2016-11\", \"2016-12\", \"2017-01\", \"2017-02\", \"2017-03\", \"2017-04\", \"2017-05\", \"2017-06\", \"2017-07\"], \"xaxis\": \"x\", \"y\": [11973.242795698921, 12164.205647058832, 12539.659005235599, 12403.524047619043, 11727.50143564356, 12391.620687830691, 11964.934945054945, 12256.368802083334, 12448.550287356324, 11785.781707317066, 11690.303976608187, 12185.261250000001, 12321.093782383423, 11605.875679012343, 11792.482979797982, 11392.642673267328, 12257.355920398017, 11878.732826086945, 12285.959731182797, 12026.745817307687, 11733.212905027933, 11666.207499999993, 12332.284347826091, 11868.5293627451, 12023.230098039217, 12314.24126436781, 12329.536138613867, 12544.54690721649, 12434.949300000002, 11727.78951351351, 11745.728134715022, 11171.796, 11959.960412371132, 11359.781047120423, 11599.522800000008, 11829.063250000008, 12509.848510638298, 11625.696702702704, 12848.594070351757, 11757.333399014778, 11791.404660194174, 11508.94803468208, 12135.65541666665, 11537.600594059402, 11720.989095238096, 11117.230764705884, 11047.166945812813, 11697.639044943815, 11795.708850000005, 12034.509132947978, 12090.63284974093, 11525.489180327864, 11764.720746268664, 11881.414082840241, 12038.369719101123, 12479.870652173913, 11817.199704142009, 11368.912524752475, 12829.628034682079, 11479.846718750001, 12111.78035, 12137.316153846157, 11851.928930481286, 12158.263591160226, 12456.62055555556, 12814.1845026178, 11817.194000000003, 11603.035093457946, 11961.216132596686, 11357.727499999997, 11959.112102564099, 12788.823232323228, 12058.076369047623, 12751.22966666666, 11975.60133971292, 12099.592184466028, 13097.473636363624, 12036.552898550728, 11531.23545, 12394.316197916663, 11824.072486187843, 12054.54240837697, 11522.866125654453, 12226.239304812836, 12537.018990825687, 11566.570813953493, 12256.651157894737, 12062.357659574463, 11693.296019900496, 11751.74780487805, 12203.027953216379], \"yaxis\": \"y\"}, {\"hovertemplate\": \"Products=Household<br>Month_Year=%{x}<br>Total_Profit ($)=%{y}<extra></extra>\", \"legendgroup\": \"Household\", \"line\": {\"color\": \"#FF6692\", \"dash\": \"solid\"}, \"mode\": \"lines\", \"name\": \"Household\", \"showlegend\": true, \"type\": \"scattergl\", \"x\": [\"2010-01\", \"2010-02\", \"2010-03\", \"2010-04\", \"2010-05\", \"2010-06\", \"2010-07\", \"2010-08\", \"2010-09\", \"2010-10\", \"2010-11\", \"2010-12\", \"2011-01\", \"2011-02\", \"2011-03\", \"2011-04\", \"2011-05\", \"2011-06\", \"2011-07\", \"2011-08\", \"2011-09\", \"2011-10\", \"2011-11\", \"2011-12\", \"2012-01\", \"2012-02\", \"2012-03\", \"2012-04\", \"2012-05\", \"2012-06\", \"2012-07\", \"2012-08\", \"2012-09\", \"2012-10\", \"2012-11\", \"2012-12\", \"2013-01\", \"2013-02\", \"2013-03\", \"2013-04\", \"2013-05\", \"2013-06\", \"2013-07\", \"2013-08\", \"2013-09\", \"2013-10\", \"2013-11\", \"2013-12\", \"2014-01\", \"2014-02\", \"2014-03\", \"2014-04\", \"2014-05\", \"2014-06\", \"2014-07\", \"2014-08\", \"2014-09\", \"2014-10\", \"2014-11\", \"2014-12\", \"2015-01\", \"2015-02\", \"2015-03\", \"2015-04\", \"2015-05\", \"2015-06\", \"2015-07\", \"2015-08\", \"2015-09\", \"2015-10\", \"2015-11\", \"2015-12\", \"2016-01\", \"2016-02\", \"2016-03\", \"2016-04\", \"2016-05\", \"2016-06\", \"2016-07\", \"2016-08\", \"2016-09\", \"2016-10\", \"2016-11\", \"2016-12\", \"2017-01\", \"2017-02\", \"2017-03\", \"2017-04\", \"2017-05\", \"2017-06\", \"2017-07\"], \"xaxis\": \"x\", \"y\": [795105.4193500003, 856432.1038922155, 813754.5754787235, 830811.7659512194, 846002.7931791907, 845799.5659473679, 843040.4880193239, 864465.1252631581, 849182.7632142862, 803500.4725, 866185.7629648236, 833146.807333333, 893629.0950243904, 834399.1165517245, 832068.8620657282, 844876.3107567569, 789902.152460733, 827318.5420338976, 806092.3055555559, 819635.8663809526, 859073.2928571429, 820359.3359296479, 832633.0443333334, 808754.8285786803, 823847.4925414367, 867006.9529696971, 829802.25963158, 801082.7134895833, 862181.656066351, 861569.3692168673, 800342.8007772021, 866594.4814948457, 821691.1917318439, 838583.3413106798, 820348.5243975914, 811688.908643216, 867846.8895263156, 822470.0911560699, 827210.6798522167, 858130.1244565215, 868228.2930693069, 826741.6820467834, 855257.2796216212, 841131.2480225987, 776218.2615789471, 821119.0338235295, 828142.8480874317, 780170.3721739133, 848347.4466315792, 787672.3759574464, 838280.4525683057, 827141.0760732982, 843279.4390909092, 801738.9878640779, 873004.4097044334, 808803.6085405414, 812979.0200520828, 850294.6449074075, 835996.7460893852, 818790.4537988828, 782806.1839890708, 811820.8718181825, 815024.4443076922, 804765.7906806286, 893818.249132653, 846600.7444505497, 853822.357653061, 853611.7001666666, 801877.7707731953, 816371.9630348263, 816197.1632338308, 805140.8321182267, 835090.7413142851, 890121.0161452513, 826852.0806060602, 813309.6168750002, 851154.8305056179, 844639.376650717, 925188.9496059113, 836512.6659016394, 825968.2611274513, 840590.4519047622, 812941.6418686864, 831084.5165517238, 867487.517105263, 880578.4005421691, 807350.1309139781, 838001.1045762708, 849890.9228643216, 792282.7421839084, 869872.8415662653], \"yaxis\": \"y\"}, {\"hovertemplate\": \"Products=Meat<br>Month_Year=%{x}<br>Total_Profit ($)=%{y}<extra></extra>\", \"legendgroup\": \"Meat\", \"line\": {\"color\": \"#B6E880\", \"dash\": \"solid\"}, \"mode\": \"lines\", \"name\": \"Meat\", \"showlegend\": true, \"type\": \"scattergl\", \"x\": [\"2010-01\", \"2010-02\", \"2010-03\", \"2010-04\", \"2010-05\", \"2010-06\", \"2010-07\", \"2010-08\", \"2010-09\", \"2010-10\", \"2010-11\", \"2010-12\", \"2011-01\", \"2011-02\", \"2011-03\", \"2011-04\", \"2011-05\", \"2011-06\", \"2011-07\", \"2011-08\", \"2011-09\", \"2011-10\", \"2011-11\", \"2011-12\", \"2012-01\", \"2012-02\", \"2012-03\", \"2012-04\", \"2012-05\", \"2012-06\", \"2012-07\", \"2012-08\", \"2012-09\", \"2012-10\", \"2012-11\", \"2012-12\", \"2013-01\", \"2013-02\", \"2013-03\", \"2013-04\", \"2013-05\", \"2013-06\", \"2013-07\", \"2013-08\", \"2013-09\", \"2013-10\", \"2013-11\", \"2013-12\", \"2014-01\", \"2014-02\", \"2014-03\", \"2014-04\", \"2014-05\", \"2014-06\", \"2014-07\", \"2014-08\", \"2014-09\", \"2014-10\", \"2014-11\", \"2014-12\", \"2015-01\", \"2015-02\", \"2015-03\", \"2015-04\", \"2015-05\", \"2015-06\", \"2015-07\", \"2015-08\", \"2015-09\", \"2015-10\", \"2015-11\", \"2015-12\", \"2016-01\", \"2016-02\", \"2016-03\", \"2016-04\", \"2016-05\", \"2016-06\", \"2016-07\", \"2016-08\", \"2016-09\", \"2016-10\", \"2016-11\", \"2016-12\", \"2017-01\", \"2017-02\", \"2017-03\", \"2017-04\", \"2017-05\", \"2017-06\", \"2017-07\"], \"xaxis\": \"x\", \"y\": [297852.08602150524, 279835.14257425745, 272937.32631578954, 304088.94078212284, 305738.44888888864, 264651.68888888886, 285890.1306930693, 291028.8596685081, 276638.3649484536, 306279.6749999998, 289660.4924731181, 271367.8806282722, 269635.16891191714, 282381.9428571428, 293272.29904761916, 262162.113432836, 292513.21546961315, 265022.63542857155, 274615.430927835, 285760.5355932203, 285105.711827957, 299406.563902439, 297997.33333333355, 295165.4272300469, 295837.2020942408, 280519.69523809524, 297186.8595744681, 289047.94285714265, 282200.3708333333, 276344.76502732234, 290657.7541463414, 287803.12000000005, 291273.5539999999, 285943.08177339897, 291855.5330049263, 294870.92043010745, 282420.66666666657, 280003.5333333332, 271750.4344086022, 281859.55416666664, 286355.09306930704, 278774.0408602149, 284238.4187499999, 275157.79607843154, 280272.88704663224, 285306.2089887641, 276110.2071065989, 277753.55955056194, 295472.5465346534, 271462.58924731193, 282667.6387096777, 293058.7300546447, 300246.0770833334, 287547.874766355, 294520.79800000024, 275952.7604166668, 285953.5250000002, 285112.5154639177, 279850.27411167504, 294367.542857143, 283658.6528497407, 296859.96629213484, 290895.08627450984, 294374.2153846154, 269664.4795698924, 283048.6749999999, 293067.5055276383, 281728.6715025906, 287358.19574468094, 312487.45284974086, 283357.0235294117, 270311.5715846995, 292543.24946236546, 281977.62487046636, 286631.0352941176, 279348.10378378397, 272243.39999999985, 306443.34285714274, 274181.45168539323, 282801.46938775515, 285170.6000000002, 285303.57525773183, 294488.01621621626, 303106.27624309383, 272268.147150259, 276495.21156069357, 284199.65423728805, 288514.60000000015, 294080.9019607843, 283131.25176470575, 279728.1882352942], \"yaxis\": \"y\"}, {\"hovertemplate\": \"Products=Office Supplies<br>Month_Year=%{x}<br>Total_Profit ($)=%{y}<extra></extra>\", \"legendgroup\": \"Office Supplies\", \"line\": {\"color\": \"#FF97FF\", \"dash\": \"solid\"}, \"mode\": \"lines\", \"name\": \"Office Supplies\", \"showlegend\": true, \"type\": \"scattergl\", \"x\": [\"2010-01\", \"2010-02\", \"2010-03\", \"2010-04\", \"2010-05\", \"2010-06\", \"2010-07\", \"2010-08\", \"2010-09\", \"2010-10\", \"2010-11\", \"2010-12\", \"2011-01\", \"2011-02\", \"2011-03\", \"2011-04\", \"2011-05\", \"2011-06\", \"2011-07\", \"2011-08\", \"2011-09\", \"2011-10\", \"2011-11\", \"2011-12\", \"2012-01\", \"2012-02\", \"2012-03\", \"2012-04\", \"2012-05\", \"2012-06\", \"2012-07\", \"2012-08\", \"2012-09\", \"2012-10\", \"2012-11\", \"2012-12\", \"2013-01\", \"2013-02\", \"2013-03\", \"2013-04\", \"2013-05\", \"2013-06\", \"2013-07\", \"2013-08\", \"2013-09\", \"2013-10\", \"2013-11\", \"2013-12\", \"2014-01\", \"2014-02\", \"2014-03\", \"2014-04\", \"2014-05\", \"2014-06\", \"2014-07\", \"2014-08\", \"2014-09\", \"2014-10\", \"2014-11\", \"2014-12\", \"2015-01\", \"2015-02\", \"2015-03\", \"2015-04\", \"2015-05\", \"2015-06\", \"2015-07\", \"2015-08\", \"2015-09\", \"2015-10\", \"2015-11\", \"2015-12\", \"2016-01\", \"2016-02\", \"2016-03\", \"2016-04\", \"2016-05\", \"2016-06\", \"2016-07\", \"2016-08\", \"2016-09\", \"2016-10\", \"2016-11\", \"2016-12\", \"2017-01\", \"2017-02\", \"2017-03\", \"2017-04\", \"2017-05\", \"2017-06\", \"2017-07\"], \"xaxis\": \"x\", \"y\": [646197.3175675676, 624511.7569444445, 671887.8522099447, 613016.360103627, 658453.7011173185, 627140.2486187845, 586965.0323834197, 619763.2646276596, 641012.8631284917, 622265.2083333334, 625747.7824858757, 631294.0071428572, 612778.6538461539, 572954.8323170731, 613258.7174479166, 630974.4350961539, 623877.976519337, 624061.5997409327, 647600.0537634408, 638037.2966507177, 605132.03125, 608517.7669270834, 637507.0568783069, 621384.0088383838, 625730.7070707071, 628887.1164772727, 659532.0925414364, 600202.6270053476, 646663.2701421801, 679463.2344632768, 652945.7619047619, 621514.8691099477, 632737.1507352941, 600240.6922043011, 599173.7699468085, 604602.0810055865, 633513.0130057803, 599364.7094594594, 623072.3900462963, 609404.170984456, 628857.2302631579, 586584.7972972973, 593909.9771689498, 641407.7526595745, 626003.4664948453, 630129.53125, 644043.3333333334, 630645.6117021276, 641986.7691256831, 622141.5243902439, 652261.322368421, 623642.4407894737, 612722.3269230769, 628544.343922652, 612140.625, 587610.5735294118, 647620.1600609756, 623643.4375, 644882.3560209424, 646343.3414634146, 623046.1171875, 618171.3324175824, 594531.788277512, 639211.8713450292, 649511.3466494846, 600545.1035502958, 643666.05625, 667241.2007389163, 608506.2243589744, 632439.4416243655, 656945.3434065934, 652738.125, 622204.7009569379, 625510.5347222222, 650782.7755376344, 638198.4507978724, 657009.7007978724, 646098.0042613636, 650517.5219298246, 597775.023923445, 636032.0545212766, 604278.7696335078, 673891.7073170731, 627868.5301507538, 601274.1896984924, 645671.1264534884, 652737.6142473118, 619749.1622340425, 609644.4614361703, 594877.918660287, 649988.0399408285], \"yaxis\": \"y\"}, {\"hovertemplate\": \"Products=Personal Care<br>Month_Year=%{x}<br>Total_Profit ($)=%{y}<extra></extra>\", \"legendgroup\": \"Personal Care\", \"line\": {\"color\": \"#FECB52\", \"dash\": \"solid\"}, \"mode\": \"lines\", \"name\": \"Personal Care\", \"showlegend\": true, \"type\": \"scattergl\", \"x\": [\"2010-01\", \"2010-02\", \"2010-03\", \"2010-04\", \"2010-05\", \"2010-06\", \"2010-07\", \"2010-08\", \"2010-09\", \"2010-10\", \"2010-11\", \"2010-12\", \"2011-01\", \"2011-02\", \"2011-03\", \"2011-04\", \"2011-05\", \"2011-06\", \"2011-07\", \"2011-08\", \"2011-09\", \"2011-10\", \"2011-11\", \"2011-12\", \"2012-01\", \"2012-02\", \"2012-03\", \"2012-04\", \"2012-05\", \"2012-06\", \"2012-07\", \"2012-08\", \"2012-09\", \"2012-10\", \"2012-11\", \"2012-12\", \"2013-01\", \"2013-02\", \"2013-03\", \"2013-04\", \"2013-05\", \"2013-06\", \"2013-07\", \"2013-08\", \"2013-09\", \"2013-10\", \"2013-11\", \"2013-12\", \"2014-01\", \"2014-02\", \"2014-03\", \"2014-04\", \"2014-05\", \"2014-06\", \"2014-07\", \"2014-08\", \"2014-09\", \"2014-10\", \"2014-11\", \"2014-12\", \"2015-01\", \"2015-02\", \"2015-03\", \"2015-04\", \"2015-05\", \"2015-06\", \"2015-07\", \"2015-08\", \"2015-09\", \"2015-10\", \"2015-11\", \"2015-12\", \"2016-01\", \"2016-02\", \"2016-03\", \"2016-04\", \"2016-05\", \"2016-06\", \"2016-07\", \"2016-08\", \"2016-09\", \"2016-10\", \"2016-11\", \"2016-12\", \"2017-01\", \"2017-02\", \"2017-03\", \"2017-04\", \"2017-05\", \"2017-06\", \"2017-07\"], \"xaxis\": \"x\", \"y\": [123115.70934010153, 136762.15759999992, 129337.01712871283, 126950.56645833339, 114784.4384615385, 127492.38362573102, 132745.25827027025, 125217.78785714296, 123231.51160220985, 132183.6763902439, 126462.72361445782, 128283.62137931032, 132947.128611111, 124124.20096774197, 121006.917037037, 118968.63999999996, 125658.81363636363, 133418.79412371133, 129246.02673684208, 122937.12618556702, 128933.31046632123, 125008.02489583335, 131440.78367567575, 120554.53621359222, 122723.33662790699, 128368.07945652171, 128388.96793814434, 123106.82284090905, 126538.87989847707, 137365.55466666666, 125508.41356783916, 130922.18489583324, 131443.05999999994, 127056.55712871288, 131525.4608888889, 131152.2470588236, 119953.66292682927, 127321.73243243236, 127651.71167567566, 124761.70000000004, 125932.1123958333, 122295.30600000001, 123831.93283582098, 133429.03744680848, 131614.44994652417, 124357.24000000002, 125787.13571428566, 113075.85730000006, 129209.36000000003, 132329.25312883442, 129232.77672131138, 120523.3674509804, 131816.72208955223, 118125.99371134023, 123216.19310344827, 125309.39749999998, 130193.91836956528, 126501.81925925925, 123409.04784946234, 129299.34818181816, 126298.90905472632, 134501.55062146892, 116124.82000000007, 128582.73214285713, 122952.54542713564, 130320.2117514124, 126940.71585492228, 127044.3463106796, 127254.94104166671, 119178.51371134025, 127972.72041450783, 130875.70430232558, 126949.29196078429, 130156.5306796117, 122420.05590243901, 123646.88949152536, 133980.29502439027, 120742.18148514855, 124656.88719101125, 127204.83091891889, 121154.06815217395, 131382.5632000001, 120946.87565217401, 122965.70296650715, 120960.56989898988, 118637.5760736196, 126072.04551724128, 127722.77748837203, 119323.25629629628, 121677.64294736834, 126675.95520467832], \"yaxis\": \"y\"}, {\"hovertemplate\": \"Products=Snacks<br>Month_Year=%{x}<br>Total_Profit ($)=%{y}<extra></extra>\", \"legendgroup\": \"Snacks\", \"line\": {\"color\": \"#636efa\", \"dash\": \"solid\"}, \"mode\": \"lines\", \"name\": \"Snacks\", \"showlegend\": true, \"type\": \"scattergl\", \"x\": [\"2010-01\", \"2010-02\", \"2010-03\", \"2010-04\", \"2010-05\", \"2010-06\", \"2010-07\", \"2010-08\", \"2010-09\", \"2010-10\", \"2010-11\", \"2010-12\", \"2011-01\", \"2011-02\", \"2011-03\", \"2011-04\", \"2011-05\", \"2011-06\", \"2011-07\", \"2011-08\", \"2011-09\", \"2011-10\", \"2011-11\", \"2011-12\", \"2012-01\", \"2012-02\", \"2012-03\", \"2012-04\", \"2012-05\", \"2012-06\", \"2012-07\", \"2012-08\", \"2012-09\", \"2012-10\", \"2012-11\", \"2012-12\", \"2013-01\", \"2013-02\", \"2013-03\", \"2013-04\", \"2013-05\", \"2013-06\", \"2013-07\", \"2013-08\", \"2013-09\", \"2013-10\", \"2013-11\", \"2013-12\", \"2014-01\", \"2014-02\", \"2014-03\", \"2014-04\", \"2014-05\", \"2014-06\", \"2014-07\", \"2014-08\", \"2014-09\", \"2014-10\", \"2014-11\", \"2014-12\", \"2015-01\", \"2015-02\", \"2015-03\", \"2015-04\", \"2015-05\", \"2015-06\", \"2015-07\", \"2015-08\", \"2015-09\", \"2015-10\", \"2015-11\", \"2015-12\", \"2016-01\", \"2016-02\", \"2016-03\", \"2016-04\", \"2016-05\", \"2016-06\", \"2016-07\", \"2016-08\", \"2016-09\", \"2016-10\", \"2016-11\", \"2016-12\", \"2017-01\", \"2017-02\", \"2017-03\", \"2017-04\", \"2017-05\", \"2017-06\", \"2017-07\"], \"xaxis\": \"x\", \"y\": [279234.7803333334, 271014.3974117646, 263149.24183783773, 266800.0404395605, 282220.59218750003, 281144.1559999999, 272593.4882539681, 282373.4632044198, 272976.0307246378, 275456.29160377366, 280142.1737037037, 265232.8771875001, 274512.301904762, 264270.7033333334, 265029.27309278346, 284230.90613065334, 274560.04043478245, 275075.4494472362, 277073.2616999999, 271640.24175824184, 268851.01589189185, 276608.910978261, 293085.05421319796, 269050.1783050847, 270460.56892307696, 271147.8235051546, 278142.2985365855, 289670.4122807017, 267642.30473684217, 270203.10224598943, 262619.2008955223, 269431.3614659686, 261650.7498360656, 276596.0250000002, 271292.67470270273, 268926.9208556149, 270537.3291803278, 286225.1757142857, 261702.7406451614, 275743.1929999999, 283258.4215384615, 281461.0993457945, 281145.97682242986, 271718.892, 252474.50371257483, 259866.69410526304, 288978.34712041874, 272855.9368421054, 275592.8464948454, 261528.35163636357, 284696.10528497404, 268934.8803797469, 273115.03679999994, 271534.8985263157, 258796.22033333336, 283748.9656684492, 268505.64788571425, 251998.72439306363, 262527.0019811322, 262248.11047058826, 274567.9151196172, 279985.4808, 282334.1691000001, 294181.0899999998, 280589.3717460317, 290378.945698324, 280943.3127272729, 289341.3296666666, 291373.54499999987, 271944.7362499999, 273902.3174193547, 271512.04975609755, 280922.78321608034, 278971.2338121547, 275169.14235294104, 256767.9045405404, 277020.13372340426, 282927.3501818181, 284419.95981042675, 290032.0238095239, 267963.3185869566, 300296.09569060744, 294599.23500000016, 276579.4691457286, 260019.94120879128, 275307.32670520246, 278333.7924401914, 286973.2417142858, 262577.559893617, 276242.93792079214, 272019.405], \"yaxis\": \"y\"}, {\"hovertemplate\": \"Products=Vegetables<br>Month_Year=%{x}<br>Total_Profit ($)=%{y}<extra></extra>\", \"legendgroup\": \"Vegetables\", \"line\": {\"color\": \"#EF553B\", \"dash\": \"solid\"}, \"mode\": \"lines\", \"name\": \"Vegetables\", \"showlegend\": true, \"type\": \"scattergl\", \"x\": [\"2010-01\", \"2010-02\", \"2010-03\", \"2010-04\", \"2010-05\", \"2010-06\", \"2010-07\", \"2010-08\", \"2010-09\", \"2010-10\", \"2010-11\", \"2010-12\", \"2011-01\", \"2011-02\", \"2011-03\", \"2011-04\", \"2011-05\", \"2011-06\", \"2011-07\", \"2011-08\", \"2011-09\", \"2011-10\", \"2011-11\", \"2011-12\", \"2012-01\", \"2012-02\", \"2012-03\", \"2012-04\", \"2012-05\", \"2012-06\", \"2012-07\", \"2012-08\", \"2012-09\", \"2012-10\", \"2012-11\", \"2012-12\", \"2013-01\", \"2013-02\", \"2013-03\", \"2013-04\", \"2013-05\", \"2013-06\", \"2013-07\", \"2013-08\", \"2013-09\", \"2013-10\", \"2013-11\", \"2013-12\", \"2014-01\", \"2014-02\", \"2014-03\", \"2014-04\", \"2014-05\", \"2014-06\", \"2014-07\", \"2014-08\", \"2014-09\", \"2014-10\", \"2014-11\", \"2014-12\", \"2015-01\", \"2015-02\", \"2015-03\", \"2015-04\", \"2015-05\", \"2015-06\", \"2015-07\", \"2015-08\", \"2015-09\", \"2015-10\", \"2015-11\", \"2015-12\", \"2016-01\", \"2016-02\", \"2016-03\", \"2016-04\", \"2016-05\", \"2016-06\", \"2016-07\", \"2016-08\", \"2016-09\", \"2016-10\", \"2016-11\", \"2016-12\", \"2017-01\", \"2017-02\", \"2017-03\", \"2017-04\", \"2017-05\", \"2017-06\", \"2017-07\"], \"xaxis\": \"x\", \"y\": [320266.3419900496, 317636.1669230769, 311007.491761658, 303020.4533707864, 309385.58696335077, 314533.32344262284, 315354.03170588234, 319518.5335576925, 316216.42447004624, 302396.39181286556, 315306.77597701136, 324341.2204102564, 312820.9435164835, 296274.6506735752, 313236.30679347826, 326535.13240837713, 282664.57499999995, 318529.69923076924, 318207.4438172043, 310675.6797435897, 317387.3963255816, 314937.39621212124, 329676.75884816743, 318204.5706417112, 314826.22211956524, 302261.17916666676, 326952.1159064327, 295527.97010416666, 318447.00972222217, 313066.1061621621, 314845.6561607142, 304037.95117924525, 297048.7633333333, 319316.56527363166, 337967.79819148924, 304028.6322335026, 295088.2485245904, 322928.8890000002, 314731.10777777765, 321701.0430412371, 309581.62875, 310398.7966666667, 330029.42748691095, 302859.6056345177, 307907.62877005356, 322447.9531818183, 315783.93325966835, 313557.5101507537, 309974.03909090924, 307531.2510365853, 297658.26883838384, 320209.87652406417, 295702.5640104168, 316425.64246231155, 336137.17391509435, 311553.2456060606, 323280.37455882365, 316310.8064130436, 323095.83277777774, 320868.96701570693, 315800.97756613756, 314188.84596774215, 305863.91242574266, 298123.48966480437, 317329.97761658044, 336899.98359550576, 310026.64742424246, 323231.2783597883, 321530.20154639205, 333831.10059139784, 329692.6371999999, 300678.42403314926, 304176.35805970157, 312028.7930555554, 313711.3292346939, 316170.6527956988, 320828.8262254902, 320046.91918918927, 318107.5391387559, 314839.3605472636, 291519.32737804885, 305859.91796874994, 304880.84543478256, 308488.44815642457, 310767.0877551022, 319901.57625698333, 305989.44868421037, 323297.3688421053, 305490.6973298428, 307507.80039800995, 315422.4295808385], \"yaxis\": \"y\"}],                        {\"height\": 500, \"legend\": {\"title\": {\"text\": \"Products\"}, \"tracegroupgap\": 0}, \"template\": {\"data\": {\"bar\": [{\"error_x\": {\"color\": \"#2a3f5f\"}, \"error_y\": {\"color\": \"#2a3f5f\"}, \"marker\": {\"line\": {\"color\": \"#E5ECF6\", \"width\": 0.5}}, \"type\": \"bar\"}], \"barpolar\": [{\"marker\": {\"line\": {\"color\": \"#E5ECF6\", \"width\": 0.5}}, \"type\": \"barpolar\"}], \"carpet\": [{\"aaxis\": {\"endlinecolor\": \"#2a3f5f\", \"gridcolor\": \"white\", \"linecolor\": \"white\", \"minorgridcolor\": \"white\", \"startlinecolor\": \"#2a3f5f\"}, \"baxis\": {\"endlinecolor\": \"#2a3f5f\", \"gridcolor\": \"white\", \"linecolor\": \"white\", \"minorgridcolor\": \"white\", \"startlinecolor\": \"#2a3f5f\"}, \"type\": \"carpet\"}], \"choropleth\": [{\"colorbar\": {\"outlinewidth\": 0, \"ticks\": \"\"}, \"type\": \"choropleth\"}], \"contour\": [{\"colorbar\": {\"outlinewidth\": 0, \"ticks\": \"\"}, \"colorscale\": [[0.0, \"#0d0887\"], [0.1111111111111111, \"#46039f\"], [0.2222222222222222, \"#7201a8\"], [0.3333333333333333, \"#9c179e\"], [0.4444444444444444, \"#bd3786\"], [0.5555555555555556, \"#d8576b\"], [0.6666666666666666, \"#ed7953\"], [0.7777777777777778, \"#fb9f3a\"], [0.8888888888888888, \"#fdca26\"], [1.0, \"#f0f921\"]], \"type\": \"contour\"}], \"contourcarpet\": [{\"colorbar\": {\"outlinewidth\": 0, \"ticks\": \"\"}, \"type\": \"contourcarpet\"}], \"heatmap\": [{\"colorbar\": {\"outlinewidth\": 0, \"ticks\": \"\"}, \"colorscale\": [[0.0, \"#0d0887\"], [0.1111111111111111, \"#46039f\"], [0.2222222222222222, \"#7201a8\"], [0.3333333333333333, \"#9c179e\"], [0.4444444444444444, \"#bd3786\"], [0.5555555555555556, \"#d8576b\"], [0.6666666666666666, \"#ed7953\"], [0.7777777777777778, \"#fb9f3a\"], [0.8888888888888888, \"#fdca26\"], [1.0, \"#f0f921\"]], \"type\": \"heatmap\"}], \"heatmapgl\": [{\"colorbar\": {\"outlinewidth\": 0, \"ticks\": \"\"}, \"colorscale\": [[0.0, \"#0d0887\"], [0.1111111111111111, \"#46039f\"], [0.2222222222222222, \"#7201a8\"], [0.3333333333333333, \"#9c179e\"], [0.4444444444444444, \"#bd3786\"], [0.5555555555555556, \"#d8576b\"], [0.6666666666666666, \"#ed7953\"], [0.7777777777777778, \"#fb9f3a\"], [0.8888888888888888, \"#fdca26\"], [1.0, \"#f0f921\"]], \"type\": \"heatmapgl\"}], \"histogram\": [{\"marker\": {\"colorbar\": {\"outlinewidth\": 0, \"ticks\": \"\"}}, \"type\": \"histogram\"}], \"histogram2d\": [{\"colorbar\": {\"outlinewidth\": 0, \"ticks\": \"\"}, \"colorscale\": [[0.0, \"#0d0887\"], [0.1111111111111111, \"#46039f\"], [0.2222222222222222, \"#7201a8\"], [0.3333333333333333, \"#9c179e\"], [0.4444444444444444, \"#bd3786\"], [0.5555555555555556, \"#d8576b\"], [0.6666666666666666, \"#ed7953\"], [0.7777777777777778, \"#fb9f3a\"], [0.8888888888888888, \"#fdca26\"], [1.0, \"#f0f921\"]], \"type\": \"histogram2d\"}], \"histogram2dcontour\": [{\"colorbar\": {\"outlinewidth\": 0, \"ticks\": \"\"}, \"colorscale\": [[0.0, \"#0d0887\"], [0.1111111111111111, \"#46039f\"], [0.2222222222222222, \"#7201a8\"], [0.3333333333333333, \"#9c179e\"], [0.4444444444444444, \"#bd3786\"], [0.5555555555555556, \"#d8576b\"], [0.6666666666666666, \"#ed7953\"], [0.7777777777777778, \"#fb9f3a\"], [0.8888888888888888, \"#fdca26\"], [1.0, \"#f0f921\"]], \"type\": \"histogram2dcontour\"}], \"mesh3d\": [{\"colorbar\": {\"outlinewidth\": 0, \"ticks\": \"\"}, \"type\": \"mesh3d\"}], \"parcoords\": [{\"line\": {\"colorbar\": {\"outlinewidth\": 0, \"ticks\": \"\"}}, \"type\": \"parcoords\"}], \"pie\": [{\"automargin\": true, \"type\": \"pie\"}], \"scatter\": [{\"marker\": {\"colorbar\": {\"outlinewidth\": 0, \"ticks\": \"\"}}, \"type\": \"scatter\"}], \"scatter3d\": [{\"line\": {\"colorbar\": {\"outlinewidth\": 0, \"ticks\": \"\"}}, \"marker\": {\"colorbar\": {\"outlinewidth\": 0, \"ticks\": \"\"}}, \"type\": \"scatter3d\"}], \"scattercarpet\": [{\"marker\": {\"colorbar\": {\"outlinewidth\": 0, \"ticks\": \"\"}}, \"type\": \"scattercarpet\"}], \"scattergeo\": [{\"marker\": {\"colorbar\": {\"outlinewidth\": 0, \"ticks\": \"\"}}, \"type\": \"scattergeo\"}], \"scattergl\": [{\"marker\": {\"colorbar\": {\"outlinewidth\": 0, \"ticks\": \"\"}}, \"type\": \"scattergl\"}], \"scattermapbox\": [{\"marker\": {\"colorbar\": {\"outlinewidth\": 0, \"ticks\": \"\"}}, \"type\": \"scattermapbox\"}], \"scatterpolar\": [{\"marker\": {\"colorbar\": {\"outlinewidth\": 0, \"ticks\": \"\"}}, \"type\": \"scatterpolar\"}], \"scatterpolargl\": [{\"marker\": {\"colorbar\": {\"outlinewidth\": 0, \"ticks\": \"\"}}, \"type\": \"scatterpolargl\"}], \"scatterternary\": [{\"marker\": {\"colorbar\": {\"outlinewidth\": 0, \"ticks\": \"\"}}, \"type\": \"scatterternary\"}], \"surface\": [{\"colorbar\": {\"outlinewidth\": 0, \"ticks\": \"\"}, \"colorscale\": [[0.0, \"#0d0887\"], [0.1111111111111111, \"#46039f\"], [0.2222222222222222, \"#7201a8\"], [0.3333333333333333, \"#9c179e\"], [0.4444444444444444, \"#bd3786\"], [0.5555555555555556, \"#d8576b\"], [0.6666666666666666, \"#ed7953\"], [0.7777777777777778, \"#fb9f3a\"], [0.8888888888888888, \"#fdca26\"], [1.0, \"#f0f921\"]], \"type\": \"surface\"}], \"table\": [{\"cells\": {\"fill\": {\"color\": \"#EBF0F8\"}, \"line\": {\"color\": \"white\"}}, \"header\": {\"fill\": {\"color\": \"#C8D4E3\"}, \"line\": {\"color\": \"white\"}}, \"type\": \"table\"}]}, \"layout\": {\"annotationdefaults\": {\"arrowcolor\": \"#2a3f5f\", \"arrowhead\": 0, \"arrowwidth\": 1}, \"autotypenumbers\": \"strict\", \"coloraxis\": {\"colorbar\": {\"outlinewidth\": 0, \"ticks\": \"\"}}, \"colorscale\": {\"diverging\": [[0, \"#8e0152\"], [0.1, \"#c51b7d\"], [0.2, \"#de77ae\"], [0.3, \"#f1b6da\"], [0.4, \"#fde0ef\"], [0.5, \"#f7f7f7\"], [0.6, \"#e6f5d0\"], [0.7, \"#b8e186\"], [0.8, \"#7fbc41\"], [0.9, \"#4d9221\"], [1, \"#276419\"]], \"sequential\": [[0.0, \"#0d0887\"], [0.1111111111111111, \"#46039f\"], [0.2222222222222222, \"#7201a8\"], [0.3333333333333333, \"#9c179e\"], [0.4444444444444444, \"#bd3786\"], [0.5555555555555556, \"#d8576b\"], [0.6666666666666666, \"#ed7953\"], [0.7777777777777778, \"#fb9f3a\"], [0.8888888888888888, \"#fdca26\"], [1.0, \"#f0f921\"]], \"sequentialminus\": [[0.0, \"#0d0887\"], [0.1111111111111111, \"#46039f\"], [0.2222222222222222, \"#7201a8\"], [0.3333333333333333, \"#9c179e\"], [0.4444444444444444, \"#bd3786\"], [0.5555555555555556, \"#d8576b\"], [0.6666666666666666, \"#ed7953\"], [0.7777777777777778, \"#fb9f3a\"], [0.8888888888888888, \"#fdca26\"], [1.0, \"#f0f921\"]]}, \"colorway\": [\"#636efa\", \"#EF553B\", \"#00cc96\", \"#ab63fa\", \"#FFA15A\", \"#19d3f3\", \"#FF6692\", \"#B6E880\", \"#FF97FF\", \"#FECB52\"], \"font\": {\"color\": \"#2a3f5f\"}, \"geo\": {\"bgcolor\": \"white\", \"lakecolor\": \"white\", \"landcolor\": \"#E5ECF6\", \"showlakes\": true, \"showland\": true, \"subunitcolor\": \"white\"}, \"hoverlabel\": {\"align\": \"left\"}, \"hovermode\": \"closest\", \"mapbox\": {\"style\": \"light\"}, \"paper_bgcolor\": \"white\", \"plot_bgcolor\": \"#E5ECF6\", \"polar\": {\"angularaxis\": {\"gridcolor\": \"white\", \"linecolor\": \"white\", \"ticks\": \"\"}, \"bgcolor\": \"#E5ECF6\", \"radialaxis\": {\"gridcolor\": \"white\", \"linecolor\": \"white\", \"ticks\": \"\"}}, \"scene\": {\"xaxis\": {\"backgroundcolor\": \"#E5ECF6\", \"gridcolor\": \"white\", \"gridwidth\": 2, \"linecolor\": \"white\", \"showbackground\": true, \"ticks\": \"\", \"zerolinecolor\": \"white\"}, \"yaxis\": {\"backgroundcolor\": \"#E5ECF6\", \"gridcolor\": \"white\", \"gridwidth\": 2, \"linecolor\": \"white\", \"showbackground\": true, \"ticks\": \"\", \"zerolinecolor\": \"white\"}, \"zaxis\": {\"backgroundcolor\": \"#E5ECF6\", \"gridcolor\": \"white\", \"gridwidth\": 2, \"linecolor\": \"white\", \"showbackground\": true, \"ticks\": \"\", \"zerolinecolor\": \"white\"}}, \"shapedefaults\": {\"line\": {\"color\": \"#2a3f5f\"}}, \"ternary\": {\"aaxis\": {\"gridcolor\": \"white\", \"linecolor\": \"white\", \"ticks\": \"\"}, \"baxis\": {\"gridcolor\": \"white\", \"linecolor\": \"white\", \"ticks\": \"\"}, \"bgcolor\": \"#E5ECF6\", \"caxis\": {\"gridcolor\": \"white\", \"linecolor\": \"white\", \"ticks\": \"\"}}, \"title\": {\"x\": 0.05}, \"xaxis\": {\"automargin\": true, \"gridcolor\": \"white\", \"linecolor\": \"white\", \"ticks\": \"\", \"title\": {\"standoff\": 15}, \"zerolinecolor\": \"white\", \"zerolinewidth\": 2}, \"yaxis\": {\"automargin\": true, \"gridcolor\": \"white\", \"linecolor\": \"white\", \"ticks\": \"\", \"title\": {\"standoff\": 15}, \"zerolinecolor\": \"white\", \"zerolinewidth\": 2}}}, \"title\": {\"text\": \"Product, Total_Profit By Month_Year\"}, \"xaxis\": {\"anchor\": \"y\", \"domain\": [0.0, 1.0], \"title\": {\"text\": \"Month_Year\"}}, \"yaxis\": {\"anchor\": \"x\", \"domain\": [0.0, 1.0], \"title\": {\"text\": \"Total_Profit ($)\"}}},                        {\"responsive\": true}                    ).then(function(){\n",
       "                            \n",
       "var gd = document.getElementById('c7bc3fda-eba4-4b81-9257-b59641772f69');\n",
       "var x = new MutationObserver(function (mutations, observer) {{\n",
       "        var display = window.getComputedStyle(gd).display;\n",
       "        if (!display || display === 'none') {{\n",
       "            console.log([gd, 'removed!']);\n",
       "            Plotly.purge(gd);\n",
       "            observer.disconnect();\n",
       "        }}\n",
       "}});\n",
       "\n",
       "// Listen for the removal of the full notebook cells\n",
       "var notebookContainer = gd.closest('#notebook-container');\n",
       "if (notebookContainer) {{\n",
       "    x.observe(notebookContainer, {childList: true});\n",
       "}}\n",
       "\n",
       "// Listen for the clearing of the current output cell\n",
       "var outputEl = gd.closest('.output');\n",
       "if (outputEl) {{\n",
       "    x.observe(outputEl, {childList: true});\n",
       "}}\n",
       "\n",
       "                        })                };                });            </script>        </div>"
      ]
     },
     "metadata": {},
     "output_type": "display_data"
    }
   ],
   "source": [
    "product = sales_filter.loc[:,[\"Month_Year\",\"Total_Profit\",\"Products\"]]\n",
    "product = product.groupby(['Month_Year','Products'], as_index=False).mean()\n",
    "fig = px.line(product,\n",
    "              x=\"Month_Year\",\n",
    "              y=\"Total_Profit\",\n",
    "              color=\"Products\", \n",
    "              height=500,\n",
    "              labels={\"Total_Profit\":\"Total_Profit ($)\"},\n",
    "              title=\"Product, Total_Profit By Month_Year\")\n",
    "fig.show()"
   ]
  },
  {
   "cell_type": "markdown",
   "id": "4adc793e",
   "metadata": {},
   "source": [
    "### Question6:What are the relationship between revenue and profit by products"
   ]
  },
  {
   "cell_type": "code",
   "execution_count": 80,
   "id": "ab24ba73",
   "metadata": {},
   "outputs": [
    {
     "data": {
      "application/vnd.plotly.v1+json": {
       "config": {
        "plotlyServerURL": "https://plot.ly"
       },
       "data": [
        {
         "hovertemplate": "Products=Baby Food<br>Total_Profit ($)=%{x}<br>Totat_Revenue ($)=%{y}<extra></extra>",
         "legendgroup": "Baby Food",
         "marker": {
          "color": "#636efa",
          "symbol": "circle"
         },
         "mode": "markers",
         "name": "Baby Food",
         "orientation": "v",
         "showlegend": true,
         "type": "scatter",
         "x": [
          479839.7952589
         ],
         "xaxis": "x",
         "y": [
          1277837.5019162286
         ],
         "yaxis": "y"
        },
        {
         "hovertemplate": "Products=Beverages<br>Total_Profit ($)=%{x}<br>Totat_Revenue ($)=%{y}<extra></extra>",
         "legendgroup": "Beverages",
         "marker": {
          "color": "#EF553B",
          "symbol": "circle"
         },
         "mode": "markers",
         "name": "Beverages",
         "orientation": "v",
         "showlegend": true,
         "type": "scatter",
         "x": [
          78927.9010274676
         ],
         "xaxis": "x",
         "y": [
          239152.5481323989
         ],
         "yaxis": "y"
        },
        {
         "hovertemplate": "Products=Cereal<br>Total_Profit ($)=%{x}<br>Totat_Revenue ($)=%{y}<extra></extra>",
         "legendgroup": "Cereal",
         "marker": {
          "color": "#00cc96",
          "symbol": "circle"
         },
         "mode": "markers",
         "name": "Cereal",
         "orientation": "v",
         "showlegend": true,
         "type": "scatter",
         "x": [
          442387.4278430928
         ],
         "xaxis": "x",
         "y": [
          1027193.7454263952
         ],
         "yaxis": "y"
        },
        {
         "hovertemplate": "Products=Clothes<br>Total_Profit ($)=%{x}<br>Totat_Revenue ($)=%{y}<extra></extra>",
         "legendgroup": "Clothes",
         "marker": {
          "color": "#ab63fa",
          "symbol": "circle"
         },
         "mode": "markers",
         "name": "Clothes",
         "orientation": "v",
         "showlegend": true,
         "type": "scatter",
         "x": [
          367833.44855200994
         ],
         "xaxis": "x",
         "y": [
          547342.5824858886
         ],
         "yaxis": "y"
        },
        {
         "hovertemplate": "Products=Cosmetics<br>Total_Profit ($)=%{x}<br>Totat_Revenue ($)=%{y}<extra></extra>",
         "legendgroup": "Cosmetics",
         "marker": {
          "color": "#FFA15A",
          "symbol": "circle"
         },
         "mode": "markers",
         "name": "Cosmetics",
         "orientation": "v",
         "showlegend": true,
         "type": "scatter",
         "x": [
          864499.6526934499
         ],
         "xaxis": "x",
         "y": [
          2173803.6933201514
         ],
         "yaxis": "y"
        },
        {
         "hovertemplate": "Products=Fruits<br>Total_Profit ($)=%{x}<br>Totat_Revenue ($)=%{y}<extra></extra>",
         "legendgroup": "Fruits",
         "marker": {
          "color": "#19d3f3",
          "symbol": "circle"
         },
         "mode": "markers",
         "name": "Fruits",
         "orientation": "v",
         "showlegend": true,
         "type": "scatter",
         "x": [
          11984.078947096003
         ],
         "xaxis": "x",
         "y": [
          46394.79525991962
         ],
         "yaxis": "y"
        },
        {
         "hovertemplate": "Products=Household<br>Total_Profit ($)=%{x}<br>Totat_Revenue ($)=%{y}<extra></extra>",
         "legendgroup": "Household",
         "marker": {
          "color": "#FF6692",
          "symbol": "circle"
         },
         "mode": "markers",
         "name": "Household",
         "orientation": "v",
         "showlegend": true,
         "type": "scatter",
         "x": [
          833900.7626525294
         ],
         "xaxis": "x",
         "y": [
          3362522.552692965
         ],
         "yaxis": "y"
        },
        {
         "hovertemplate": "Products=Meat<br>Total_Profit ($)=%{x}<br>Totat_Revenue ($)=%{y}<extra></extra>",
         "legendgroup": "Meat",
         "marker": {
          "color": "#B6E880",
          "symbol": "circle"
         },
         "mode": "markers",
         "name": "Meat",
         "orientation": "v",
         "showlegend": true,
         "type": "scatter",
         "x": [
          285638.3505240604
         ],
         "xaxis": "x",
         "y": [
          2106782.582213217
         ],
         "yaxis": "y"
        },
        {
         "hovertemplate": "Products=Office Supplies<br>Total_Profit ($)=%{x}<br>Totat_Revenue ($)=%{y}<extra></extra>",
         "legendgroup": "Office Supplies",
         "marker": {
          "color": "#FF97FF",
          "symbol": "circle"
         },
         "mode": "markers",
         "name": "Office Supplies",
         "orientation": "v",
         "showlegend": true,
         "type": "scatter",
         "x": [
          627800.079765575
         ],
         "xaxis": "x",
         "y": [
          3238254.9698545593
         ],
         "yaxis": "y"
        },
        {
         "hovertemplate": "Products=Personal Care<br>Total_Profit ($)=%{x}<br>Totat_Revenue ($)=%{y}<extra></extra>",
         "legendgroup": "Personal Care",
         "marker": {
          "color": "#FECB52",
          "symbol": "circle"
         },
         "mode": "markers",
         "name": "Personal Care",
         "orientation": "v",
         "showlegend": true,
         "type": "scatter",
         "x": [
          126257.28247148287
         ],
         "xaxis": "x",
         "y": [
          411772.0549239535
         ],
         "yaxis": "y"
        },
        {
         "hovertemplate": "Products=Snacks<br>Total_Profit ($)=%{x}<br>Totat_Revenue ($)=%{y}<extra></extra>",
         "legendgroup": "Snacks",
         "marker": {
          "color": "#636efa",
          "symbol": "circle"
         },
         "mode": "markers",
         "name": "Snacks",
         "orientation": "v",
         "showlegend": true,
         "type": "scatter",
         "x": [
          274934.5461662282
         ],
         "xaxis": "x",
         "y": [
          760781.8834610678
         ],
         "yaxis": "y"
        },
        {
         "hovertemplate": "Products=Vegetables<br>Total_Profit ($)=%{x}<br>Totat_Revenue ($)=%{y}<extra></extra>",
         "legendgroup": "Vegetables",
         "marker": {
          "color": "#EF553B",
          "symbol": "circle"
         },
         "mode": "markers",
         "name": "Vegetables",
         "orientation": "v",
         "showlegend": true,
         "type": "scatter",
         "x": [
          313766.86876272614
         ],
         "xaxis": "x",
         "y": [
          765704.4796702941
         ],
         "yaxis": "y"
        }
       ],
       "layout": {
        "legend": {
         "title": {
          "text": "Products"
         },
         "tracegroupgap": 0
        },
        "template": {
         "data": {
          "bar": [
           {
            "error_x": {
             "color": "#2a3f5f"
            },
            "error_y": {
             "color": "#2a3f5f"
            },
            "marker": {
             "line": {
              "color": "#E5ECF6",
              "width": 0.5
             }
            },
            "type": "bar"
           }
          ],
          "barpolar": [
           {
            "marker": {
             "line": {
              "color": "#E5ECF6",
              "width": 0.5
             }
            },
            "type": "barpolar"
           }
          ],
          "carpet": [
           {
            "aaxis": {
             "endlinecolor": "#2a3f5f",
             "gridcolor": "white",
             "linecolor": "white",
             "minorgridcolor": "white",
             "startlinecolor": "#2a3f5f"
            },
            "baxis": {
             "endlinecolor": "#2a3f5f",
             "gridcolor": "white",
             "linecolor": "white",
             "minorgridcolor": "white",
             "startlinecolor": "#2a3f5f"
            },
            "type": "carpet"
           }
          ],
          "choropleth": [
           {
            "colorbar": {
             "outlinewidth": 0,
             "ticks": ""
            },
            "type": "choropleth"
           }
          ],
          "contour": [
           {
            "colorbar": {
             "outlinewidth": 0,
             "ticks": ""
            },
            "colorscale": [
             [
              0,
              "#0d0887"
             ],
             [
              0.1111111111111111,
              "#46039f"
             ],
             [
              0.2222222222222222,
              "#7201a8"
             ],
             [
              0.3333333333333333,
              "#9c179e"
             ],
             [
              0.4444444444444444,
              "#bd3786"
             ],
             [
              0.5555555555555556,
              "#d8576b"
             ],
             [
              0.6666666666666666,
              "#ed7953"
             ],
             [
              0.7777777777777778,
              "#fb9f3a"
             ],
             [
              0.8888888888888888,
              "#fdca26"
             ],
             [
              1,
              "#f0f921"
             ]
            ],
            "type": "contour"
           }
          ],
          "contourcarpet": [
           {
            "colorbar": {
             "outlinewidth": 0,
             "ticks": ""
            },
            "type": "contourcarpet"
           }
          ],
          "heatmap": [
           {
            "colorbar": {
             "outlinewidth": 0,
             "ticks": ""
            },
            "colorscale": [
             [
              0,
              "#0d0887"
             ],
             [
              0.1111111111111111,
              "#46039f"
             ],
             [
              0.2222222222222222,
              "#7201a8"
             ],
             [
              0.3333333333333333,
              "#9c179e"
             ],
             [
              0.4444444444444444,
              "#bd3786"
             ],
             [
              0.5555555555555556,
              "#d8576b"
             ],
             [
              0.6666666666666666,
              "#ed7953"
             ],
             [
              0.7777777777777778,
              "#fb9f3a"
             ],
             [
              0.8888888888888888,
              "#fdca26"
             ],
             [
              1,
              "#f0f921"
             ]
            ],
            "type": "heatmap"
           }
          ],
          "heatmapgl": [
           {
            "colorbar": {
             "outlinewidth": 0,
             "ticks": ""
            },
            "colorscale": [
             [
              0,
              "#0d0887"
             ],
             [
              0.1111111111111111,
              "#46039f"
             ],
             [
              0.2222222222222222,
              "#7201a8"
             ],
             [
              0.3333333333333333,
              "#9c179e"
             ],
             [
              0.4444444444444444,
              "#bd3786"
             ],
             [
              0.5555555555555556,
              "#d8576b"
             ],
             [
              0.6666666666666666,
              "#ed7953"
             ],
             [
              0.7777777777777778,
              "#fb9f3a"
             ],
             [
              0.8888888888888888,
              "#fdca26"
             ],
             [
              1,
              "#f0f921"
             ]
            ],
            "type": "heatmapgl"
           }
          ],
          "histogram": [
           {
            "marker": {
             "colorbar": {
              "outlinewidth": 0,
              "ticks": ""
             }
            },
            "type": "histogram"
           }
          ],
          "histogram2d": [
           {
            "colorbar": {
             "outlinewidth": 0,
             "ticks": ""
            },
            "colorscale": [
             [
              0,
              "#0d0887"
             ],
             [
              0.1111111111111111,
              "#46039f"
             ],
             [
              0.2222222222222222,
              "#7201a8"
             ],
             [
              0.3333333333333333,
              "#9c179e"
             ],
             [
              0.4444444444444444,
              "#bd3786"
             ],
             [
              0.5555555555555556,
              "#d8576b"
             ],
             [
              0.6666666666666666,
              "#ed7953"
             ],
             [
              0.7777777777777778,
              "#fb9f3a"
             ],
             [
              0.8888888888888888,
              "#fdca26"
             ],
             [
              1,
              "#f0f921"
             ]
            ],
            "type": "histogram2d"
           }
          ],
          "histogram2dcontour": [
           {
            "colorbar": {
             "outlinewidth": 0,
             "ticks": ""
            },
            "colorscale": [
             [
              0,
              "#0d0887"
             ],
             [
              0.1111111111111111,
              "#46039f"
             ],
             [
              0.2222222222222222,
              "#7201a8"
             ],
             [
              0.3333333333333333,
              "#9c179e"
             ],
             [
              0.4444444444444444,
              "#bd3786"
             ],
             [
              0.5555555555555556,
              "#d8576b"
             ],
             [
              0.6666666666666666,
              "#ed7953"
             ],
             [
              0.7777777777777778,
              "#fb9f3a"
             ],
             [
              0.8888888888888888,
              "#fdca26"
             ],
             [
              1,
              "#f0f921"
             ]
            ],
            "type": "histogram2dcontour"
           }
          ],
          "mesh3d": [
           {
            "colorbar": {
             "outlinewidth": 0,
             "ticks": ""
            },
            "type": "mesh3d"
           }
          ],
          "parcoords": [
           {
            "line": {
             "colorbar": {
              "outlinewidth": 0,
              "ticks": ""
             }
            },
            "type": "parcoords"
           }
          ],
          "pie": [
           {
            "automargin": true,
            "type": "pie"
           }
          ],
          "scatter": [
           {
            "marker": {
             "colorbar": {
              "outlinewidth": 0,
              "ticks": ""
             }
            },
            "type": "scatter"
           }
          ],
          "scatter3d": [
           {
            "line": {
             "colorbar": {
              "outlinewidth": 0,
              "ticks": ""
             }
            },
            "marker": {
             "colorbar": {
              "outlinewidth": 0,
              "ticks": ""
             }
            },
            "type": "scatter3d"
           }
          ],
          "scattercarpet": [
           {
            "marker": {
             "colorbar": {
              "outlinewidth": 0,
              "ticks": ""
             }
            },
            "type": "scattercarpet"
           }
          ],
          "scattergeo": [
           {
            "marker": {
             "colorbar": {
              "outlinewidth": 0,
              "ticks": ""
             }
            },
            "type": "scattergeo"
           }
          ],
          "scattergl": [
           {
            "marker": {
             "colorbar": {
              "outlinewidth": 0,
              "ticks": ""
             }
            },
            "type": "scattergl"
           }
          ],
          "scattermapbox": [
           {
            "marker": {
             "colorbar": {
              "outlinewidth": 0,
              "ticks": ""
             }
            },
            "type": "scattermapbox"
           }
          ],
          "scatterpolar": [
           {
            "marker": {
             "colorbar": {
              "outlinewidth": 0,
              "ticks": ""
             }
            },
            "type": "scatterpolar"
           }
          ],
          "scatterpolargl": [
           {
            "marker": {
             "colorbar": {
              "outlinewidth": 0,
              "ticks": ""
             }
            },
            "type": "scatterpolargl"
           }
          ],
          "scatterternary": [
           {
            "marker": {
             "colorbar": {
              "outlinewidth": 0,
              "ticks": ""
             }
            },
            "type": "scatterternary"
           }
          ],
          "surface": [
           {
            "colorbar": {
             "outlinewidth": 0,
             "ticks": ""
            },
            "colorscale": [
             [
              0,
              "#0d0887"
             ],
             [
              0.1111111111111111,
              "#46039f"
             ],
             [
              0.2222222222222222,
              "#7201a8"
             ],
             [
              0.3333333333333333,
              "#9c179e"
             ],
             [
              0.4444444444444444,
              "#bd3786"
             ],
             [
              0.5555555555555556,
              "#d8576b"
             ],
             [
              0.6666666666666666,
              "#ed7953"
             ],
             [
              0.7777777777777778,
              "#fb9f3a"
             ],
             [
              0.8888888888888888,
              "#fdca26"
             ],
             [
              1,
              "#f0f921"
             ]
            ],
            "type": "surface"
           }
          ],
          "table": [
           {
            "cells": {
             "fill": {
              "color": "#EBF0F8"
             },
             "line": {
              "color": "white"
             }
            },
            "header": {
             "fill": {
              "color": "#C8D4E3"
             },
             "line": {
              "color": "white"
             }
            },
            "type": "table"
           }
          ]
         },
         "layout": {
          "annotationdefaults": {
           "arrowcolor": "#2a3f5f",
           "arrowhead": 0,
           "arrowwidth": 1
          },
          "autotypenumbers": "strict",
          "coloraxis": {
           "colorbar": {
            "outlinewidth": 0,
            "ticks": ""
           }
          },
          "colorscale": {
           "diverging": [
            [
             0,
             "#8e0152"
            ],
            [
             0.1,
             "#c51b7d"
            ],
            [
             0.2,
             "#de77ae"
            ],
            [
             0.3,
             "#f1b6da"
            ],
            [
             0.4,
             "#fde0ef"
            ],
            [
             0.5,
             "#f7f7f7"
            ],
            [
             0.6,
             "#e6f5d0"
            ],
            [
             0.7,
             "#b8e186"
            ],
            [
             0.8,
             "#7fbc41"
            ],
            [
             0.9,
             "#4d9221"
            ],
            [
             1,
             "#276419"
            ]
           ],
           "sequential": [
            [
             0,
             "#0d0887"
            ],
            [
             0.1111111111111111,
             "#46039f"
            ],
            [
             0.2222222222222222,
             "#7201a8"
            ],
            [
             0.3333333333333333,
             "#9c179e"
            ],
            [
             0.4444444444444444,
             "#bd3786"
            ],
            [
             0.5555555555555556,
             "#d8576b"
            ],
            [
             0.6666666666666666,
             "#ed7953"
            ],
            [
             0.7777777777777778,
             "#fb9f3a"
            ],
            [
             0.8888888888888888,
             "#fdca26"
            ],
            [
             1,
             "#f0f921"
            ]
           ],
           "sequentialminus": [
            [
             0,
             "#0d0887"
            ],
            [
             0.1111111111111111,
             "#46039f"
            ],
            [
             0.2222222222222222,
             "#7201a8"
            ],
            [
             0.3333333333333333,
             "#9c179e"
            ],
            [
             0.4444444444444444,
             "#bd3786"
            ],
            [
             0.5555555555555556,
             "#d8576b"
            ],
            [
             0.6666666666666666,
             "#ed7953"
            ],
            [
             0.7777777777777778,
             "#fb9f3a"
            ],
            [
             0.8888888888888888,
             "#fdca26"
            ],
            [
             1,
             "#f0f921"
            ]
           ]
          },
          "colorway": [
           "#636efa",
           "#EF553B",
           "#00cc96",
           "#ab63fa",
           "#FFA15A",
           "#19d3f3",
           "#FF6692",
           "#B6E880",
           "#FF97FF",
           "#FECB52"
          ],
          "font": {
           "color": "#2a3f5f"
          },
          "geo": {
           "bgcolor": "white",
           "lakecolor": "white",
           "landcolor": "#E5ECF6",
           "showlakes": true,
           "showland": true,
           "subunitcolor": "white"
          },
          "hoverlabel": {
           "align": "left"
          },
          "hovermode": "closest",
          "mapbox": {
           "style": "light"
          },
          "paper_bgcolor": "white",
          "plot_bgcolor": "#E5ECF6",
          "polar": {
           "angularaxis": {
            "gridcolor": "white",
            "linecolor": "white",
            "ticks": ""
           },
           "bgcolor": "#E5ECF6",
           "radialaxis": {
            "gridcolor": "white",
            "linecolor": "white",
            "ticks": ""
           }
          },
          "scene": {
           "xaxis": {
            "backgroundcolor": "#E5ECF6",
            "gridcolor": "white",
            "gridwidth": 2,
            "linecolor": "white",
            "showbackground": true,
            "ticks": "",
            "zerolinecolor": "white"
           },
           "yaxis": {
            "backgroundcolor": "#E5ECF6",
            "gridcolor": "white",
            "gridwidth": 2,
            "linecolor": "white",
            "showbackground": true,
            "ticks": "",
            "zerolinecolor": "white"
           },
           "zaxis": {
            "backgroundcolor": "#E5ECF6",
            "gridcolor": "white",
            "gridwidth": 2,
            "linecolor": "white",
            "showbackground": true,
            "ticks": "",
            "zerolinecolor": "white"
           }
          },
          "shapedefaults": {
           "line": {
            "color": "#2a3f5f"
           }
          },
          "ternary": {
           "aaxis": {
            "gridcolor": "white",
            "linecolor": "white",
            "ticks": ""
           },
           "baxis": {
            "gridcolor": "white",
            "linecolor": "white",
            "ticks": ""
           },
           "bgcolor": "#E5ECF6",
           "caxis": {
            "gridcolor": "white",
            "linecolor": "white",
            "ticks": ""
           }
          },
          "title": {
           "x": 0.05
          },
          "xaxis": {
           "automargin": true,
           "gridcolor": "white",
           "linecolor": "white",
           "ticks": "",
           "title": {
            "standoff": 15
           },
           "zerolinecolor": "white",
           "zerolinewidth": 2
          },
          "yaxis": {
           "automargin": true,
           "gridcolor": "white",
           "linecolor": "white",
           "ticks": "",
           "title": {
            "standoff": 15
           },
           "zerolinecolor": "white",
           "zerolinewidth": 2
          }
         }
        },
        "title": {
         "text": "Total_Revenue, Total_Profit By Products"
        },
        "xaxis": {
         "anchor": "y",
         "domain": [
          0,
          1
         ],
         "title": {
          "text": "Total_Profit ($)"
         }
        },
        "yaxis": {
         "anchor": "x",
         "domain": [
          0,
          1
         ],
         "title": {
          "text": "Totat_Revenue ($)"
         }
        }
       }
      },
      "text/html": [
       "<div>                            <div id=\"1a82a51e-8c15-49ca-b805-cc57fcef8c0b\" class=\"plotly-graph-div\" style=\"height:525px; width:100%;\"></div>            <script type=\"text/javascript\">                require([\"plotly\"], function(Plotly) {                    window.PLOTLYENV=window.PLOTLYENV || {};                                    if (document.getElementById(\"1a82a51e-8c15-49ca-b805-cc57fcef8c0b\")) {                    Plotly.newPlot(                        \"1a82a51e-8c15-49ca-b805-cc57fcef8c0b\",                        [{\"hovertemplate\": \"Products=Baby Food<br>Total_Profit ($)=%{x}<br>Totat_Revenue ($)=%{y}<extra></extra>\", \"legendgroup\": \"Baby Food\", \"marker\": {\"color\": \"#636efa\", \"symbol\": \"circle\"}, \"mode\": \"markers\", \"name\": \"Baby Food\", \"orientation\": \"v\", \"showlegend\": true, \"type\": \"scatter\", \"x\": [479839.7952589], \"xaxis\": \"x\", \"y\": [1277837.5019162286], \"yaxis\": \"y\"}, {\"hovertemplate\": \"Products=Beverages<br>Total_Profit ($)=%{x}<br>Totat_Revenue ($)=%{y}<extra></extra>\", \"legendgroup\": \"Beverages\", \"marker\": {\"color\": \"#EF553B\", \"symbol\": \"circle\"}, \"mode\": \"markers\", \"name\": \"Beverages\", \"orientation\": \"v\", \"showlegend\": true, \"type\": \"scatter\", \"x\": [78927.9010274676], \"xaxis\": \"x\", \"y\": [239152.5481323989], \"yaxis\": \"y\"}, {\"hovertemplate\": \"Products=Cereal<br>Total_Profit ($)=%{x}<br>Totat_Revenue ($)=%{y}<extra></extra>\", \"legendgroup\": \"Cereal\", \"marker\": {\"color\": \"#00cc96\", \"symbol\": \"circle\"}, \"mode\": \"markers\", \"name\": \"Cereal\", \"orientation\": \"v\", \"showlegend\": true, \"type\": \"scatter\", \"x\": [442387.4278430928], \"xaxis\": \"x\", \"y\": [1027193.7454263952], \"yaxis\": \"y\"}, {\"hovertemplate\": \"Products=Clothes<br>Total_Profit ($)=%{x}<br>Totat_Revenue ($)=%{y}<extra></extra>\", \"legendgroup\": \"Clothes\", \"marker\": {\"color\": \"#ab63fa\", \"symbol\": \"circle\"}, \"mode\": \"markers\", \"name\": \"Clothes\", \"orientation\": \"v\", \"showlegend\": true, \"type\": \"scatter\", \"x\": [367833.44855200994], \"xaxis\": \"x\", \"y\": [547342.5824858886], \"yaxis\": \"y\"}, {\"hovertemplate\": \"Products=Cosmetics<br>Total_Profit ($)=%{x}<br>Totat_Revenue ($)=%{y}<extra></extra>\", \"legendgroup\": \"Cosmetics\", \"marker\": {\"color\": \"#FFA15A\", \"symbol\": \"circle\"}, \"mode\": \"markers\", \"name\": \"Cosmetics\", \"orientation\": \"v\", \"showlegend\": true, \"type\": \"scatter\", \"x\": [864499.6526934499], \"xaxis\": \"x\", \"y\": [2173803.6933201514], \"yaxis\": \"y\"}, {\"hovertemplate\": \"Products=Fruits<br>Total_Profit ($)=%{x}<br>Totat_Revenue ($)=%{y}<extra></extra>\", \"legendgroup\": \"Fruits\", \"marker\": {\"color\": \"#19d3f3\", \"symbol\": \"circle\"}, \"mode\": \"markers\", \"name\": \"Fruits\", \"orientation\": \"v\", \"showlegend\": true, \"type\": \"scatter\", \"x\": [11984.078947096003], \"xaxis\": \"x\", \"y\": [46394.79525991962], \"yaxis\": \"y\"}, {\"hovertemplate\": \"Products=Household<br>Total_Profit ($)=%{x}<br>Totat_Revenue ($)=%{y}<extra></extra>\", \"legendgroup\": \"Household\", \"marker\": {\"color\": \"#FF6692\", \"symbol\": \"circle\"}, \"mode\": \"markers\", \"name\": \"Household\", \"orientation\": \"v\", \"showlegend\": true, \"type\": \"scatter\", \"x\": [833900.7626525294], \"xaxis\": \"x\", \"y\": [3362522.552692965], \"yaxis\": \"y\"}, {\"hovertemplate\": \"Products=Meat<br>Total_Profit ($)=%{x}<br>Totat_Revenue ($)=%{y}<extra></extra>\", \"legendgroup\": \"Meat\", \"marker\": {\"color\": \"#B6E880\", \"symbol\": \"circle\"}, \"mode\": \"markers\", \"name\": \"Meat\", \"orientation\": \"v\", \"showlegend\": true, \"type\": \"scatter\", \"x\": [285638.3505240604], \"xaxis\": \"x\", \"y\": [2106782.582213217], \"yaxis\": \"y\"}, {\"hovertemplate\": \"Products=Office Supplies<br>Total_Profit ($)=%{x}<br>Totat_Revenue ($)=%{y}<extra></extra>\", \"legendgroup\": \"Office Supplies\", \"marker\": {\"color\": \"#FF97FF\", \"symbol\": \"circle\"}, \"mode\": \"markers\", \"name\": \"Office Supplies\", \"orientation\": \"v\", \"showlegend\": true, \"type\": \"scatter\", \"x\": [627800.079765575], \"xaxis\": \"x\", \"y\": [3238254.9698545593], \"yaxis\": \"y\"}, {\"hovertemplate\": \"Products=Personal Care<br>Total_Profit ($)=%{x}<br>Totat_Revenue ($)=%{y}<extra></extra>\", \"legendgroup\": \"Personal Care\", \"marker\": {\"color\": \"#FECB52\", \"symbol\": \"circle\"}, \"mode\": \"markers\", \"name\": \"Personal Care\", \"orientation\": \"v\", \"showlegend\": true, \"type\": \"scatter\", \"x\": [126257.28247148287], \"xaxis\": \"x\", \"y\": [411772.0549239535], \"yaxis\": \"y\"}, {\"hovertemplate\": \"Products=Snacks<br>Total_Profit ($)=%{x}<br>Totat_Revenue ($)=%{y}<extra></extra>\", \"legendgroup\": \"Snacks\", \"marker\": {\"color\": \"#636efa\", \"symbol\": \"circle\"}, \"mode\": \"markers\", \"name\": \"Snacks\", \"orientation\": \"v\", \"showlegend\": true, \"type\": \"scatter\", \"x\": [274934.5461662282], \"xaxis\": \"x\", \"y\": [760781.8834610678], \"yaxis\": \"y\"}, {\"hovertemplate\": \"Products=Vegetables<br>Total_Profit ($)=%{x}<br>Totat_Revenue ($)=%{y}<extra></extra>\", \"legendgroup\": \"Vegetables\", \"marker\": {\"color\": \"#EF553B\", \"symbol\": \"circle\"}, \"mode\": \"markers\", \"name\": \"Vegetables\", \"orientation\": \"v\", \"showlegend\": true, \"type\": \"scatter\", \"x\": [313766.86876272614], \"xaxis\": \"x\", \"y\": [765704.4796702941], \"yaxis\": \"y\"}],                        {\"legend\": {\"title\": {\"text\": \"Products\"}, \"tracegroupgap\": 0}, \"template\": {\"data\": {\"bar\": [{\"error_x\": {\"color\": \"#2a3f5f\"}, \"error_y\": {\"color\": \"#2a3f5f\"}, \"marker\": {\"line\": {\"color\": \"#E5ECF6\", \"width\": 0.5}}, \"type\": \"bar\"}], \"barpolar\": [{\"marker\": {\"line\": {\"color\": \"#E5ECF6\", \"width\": 0.5}}, \"type\": \"barpolar\"}], \"carpet\": [{\"aaxis\": {\"endlinecolor\": \"#2a3f5f\", \"gridcolor\": \"white\", \"linecolor\": \"white\", \"minorgridcolor\": \"white\", \"startlinecolor\": \"#2a3f5f\"}, \"baxis\": {\"endlinecolor\": \"#2a3f5f\", \"gridcolor\": \"white\", \"linecolor\": \"white\", \"minorgridcolor\": \"white\", \"startlinecolor\": \"#2a3f5f\"}, \"type\": \"carpet\"}], \"choropleth\": [{\"colorbar\": {\"outlinewidth\": 0, \"ticks\": \"\"}, \"type\": \"choropleth\"}], \"contour\": [{\"colorbar\": {\"outlinewidth\": 0, \"ticks\": \"\"}, \"colorscale\": [[0.0, \"#0d0887\"], [0.1111111111111111, \"#46039f\"], [0.2222222222222222, \"#7201a8\"], [0.3333333333333333, \"#9c179e\"], [0.4444444444444444, \"#bd3786\"], [0.5555555555555556, \"#d8576b\"], [0.6666666666666666, \"#ed7953\"], [0.7777777777777778, \"#fb9f3a\"], [0.8888888888888888, \"#fdca26\"], [1.0, \"#f0f921\"]], \"type\": \"contour\"}], \"contourcarpet\": [{\"colorbar\": {\"outlinewidth\": 0, \"ticks\": \"\"}, \"type\": \"contourcarpet\"}], \"heatmap\": [{\"colorbar\": {\"outlinewidth\": 0, \"ticks\": \"\"}, \"colorscale\": [[0.0, \"#0d0887\"], [0.1111111111111111, \"#46039f\"], [0.2222222222222222, \"#7201a8\"], [0.3333333333333333, \"#9c179e\"], [0.4444444444444444, \"#bd3786\"], [0.5555555555555556, \"#d8576b\"], [0.6666666666666666, \"#ed7953\"], [0.7777777777777778, \"#fb9f3a\"], [0.8888888888888888, \"#fdca26\"], [1.0, \"#f0f921\"]], \"type\": \"heatmap\"}], \"heatmapgl\": [{\"colorbar\": {\"outlinewidth\": 0, \"ticks\": \"\"}, \"colorscale\": [[0.0, \"#0d0887\"], [0.1111111111111111, \"#46039f\"], [0.2222222222222222, \"#7201a8\"], [0.3333333333333333, \"#9c179e\"], [0.4444444444444444, \"#bd3786\"], [0.5555555555555556, \"#d8576b\"], [0.6666666666666666, \"#ed7953\"], [0.7777777777777778, \"#fb9f3a\"], [0.8888888888888888, \"#fdca26\"], [1.0, \"#f0f921\"]], \"type\": \"heatmapgl\"}], \"histogram\": [{\"marker\": {\"colorbar\": {\"outlinewidth\": 0, \"ticks\": \"\"}}, \"type\": \"histogram\"}], \"histogram2d\": [{\"colorbar\": {\"outlinewidth\": 0, \"ticks\": \"\"}, \"colorscale\": [[0.0, \"#0d0887\"], [0.1111111111111111, \"#46039f\"], [0.2222222222222222, \"#7201a8\"], [0.3333333333333333, \"#9c179e\"], [0.4444444444444444, \"#bd3786\"], [0.5555555555555556, \"#d8576b\"], [0.6666666666666666, \"#ed7953\"], [0.7777777777777778, \"#fb9f3a\"], [0.8888888888888888, \"#fdca26\"], [1.0, \"#f0f921\"]], \"type\": \"histogram2d\"}], \"histogram2dcontour\": [{\"colorbar\": {\"outlinewidth\": 0, \"ticks\": \"\"}, \"colorscale\": [[0.0, \"#0d0887\"], [0.1111111111111111, \"#46039f\"], [0.2222222222222222, \"#7201a8\"], [0.3333333333333333, \"#9c179e\"], [0.4444444444444444, \"#bd3786\"], [0.5555555555555556, \"#d8576b\"], [0.6666666666666666, \"#ed7953\"], [0.7777777777777778, \"#fb9f3a\"], [0.8888888888888888, \"#fdca26\"], [1.0, \"#f0f921\"]], \"type\": \"histogram2dcontour\"}], \"mesh3d\": [{\"colorbar\": {\"outlinewidth\": 0, \"ticks\": \"\"}, \"type\": \"mesh3d\"}], \"parcoords\": [{\"line\": {\"colorbar\": {\"outlinewidth\": 0, \"ticks\": \"\"}}, \"type\": \"parcoords\"}], \"pie\": [{\"automargin\": true, \"type\": \"pie\"}], \"scatter\": [{\"marker\": {\"colorbar\": {\"outlinewidth\": 0, \"ticks\": \"\"}}, \"type\": \"scatter\"}], \"scatter3d\": [{\"line\": {\"colorbar\": {\"outlinewidth\": 0, \"ticks\": \"\"}}, \"marker\": {\"colorbar\": {\"outlinewidth\": 0, \"ticks\": \"\"}}, \"type\": \"scatter3d\"}], \"scattercarpet\": [{\"marker\": {\"colorbar\": {\"outlinewidth\": 0, \"ticks\": \"\"}}, \"type\": \"scattercarpet\"}], \"scattergeo\": [{\"marker\": {\"colorbar\": {\"outlinewidth\": 0, \"ticks\": \"\"}}, \"type\": \"scattergeo\"}], \"scattergl\": [{\"marker\": {\"colorbar\": {\"outlinewidth\": 0, \"ticks\": \"\"}}, \"type\": \"scattergl\"}], \"scattermapbox\": [{\"marker\": {\"colorbar\": {\"outlinewidth\": 0, \"ticks\": \"\"}}, \"type\": \"scattermapbox\"}], \"scatterpolar\": [{\"marker\": {\"colorbar\": {\"outlinewidth\": 0, \"ticks\": \"\"}}, \"type\": \"scatterpolar\"}], \"scatterpolargl\": [{\"marker\": {\"colorbar\": {\"outlinewidth\": 0, \"ticks\": \"\"}}, \"type\": \"scatterpolargl\"}], \"scatterternary\": [{\"marker\": {\"colorbar\": {\"outlinewidth\": 0, \"ticks\": \"\"}}, \"type\": \"scatterternary\"}], \"surface\": [{\"colorbar\": {\"outlinewidth\": 0, \"ticks\": \"\"}, \"colorscale\": [[0.0, \"#0d0887\"], [0.1111111111111111, \"#46039f\"], [0.2222222222222222, \"#7201a8\"], [0.3333333333333333, \"#9c179e\"], [0.4444444444444444, \"#bd3786\"], [0.5555555555555556, \"#d8576b\"], [0.6666666666666666, \"#ed7953\"], [0.7777777777777778, \"#fb9f3a\"], [0.8888888888888888, \"#fdca26\"], [1.0, \"#f0f921\"]], \"type\": \"surface\"}], \"table\": [{\"cells\": {\"fill\": {\"color\": \"#EBF0F8\"}, \"line\": {\"color\": \"white\"}}, \"header\": {\"fill\": {\"color\": \"#C8D4E3\"}, \"line\": {\"color\": \"white\"}}, \"type\": \"table\"}]}, \"layout\": {\"annotationdefaults\": {\"arrowcolor\": \"#2a3f5f\", \"arrowhead\": 0, \"arrowwidth\": 1}, \"autotypenumbers\": \"strict\", \"coloraxis\": {\"colorbar\": {\"outlinewidth\": 0, \"ticks\": \"\"}}, \"colorscale\": {\"diverging\": [[0, \"#8e0152\"], [0.1, \"#c51b7d\"], [0.2, \"#de77ae\"], [0.3, \"#f1b6da\"], [0.4, \"#fde0ef\"], [0.5, \"#f7f7f7\"], [0.6, \"#e6f5d0\"], [0.7, \"#b8e186\"], [0.8, \"#7fbc41\"], [0.9, \"#4d9221\"], [1, \"#276419\"]], \"sequential\": [[0.0, \"#0d0887\"], [0.1111111111111111, \"#46039f\"], [0.2222222222222222, \"#7201a8\"], [0.3333333333333333, \"#9c179e\"], [0.4444444444444444, \"#bd3786\"], [0.5555555555555556, \"#d8576b\"], [0.6666666666666666, \"#ed7953\"], [0.7777777777777778, \"#fb9f3a\"], [0.8888888888888888, \"#fdca26\"], [1.0, \"#f0f921\"]], \"sequentialminus\": [[0.0, \"#0d0887\"], [0.1111111111111111, \"#46039f\"], [0.2222222222222222, \"#7201a8\"], [0.3333333333333333, \"#9c179e\"], [0.4444444444444444, \"#bd3786\"], [0.5555555555555556, \"#d8576b\"], [0.6666666666666666, \"#ed7953\"], [0.7777777777777778, \"#fb9f3a\"], [0.8888888888888888, \"#fdca26\"], [1.0, \"#f0f921\"]]}, \"colorway\": [\"#636efa\", \"#EF553B\", \"#00cc96\", \"#ab63fa\", \"#FFA15A\", \"#19d3f3\", \"#FF6692\", \"#B6E880\", \"#FF97FF\", \"#FECB52\"], \"font\": {\"color\": \"#2a3f5f\"}, \"geo\": {\"bgcolor\": \"white\", \"lakecolor\": \"white\", \"landcolor\": \"#E5ECF6\", \"showlakes\": true, \"showland\": true, \"subunitcolor\": \"white\"}, \"hoverlabel\": {\"align\": \"left\"}, \"hovermode\": \"closest\", \"mapbox\": {\"style\": \"light\"}, \"paper_bgcolor\": \"white\", \"plot_bgcolor\": \"#E5ECF6\", \"polar\": {\"angularaxis\": {\"gridcolor\": \"white\", \"linecolor\": \"white\", \"ticks\": \"\"}, \"bgcolor\": \"#E5ECF6\", \"radialaxis\": {\"gridcolor\": \"white\", \"linecolor\": \"white\", \"ticks\": \"\"}}, \"scene\": {\"xaxis\": {\"backgroundcolor\": \"#E5ECF6\", \"gridcolor\": \"white\", \"gridwidth\": 2, \"linecolor\": \"white\", \"showbackground\": true, \"ticks\": \"\", \"zerolinecolor\": \"white\"}, \"yaxis\": {\"backgroundcolor\": \"#E5ECF6\", \"gridcolor\": \"white\", \"gridwidth\": 2, \"linecolor\": \"white\", \"showbackground\": true, \"ticks\": \"\", \"zerolinecolor\": \"white\"}, \"zaxis\": {\"backgroundcolor\": \"#E5ECF6\", \"gridcolor\": \"white\", \"gridwidth\": 2, \"linecolor\": \"white\", \"showbackground\": true, \"ticks\": \"\", \"zerolinecolor\": \"white\"}}, \"shapedefaults\": {\"line\": {\"color\": \"#2a3f5f\"}}, \"ternary\": {\"aaxis\": {\"gridcolor\": \"white\", \"linecolor\": \"white\", \"ticks\": \"\"}, \"baxis\": {\"gridcolor\": \"white\", \"linecolor\": \"white\", \"ticks\": \"\"}, \"bgcolor\": \"#E5ECF6\", \"caxis\": {\"gridcolor\": \"white\", \"linecolor\": \"white\", \"ticks\": \"\"}}, \"title\": {\"x\": 0.05}, \"xaxis\": {\"automargin\": true, \"gridcolor\": \"white\", \"linecolor\": \"white\", \"ticks\": \"\", \"title\": {\"standoff\": 15}, \"zerolinecolor\": \"white\", \"zerolinewidth\": 2}, \"yaxis\": {\"automargin\": true, \"gridcolor\": \"white\", \"linecolor\": \"white\", \"ticks\": \"\", \"title\": {\"standoff\": 15}, \"zerolinecolor\": \"white\", \"zerolinewidth\": 2}}}, \"title\": {\"text\": \"Total_Revenue, Total_Profit By Products\"}, \"xaxis\": {\"anchor\": \"y\", \"domain\": [0.0, 1.0], \"title\": {\"text\": \"Total_Profit ($)\"}}, \"yaxis\": {\"anchor\": \"x\", \"domain\": [0.0, 1.0], \"title\": {\"text\": \"Totat_Revenue ($)\"}}},                        {\"responsive\": true}                    ).then(function(){\n",
       "                            \n",
       "var gd = document.getElementById('1a82a51e-8c15-49ca-b805-cc57fcef8c0b');\n",
       "var x = new MutationObserver(function (mutations, observer) {{\n",
       "        var display = window.getComputedStyle(gd).display;\n",
       "        if (!display || display === 'none') {{\n",
       "            console.log([gd, 'removed!']);\n",
       "            Plotly.purge(gd);\n",
       "            observer.disconnect();\n",
       "        }}\n",
       "}});\n",
       "\n",
       "// Listen for the removal of the full notebook cells\n",
       "var notebookContainer = gd.closest('#notebook-container');\n",
       "if (notebookContainer) {{\n",
       "    x.observe(notebookContainer, {childList: true});\n",
       "}}\n",
       "\n",
       "// Listen for the clearing of the current output cell\n",
       "var outputEl = gd.closest('.output');\n",
       "if (outputEl) {{\n",
       "    x.observe(outputEl, {childList: true});\n",
       "}}\n",
       "\n",
       "                        })                };                });            </script>        </div>"
      ]
     },
     "metadata": {},
     "output_type": "display_data"
    }
   ],
   "source": [
    "product_relationship = sales_filter.loc[:,[\"Products\",\"Total_Profit\",\"Total_Revenue\"]]\n",
    "product_relationship = product_relationship.groupby(['Products'], as_index=False).mean()\n",
    "fig = px.scatter(product_relationship,\n",
    "           x=\"Total_Profit\",\n",
    "           y=\"Total_Revenue\",\n",
    "           color=\"Products\",\n",
    "           labels={\"Total_Profit\":\"Total_Profit ($)\",\"Total_Revenue\":\"Totat_Revenue ($)\"},\n",
    "           title=\"Total_Revenue, Total_Profit By Products\")\n",
    "fig.show()"
   ]
  },
  {
   "cell_type": "markdown",
   "id": "60a946a3",
   "metadata": {},
   "source": [
    "### Question7:Which product are the most selling and why its?"
   ]
  },
  {
   "cell_type": "code",
   "execution_count": 81,
   "id": "88df6bae",
   "metadata": {},
   "outputs": [
    {
     "name": "stderr",
     "output_type": "stream",
     "text": [
      "<ipython-input-81-a777fabe1a7a>:14: UserWarning:\n",
      "\n",
      "FixedFormatter should only be used together with FixedLocator\n",
      "\n",
      "<ipython-input-81-a777fabe1a7a>:16: UserWarning:\n",
      "\n",
      "Matplotlib is currently using module://ipykernel.pylab.backend_inline, which is a non-GUI backend, so cannot show the figure.\n",
      "\n"
     ]
    },
    {
     "data": {
      "image/png": "[encoded data removed]",
      "text/plain": [
       "<Figure size 432x288 with 2 Axes>"
      ]
     },
     "metadata": {
      "needs_background": "light"
     },
     "output_type": "display_data"
    }
   ],
   "source": [
    "products = sales_filter.groupby('Products')\n",
    "unit_sold = product_group.sum()['Units_Sold']\n",
    "keys = [pair for pair, df in products]\n",
    "prices = sales_filter.groupby('Products').mean()['Unit_Price']\n",
    "#fig=plt.figure(figsize=(50,50))\n",
    "fig, ax1 = plt.subplots()\n",
    "ax2 = ax1.twinx()\n",
    "ax1.bar(keys, unit_sold, color='g')\n",
    "ax2.plot(keys, prices, color='b')\n",
    "\n",
    "ax1.set_xlabel('Products')\n",
    "ax1.set_ylabel('Units_Sold ', color='g')\n",
    "ax2.set_ylabel('Unit_Price ($)', color='b')\n",
    "ax1.set_xticklabels(keys, rotation='vertical', size=8)\n",
    "\n",
    "fig.show()"
   ]
  },
  {
   "cell_type": "markdown",
   "id": "e8a263cb",
   "metadata": {},
   "source": [
    "### Question:9What is the overall QoQ sales?"
   ]
  },
  {
   "cell_type": "code",
   "execution_count": 82,
   "id": "1ab04e22",
   "metadata": {},
   "outputs": [
    {
     "data": {
      "application/vnd.plotly.v1+json": {
       "config": {
        "plotlyServerURL": "https://plot.ly"
       },
       "data": [
        {
         "hovertemplate": "Qtr_Yr=%{x}<br>Total_Revenue ($)=%{y}<extra></extra>",
         "legendgroup": "",
         "line": {
          "color": "#636efa",
          "dash": "solid"
         },
         "mode": "lines",
         "name": "",
         "orientation": "v",
         "showlegend": false,
         "type": "scatter",
         "x": [
          "2010-Q1",
          "2010-Q2",
          "2010-Q3",
          "2010-Q4",
          "2011-Q1",
          "2011-Q2",
          "2011-Q3",
          "2011-Q4",
          "2012-Q1",
          "2012-Q2",
          "2012-Q3",
          "2012-Q4",
          "2013-Q1",
          "2013-Q2",
          "2013-Q3",
          "2013-Q4",
          "2014-Q1",
          "2014-Q2",
          "2014-Q3",
          "2014-Q4",
          "2015-Q1",
          "2015-Q2",
          "2015-Q3",
          "2015-Q4",
          "2016-Q1",
          "2016-Q2",
          "2016-Q3",
          "2016-Q4",
          "2017-Q1",
          "2017-Q2"
         ],
         "xaxis": "x",
         "y": [
          1319746.1782321758,
          1343113.834895955,
          1331220.4044754142,
          1287392.7037003848,
          1321976.85870566,
          1309608.4396256271,
          1342397.812130178,
          1339516.9281791446,
          1325420.3940675494,
          1335098.6265053865,
          1328878.3196720069,
          1303058.9746259404,
          1328201.3416108661,
          1323189.061560309,
          1319752.971015766,
          1290033.4390568538,
          1333858.542061888,
          1338245.0610859224,
          1326099.082570545,
          1333680.8312357054,
          1296468.016085997,
          1337827.4263544863,
          1339540.3662521916,
          1343896.1688469998,
          1323847.1390271722,
          1327787.317433333,
          1351785.1377580252,
          1333679.3023250846,
          1305943.8559526613,
          1311213.3511763432
         ],
         "yaxis": "y"
        }
       ],
       "layout": {
        "height": 500,
        "legend": {
         "tracegroupgap": 0
        },
        "template": {
         "data": {
          "bar": [
           {
            "error_x": {
             "color": "#2a3f5f"
            },
            "error_y": {
             "color": "#2a3f5f"
            },
            "marker": {
             "line": {
              "color": "#E5ECF6",
              "width": 0.5
             }
            },
            "type": "bar"
           }
          ],
          "barpolar": [
           {
            "marker": {
             "line": {
              "color": "#E5ECF6",
              "width": 0.5
             }
            },
            "type": "barpolar"
           }
          ],
          "carpet": [
           {
            "aaxis": {
             "endlinecolor": "#2a3f5f",
             "gridcolor": "white",
             "linecolor": "white",
             "minorgridcolor": "white",
             "startlinecolor": "#2a3f5f"
            },
            "baxis": {
             "endlinecolor": "#2a3f5f",
             "gridcolor": "white",
             "linecolor": "white",
             "minorgridcolor": "white",
             "startlinecolor": "#2a3f5f"
            },
            "type": "carpet"
           }
          ],
          "choropleth": [
           {
            "colorbar": {
             "outlinewidth": 0,
             "ticks": ""
            },
            "type": "choropleth"
           }
          ],
          "contour": [
           {
            "colorbar": {
             "outlinewidth": 0,
             "ticks": ""
            },
            "colorscale": [
             [
              0,
              "#0d0887"
             ],
             [
              0.1111111111111111,
              "#46039f"
             ],
             [
              0.2222222222222222,
              "#7201a8"
             ],
             [
              0.3333333333333333,
              "#9c179e"
             ],
             [
              0.4444444444444444,
              "#bd3786"
             ],
             [
              0.5555555555555556,
              "#d8576b"
             ],
             [
              0.6666666666666666,
              "#ed7953"
             ],
             [
              0.7777777777777778,
              "#fb9f3a"
             ],
             [
              0.8888888888888888,
              "#fdca26"
             ],
             [
              1,
              "#f0f921"
             ]
            ],
            "type": "contour"
           }
          ],
          "contourcarpet": [
           {
            "colorbar": {
             "outlinewidth": 0,
             "ticks": ""
            },
            "type": "contourcarpet"
           }
          ],
          "heatmap": [
           {
            "colorbar": {
             "outlinewidth": 0,
             "ticks": ""
            },
            "colorscale": [
             [
              0,
              "#0d0887"
             ],
             [
              0.1111111111111111,
              "#46039f"
             ],
             [
              0.2222222222222222,
              "#7201a8"
             ],
             [
              0.3333333333333333,
              "#9c179e"
             ],
             [
              0.4444444444444444,
              "#bd3786"
             ],
             [
              0.5555555555555556,
              "#d8576b"
             ],
             [
              0.6666666666666666,
              "#ed7953"
             ],
             [
              0.7777777777777778,
              "#fb9f3a"
             ],
             [
              0.8888888888888888,
              "#fdca26"
             ],
             [
              1,
              "#f0f921"
             ]
            ],
            "type": "heatmap"
           }
          ],
          "heatmapgl": [
           {
            "colorbar": {
             "outlinewidth": 0,
             "ticks": ""
            },
            "colorscale": [
             [
              0,
              "#0d0887"
             ],
             [
              0.1111111111111111,
              "#46039f"
             ],
             [
              0.2222222222222222,
              "#7201a8"
             ],
             [
              0.3333333333333333,
              "#9c179e"
             ],
             [
              0.4444444444444444,
              "#bd3786"
             ],
             [
              0.5555555555555556,
              "#d8576b"
             ],
             [
              0.6666666666666666,
              "#ed7953"
             ],
             [
              0.7777777777777778,
              "#fb9f3a"
             ],
             [
              0.8888888888888888,
              "#fdca26"
             ],
             [
              1,
              "#f0f921"
             ]
            ],
            "type": "heatmapgl"
           }
          ],
          "histogram": [
           {
            "marker": {
             "colorbar": {
              "outlinewidth": 0,
              "ticks": ""
             }
            },
            "type": "histogram"
           }
          ],
          "histogram2d": [
           {
            "colorbar": {
             "outlinewidth": 0,
             "ticks": ""
            },
            "colorscale": [
             [
              0,
              "#0d0887"
             ],
             [
              0.1111111111111111,
              "#46039f"
             ],
             [
              0.2222222222222222,
              "#7201a8"
             ],
             [
              0.3333333333333333,
              "#9c179e"
             ],
             [
              0.4444444444444444,
              "#bd3786"
             ],
             [
              0.5555555555555556,
              "#d8576b"
             ],
             [
              0.6666666666666666,
              "#ed7953"
             ],
             [
              0.7777777777777778,
              "#fb9f3a"
             ],
             [
              0.8888888888888888,
              "#fdca26"
             ],
             [
              1,
              "#f0f921"
             ]
            ],
            "type": "histogram2d"
           }
          ],
          "histogram2dcontour": [
           {
            "colorbar": {
             "outlinewidth": 0,
             "ticks": ""
            },
            "colorscale": [
             [
              0,
              "#0d0887"
             ],
             [
              0.1111111111111111,
              "#46039f"
             ],
             [
              0.2222222222222222,
              "#7201a8"
             ],
             [
              0.3333333333333333,
              "#9c179e"
             ],
             [
              0.4444444444444444,
              "#bd3786"
             ],
             [
              0.5555555555555556,
              "#d8576b"
             ],
             [
              0.6666666666666666,
              "#ed7953"
             ],
             [
              0.7777777777777778,
              "#fb9f3a"
             ],
             [
              0.8888888888888888,
              "#fdca26"
             ],
             [
              1,
              "#f0f921"
             ]
            ],
            "type": "histogram2dcontour"
           }
          ],
          "mesh3d": [
           {
            "colorbar": {
             "outlinewidth": 0,
             "ticks": ""
            },
            "type": "mesh3d"
           }
          ],
          "parcoords": [
           {
            "line": {
             "colorbar": {
              "outlinewidth": 0,
              "ticks": ""
             }
            },
            "type": "parcoords"
           }
          ],
          "pie": [
           {
            "automargin": true,
            "type": "pie"
           }
          ],
          "scatter": [
           {
            "marker": {
             "colorbar": {
              "outlinewidth": 0,
              "ticks": ""
             }
            },
            "type": "scatter"
           }
          ],
          "scatter3d": [
           {
            "line": {
             "colorbar": {
              "outlinewidth": 0,
              "ticks": ""
             }
            },
            "marker": {
             "colorbar": {
              "outlinewidth": 0,
              "ticks": ""
             }
            },
            "type": "scatter3d"
           }
          ],
          "scattercarpet": [
           {
            "marker": {
             "colorbar": {
              "outlinewidth": 0,
              "ticks": ""
             }
            },
            "type": "scattercarpet"
           }
          ],
          "scattergeo": [
           {
            "marker": {
             "colorbar": {
              "outlinewidth": 0,
              "ticks": ""
             }
            },
            "type": "scattergeo"
           }
          ],
          "scattergl": [
           {
            "marker": {
             "colorbar": {
              "outlinewidth": 0,
              "ticks": ""
             }
            },
            "type": "scattergl"
           }
          ],
          "scattermapbox": [
           {
            "marker": {
             "colorbar": {
              "outlinewidth": 0,
              "ticks": ""
             }
            },
            "type": "scattermapbox"
           }
          ],
          "scatterpolar": [
           {
            "marker": {
             "colorbar": {
              "outlinewidth": 0,
              "ticks": ""
             }
            },
            "type": "scatterpolar"
           }
          ],
          "scatterpolargl": [
           {
            "marker": {
             "colorbar": {
              "outlinewidth": 0,
              "ticks": ""
             }
            },
            "type": "scatterpolargl"
           }
          ],
          "scatterternary": [
           {
            "marker": {
             "colorbar": {
              "outlinewidth": 0,
              "ticks": ""
             }
            },
            "type": "scatterternary"
           }
          ],
          "surface": [
           {
            "colorbar": {
             "outlinewidth": 0,
             "ticks": ""
            },
            "colorscale": [
             [
              0,
              "#0d0887"
             ],
             [
              0.1111111111111111,
              "#46039f"
             ],
             [
              0.2222222222222222,
              "#7201a8"
             ],
             [
              0.3333333333333333,
              "#9c179e"
             ],
             [
              0.4444444444444444,
              "#bd3786"
             ],
             [
              0.5555555555555556,
              "#d8576b"
             ],
             [
              0.6666666666666666,
              "#ed7953"
             ],
             [
              0.7777777777777778,
              "#fb9f3a"
             ],
             [
              0.8888888888888888,
              "#fdca26"
             ],
             [
              1,
              "#f0f921"
             ]
            ],
            "type": "surface"
           }
          ],
          "table": [
           {
            "cells": {
             "fill": {
              "color": "#EBF0F8"
             },
             "line": {
              "color": "white"
             }
            },
            "header": {
             "fill": {
              "color": "#C8D4E3"
             },
             "line": {
              "color": "white"
             }
            },
            "type": "table"
           }
          ]
         },
         "layout": {
          "annotationdefaults": {
           "arrowcolor": "#2a3f5f",
           "arrowhead": 0,
           "arrowwidth": 1
          },
          "autotypenumbers": "strict",
          "coloraxis": {
           "colorbar": {
            "outlinewidth": 0,
            "ticks": ""
           }
          },
          "colorscale": {
           "diverging": [
            [
             0,
             "#8e0152"
            ],
            [
             0.1,
             "#c51b7d"
            ],
            [
             0.2,
             "#de77ae"
            ],
            [
             0.3,
             "#f1b6da"
            ],
            [
             0.4,
             "#fde0ef"
            ],
            [
             0.5,
             "#f7f7f7"
            ],
            [
             0.6,
             "#e6f5d0"
            ],
            [
             0.7,
             "#b8e186"
            ],
            [
             0.8,
             "#7fbc41"
            ],
            [
             0.9,
             "#4d9221"
            ],
            [
             1,
             "#276419"
            ]
           ],
           "sequential": [
            [
             0,
             "#0d0887"
            ],
            [
             0.1111111111111111,
             "#46039f"
            ],
            [
             0.2222222222222222,
             "#7201a8"
            ],
            [
             0.3333333333333333,
             "#9c179e"
            ],
            [
             0.4444444444444444,
             "#bd3786"
            ],
            [
             0.5555555555555556,
             "#d8576b"
            ],
            [
             0.6666666666666666,
             "#ed7953"
            ],
            [
             0.7777777777777778,
             "#fb9f3a"
            ],
            [
             0.8888888888888888,
             "#fdca26"
            ],
            [
             1,
             "#f0f921"
            ]
           ],
           "sequentialminus": [
            [
             0,
             "#0d0887"
            ],
            [
             0.1111111111111111,
             "#46039f"
            ],
            [
             0.2222222222222222,
             "#7201a8"
            ],
            [
             0.3333333333333333,
             "#9c179e"
            ],
            [
             0.4444444444444444,
             "#bd3786"
            ],
            [
             0.5555555555555556,
             "#d8576b"
            ],
            [
             0.6666666666666666,
             "#ed7953"
            ],
            [
             0.7777777777777778,
             "#fb9f3a"
            ],
            [
             0.8888888888888888,
             "#fdca26"
            ],
            [
             1,
             "#f0f921"
            ]
           ]
          },
          "colorway": [
           "#636efa",
           "#EF553B",
           "#00cc96",
           "#ab63fa",
           "#FFA15A",
           "#19d3f3",
           "#FF6692",
           "#B6E880",
           "#FF97FF",
           "#FECB52"
          ],
          "font": {
           "color": "#2a3f5f"
          },
          "geo": {
           "bgcolor": "white",
           "lakecolor": "white",
           "landcolor": "#E5ECF6",
           "showlakes": true,
           "showland": true,
           "subunitcolor": "white"
          },
          "hoverlabel": {
           "align": "left"
          },
          "hovermode": "closest",
          "mapbox": {
           "style": "light"
          },
          "paper_bgcolor": "white",
          "plot_bgcolor": "#E5ECF6",
          "polar": {
           "angularaxis": {
            "gridcolor": "white",
            "linecolor": "white",
            "ticks": ""
           },
           "bgcolor": "#E5ECF6",
           "radialaxis": {
            "gridcolor": "white",
            "linecolor": "white",
            "ticks": ""
           }
          },
          "scene": {
           "xaxis": {
            "backgroundcolor": "#E5ECF6",
            "gridcolor": "white",
            "gridwidth": 2,
            "linecolor": "white",
            "showbackground": true,
            "ticks": "",
            "zerolinecolor": "white"
           },
           "yaxis": {
            "backgroundcolor": "#E5ECF6",
            "gridcolor": "white",
            "gridwidth": 2,
            "linecolor": "white",
            "showbackground": true,
            "ticks": "",
            "zerolinecolor": "white"
           },
           "zaxis": {
            "backgroundcolor": "#E5ECF6",
            "gridcolor": "white",
            "gridwidth": 2,
            "linecolor": "white",
            "showbackground": true,
            "ticks": "",
            "zerolinecolor": "white"
           }
          },
          "shapedefaults": {
           "line": {
            "color": "#2a3f5f"
           }
          },
          "ternary": {
           "aaxis": {
            "gridcolor": "white",
            "linecolor": "white",
            "ticks": ""
           },
           "baxis": {
            "gridcolor": "white",
            "linecolor": "white",
            "ticks": ""
           },
           "bgcolor": "#E5ECF6",
           "caxis": {
            "gridcolor": "white",
            "linecolor": "white",
            "ticks": ""
           }
          },
          "title": {
           "x": 0.05
          },
          "xaxis": {
           "automargin": true,
           "gridcolor": "white",
           "linecolor": "white",
           "ticks": "",
           "title": {
            "standoff": 15
           },
           "zerolinecolor": "white",
           "zerolinewidth": 2
          },
          "yaxis": {
           "automargin": true,
           "gridcolor": "white",
           "linecolor": "white",
           "ticks": "",
           "title": {
            "standoff": 15
           },
           "zerolinecolor": "white",
           "zerolinewidth": 2
          }
         }
        },
        "title": {
         "text": "Total_Revenue By Qurter_Year"
        },
        "xaxis": {
         "anchor": "y",
         "domain": [
          0,
          1
         ],
         "title": {
          "text": "Qtr_Yr"
         }
        },
        "yaxis": {
         "anchor": "x",
         "domain": [
          0,
          1
         ],
         "title": {
          "text": "Total_Revenue ($)"
         }
        }
       }
      },
      "text/html": [
       "<div>                            <div id=\"28f70177-2faf-4a33-8b26-cc5dd4d33da1\" class=\"plotly-graph-div\" style=\"height:500px; width:100%;\"></div>            <script type=\"text/javascript\">                require([\"plotly\"], function(Plotly) {                    window.PLOTLYENV=window.PLOTLYENV || {};                                    if (document.getElementById(\"28f70177-2faf-4a33-8b26-cc5dd4d33da1\")) {                    Plotly.newPlot(                        \"28f70177-2faf-4a33-8b26-cc5dd4d33da1\",                        [{\"hovertemplate\": \"Qtr_Yr=%{x}<br>Total_Revenue ($)=%{y}<extra></extra>\", \"legendgroup\": \"\", \"line\": {\"color\": \"#636efa\", \"dash\": \"solid\"}, \"mode\": \"lines\", \"name\": \"\", \"orientation\": \"v\", \"showlegend\": false, \"type\": \"scatter\", \"x\": [\"2010-Q1\", \"2010-Q2\", \"2010-Q3\", \"2010-Q4\", \"2011-Q1\", \"2011-Q2\", \"2011-Q3\", \"2011-Q4\", \"2012-Q1\", \"2012-Q2\", \"2012-Q3\", \"2012-Q4\", \"2013-Q1\", \"2013-Q2\", \"2013-Q3\", \"2013-Q4\", \"2014-Q1\", \"2014-Q2\", \"2014-Q3\", \"2014-Q4\", \"2015-Q1\", \"2015-Q2\", \"2015-Q3\", \"2015-Q4\", \"2016-Q1\", \"2016-Q2\", \"2016-Q3\", \"2016-Q4\", \"2017-Q1\", \"2017-Q2\"], \"xaxis\": \"x\", \"y\": [1319746.1782321758, 1343113.834895955, 1331220.4044754142, 1287392.7037003848, 1321976.85870566, 1309608.4396256271, 1342397.812130178, 1339516.9281791446, 1325420.3940675494, 1335098.6265053865, 1328878.3196720069, 1303058.9746259404, 1328201.3416108661, 1323189.061560309, 1319752.971015766, 1290033.4390568538, 1333858.542061888, 1338245.0610859224, 1326099.082570545, 1333680.8312357054, 1296468.016085997, 1337827.4263544863, 1339540.3662521916, 1343896.1688469998, 1323847.1390271722, 1327787.317433333, 1351785.1377580252, 1333679.3023250846, 1305943.8559526613, 1311213.3511763432], \"yaxis\": \"y\"}],                        {\"height\": 500, \"legend\": {\"tracegroupgap\": 0}, \"template\": {\"data\": {\"bar\": [{\"error_x\": {\"color\": \"#2a3f5f\"}, \"error_y\": {\"color\": \"#2a3f5f\"}, \"marker\": {\"line\": {\"color\": \"#E5ECF6\", \"width\": 0.5}}, \"type\": \"bar\"}], \"barpolar\": [{\"marker\": {\"line\": {\"color\": \"#E5ECF6\", \"width\": 0.5}}, \"type\": \"barpolar\"}], \"carpet\": [{\"aaxis\": {\"endlinecolor\": \"#2a3f5f\", \"gridcolor\": \"white\", \"linecolor\": \"white\", \"minorgridcolor\": \"white\", \"startlinecolor\": \"#2a3f5f\"}, \"baxis\": {\"endlinecolor\": \"#2a3f5f\", \"gridcolor\": \"white\", \"linecolor\": \"white\", \"minorgridcolor\": \"white\", \"startlinecolor\": \"#2a3f5f\"}, \"type\": \"carpet\"}], \"choropleth\": [{\"colorbar\": {\"outlinewidth\": 0, \"ticks\": \"\"}, \"type\": \"choropleth\"}], \"contour\": [{\"colorbar\": {\"outlinewidth\": 0, \"ticks\": \"\"}, \"colorscale\": [[0.0, \"#0d0887\"], [0.1111111111111111, \"#46039f\"], [0.2222222222222222, \"#7201a8\"], [0.3333333333333333, \"#9c179e\"], [0.4444444444444444, \"#bd3786\"], [0.5555555555555556, \"#d8576b\"], [0.6666666666666666, \"#ed7953\"], [0.7777777777777778, \"#fb9f3a\"], [0.8888888888888888, \"#fdca26\"], [1.0, \"#f0f921\"]], \"type\": \"contour\"}], \"contourcarpet\": [{\"colorbar\": {\"outlinewidth\": 0, \"ticks\": \"\"}, \"type\": \"contourcarpet\"}], \"heatmap\": [{\"colorbar\": {\"outlinewidth\": 0, \"ticks\": \"\"}, \"colorscale\": [[0.0, \"#0d0887\"], [0.1111111111111111, \"#46039f\"], [0.2222222222222222, \"#7201a8\"], [0.3333333333333333, \"#9c179e\"], [0.4444444444444444, \"#bd3786\"], [0.5555555555555556, \"#d8576b\"], [0.6666666666666666, \"#ed7953\"], [0.7777777777777778, \"#fb9f3a\"], [0.8888888888888888, \"#fdca26\"], [1.0, \"#f0f921\"]], \"type\": \"heatmap\"}], \"heatmapgl\": [{\"colorbar\": {\"outlinewidth\": 0, \"ticks\": \"\"}, \"colorscale\": [[0.0, \"#0d0887\"], [0.1111111111111111, \"#46039f\"], [0.2222222222222222, \"#7201a8\"], [0.3333333333333333, \"#9c179e\"], [0.4444444444444444, \"#bd3786\"], [0.5555555555555556, \"#d8576b\"], [0.6666666666666666, \"#ed7953\"], [0.7777777777777778, \"#fb9f3a\"], [0.8888888888888888, \"#fdca26\"], [1.0, \"#f0f921\"]], \"type\": \"heatmapgl\"}], \"histogram\": [{\"marker\": {\"colorbar\": {\"outlinewidth\": 0, \"ticks\": \"\"}}, \"type\": \"histogram\"}], \"histogram2d\": [{\"colorbar\": {\"outlinewidth\": 0, \"ticks\": \"\"}, \"colorscale\": [[0.0, \"#0d0887\"], [0.1111111111111111, \"#46039f\"], [0.2222222222222222, \"#7201a8\"], [0.3333333333333333, \"#9c179e\"], [0.4444444444444444, \"#bd3786\"], [0.5555555555555556, \"#d8576b\"], [0.6666666666666666, \"#ed7953\"], [0.7777777777777778, \"#fb9f3a\"], [0.8888888888888888, \"#fdca26\"], [1.0, \"#f0f921\"]], \"type\": \"histogram2d\"}], \"histogram2dcontour\": [{\"colorbar\": {\"outlinewidth\": 0, \"ticks\": \"\"}, \"colorscale\": [[0.0, \"#0d0887\"], [0.1111111111111111, \"#46039f\"], [0.2222222222222222, \"#7201a8\"], [0.3333333333333333, \"#9c179e\"], [0.4444444444444444, \"#bd3786\"], [0.5555555555555556, \"#d8576b\"], [0.6666666666666666, \"#ed7953\"], [0.7777777777777778, \"#fb9f3a\"], [0.8888888888888888, \"#fdca26\"], [1.0, \"#f0f921\"]], \"type\": \"histogram2dcontour\"}], \"mesh3d\": [{\"colorbar\": {\"outlinewidth\": 0, \"ticks\": \"\"}, \"type\": \"mesh3d\"}], \"parcoords\": [{\"line\": {\"colorbar\": {\"outlinewidth\": 0, \"ticks\": \"\"}}, \"type\": \"parcoords\"}], \"pie\": [{\"automargin\": true, \"type\": \"pie\"}], \"scatter\": [{\"marker\": {\"colorbar\": {\"outlinewidth\": 0, \"ticks\": \"\"}}, \"type\": \"scatter\"}], \"scatter3d\": [{\"line\": {\"colorbar\": {\"outlinewidth\": 0, \"ticks\": \"\"}}, \"marker\": {\"colorbar\": {\"outlinewidth\": 0, \"ticks\": \"\"}}, \"type\": \"scatter3d\"}], \"scattercarpet\": [{\"marker\": {\"colorbar\": {\"outlinewidth\": 0, \"ticks\": \"\"}}, \"type\": \"scattercarpet\"}], \"scattergeo\": [{\"marker\": {\"colorbar\": {\"outlinewidth\": 0, \"ticks\": \"\"}}, \"type\": \"scattergeo\"}], \"scattergl\": [{\"marker\": {\"colorbar\": {\"outlinewidth\": 0, \"ticks\": \"\"}}, \"type\": \"scattergl\"}], \"scattermapbox\": [{\"marker\": {\"colorbar\": {\"outlinewidth\": 0, \"ticks\": \"\"}}, \"type\": \"scattermapbox\"}], \"scatterpolar\": [{\"marker\": {\"colorbar\": {\"outlinewidth\": 0, \"ticks\": \"\"}}, \"type\": \"scatterpolar\"}], \"scatterpolargl\": [{\"marker\": {\"colorbar\": {\"outlinewidth\": 0, \"ticks\": \"\"}}, \"type\": \"scatterpolargl\"}], \"scatterternary\": [{\"marker\": {\"colorbar\": {\"outlinewidth\": 0, \"ticks\": \"\"}}, \"type\": \"scatterternary\"}], \"surface\": [{\"colorbar\": {\"outlinewidth\": 0, \"ticks\": \"\"}, \"colorscale\": [[0.0, \"#0d0887\"], [0.1111111111111111, \"#46039f\"], [0.2222222222222222, \"#7201a8\"], [0.3333333333333333, \"#9c179e\"], [0.4444444444444444, \"#bd3786\"], [0.5555555555555556, \"#d8576b\"], [0.6666666666666666, \"#ed7953\"], [0.7777777777777778, \"#fb9f3a\"], [0.8888888888888888, \"#fdca26\"], [1.0, \"#f0f921\"]], \"type\": \"surface\"}], \"table\": [{\"cells\": {\"fill\": {\"color\": \"#EBF0F8\"}, \"line\": {\"color\": \"white\"}}, \"header\": {\"fill\": {\"color\": \"#C8D4E3\"}, \"line\": {\"color\": \"white\"}}, \"type\": \"table\"}]}, \"layout\": {\"annotationdefaults\": {\"arrowcolor\": \"#2a3f5f\", \"arrowhead\": 0, \"arrowwidth\": 1}, \"autotypenumbers\": \"strict\", \"coloraxis\": {\"colorbar\": {\"outlinewidth\": 0, \"ticks\": \"\"}}, \"colorscale\": {\"diverging\": [[0, \"#8e0152\"], [0.1, \"#c51b7d\"], [0.2, \"#de77ae\"], [0.3, \"#f1b6da\"], [0.4, \"#fde0ef\"], [0.5, \"#f7f7f7\"], [0.6, \"#e6f5d0\"], [0.7, \"#b8e186\"], [0.8, \"#7fbc41\"], [0.9, \"#4d9221\"], [1, \"#276419\"]], \"sequential\": [[0.0, \"#0d0887\"], [0.1111111111111111, \"#46039f\"], [0.2222222222222222, \"#7201a8\"], [0.3333333333333333, \"#9c179e\"], [0.4444444444444444, \"#bd3786\"], [0.5555555555555556, \"#d8576b\"], [0.6666666666666666, \"#ed7953\"], [0.7777777777777778, \"#fb9f3a\"], [0.8888888888888888, \"#fdca26\"], [1.0, \"#f0f921\"]], \"sequentialminus\": [[0.0, \"#0d0887\"], [0.1111111111111111, \"#46039f\"], [0.2222222222222222, \"#7201a8\"], [0.3333333333333333, \"#9c179e\"], [0.4444444444444444, \"#bd3786\"], [0.5555555555555556, \"#d8576b\"], [0.6666666666666666, \"#ed7953\"], [0.7777777777777778, \"#fb9f3a\"], [0.8888888888888888, \"#fdca26\"], [1.0, \"#f0f921\"]]}, \"colorway\": [\"#636efa\", \"#EF553B\", \"#00cc96\", \"#ab63fa\", \"#FFA15A\", \"#19d3f3\", \"#FF6692\", \"#B6E880\", \"#FF97FF\", \"#FECB52\"], \"font\": {\"color\": \"#2a3f5f\"}, \"geo\": {\"bgcolor\": \"white\", \"lakecolor\": \"white\", \"landcolor\": \"#E5ECF6\", \"showlakes\": true, \"showland\": true, \"subunitcolor\": \"white\"}, \"hoverlabel\": {\"align\": \"left\"}, \"hovermode\": \"closest\", \"mapbox\": {\"style\": \"light\"}, \"paper_bgcolor\": \"white\", \"plot_bgcolor\": \"#E5ECF6\", \"polar\": {\"angularaxis\": {\"gridcolor\": \"white\", \"linecolor\": \"white\", \"ticks\": \"\"}, \"bgcolor\": \"#E5ECF6\", \"radialaxis\": {\"gridcolor\": \"white\", \"linecolor\": \"white\", \"ticks\": \"\"}}, \"scene\": {\"xaxis\": {\"backgroundcolor\": \"#E5ECF6\", \"gridcolor\": \"white\", \"gridwidth\": 2, \"linecolor\": \"white\", \"showbackground\": true, \"ticks\": \"\", \"zerolinecolor\": \"white\"}, \"yaxis\": {\"backgroundcolor\": \"#E5ECF6\", \"gridcolor\": \"white\", \"gridwidth\": 2, \"linecolor\": \"white\", \"showbackground\": true, \"ticks\": \"\", \"zerolinecolor\": \"white\"}, \"zaxis\": {\"backgroundcolor\": \"#E5ECF6\", \"gridcolor\": \"white\", \"gridwidth\": 2, \"linecolor\": \"white\", \"showbackground\": true, \"ticks\": \"\", \"zerolinecolor\": \"white\"}}, \"shapedefaults\": {\"line\": {\"color\": \"#2a3f5f\"}}, \"ternary\": {\"aaxis\": {\"gridcolor\": \"white\", \"linecolor\": \"white\", \"ticks\": \"\"}, \"baxis\": {\"gridcolor\": \"white\", \"linecolor\": \"white\", \"ticks\": \"\"}, \"bgcolor\": \"#E5ECF6\", \"caxis\": {\"gridcolor\": \"white\", \"linecolor\": \"white\", \"ticks\": \"\"}}, \"title\": {\"x\": 0.05}, \"xaxis\": {\"automargin\": true, \"gridcolor\": \"white\", \"linecolor\": \"white\", \"ticks\": \"\", \"title\": {\"standoff\": 15}, \"zerolinecolor\": \"white\", \"zerolinewidth\": 2}, \"yaxis\": {\"automargin\": true, \"gridcolor\": \"white\", \"linecolor\": \"white\", \"ticks\": \"\", \"title\": {\"standoff\": 15}, \"zerolinecolor\": \"white\", \"zerolinewidth\": 2}}}, \"title\": {\"text\": \"Total_Revenue By Qurter_Year\"}, \"xaxis\": {\"anchor\": \"y\", \"domain\": [0.0, 1.0], \"title\": {\"text\": \"Qtr_Yr\"}}, \"yaxis\": {\"anchor\": \"x\", \"domain\": [0.0, 1.0], \"title\": {\"text\": \"Total_Revenue ($)\"}}},                        {\"responsive\": true}                    ).then(function(){\n",
       "                            \n",
       "var gd = document.getElementById('28f70177-2faf-4a33-8b26-cc5dd4d33da1');\n",
       "var x = new MutationObserver(function (mutations, observer) {{\n",
       "        var display = window.getComputedStyle(gd).display;\n",
       "        if (!display || display === 'none') {{\n",
       "            console.log([gd, 'removed!']);\n",
       "            Plotly.purge(gd);\n",
       "            observer.disconnect();\n",
       "        }}\n",
       "}});\n",
       "\n",
       "// Listen for the removal of the full notebook cells\n",
       "var notebookContainer = gd.closest('#notebook-container');\n",
       "if (notebookContainer) {{\n",
       "    x.observe(notebookContainer, {childList: true});\n",
       "}}\n",
       "\n",
       "// Listen for the clearing of the current output cell\n",
       "var outputEl = gd.closest('.output');\n",
       "if (outputEl) {{\n",
       "    x.observe(outputEl, {childList: true});\n",
       "}}\n",
       "\n",
       "                        })                };                });            </script>        </div>"
      ]
     },
     "metadata": {},
     "output_type": "display_data"
    }
   ],
   "source": [
    "sales_year = sales_filter.groupby(by=\"Qtr_Yr\",as_index= False).mean()\n",
    "fig = px.line(sales_year, \n",
    "              x='Qtr_Yr',\n",
    "              y='Total_Revenue',\n",
    "              height=500,\n",
    "             labels={\"Total_Revenue\":\"Total_Revenue ($)\"},\n",
    "              title=\"Total_Revenue By Qurter_Year\")\n",
    "fig.show()"
   ]
  }
 ],
 "metadata": {
  "kernelspec": {
   "display_name": "Python 3",
   "language": "python",
   "name": "python3"
  },
  "language_info": {
   "codemirror_mode": {
    "name": "ipython",
    "version": 3
   },
   "file_extension": ".py",
   "mimetype": "text/x-python",
   "name": "python",
   "nbconvert_exporter": "python",
   "pygments_lexer": "ipython3",
   "version": "3.8.5"
  }
 },
 "nbformat": 4,
 "nbformat_minor": 5
}
